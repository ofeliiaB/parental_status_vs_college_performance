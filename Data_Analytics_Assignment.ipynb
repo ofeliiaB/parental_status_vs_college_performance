{
 "cells": [
  {
   "cell_type": "markdown",
   "metadata": {},
   "source": [
    "# Effect of Number of Children and Gender on Adult Student's Academic Interests and Performance"
   ]
  },
  {
   "cell_type": "markdown",
   "metadata": {},
   "source": [
    "## Project Description\n",
    "<br>The project uses survey data on adult students at Robert Kennedy College (Switzerland) to test\n",
    "<br>whether the number of children and students' gender affect their academic perfomance.\n",
    "<br>It also tests gender based hypotheses about students' interest on data-related fields.\n",
    "<br>\n",
    "<br>**Techniques used:**\n",
    "<br>Data Cleaning, Descriptive Statistics, Randomization Tests\n",
    "<br>T-Tests, Comparison of Frequency Distributions, Data Visualization"
   ]
  },
  {
   "cell_type": "markdown",
   "metadata": {},
   "source": [
    "## Environment Setup"
   ]
  },
  {
   "cell_type": "code",
   "execution_count": 1,
   "metadata": {},
   "outputs": [
    {
     "name": "stdout",
     "output_type": "stream",
     "text": [
      "Requirement already satisfied: nb_black in /Library/Frameworks/Python.framework/Versions/3.9/lib/python3.9/site-packages (1.0.7)\n",
      "Requirement already satisfied: ipython in /Library/Frameworks/Python.framework/Versions/3.9/lib/python3.9/site-packages (from nb_black) (7.19.0)\n",
      "Requirement already satisfied: black>='19.3' in /Library/Frameworks/Python.framework/Versions/3.9/lib/python3.9/site-packages (from nb_black) (20.8b1)\n",
      "Requirement already satisfied: pygments in /Library/Frameworks/Python.framework/Versions/3.9/lib/python3.9/site-packages (from ipython->nb_black) (2.7.3)\n",
      "Requirement already satisfied: appnope; sys_platform == \"darwin\" in /Library/Frameworks/Python.framework/Versions/3.9/lib/python3.9/site-packages (from ipython->nb_black) (0.1.2)\n",
      "Requirement already satisfied: prompt-toolkit!=3.0.0,!=3.0.1,<3.1.0,>=2.0.0 in /Library/Frameworks/Python.framework/Versions/3.9/lib/python3.9/site-packages (from ipython->nb_black) (3.0.10)\n",
      "Requirement already satisfied: decorator in /Library/Frameworks/Python.framework/Versions/3.9/lib/python3.9/site-packages (from ipython->nb_black) (4.4.2)\n",
      "Requirement already satisfied: traitlets>=4.2 in /Library/Frameworks/Python.framework/Versions/3.9/lib/python3.9/site-packages (from ipython->nb_black) (5.0.5)\n",
      "Requirement already satisfied: setuptools>=18.5 in /Library/Frameworks/Python.framework/Versions/3.9/lib/python3.9/site-packages (from ipython->nb_black) (49.2.1)\n",
      "Requirement already satisfied: jedi>=0.10 in /Library/Frameworks/Python.framework/Versions/3.9/lib/python3.9/site-packages (from ipython->nb_black) (0.18.0)\n",
      "Requirement already satisfied: pickleshare in /Library/Frameworks/Python.framework/Versions/3.9/lib/python3.9/site-packages (from ipython->nb_black) (0.7.5)\n",
      "Requirement already satisfied: pexpect>4.3; sys_platform != \"win32\" in /Library/Frameworks/Python.framework/Versions/3.9/lib/python3.9/site-packages (from ipython->nb_black) (4.8.0)\n",
      "Requirement already satisfied: backcall in /Library/Frameworks/Python.framework/Versions/3.9/lib/python3.9/site-packages (from ipython->nb_black) (0.2.0)\n",
      "Requirement already satisfied: typed-ast>=1.4.0 in /Library/Frameworks/Python.framework/Versions/3.9/lib/python3.9/site-packages (from black>='19.3'->nb_black) (1.4.2)\n",
      "Requirement already satisfied: toml>=0.10.1 in /Library/Frameworks/Python.framework/Versions/3.9/lib/python3.9/site-packages (from black>='19.3'->nb_black) (0.10.2)\n",
      "Requirement already satisfied: typing-extensions>=3.7.4 in /Library/Frameworks/Python.framework/Versions/3.9/lib/python3.9/site-packages (from black>='19.3'->nb_black) (3.7.4.3)\n",
      "Requirement already satisfied: pathspec<1,>=0.6 in /Library/Frameworks/Python.framework/Versions/3.9/lib/python3.9/site-packages (from black>='19.3'->nb_black) (0.8.1)\n",
      "Requirement already satisfied: click>=7.1.2 in /Library/Frameworks/Python.framework/Versions/3.9/lib/python3.9/site-packages (from black>='19.3'->nb_black) (7.1.2)\n",
      "Requirement already satisfied: mypy-extensions>=0.4.3 in /Library/Frameworks/Python.framework/Versions/3.9/lib/python3.9/site-packages (from black>='19.3'->nb_black) (0.4.3)\n",
      "Requirement already satisfied: appdirs in /Library/Frameworks/Python.framework/Versions/3.9/lib/python3.9/site-packages (from black>='19.3'->nb_black) (1.4.4)\n",
      "Requirement already satisfied: regex>=2020.1.8 in /Library/Frameworks/Python.framework/Versions/3.9/lib/python3.9/site-packages (from black>='19.3'->nb_black) (2020.11.13)\n",
      "Requirement already satisfied: wcwidth in /Library/Frameworks/Python.framework/Versions/3.9/lib/python3.9/site-packages (from prompt-toolkit!=3.0.0,!=3.0.1,<3.1.0,>=2.0.0->ipython->nb_black) (0.2.5)\n",
      "Requirement already satisfied: ipython-genutils in /Library/Frameworks/Python.framework/Versions/3.9/lib/python3.9/site-packages (from traitlets>=4.2->ipython->nb_black) (0.2.0)\n",
      "Requirement already satisfied: parso<0.9.0,>=0.8.0 in /Library/Frameworks/Python.framework/Versions/3.9/lib/python3.9/site-packages (from jedi>=0.10->ipython->nb_black) (0.8.1)\n",
      "Requirement already satisfied: ptyprocess>=0.5 in /Library/Frameworks/Python.framework/Versions/3.9/lib/python3.9/site-packages (from pexpect>4.3; sys_platform != \"win32\"->ipython->nb_black) (0.7.0)\n",
      "\u001b[33mWARNING: You are using pip version 20.2.3; however, version 21.0.1 is available.\n",
      "You should consider upgrading via the '/Library/Frameworks/Python.framework/Versions/3.9/bin/python3 -m pip install --upgrade pip' command.\u001b[0m\n",
      "Note: you may need to restart the kernel to use updated packages.\n"
     ]
    }
   ],
   "source": [
    "pip install nb_black"
   ]
  },
  {
   "cell_type": "code",
   "execution_count": 2,
   "metadata": {},
   "outputs": [
    {
     "data": {
      "application/javascript": [
       "\n",
       "            setTimeout(function() {\n",
       "                var nbb_cell_id = 2;\n",
       "                var nbb_unformatted_code = \"%load_ext nb_black\";\n",
       "                var nbb_formatted_code = \"%load_ext nb_black\";\n",
       "                var nbb_cells = Jupyter.notebook.get_cells();\n",
       "                for (var i = 0; i < nbb_cells.length; ++i) {\n",
       "                    if (nbb_cells[i].input_prompt_number == nbb_cell_id) {\n",
       "                        if (nbb_cells[i].get_text() == nbb_unformatted_code) {\n",
       "                             nbb_cells[i].set_text(nbb_formatted_code);\n",
       "                        }\n",
       "                        break;\n",
       "                    }\n",
       "                }\n",
       "            }, 500);\n",
       "            "
      ],
      "text/plain": [
       "<IPython.core.display.Javascript object>"
      ]
     },
     "metadata": {},
     "output_type": "display_data"
    }
   ],
   "source": [
    "%load_ext nb_black"
   ]
  },
  {
   "cell_type": "code",
   "execution_count": 3,
   "metadata": {},
   "outputs": [
    {
     "name": "stdout",
     "output_type": "stream",
     "text": [
      "Requirement already satisfied: plotly in /Library/Frameworks/Python.framework/Versions/3.9/lib/python3.9/site-packages (4.14.3)\n",
      "Requirement already satisfied: six in /Library/Frameworks/Python.framework/Versions/3.9/lib/python3.9/site-packages (from plotly) (1.15.0)\n",
      "Requirement already satisfied: retrying>=1.3.3 in /Library/Frameworks/Python.framework/Versions/3.9/lib/python3.9/site-packages (from plotly) (1.3.3)\n",
      "\u001b[33mWARNING: You are using pip version 20.2.3; however, version 21.0.1 is available.\n",
      "You should consider upgrading via the '/Library/Frameworks/Python.framework/Versions/3.9/bin/python3 -m pip install --upgrade pip' command.\u001b[0m\n"
     ]
    },
    {
     "data": {
      "application/javascript": [
       "\n",
       "            setTimeout(function() {\n",
       "                var nbb_cell_id = 3;\n",
       "                var nbb_unformatted_code = \"!python3 -m pip install plotly\";\n",
       "                var nbb_formatted_code = \"!python3 -m pip install plotly\";\n",
       "                var nbb_cells = Jupyter.notebook.get_cells();\n",
       "                for (var i = 0; i < nbb_cells.length; ++i) {\n",
       "                    if (nbb_cells[i].input_prompt_number == nbb_cell_id) {\n",
       "                        if (nbb_cells[i].get_text() == nbb_unformatted_code) {\n",
       "                             nbb_cells[i].set_text(nbb_formatted_code);\n",
       "                        }\n",
       "                        break;\n",
       "                    }\n",
       "                }\n",
       "            }, 500);\n",
       "            "
      ],
      "text/plain": [
       "<IPython.core.display.Javascript object>"
      ]
     },
     "metadata": {},
     "output_type": "display_data"
    }
   ],
   "source": [
    "!python3 -m pip install plotly"
   ]
  },
  {
   "cell_type": "code",
   "execution_count": 4,
   "metadata": {},
   "outputs": [
    {
     "data": {
      "text/html": [
       "        <script type=\"text/javascript\">\n",
       "        window.PlotlyConfig = {MathJaxConfig: 'local'};\n",
       "        if (window.MathJax) {MathJax.Hub.Config({SVG: {font: \"STIX-Web\"}});}\n",
       "        if (typeof require !== 'undefined') {\n",
       "        require.undef(\"plotly\");\n",
       "        requirejs.config({\n",
       "            paths: {\n",
       "                'plotly': ['https://cdn.plot.ly/plotly-latest.min']\n",
       "            }\n",
       "        });\n",
       "        require(['plotly'], function(Plotly) {\n",
       "            window._Plotly = Plotly;\n",
       "        });\n",
       "        }\n",
       "        </script>\n",
       "        "
      ]
     },
     "metadata": {},
     "output_type": "display_data"
    },
    {
     "data": {
      "application/javascript": [
       "\n",
       "            setTimeout(function() {\n",
       "                var nbb_cell_id = 4;\n",
       "                var nbb_unformatted_code = \"import pandas as pd\\nimport datetime\\nimport matplotlib.pyplot as plt\\nimport numpy as np\\nimport math\\nimport scipy.stats\\nimport seaborn as sns\\nfrom plotly.offline import init_notebook_mode, iplot\\nimport plotly.figure_factory as ff\\nfrom plotly import graph_objs as go\\n\\ninit_notebook_mode(connected=True)\\n%matplotlib inline\";\n",
       "                var nbb_formatted_code = \"import pandas as pd\\nimport datetime\\nimport matplotlib.pyplot as plt\\nimport numpy as np\\nimport math\\nimport scipy.stats\\nimport seaborn as sns\\nfrom plotly.offline import init_notebook_mode, iplot\\nimport plotly.figure_factory as ff\\nfrom plotly import graph_objs as go\\n\\ninit_notebook_mode(connected=True)\\n%matplotlib inline\";\n",
       "                var nbb_cells = Jupyter.notebook.get_cells();\n",
       "                for (var i = 0; i < nbb_cells.length; ++i) {\n",
       "                    if (nbb_cells[i].input_prompt_number == nbb_cell_id) {\n",
       "                        if (nbb_cells[i].get_text() == nbb_unformatted_code) {\n",
       "                             nbb_cells[i].set_text(nbb_formatted_code);\n",
       "                        }\n",
       "                        break;\n",
       "                    }\n",
       "                }\n",
       "            }, 500);\n",
       "            "
      ],
      "text/plain": [
       "<IPython.core.display.Javascript object>"
      ]
     },
     "metadata": {},
     "output_type": "display_data"
    }
   ],
   "source": [
    "import pandas as pd\n",
    "import datetime\n",
    "import matplotlib.pyplot as plt\n",
    "import numpy as np\n",
    "import math\n",
    "import scipy.stats\n",
    "import seaborn as sns\n",
    "from plotly.offline import init_notebook_mode, iplot\n",
    "import plotly.figure_factory as ff\n",
    "from plotly import graph_objs as go\n",
    "\n",
    "init_notebook_mode(connected=True)\n",
    "%matplotlib inline"
   ]
  },
  {
   "cell_type": "markdown",
   "metadata": {},
   "source": [
    "## Data Profiling\n",
    "\n",
    "#### Open and View the File"
   ]
  },
  {
   "cell_type": "code",
   "execution_count": 5,
   "metadata": {},
   "outputs": [
    {
     "data": {
      "text/html": [
       "<div>\n",
       "<style scoped>\n",
       "    .dataframe tbody tr th:only-of-type {\n",
       "        vertical-align: middle;\n",
       "    }\n",
       "\n",
       "    .dataframe tbody tr th {\n",
       "        vertical-align: top;\n",
       "    }\n",
       "\n",
       "    .dataframe thead th {\n",
       "        text-align: right;\n",
       "    }\n",
       "</style>\n",
       "<table border=\"1\" class=\"dataframe\">\n",
       "  <thead>\n",
       "    <tr style=\"text-align: right;\">\n",
       "      <th></th>\n",
       "      <th>ID</th>\n",
       "      <th>Start time</th>\n",
       "      <th>Completion time</th>\n",
       "      <th>Email</th>\n",
       "      <th>Gender</th>\n",
       "      <th>Age</th>\n",
       "      <th>Closest biggest city near you</th>\n",
       "      <th>Number of kids (&lt;18y) living with you</th>\n",
       "      <th>Birth Year</th>\n",
       "      <th>Number of modules completed so far</th>\n",
       "      <th>Average mark so far</th>\n",
       "      <th>Prediction for this module's mark</th>\n",
       "      <th>I enjoy working with data</th>\n",
       "      <th>I am excited about working with data</th>\n",
       "      <th>I am afraid of working with data</th>\n",
       "      <th>I am interested in understanding Data Analytics</th>\n",
       "      <th>I plan to work hard in this module</th>\n",
       "      <th>Height (absolute value, in centimeters (cm) - sorry imperial system users!)</th>\n",
       "      <th>Height (relative)</th>\n",
       "    </tr>\n",
       "  </thead>\n",
       "  <tbody>\n",
       "    <tr>\n",
       "      <th>0</th>\n",
       "      <td>2</td>\n",
       "      <td>12/17/20 9:09:33</td>\n",
       "      <td>12/17/20 9:10:55</td>\n",
       "      <td>anonymous</td>\n",
       "      <td>Woman</td>\n",
       "      <td>40-49</td>\n",
       "      <td>Lagos</td>\n",
       "      <td>0</td>\n",
       "      <td>1975</td>\n",
       "      <td>5</td>\n",
       "      <td>62.0</td>\n",
       "      <td>62</td>\n",
       "      <td>Agree</td>\n",
       "      <td>Agree</td>\n",
       "      <td>Completely Disagree</td>\n",
       "      <td>Agree</td>\n",
       "      <td>Agree</td>\n",
       "      <td>175.0</td>\n",
       "      <td>very tall</td>\n",
       "    </tr>\n",
       "    <tr>\n",
       "      <th>1</th>\n",
       "      <td>3</td>\n",
       "      <td>12/17/20 9:09:27</td>\n",
       "      <td>12/17/20 9:11:01</td>\n",
       "      <td>anonymous</td>\n",
       "      <td>Man</td>\n",
       "      <td>30-39</td>\n",
       "      <td>Dhaka</td>\n",
       "      <td>0</td>\n",
       "      <td>1011986</td>\n",
       "      <td>5</td>\n",
       "      <td>57.0</td>\n",
       "      <td>65</td>\n",
       "      <td>Agree</td>\n",
       "      <td>Agree</td>\n",
       "      <td>Completely Disagree</td>\n",
       "      <td>Agree</td>\n",
       "      <td>Agree</td>\n",
       "      <td>172.0</td>\n",
       "      <td>average</td>\n",
       "    </tr>\n",
       "    <tr>\n",
       "      <th>2</th>\n",
       "      <td>4</td>\n",
       "      <td>12/17/20 9:09:34</td>\n",
       "      <td>12/17/20 9:14:39</td>\n",
       "      <td>anonymous</td>\n",
       "      <td>Man</td>\n",
       "      <td>30-39</td>\n",
       "      <td>Hanoi</td>\n",
       "      <td>0</td>\n",
       "      <td>1989</td>\n",
       "      <td>5</td>\n",
       "      <td>61.0</td>\n",
       "      <td>64</td>\n",
       "      <td>Agree</td>\n",
       "      <td>Meh</td>\n",
       "      <td>Disagree</td>\n",
       "      <td>Meh</td>\n",
       "      <td>Meh</td>\n",
       "      <td>178.0</td>\n",
       "      <td>average</td>\n",
       "    </tr>\n",
       "    <tr>\n",
       "      <th>3</th>\n",
       "      <td>5</td>\n",
       "      <td>12/17/20 9:19:54</td>\n",
       "      <td>12/17/20 9:27:03</td>\n",
       "      <td>anonymous</td>\n",
       "      <td>Woman</td>\n",
       "      <td>50-59</td>\n",
       "      <td>Stockholm</td>\n",
       "      <td>0</td>\n",
       "      <td>1970</td>\n",
       "      <td>5</td>\n",
       "      <td>60.0</td>\n",
       "      <td>100</td>\n",
       "      <td>Agree</td>\n",
       "      <td>Agree</td>\n",
       "      <td>Completely Disagree</td>\n",
       "      <td>Agree</td>\n",
       "      <td>Completely Agree</td>\n",
       "      <td>164.0</td>\n",
       "      <td>average</td>\n",
       "    </tr>\n",
       "    <tr>\n",
       "      <th>4</th>\n",
       "      <td>6</td>\n",
       "      <td>12/17/20 9:28:13</td>\n",
       "      <td>12/17/20 9:35:44</td>\n",
       "      <td>anonymous</td>\n",
       "      <td>Man</td>\n",
       "      <td>40-49</td>\n",
       "      <td>Accra</td>\n",
       "      <td>3</td>\n",
       "      <td>1979</td>\n",
       "      <td>5</td>\n",
       "      <td>60.0</td>\n",
       "      <td>70</td>\n",
       "      <td>Completely Agree</td>\n",
       "      <td>Agree</td>\n",
       "      <td>Completely Disagree</td>\n",
       "      <td>Completely Agree</td>\n",
       "      <td>Meh</td>\n",
       "      <td>170.0</td>\n",
       "      <td>average</td>\n",
       "    </tr>\n",
       "  </tbody>\n",
       "</table>\n",
       "</div>"
      ],
      "text/plain": [
       "   ID        Start time   Completion time      Email Gender    Age  \\\n",
       "0   2  12/17/20 9:09:33  12/17/20 9:10:55  anonymous  Woman  40-49   \n",
       "1   3  12/17/20 9:09:27  12/17/20 9:11:01  anonymous    Man  30-39   \n",
       "2   4  12/17/20 9:09:34  12/17/20 9:14:39  anonymous    Man  30-39   \n",
       "3   5  12/17/20 9:19:54  12/17/20 9:27:03  anonymous  Woman  50-59   \n",
       "4   6  12/17/20 9:28:13  12/17/20 9:35:44  anonymous    Man  40-49   \n",
       "\n",
       "  Closest biggest city near you  Number of kids (<18y) living with you  \\\n",
       "0                        Lagos                                       0   \n",
       "1                         Dhaka                                      0   \n",
       "2                         Hanoi                                      0   \n",
       "3                     Stockholm                                      0   \n",
       "4                         Accra                                      3   \n",
       "\n",
       "   Birth Year Number of modules completed so far  Average mark so far  \\\n",
       "0        1975                                  5                 62.0   \n",
       "1     1011986                                  5                 57.0   \n",
       "2        1989                                  5                 61.0   \n",
       "3        1970                                  5                 60.0   \n",
       "4        1979                                  5                 60.0   \n",
       "\n",
       "   Prediction for this module's mark I enjoy working with data  \\\n",
       "0                                 62                     Agree   \n",
       "1                                 65                     Agree   \n",
       "2                                 64                     Agree   \n",
       "3                                100                     Agree   \n",
       "4                                 70          Completely Agree   \n",
       "\n",
       "  I am excited about working with data I am afraid of working with data  \\\n",
       "0                                Agree              Completely Disagree   \n",
       "1                                Agree              Completely Disagree   \n",
       "2                                  Meh                         Disagree   \n",
       "3                                Agree              Completely Disagree   \n",
       "4                                Agree              Completely Disagree   \n",
       "\n",
       "  I am interested in understanding Data Analytics  \\\n",
       "0                                           Agree   \n",
       "1                                           Agree   \n",
       "2                                             Meh   \n",
       "3                                           Agree   \n",
       "4                                Completely Agree   \n",
       "\n",
       "  I plan to work hard in this module  \\\n",
       "0                              Agree   \n",
       "1                              Agree   \n",
       "2                                Meh   \n",
       "3                   Completely Agree   \n",
       "4                                Meh   \n",
       "\n",
       "   Height (absolute value, in centimeters (cm) - sorry imperial system users!)  \\\n",
       "0                                              175.0                             \n",
       "1                                              172.0                             \n",
       "2                                              178.0                             \n",
       "3                                              164.0                             \n",
       "4                                              170.0                             \n",
       "\n",
       "  Height (relative)  \n",
       "0         very tall  \n",
       "1           average  \n",
       "2           average  \n",
       "3           average  \n",
       "4           average  "
      ]
     },
     "execution_count": 5,
     "metadata": {},
     "output_type": "execute_result"
    },
    {
     "data": {
      "application/javascript": [
       "\n",
       "            setTimeout(function() {\n",
       "                var nbb_cell_id = 5;\n",
       "                var nbb_unformatted_code = \"pd.set_option(\\\"display.max_rows\\\", None, \\\"display.max_columns\\\", None)\\nfile = pd.read_csv(r\\\"data/dataanalytics-class-data.csv\\\")\\nfile.head()\";\n",
       "                var nbb_formatted_code = \"pd.set_option(\\\"display.max_rows\\\", None, \\\"display.max_columns\\\", None)\\nfile = pd.read_csv(r\\\"data/dataanalytics-class-data.csv\\\")\\nfile.head()\";\n",
       "                var nbb_cells = Jupyter.notebook.get_cells();\n",
       "                for (var i = 0; i < nbb_cells.length; ++i) {\n",
       "                    if (nbb_cells[i].input_prompt_number == nbb_cell_id) {\n",
       "                        if (nbb_cells[i].get_text() == nbb_unformatted_code) {\n",
       "                             nbb_cells[i].set_text(nbb_formatted_code);\n",
       "                        }\n",
       "                        break;\n",
       "                    }\n",
       "                }\n",
       "            }, 500);\n",
       "            "
      ],
      "text/plain": [
       "<IPython.core.display.Javascript object>"
      ]
     },
     "metadata": {},
     "output_type": "display_data"
    }
   ],
   "source": [
    "pd.set_option(\"display.max_rows\", None, \"display.max_columns\", None)\n",
    "file = pd.read_csv(r\"data/dataanalytics-class-data.csv\")\n",
    "file.head()"
   ]
  },
  {
   "cell_type": "code",
   "execution_count": null,
   "metadata": {},
   "outputs": [],
   "source": [
    "file.tail()"
   ]
  },
  {
   "cell_type": "code",
   "execution_count": 6,
   "metadata": {},
   "outputs": [
    {
     "data": {
      "text/plain": [
       "Index(['ID', 'Start time', 'Completion time', 'Email', 'Gender', 'Age',\n",
       "       'Closest biggest city near you',\n",
       "       'Number of kids (<18y) living with you', 'Birth Year',\n",
       "       'Number of modules completed so far', 'Average mark so far',\n",
       "       'Prediction for this module's mark', 'I enjoy working with data',\n",
       "       'I am excited about working with data',\n",
       "       'I am afraid of working with data',\n",
       "       'I am interested in understanding Data Analytics',\n",
       "       'I plan to work hard in this module',\n",
       "       'Height (absolute value, in centimeters (cm) - sorry imperial system users!)',\n",
       "       'Height (relative)'],\n",
       "      dtype='object')"
      ]
     },
     "execution_count": 6,
     "metadata": {},
     "output_type": "execute_result"
    },
    {
     "data": {
      "application/javascript": [
       "\n",
       "            setTimeout(function() {\n",
       "                var nbb_cell_id = 6;\n",
       "                var nbb_unformatted_code = \"file.columns\";\n",
       "                var nbb_formatted_code = \"file.columns\";\n",
       "                var nbb_cells = Jupyter.notebook.get_cells();\n",
       "                for (var i = 0; i < nbb_cells.length; ++i) {\n",
       "                    if (nbb_cells[i].input_prompt_number == nbb_cell_id) {\n",
       "                        if (nbb_cells[i].get_text() == nbb_unformatted_code) {\n",
       "                             nbb_cells[i].set_text(nbb_formatted_code);\n",
       "                        }\n",
       "                        break;\n",
       "                    }\n",
       "                }\n",
       "            }, 500);\n",
       "            "
      ],
      "text/plain": [
       "<IPython.core.display.Javascript object>"
      ]
     },
     "metadata": {},
     "output_type": "display_data"
    }
   ],
   "source": [
    "file.columns"
   ]
  },
  {
   "cell_type": "markdown",
   "metadata": {},
   "source": [
    "#### Dropping columns with data that is not useful to the analysis"
   ]
  },
  {
   "cell_type": "code",
   "execution_count": 7,
   "metadata": {
    "scrolled": true
   },
   "outputs": [
    {
     "data": {
      "application/javascript": [
       "\n",
       "            setTimeout(function() {\n",
       "                var nbb_cell_id = 7;\n",
       "                var nbb_unformatted_code = \"unrelated_columns = [\\\"ID\\\", \\\"Email\\\"]\\nfile = file.drop(columns=unrelated_columns)\";\n",
       "                var nbb_formatted_code = \"unrelated_columns = [\\\"ID\\\", \\\"Email\\\"]\\nfile = file.drop(columns=unrelated_columns)\";\n",
       "                var nbb_cells = Jupyter.notebook.get_cells();\n",
       "                for (var i = 0; i < nbb_cells.length; ++i) {\n",
       "                    if (nbb_cells[i].input_prompt_number == nbb_cell_id) {\n",
       "                        if (nbb_cells[i].get_text() == nbb_unformatted_code) {\n",
       "                             nbb_cells[i].set_text(nbb_formatted_code);\n",
       "                        }\n",
       "                        break;\n",
       "                    }\n",
       "                }\n",
       "            }, 500);\n",
       "            "
      ],
      "text/plain": [
       "<IPython.core.display.Javascript object>"
      ]
     },
     "metadata": {},
     "output_type": "display_data"
    }
   ],
   "source": [
    "unrelated_columns = [\"ID\", \"Email\"]\n",
    "file = file.drop(columns=unrelated_columns)"
   ]
  },
  {
   "cell_type": "markdown",
   "metadata": {},
   "source": [
    "#### Renaming all columns to snake case and shorter names "
   ]
  },
  {
   "cell_type": "code",
   "execution_count": 8,
   "metadata": {},
   "outputs": [
    {
     "data": {
      "application/javascript": [
       "\n",
       "            setTimeout(function() {\n",
       "                var nbb_cell_id = 8;\n",
       "                var nbb_unformatted_code = \"file = file.rename(\\n    columns={\\n        \\\"Start time\\\": \\\"Start_time\\\",\\n        \\\"Completion time\\\": \\\"End_time\\\",\\n        \\\"Closest biggest city near you\\\": \\\"City\\\",\\n        \\\"Number of kids (<18y) living with you\\\": \\\"Kids\\\",\\n        \\\"Birth Year\\\": \\\"Birth_year\\\",\\n        \\\"Number of modules completed so far\\\": \\\"Modules_num\\\",\\n        \\\"Average mark so far\\\": \\\"Average_grade\\\",\\n        \\\"Prediction for this module's mark\\\": \\\"Prediction_grade\\\",\\n        \\\"Height (absolute value, in centimeters (cm) - sorry imperial system users!)\\\": \\\"Height_cm\\\",\\n        \\\"Height (relative)\\\": \\\"Height_relative\\\",\\n        \\\"I enjoy working with data\\\": \\\"Enjoy_data\\\",\\n        \\\"I am excited about working with data\\\": \\\"Excited_data\\\",\\n        \\\"I am afraid of working with data\\\": \\\"Afraid_data\\\",\\n        \\\"I am interested in understanding Data Analytics\\\": \\\"Interested_DA\\\",\\n        \\\"I plan to work hard in this module\\\": \\\"Work_hard\\\",\\n    }\\n)\";\n",
       "                var nbb_formatted_code = \"file = file.rename(\\n    columns={\\n        \\\"Start time\\\": \\\"Start_time\\\",\\n        \\\"Completion time\\\": \\\"End_time\\\",\\n        \\\"Closest biggest city near you\\\": \\\"City\\\",\\n        \\\"Number of kids (<18y) living with you\\\": \\\"Kids\\\",\\n        \\\"Birth Year\\\": \\\"Birth_year\\\",\\n        \\\"Number of modules completed so far\\\": \\\"Modules_num\\\",\\n        \\\"Average mark so far\\\": \\\"Average_grade\\\",\\n        \\\"Prediction for this module's mark\\\": \\\"Prediction_grade\\\",\\n        \\\"Height (absolute value, in centimeters (cm) - sorry imperial system users!)\\\": \\\"Height_cm\\\",\\n        \\\"Height (relative)\\\": \\\"Height_relative\\\",\\n        \\\"I enjoy working with data\\\": \\\"Enjoy_data\\\",\\n        \\\"I am excited about working with data\\\": \\\"Excited_data\\\",\\n        \\\"I am afraid of working with data\\\": \\\"Afraid_data\\\",\\n        \\\"I am interested in understanding Data Analytics\\\": \\\"Interested_DA\\\",\\n        \\\"I plan to work hard in this module\\\": \\\"Work_hard\\\",\\n    }\\n)\";\n",
       "                var nbb_cells = Jupyter.notebook.get_cells();\n",
       "                for (var i = 0; i < nbb_cells.length; ++i) {\n",
       "                    if (nbb_cells[i].input_prompt_number == nbb_cell_id) {\n",
       "                        if (nbb_cells[i].get_text() == nbb_unformatted_code) {\n",
       "                             nbb_cells[i].set_text(nbb_formatted_code);\n",
       "                        }\n",
       "                        break;\n",
       "                    }\n",
       "                }\n",
       "            }, 500);\n",
       "            "
      ],
      "text/plain": [
       "<IPython.core.display.Javascript object>"
      ]
     },
     "metadata": {},
     "output_type": "display_data"
    }
   ],
   "source": [
    "file = file.rename(\n",
    "    columns={\n",
    "        \"Start time\": \"Start_time\",\n",
    "        \"Completion time\": \"End_time\",\n",
    "        \"Closest biggest city near you\": \"City\",\n",
    "        \"Number of kids (<18y) living with you\": \"Kids\",\n",
    "        \"Birth Year\": \"Birth_year\",\n",
    "        \"Number of modules completed so far\": \"Modules_num\",\n",
    "        \"Average mark so far\": \"Average_grade\",\n",
    "        \"Prediction for this module's mark\": \"Prediction_grade\",\n",
    "        \"Height (absolute value, in centimeters (cm) - sorry imperial system users!)\": \"Height_cm\",\n",
    "        \"Height (relative)\": \"Height_relative\",\n",
    "        \"I enjoy working with data\": \"Enjoy_data\",\n",
    "        \"I am excited about working with data\": \"Excited_data\",\n",
    "        \"I am afraid of working with data\": \"Afraid_data\",\n",
    "        \"I am interested in understanding Data Analytics\": \"Interested_DA\",\n",
    "        \"I plan to work hard in this module\": \"Work_hard\",\n",
    "    }\n",
    ")"
   ]
  },
  {
   "cell_type": "code",
   "execution_count": 9,
   "metadata": {},
   "outputs": [
    {
     "name": "stdout",
     "output_type": "stream",
     "text": [
      "<class 'pandas.core.frame.DataFrame'>\n",
      "RangeIndex: 109 entries, 0 to 108\n",
      "Data columns (total 17 columns):\n",
      " #   Column            Non-Null Count  Dtype  \n",
      "---  ------            --------------  -----  \n",
      " 0   Start_time        109 non-null    object \n",
      " 1   End_time          109 non-null    object \n",
      " 2   Gender            109 non-null    object \n",
      " 3   Age               109 non-null    object \n",
      " 4   City              109 non-null    object \n",
      " 5   Kids              109 non-null    int64  \n",
      " 6   Birth_year        109 non-null    int64  \n",
      " 7   Modules_num       109 non-null    object \n",
      " 8   Average_grade     106 non-null    float64\n",
      " 9   Prediction_grade  109 non-null    int64  \n",
      " 10  Enjoy_data        109 non-null    object \n",
      " 11  Excited_data      109 non-null    object \n",
      " 12  Afraid_data       109 non-null    object \n",
      " 13  Interested_DA     109 non-null    object \n",
      " 14  Work_hard         109 non-null    object \n",
      " 15  Height_cm         109 non-null    float64\n",
      " 16  Height_relative   109 non-null    object \n",
      "dtypes: float64(2), int64(3), object(12)\n",
      "memory usage: 14.6+ KB\n"
     ]
    },
    {
     "data": {
      "application/javascript": [
       "\n",
       "            setTimeout(function() {\n",
       "                var nbb_cell_id = 9;\n",
       "                var nbb_unformatted_code = \"file_info = file.info()\";\n",
       "                var nbb_formatted_code = \"file_info = file.info()\";\n",
       "                var nbb_cells = Jupyter.notebook.get_cells();\n",
       "                for (var i = 0; i < nbb_cells.length; ++i) {\n",
       "                    if (nbb_cells[i].input_prompt_number == nbb_cell_id) {\n",
       "                        if (nbb_cells[i].get_text() == nbb_unformatted_code) {\n",
       "                             nbb_cells[i].set_text(nbb_formatted_code);\n",
       "                        }\n",
       "                        break;\n",
       "                    }\n",
       "                }\n",
       "            }, 500);\n",
       "            "
      ],
      "text/plain": [
       "<IPython.core.display.Javascript object>"
      ]
     },
     "metadata": {},
     "output_type": "display_data"
    }
   ],
   "source": [
    "file_info = file.info()"
   ]
  },
  {
   "cell_type": "code",
   "execution_count": 10,
   "metadata": {},
   "outputs": [
    {
     "data": {
      "application/javascript": [
       "\n",
       "            setTimeout(function() {\n",
       "                var nbb_cell_id = 10;\n",
       "                var nbb_unformatted_code = \"file[\\\"Modules_num\\\"] = file[\\\"Modules_num\\\"].str.replace(\\\"none\\\", \\\"0\\\")\";\n",
       "                var nbb_formatted_code = \"file[\\\"Modules_num\\\"] = file[\\\"Modules_num\\\"].str.replace(\\\"none\\\", \\\"0\\\")\";\n",
       "                var nbb_cells = Jupyter.notebook.get_cells();\n",
       "                for (var i = 0; i < nbb_cells.length; ++i) {\n",
       "                    if (nbb_cells[i].input_prompt_number == nbb_cell_id) {\n",
       "                        if (nbb_cells[i].get_text() == nbb_unformatted_code) {\n",
       "                             nbb_cells[i].set_text(nbb_formatted_code);\n",
       "                        }\n",
       "                        break;\n",
       "                    }\n",
       "                }\n",
       "            }, 500);\n",
       "            "
      ],
      "text/plain": [
       "<IPython.core.display.Javascript object>"
      ]
     },
     "metadata": {},
     "output_type": "display_data"
    }
   ],
   "source": [
    "file[\"Modules_num\"] = file[\"Modules_num\"].str.replace(\"none\", \"0\")"
   ]
  },
  {
   "cell_type": "code",
   "execution_count": 11,
   "metadata": {},
   "outputs": [
    {
     "data": {
      "application/javascript": [
       "\n",
       "            setTimeout(function() {\n",
       "                var nbb_cell_id = 11;\n",
       "                var nbb_unformatted_code = \"file[\\\"Modules_num\\\"] = file[\\\"Modules_num\\\"].astype(\\\"int32\\\")\";\n",
       "                var nbb_formatted_code = \"file[\\\"Modules_num\\\"] = file[\\\"Modules_num\\\"].astype(\\\"int32\\\")\";\n",
       "                var nbb_cells = Jupyter.notebook.get_cells();\n",
       "                for (var i = 0; i < nbb_cells.length; ++i) {\n",
       "                    if (nbb_cells[i].input_prompt_number == nbb_cell_id) {\n",
       "                        if (nbb_cells[i].get_text() == nbb_unformatted_code) {\n",
       "                             nbb_cells[i].set_text(nbb_formatted_code);\n",
       "                        }\n",
       "                        break;\n",
       "                    }\n",
       "                }\n",
       "            }, 500);\n",
       "            "
      ],
      "text/plain": [
       "<IPython.core.display.Javascript object>"
      ]
     },
     "metadata": {},
     "output_type": "display_data"
    }
   ],
   "source": [
    "file[\"Modules_num\"] = file[\"Modules_num\"].astype(\"int32\")"
   ]
  },
  {
   "cell_type": "code",
   "execution_count": 12,
   "metadata": {},
   "outputs": [
    {
     "data": {
      "text/plain": [
       "Start_time          0\n",
       "End_time            0\n",
       "Gender              0\n",
       "Age                 0\n",
       "City                0\n",
       "Kids                0\n",
       "Birth_year          0\n",
       "Modules_num         0\n",
       "Average_grade       3\n",
       "Prediction_grade    0\n",
       "Enjoy_data          0\n",
       "Excited_data        0\n",
       "Afraid_data         0\n",
       "Interested_DA       0\n",
       "Work_hard           0\n",
       "Height_cm           0\n",
       "Height_relative     0\n",
       "dtype: int64"
      ]
     },
     "execution_count": 12,
     "metadata": {},
     "output_type": "execute_result"
    },
    {
     "data": {
      "application/javascript": [
       "\n",
       "            setTimeout(function() {\n",
       "                var nbb_cell_id = 12;\n",
       "                var nbb_unformatted_code = \"file.isnull().sum()\";\n",
       "                var nbb_formatted_code = \"file.isnull().sum()\";\n",
       "                var nbb_cells = Jupyter.notebook.get_cells();\n",
       "                for (var i = 0; i < nbb_cells.length; ++i) {\n",
       "                    if (nbb_cells[i].input_prompt_number == nbb_cell_id) {\n",
       "                        if (nbb_cells[i].get_text() == nbb_unformatted_code) {\n",
       "                             nbb_cells[i].set_text(nbb_formatted_code);\n",
       "                        }\n",
       "                        break;\n",
       "                    }\n",
       "                }\n",
       "            }, 500);\n",
       "            "
      ],
      "text/plain": [
       "<IPython.core.display.Javascript object>"
      ]
     },
     "metadata": {},
     "output_type": "display_data"
    }
   ],
   "source": [
    "file.isnull().sum()"
   ]
  },
  {
   "cell_type": "markdown",
   "metadata": {},
   "source": [
    "## Data Cleansing"
   ]
  },
  {
   "cell_type": "markdown",
   "metadata": {},
   "source": [
    "### Helper Methods"
   ]
  },
  {
   "cell_type": "code",
   "execution_count": 14,
   "metadata": {},
   "outputs": [
    {
     "data": {
      "application/javascript": [
       "\n",
       "            setTimeout(function() {\n",
       "                var nbb_cell_id = 14;\n",
       "                var nbb_unformatted_code = \"def clean_birth_year(year_value):\\n    now = datetime.datetime.now()\\n    current_year = now.year\\n    digits_num = int(math.log10(year_value)) + 1\\n    year_value = str(year_value)\\n    if digits_num > 4:\\n        year_value = year_value[-4:]\\n    elif digits_num < 4:\\n        year_value = current_year - int(year_value)\\n    return int(year_value)\\n\\n\\ndef convert_age_to_list_range(age_item):\\n    if \\\"-\\\" in age_item:\\n        age_item = age_item.split(\\\"-\\\")\\n        first_num = int(age_item[0])\\n        second_num = int(age_item[1])\\n        age_item = [first_num, second_num]\\n    else:\\n        age_item = age_item.split(\\\"+\\\")\\n        first_num = int(age_item[0])\\n        second_num = 100\\n        age_item = [first_num, second_num]\\n    return age_item\";\n",
       "                var nbb_formatted_code = \"def clean_birth_year(year_value):\\n    now = datetime.datetime.now()\\n    current_year = now.year\\n    digits_num = int(math.log10(year_value)) + 1\\n    year_value = str(year_value)\\n    if digits_num > 4:\\n        year_value = year_value[-4:]\\n    elif digits_num < 4:\\n        year_value = current_year - int(year_value)\\n    return int(year_value)\\n\\n\\ndef convert_age_to_list_range(age_item):\\n    if \\\"-\\\" in age_item:\\n        age_item = age_item.split(\\\"-\\\")\\n        first_num = int(age_item[0])\\n        second_num = int(age_item[1])\\n        age_item = [first_num, second_num]\\n    else:\\n        age_item = age_item.split(\\\"+\\\")\\n        first_num = int(age_item[0])\\n        second_num = 100\\n        age_item = [first_num, second_num]\\n    return age_item\";\n",
       "                var nbb_cells = Jupyter.notebook.get_cells();\n",
       "                for (var i = 0; i < nbb_cells.length; ++i) {\n",
       "                    if (nbb_cells[i].input_prompt_number == nbb_cell_id) {\n",
       "                        if (nbb_cells[i].get_text() == nbb_unformatted_code) {\n",
       "                             nbb_cells[i].set_text(nbb_formatted_code);\n",
       "                        }\n",
       "                        break;\n",
       "                    }\n",
       "                }\n",
       "            }, 500);\n",
       "            "
      ],
      "text/plain": [
       "<IPython.core.display.Javascript object>"
      ]
     },
     "metadata": {},
     "output_type": "display_data"
    }
   ],
   "source": [
    "def clean_birth_year(year_value):\n",
    "    now = datetime.datetime.now()\n",
    "    current_year = now.year\n",
    "    digits_num = int(math.log10(year_value)) + 1\n",
    "    year_value = str(year_value)\n",
    "    if digits_num > 4:\n",
    "        year_value = year_value[-4:]\n",
    "    elif digits_num < 4:\n",
    "        year_value = current_year - int(year_value)\n",
    "    return int(year_value)\n",
    "\n",
    "\n",
    "def convert_age_to_list_range(age_item):\n",
    "    if \"-\" in age_item:\n",
    "        age_item = age_item.split(\"-\")\n",
    "        first_num = int(age_item[0])\n",
    "        second_num = int(age_item[1])\n",
    "        age_item = [first_num, second_num]\n",
    "    else:\n",
    "        age_item = age_item.split(\"+\")\n",
    "        first_num = int(age_item[0])\n",
    "        second_num = 100\n",
    "        age_item = [first_num, second_num]\n",
    "    return age_item\n"
   ]
  },
  {
   "cell_type": "markdown",
   "metadata": {},
   "source": [
    "### Missing Values"
   ]
  },
  {
   "cell_type": "markdown",
   "metadata": {},
   "source": [
    "#### Dropping all the rows with null values"
   ]
  },
  {
   "cell_type": "code",
   "execution_count": 15,
   "metadata": {},
   "outputs": [
    {
     "name": "stdout",
     "output_type": "stream",
     "text": [
      "<class 'pandas.core.frame.DataFrame'>\n",
      "RangeIndex: 106 entries, 0 to 105\n",
      "Data columns (total 17 columns):\n",
      " #   Column            Non-Null Count  Dtype  \n",
      "---  ------            --------------  -----  \n",
      " 0   Start_time        106 non-null    object \n",
      " 1   End_time          106 non-null    object \n",
      " 2   Gender            106 non-null    object \n",
      " 3   Age               106 non-null    object \n",
      " 4   City              106 non-null    object \n",
      " 5   Kids              106 non-null    int64  \n",
      " 6   Birth_year        106 non-null    int64  \n",
      " 7   Modules_num       106 non-null    int32  \n",
      " 8   Average_grade     106 non-null    float64\n",
      " 9   Prediction_grade  106 non-null    int64  \n",
      " 10  Enjoy_data        106 non-null    object \n",
      " 11  Excited_data      106 non-null    object \n",
      " 12  Afraid_data       106 non-null    object \n",
      " 13  Interested_DA     106 non-null    object \n",
      " 14  Work_hard         106 non-null    object \n",
      " 15  Height_cm         106 non-null    float64\n",
      " 16  Height_relative   106 non-null    object \n",
      "dtypes: float64(2), int32(1), int64(3), object(11)\n",
      "memory usage: 13.8+ KB\n"
     ]
    },
    {
     "data": {
      "application/javascript": [
       "\n",
       "            setTimeout(function() {\n",
       "                var nbb_cell_id = 15;\n",
       "                var nbb_unformatted_code = \"file = file.dropna()\\nfile = file.reset_index(drop=True)\\nfile.info()\";\n",
       "                var nbb_formatted_code = \"file = file.dropna()\\nfile = file.reset_index(drop=True)\\nfile.info()\";\n",
       "                var nbb_cells = Jupyter.notebook.get_cells();\n",
       "                for (var i = 0; i < nbb_cells.length; ++i) {\n",
       "                    if (nbb_cells[i].input_prompt_number == nbb_cell_id) {\n",
       "                        if (nbb_cells[i].get_text() == nbb_unformatted_code) {\n",
       "                             nbb_cells[i].set_text(nbb_formatted_code);\n",
       "                        }\n",
       "                        break;\n",
       "                    }\n",
       "                }\n",
       "            }, 500);\n",
       "            "
      ],
      "text/plain": [
       "<IPython.core.display.Javascript object>"
      ]
     },
     "metadata": {},
     "output_type": "display_data"
    }
   ],
   "source": [
    "file = file.dropna()\n",
    "file = file.reset_index(drop=True)\n",
    "file.info()"
   ]
  },
  {
   "cell_type": "markdown",
   "metadata": {},
   "source": [
    "#### Exploring the Birth Year and Age"
   ]
  },
  {
   "cell_type": "code",
   "execution_count": null,
   "metadata": {},
   "outputs": [],
   "source": [
    "file[['Birth_year', 'Age']]"
   ]
  },
  {
   "cell_type": "markdown",
   "metadata": {},
   "source": [
    "Using a helper method clean_birth_year() to clean the years: from a more than 4-digit number takes only last 4 digits, for each 2 digit number subtracts the number from the current year to find the birth year "
   ]
  },
  {
   "cell_type": "code",
   "execution_count": 16,
   "metadata": {},
   "outputs": [
    {
     "data": {
      "application/javascript": [
       "\n",
       "            setTimeout(function() {\n",
       "                var nbb_cell_id = 16;\n",
       "                var nbb_unformatted_code = \"file[\\\"Birth_year\\\"] = file[\\\"Birth_year\\\"].apply(clean_birth_year)\";\n",
       "                var nbb_formatted_code = \"file[\\\"Birth_year\\\"] = file[\\\"Birth_year\\\"].apply(clean_birth_year)\";\n",
       "                var nbb_cells = Jupyter.notebook.get_cells();\n",
       "                for (var i = 0; i < nbb_cells.length; ++i) {\n",
       "                    if (nbb_cells[i].input_prompt_number == nbb_cell_id) {\n",
       "                        if (nbb_cells[i].get_text() == nbb_unformatted_code) {\n",
       "                             nbb_cells[i].set_text(nbb_formatted_code);\n",
       "                        }\n",
       "                        break;\n",
       "                    }\n",
       "                }\n",
       "            }, 500);\n",
       "            "
      ],
      "text/plain": [
       "<IPython.core.display.Javascript object>"
      ]
     },
     "metadata": {},
     "output_type": "display_data"
    }
   ],
   "source": [
    "file[\"Birth_year\"] = file[\"Birth_year\"].apply(clean_birth_year)"
   ]
  },
  {
   "cell_type": "markdown",
   "metadata": {},
   "source": [
    "Subtracting from the current year the birth year (to explore if it is in the age range)"
   ]
  },
  {
   "cell_type": "code",
   "execution_count": 17,
   "metadata": {},
   "outputs": [
    {
     "data": {
      "application/javascript": [
       "\n",
       "            setTimeout(function() {\n",
       "                var nbb_cell_id = 17;\n",
       "                var nbb_unformatted_code = \"ages_calculated_by_birth_year = []\\nnow = datetime.datetime.now()\\ncurrent_year = now.year\\nfor i in file['Birth_year']:\\n    age = current_year - i\\n    ages_calculated_by_birth_year.append(age)\\n\\nfile[\\\"Age_by_birth_year\\\"] = ages_calculated_by_birth_year\";\n",
       "                var nbb_formatted_code = \"ages_calculated_by_birth_year = []\\nnow = datetime.datetime.now()\\ncurrent_year = now.year\\nfor i in file[\\\"Birth_year\\\"]:\\n    age = current_year - i\\n    ages_calculated_by_birth_year.append(age)\\n\\nfile[\\\"Age_by_birth_year\\\"] = ages_calculated_by_birth_year\";\n",
       "                var nbb_cells = Jupyter.notebook.get_cells();\n",
       "                for (var i = 0; i < nbb_cells.length; ++i) {\n",
       "                    if (nbb_cells[i].input_prompt_number == nbb_cell_id) {\n",
       "                        if (nbb_cells[i].get_text() == nbb_unformatted_code) {\n",
       "                             nbb_cells[i].set_text(nbb_formatted_code);\n",
       "                        }\n",
       "                        break;\n",
       "                    }\n",
       "                }\n",
       "            }, 500);\n",
       "            "
      ],
      "text/plain": [
       "<IPython.core.display.Javascript object>"
      ]
     },
     "metadata": {},
     "output_type": "display_data"
    }
   ],
   "source": [
    "ages_calculated_by_birth_year = []\n",
    "now = datetime.datetime.now()\n",
    "current_year = now.year\n",
    "for i in file[\"Birth_year\"]:\n",
    "    age = current_year - i\n",
    "    ages_calculated_by_birth_year.append(age)\n",
    "\n",
    "file[\"Age_by_birth_year\"] = ages_calculated_by_birth_year"
   ]
  },
  {
   "cell_type": "markdown",
   "metadata": {},
   "source": [
    "Converting Age string into a list of 2 values"
   ]
  },
  {
   "cell_type": "code",
   "execution_count": 18,
   "metadata": {},
   "outputs": [
    {
     "data": {
      "application/javascript": [
       "\n",
       "            setTimeout(function() {\n",
       "                var nbb_cell_id = 18;\n",
       "                var nbb_unformatted_code = \"file[\\\"Age\\\"] = file[\\\"Age\\\"].apply(convert_age_to_list_range)\";\n",
       "                var nbb_formatted_code = \"file[\\\"Age\\\"] = file[\\\"Age\\\"].apply(convert_age_to_list_range)\";\n",
       "                var nbb_cells = Jupyter.notebook.get_cells();\n",
       "                for (var i = 0; i < nbb_cells.length; ++i) {\n",
       "                    if (nbb_cells[i].input_prompt_number == nbb_cell_id) {\n",
       "                        if (nbb_cells[i].get_text() == nbb_unformatted_code) {\n",
       "                             nbb_cells[i].set_text(nbb_formatted_code);\n",
       "                        }\n",
       "                        break;\n",
       "                    }\n",
       "                }\n",
       "            }, 500);\n",
       "            "
      ],
      "text/plain": [
       "<IPython.core.display.Javascript object>"
      ]
     },
     "metadata": {},
     "output_type": "display_data"
    }
   ],
   "source": [
    "file[\"Age\"] = file[\"Age\"].apply(convert_age_to_list_range)"
   ]
  },
  {
   "cell_type": "markdown",
   "metadata": {},
   "source": [
    "Comparing \"Age\" and \"Age_by_birth_year\" column values"
   ]
  },
  {
   "cell_type": "code",
   "execution_count": null,
   "metadata": {},
   "outputs": [],
   "source": [
    "file[[\"Age_by_birth_year\", \"Age\"]]"
   ]
  },
  {
   "cell_type": "markdown",
   "metadata": {},
   "source": [
    "The data exploration above proves that the Age range and Age data can be trusted now\n"
   ]
  },
  {
   "cell_type": "markdown",
   "metadata": {},
   "source": [
    "### Exploratory Data Visualization"
   ]
  },
  {
   "cell_type": "markdown",
   "metadata": {},
   "source": [
    "Setting the seaborn formatting"
   ]
  },
  {
   "cell_type": "code",
   "execution_count": 19,
   "metadata": {},
   "outputs": [
    {
     "data": {
      "application/javascript": [
       "\n",
       "            setTimeout(function() {\n",
       "                var nbb_cell_id = 19;\n",
       "                var nbb_unformatted_code = \"sns.set()\";\n",
       "                var nbb_formatted_code = \"sns.set()\";\n",
       "                var nbb_cells = Jupyter.notebook.get_cells();\n",
       "                for (var i = 0; i < nbb_cells.length; ++i) {\n",
       "                    if (nbb_cells[i].input_prompt_number == nbb_cell_id) {\n",
       "                        if (nbb_cells[i].get_text() == nbb_unformatted_code) {\n",
       "                             nbb_cells[i].set_text(nbb_formatted_code);\n",
       "                        }\n",
       "                        break;\n",
       "                    }\n",
       "                }\n",
       "            }, 500);\n",
       "            "
      ],
      "text/plain": [
       "<IPython.core.display.Javascript object>"
      ]
     },
     "metadata": {},
     "output_type": "display_data"
    }
   ],
   "source": [
    "sns.set()"
   ]
  },
  {
   "cell_type": "markdown",
   "metadata": {},
   "source": [
    "Creating a function to draw scatter plots"
   ]
  },
  {
   "cell_type": "code",
   "execution_count": null,
   "metadata": {},
   "outputs": [],
   "source": [
    "file.columns"
   ]
  },
  {
   "cell_type": "code",
   "execution_count": 20,
   "metadata": {},
   "outputs": [
    {
     "data": {
      "application/javascript": [
       "\n",
       "            setTimeout(function() {\n",
       "                var nbb_cell_id = 20;\n",
       "                var nbb_unformatted_code = \"def draw_scatter(x, y, x_label, y_label, title):\\n    sns.scatterplot(\\n        data=file,\\n        x=file[x],\\n        y=file[y],\\n        hue=file[\\\"Gender\\\"],\\n        palette=dict({\\\"Woman\\\": \\\"darkred\\\", \\\"Man\\\": \\\"blue\\\"}),\\n    )\\n    sns.despine()\\n    plt.xlabel(x_label)\\n    plt.ylabel(y_label)\\n    plt.title(title, fontsize=15)\\n    plt.show()\";\n",
       "                var nbb_formatted_code = \"def draw_scatter(x, y, x_label, y_label, title):\\n    sns.scatterplot(\\n        data=file,\\n        x=file[x],\\n        y=file[y],\\n        hue=file[\\\"Gender\\\"],\\n        palette=dict({\\\"Woman\\\": \\\"darkred\\\", \\\"Man\\\": \\\"blue\\\"}),\\n    )\\n    sns.despine()\\n    plt.xlabel(x_label)\\n    plt.ylabel(y_label)\\n    plt.title(title, fontsize=15)\\n    plt.show()\";\n",
       "                var nbb_cells = Jupyter.notebook.get_cells();\n",
       "                for (var i = 0; i < nbb_cells.length; ++i) {\n",
       "                    if (nbb_cells[i].input_prompt_number == nbb_cell_id) {\n",
       "                        if (nbb_cells[i].get_text() == nbb_unformatted_code) {\n",
       "                             nbb_cells[i].set_text(nbb_formatted_code);\n",
       "                        }\n",
       "                        break;\n",
       "                    }\n",
       "                }\n",
       "            }, 500);\n",
       "            "
      ],
      "text/plain": [
       "<IPython.core.display.Javascript object>"
      ]
     },
     "metadata": {},
     "output_type": "display_data"
    }
   ],
   "source": [
    "def draw_scatter(x, y, x_label, y_label, title):\n",
    "    sns.scatterplot(\n",
    "        data=file,\n",
    "        x=file[x],\n",
    "        y=file[y],\n",
    "        hue=file[\"Gender\"],\n",
    "        palette=dict({\"Woman\": \"darkred\", \"Man\": \"blue\"}),\n",
    "    )\n",
    "    sns.despine()\n",
    "    plt.xlabel(x_label)\n",
    "    plt.ylabel(y_label)\n",
    "    plt.title(title, fontsize=15)\n",
    "    plt.show()"
   ]
  },
  {
   "cell_type": "markdown",
   "metadata": {},
   "source": [
    "Defining column combinations to draw scatter plots"
   ]
  },
  {
   "cell_type": "code",
   "execution_count": 21,
   "metadata": {},
   "outputs": [
    {
     "data": {
      "application/javascript": [
       "\n",
       "            setTimeout(function() {\n",
       "                var nbb_cell_id = 21;\n",
       "                var nbb_unformatted_code = \"scatter_configs = [\\n    [\\n        \\\"Average_grade\\\",\\n        \\\"Age_by_birth_year\\\",\\n        \\\"Average Mark\\\",\\n        \\\"Age\\\",\\n        \\\"Student Age vs Average Grade\\\",\\n    ],\\n    [\\n        \\\"Average_grade\\\",\\n        \\\"Modules_num\\\",\\n        \\\"Average Mark\\\",\\n        \\\"Number of Completed Modules\\\",\\n        \\\"Number of Completed Modules vs Average Grade\\\",\\n    ],\\n    [\\n        \\\"Average_grade\\\",\\n        \\\"Kids\\\",\\n        \\\"Average Mark\\\",\\n        \\\"Number of Kids\\\",\\n        \\\"Number of Kids vs Average Grade\\\",\\n    ],\\n]\";\n",
       "                var nbb_formatted_code = \"scatter_configs = [\\n    [\\n        \\\"Average_grade\\\",\\n        \\\"Age_by_birth_year\\\",\\n        \\\"Average Mark\\\",\\n        \\\"Age\\\",\\n        \\\"Student Age vs Average Grade\\\",\\n    ],\\n    [\\n        \\\"Average_grade\\\",\\n        \\\"Modules_num\\\",\\n        \\\"Average Mark\\\",\\n        \\\"Number of Completed Modules\\\",\\n        \\\"Number of Completed Modules vs Average Grade\\\",\\n    ],\\n    [\\n        \\\"Average_grade\\\",\\n        \\\"Kids\\\",\\n        \\\"Average Mark\\\",\\n        \\\"Number of Kids\\\",\\n        \\\"Number of Kids vs Average Grade\\\",\\n    ],\\n]\";\n",
       "                var nbb_cells = Jupyter.notebook.get_cells();\n",
       "                for (var i = 0; i < nbb_cells.length; ++i) {\n",
       "                    if (nbb_cells[i].input_prompt_number == nbb_cell_id) {\n",
       "                        if (nbb_cells[i].get_text() == nbb_unformatted_code) {\n",
       "                             nbb_cells[i].set_text(nbb_formatted_code);\n",
       "                        }\n",
       "                        break;\n",
       "                    }\n",
       "                }\n",
       "            }, 500);\n",
       "            "
      ],
      "text/plain": [
       "<IPython.core.display.Javascript object>"
      ]
     },
     "metadata": {},
     "output_type": "display_data"
    }
   ],
   "source": [
    "scatter_configs = [\n",
    "    [\n",
    "        \"Average_grade\",\n",
    "        \"Age_by_birth_year\",\n",
    "        \"Average Mark\",\n",
    "        \"Age\",\n",
    "        \"Student Age vs Average Grade\",\n",
    "    ],\n",
    "    [\n",
    "        \"Average_grade\",\n",
    "        \"Modules_num\",\n",
    "        \"Average Mark\",\n",
    "        \"Number of Completed Modules\",\n",
    "        \"Number of Completed Modules vs Average Grade\",\n",
    "    ],\n",
    "    [\n",
    "        \"Average_grade\",\n",
    "        \"Kids\",\n",
    "        \"Average Mark\",\n",
    "        \"Number of Kids\",\n",
    "        \"Number of Kids vs Average Grade\",\n",
    "    ],\n",
    "]"
   ]
  },
  {
   "cell_type": "markdown",
   "metadata": {},
   "source": [
    "Drawing scatter plots in iterations to find correlations"
   ]
  },
  {
   "cell_type": "code",
   "execution_count": 22,
   "metadata": {},
   "outputs": [
    {
     "data": {
      "image/png": "[encoded data removed]",
      "text/plain": [
       "<Figure size 432x288 with 1 Axes>"
      ]
     },
     "metadata": {},
     "output_type": "display_data"
    },
    {
     "data": {
      "image/png": "[encoded data removed]",
      "text/plain": [
       "<Figure size 432x288 with 1 Axes>"
      ]
     },
     "metadata": {},
     "output_type": "display_data"
    },
    {
     "data": {
      "image/png": "[encoded data removed]",
      "text/plain": [
       "<Figure size 432x288 with 1 Axes>"
      ]
     },
     "metadata": {},
     "output_type": "display_data"
    },
    {
     "data": {
      "application/javascript": [
       "\n",
       "            setTimeout(function() {\n",
       "                var nbb_cell_id = 22;\n",
       "                var nbb_unformatted_code = \"for i in scatter_configs:\\n    draw_scatter(*i)\";\n",
       "                var nbb_formatted_code = \"for i in scatter_configs:\\n    draw_scatter(*i)\";\n",
       "                var nbb_cells = Jupyter.notebook.get_cells();\n",
       "                for (var i = 0; i < nbb_cells.length; ++i) {\n",
       "                    if (nbb_cells[i].input_prompt_number == nbb_cell_id) {\n",
       "                        if (nbb_cells[i].get_text() == nbb_unformatted_code) {\n",
       "                             nbb_cells[i].set_text(nbb_formatted_code);\n",
       "                        }\n",
       "                        break;\n",
       "                    }\n",
       "                }\n",
       "            }, 500);\n",
       "            "
      ],
      "text/plain": [
       "<IPython.core.display.Javascript object>"
      ]
     },
     "metadata": {},
     "output_type": "display_data"
    }
   ],
   "source": [
    "for i in scatter_configs:\n",
    "    draw_scatter(*i)"
   ]
  },
  {
   "cell_type": "markdown",
   "metadata": {},
   "source": [
    "Conclusions: the grade of 120 is likely to be en error, because the max grade is 100. The grades below 50 shall be examined closer. The grades below 20 should be invetigated since this is a strong failing grade. "
   ]
  },
  {
   "cell_type": "markdown",
   "metadata": {},
   "source": [
    "**Dropping the errors**"
   ]
  },
  {
   "cell_type": "code",
   "execution_count": 23,
   "metadata": {},
   "outputs": [
    {
     "name": "stdout",
     "output_type": "stream",
     "text": [
      "56   2.0\n",
      "79   120.0\n",
      "88   1.0\n",
      "95   5.0\n"
     ]
    },
    {
     "data": {
      "application/javascript": [
       "\n",
       "            setTimeout(function() {\n",
       "                var nbb_cell_id = 23;\n",
       "                var nbb_unformatted_code = \"outlier_indexes_grade = []\\n\\nfor i in range(len(file)):\\n    if (file[\\\"Average_grade\\\"][i] > 100) or (file[\\\"Average_grade\\\"][i] <= 5):\\n        print(i, \\\" \\\", file[\\\"Average_grade\\\"][i])\\n        outlier_indexes_grade.append(i)\";\n",
       "                var nbb_formatted_code = \"outlier_indexes_grade = []\\n\\nfor i in range(len(file)):\\n    if (file[\\\"Average_grade\\\"][i] > 100) or (file[\\\"Average_grade\\\"][i] <= 5):\\n        print(i, \\\" \\\", file[\\\"Average_grade\\\"][i])\\n        outlier_indexes_grade.append(i)\";\n",
       "                var nbb_cells = Jupyter.notebook.get_cells();\n",
       "                for (var i = 0; i < nbb_cells.length; ++i) {\n",
       "                    if (nbb_cells[i].input_prompt_number == nbb_cell_id) {\n",
       "                        if (nbb_cells[i].get_text() == nbb_unformatted_code) {\n",
       "                             nbb_cells[i].set_text(nbb_formatted_code);\n",
       "                        }\n",
       "                        break;\n",
       "                    }\n",
       "                }\n",
       "            }, 500);\n",
       "            "
      ],
      "text/plain": [
       "<IPython.core.display.Javascript object>"
      ]
     },
     "metadata": {},
     "output_type": "display_data"
    }
   ],
   "source": [
    "outlier_indexes_grade = []\n",
    "\n",
    "for i in range(len(file)):\n",
    "    if (file[\"Average_grade\"][i] > 100) or (file[\"Average_grade\"][i] <= 5):\n",
    "        print(i, \" \", file[\"Average_grade\"][i])\n",
    "        outlier_indexes_grade.append(i)"
   ]
  },
  {
   "cell_type": "code",
   "execution_count": 24,
   "metadata": {},
   "outputs": [
    {
     "data": {
      "application/javascript": [
       "\n",
       "            setTimeout(function() {\n",
       "                var nbb_cell_id = 24;\n",
       "                var nbb_unformatted_code = \"file = file.drop(outlier_indexes_grade)\\nfile = file.reset_index(drop=True)\";\n",
       "                var nbb_formatted_code = \"file = file.drop(outlier_indexes_grade)\\nfile = file.reset_index(drop=True)\";\n",
       "                var nbb_cells = Jupyter.notebook.get_cells();\n",
       "                for (var i = 0; i < nbb_cells.length; ++i) {\n",
       "                    if (nbb_cells[i].input_prompt_number == nbb_cell_id) {\n",
       "                        if (nbb_cells[i].get_text() == nbb_unformatted_code) {\n",
       "                             nbb_cells[i].set_text(nbb_formatted_code);\n",
       "                        }\n",
       "                        break;\n",
       "                    }\n",
       "                }\n",
       "            }, 500);\n",
       "            "
      ],
      "text/plain": [
       "<IPython.core.display.Javascript object>"
      ]
     },
     "metadata": {},
     "output_type": "display_data"
    }
   ],
   "source": [
    "file = file.drop(outlier_indexes_grade)\n",
    "file = file.reset_index(drop=True)"
   ]
  },
  {
   "cell_type": "markdown",
   "metadata": {},
   "source": [
    "Visualing the data after cleaning the errors"
   ]
  },
  {
   "cell_type": "code",
   "execution_count": 89,
   "metadata": {},
   "outputs": [
    {
     "data": {
      "image/png": "[encoded data removed]",
      "text/plain": [
       "<Figure size 432x288 with 1 Axes>"
      ]
     },
     "metadata": {},
     "output_type": "display_data"
    },
    {
     "data": {
      "image/png": "[encoded data removed]",
      "text/plain": [
       "<Figure size 432x288 with 1 Axes>"
      ]
     },
     "metadata": {},
     "output_type": "display_data"
    },
    {
     "data": {
      "image/png": "[encoded data removed]",
      "text/plain": [
       "<Figure size 432x288 with 1 Axes>"
      ]
     },
     "metadata": {},
     "output_type": "display_data"
    },
    {
     "data": {
      "application/javascript": [
       "\n",
       "            setTimeout(function() {\n",
       "                var nbb_cell_id = 89;\n",
       "                var nbb_unformatted_code = \"for i in scatter_configs:\\n    draw_scatter(*i)\";\n",
       "                var nbb_formatted_code = \"for i in scatter_configs:\\n    draw_scatter(*i)\";\n",
       "                var nbb_cells = Jupyter.notebook.get_cells();\n",
       "                for (var i = 0; i < nbb_cells.length; ++i) {\n",
       "                    if (nbb_cells[i].input_prompt_number == nbb_cell_id) {\n",
       "                        if (nbb_cells[i].get_text() == nbb_unformatted_code) {\n",
       "                             nbb_cells[i].set_text(nbb_formatted_code);\n",
       "                        }\n",
       "                        break;\n",
       "                    }\n",
       "                }\n",
       "            }, 500);\n",
       "            "
      ],
      "text/plain": [
       "<IPython.core.display.Javascript object>"
      ]
     },
     "metadata": {},
     "output_type": "display_data"
    }
   ],
   "source": [
    "for i in scatter_configs:\n",
    "    draw_scatter(*i)"
   ]
  },
  {
   "cell_type": "markdown",
   "metadata": {},
   "source": [
    "**Conclusions:** Age and Average Grade columns show a slight positive correlation for Males in the visualizations, therefore, the correlations are calculated below "
   ]
  },
  {
   "cell_type": "code",
   "execution_count": 26,
   "metadata": {},
   "outputs": [
    {
     "data": {
      "text/plain": [
       "0.08441444947624857"
      ]
     },
     "execution_count": 26,
     "metadata": {},
     "output_type": "execute_result"
    },
    {
     "data": {
      "application/javascript": [
       "\n",
       "            setTimeout(function() {\n",
       "                var nbb_cell_id = 26;\n",
       "                var nbb_unformatted_code = \"man = file[file[\\\"Gender\\\"] == \\\"Man\\\"]\\nage_grade_correlation_males = man[\\\"Age_by_birth_year\\\"].corr(man[\\\"Average_grade\\\"])\\nage_grade_correlation_males\";\n",
       "                var nbb_formatted_code = \"man = file[file[\\\"Gender\\\"] == \\\"Man\\\"]\\nage_grade_correlation_males = man[\\\"Age_by_birth_year\\\"].corr(man[\\\"Average_grade\\\"])\\nage_grade_correlation_males\";\n",
       "                var nbb_cells = Jupyter.notebook.get_cells();\n",
       "                for (var i = 0; i < nbb_cells.length; ++i) {\n",
       "                    if (nbb_cells[i].input_prompt_number == nbb_cell_id) {\n",
       "                        if (nbb_cells[i].get_text() == nbb_unformatted_code) {\n",
       "                             nbb_cells[i].set_text(nbb_formatted_code);\n",
       "                        }\n",
       "                        break;\n",
       "                    }\n",
       "                }\n",
       "            }, 500);\n",
       "            "
      ],
      "text/plain": [
       "<IPython.core.display.Javascript object>"
      ]
     },
     "metadata": {},
     "output_type": "display_data"
    }
   ],
   "source": [
    "man = file[file[\"Gender\"] == \"Man\"]\n",
    "age_grade_correlation_males = man[\"Age_by_birth_year\"].corr(man[\"Average_grade\"])\n",
    "age_grade_correlation_males"
   ]
  },
  {
   "cell_type": "code",
   "execution_count": 27,
   "metadata": {},
   "outputs": [
    {
     "data": {
      "text/plain": [
       "0.06586744545992645"
      ]
     },
     "execution_count": 27,
     "metadata": {},
     "output_type": "execute_result"
    },
    {
     "data": {
      "application/javascript": [
       "\n",
       "            setTimeout(function() {\n",
       "                var nbb_cell_id = 27;\n",
       "                var nbb_unformatted_code = \"age_grade_correlation = file[\\\"Age_by_birth_year\\\"].corr(file[\\\"Average_grade\\\"])\\nage_grade_correlation\";\n",
       "                var nbb_formatted_code = \"age_grade_correlation = file[\\\"Age_by_birth_year\\\"].corr(file[\\\"Average_grade\\\"])\\nage_grade_correlation\";\n",
       "                var nbb_cells = Jupyter.notebook.get_cells();\n",
       "                for (var i = 0; i < nbb_cells.length; ++i) {\n",
       "                    if (nbb_cells[i].input_prompt_number == nbb_cell_id) {\n",
       "                        if (nbb_cells[i].get_text() == nbb_unformatted_code) {\n",
       "                             nbb_cells[i].set_text(nbb_formatted_code);\n",
       "                        }\n",
       "                        break;\n",
       "                    }\n",
       "                }\n",
       "            }, 500);\n",
       "            "
      ],
      "text/plain": [
       "<IPython.core.display.Javascript object>"
      ]
     },
     "metadata": {},
     "output_type": "display_data"
    }
   ],
   "source": [
    "age_grade_correlation = file[\"Age_by_birth_year\"].corr(file[\"Average_grade\"])\n",
    "age_grade_correlation"
   ]
  },
  {
   "cell_type": "markdown",
   "metadata": {},
   "source": [
    "Calculating all possible correlations in the data above the strength of 0.5"
   ]
  },
  {
   "cell_type": "code",
   "execution_count": 37,
   "metadata": {},
   "outputs": [
    {
     "data": {
      "text/html": [
       "<div>\n",
       "<style scoped>\n",
       "    .dataframe tbody tr th:only-of-type {\n",
       "        vertical-align: middle;\n",
       "    }\n",
       "\n",
       "    .dataframe tbody tr th {\n",
       "        vertical-align: top;\n",
       "    }\n",
       "\n",
       "    .dataframe thead th {\n",
       "        text-align: right;\n",
       "    }\n",
       "</style>\n",
       "<table border=\"1\" class=\"dataframe\">\n",
       "  <thead>\n",
       "    <tr style=\"text-align: right;\">\n",
       "      <th></th>\n",
       "      <th>Kids</th>\n",
       "      <th>Average_grade</th>\n",
       "      <th>Age_by_birth_year</th>\n",
       "      <th>Modules_num</th>\n",
       "    </tr>\n",
       "  </thead>\n",
       "  <tbody>\n",
       "    <tr>\n",
       "      <th>Kids</th>\n",
       "      <td>1.000000</td>\n",
       "      <td>NaN</td>\n",
       "      <td>0.081854</td>\n",
       "      <td>NaN</td>\n",
       "    </tr>\n",
       "    <tr>\n",
       "      <th>Birth_year</th>\n",
       "      <td>-0.081854</td>\n",
       "      <td>-0.065867</td>\n",
       "      <td>-1.000000</td>\n",
       "      <td>-0.128769</td>\n",
       "    </tr>\n",
       "    <tr>\n",
       "      <th>Modules_num</th>\n",
       "      <td>NaN</td>\n",
       "      <td>-0.156785</td>\n",
       "      <td>0.128769</td>\n",
       "      <td>1.000000</td>\n",
       "    </tr>\n",
       "    <tr>\n",
       "      <th>Average_grade</th>\n",
       "      <td>NaN</td>\n",
       "      <td>1.000000</td>\n",
       "      <td>0.065867</td>\n",
       "      <td>-0.156785</td>\n",
       "    </tr>\n",
       "    <tr>\n",
       "      <th>Prediction_grade</th>\n",
       "      <td>-0.050096</td>\n",
       "      <td>0.061169</td>\n",
       "      <td>NaN</td>\n",
       "      <td>-0.231460</td>\n",
       "    </tr>\n",
       "    <tr>\n",
       "      <th>Height_cm</th>\n",
       "      <td>NaN</td>\n",
       "      <td>0.087863</td>\n",
       "      <td>NaN</td>\n",
       "      <td>NaN</td>\n",
       "    </tr>\n",
       "    <tr>\n",
       "      <th>Age_by_birth_year</th>\n",
       "      <td>0.081854</td>\n",
       "      <td>0.065867</td>\n",
       "      <td>1.000000</td>\n",
       "      <td>0.128769</td>\n",
       "    </tr>\n",
       "  </tbody>\n",
       "</table>\n",
       "</div>"
      ],
      "text/plain": [
       "                       Kids  Average_grade  Age_by_birth_year  Modules_num\n",
       "Kids               1.000000            NaN           0.081854          NaN\n",
       "Birth_year        -0.081854      -0.065867          -1.000000    -0.128769\n",
       "Modules_num             NaN      -0.156785           0.128769     1.000000\n",
       "Average_grade           NaN       1.000000           0.065867    -0.156785\n",
       "Prediction_grade  -0.050096       0.061169                NaN    -0.231460\n",
       "Height_cm               NaN       0.087863                NaN          NaN\n",
       "Age_by_birth_year  0.081854       0.065867           1.000000     0.128769"
      ]
     },
     "execution_count": 37,
     "metadata": {},
     "output_type": "execute_result"
    },
    {
     "data": {
      "application/javascript": [
       "\n",
       "            setTimeout(function() {\n",
       "                var nbb_cell_id = 37;\n",
       "                var nbb_unformatted_code = \"file.corr()[[\\\"Kids\\\", \\\"Average_grade\\\", \\\"Age_by_birth_year\\\", \\\"Modules_num\\\"]][\\n    (file.corr()[[\\\"Kids\\\", \\\"Average_grade\\\", \\\"Age_by_birth_year\\\", \\\"Modules_num\\\"]] >= 0.05) | (file.corr()[[\\\"Kids\\\", \\\"Average_grade\\\", \\\"Age_by_birth_year\\\", \\\"Modules_num\\\"]] <= -0.05)\\n]\";\n",
       "                var nbb_formatted_code = \"file.corr()[[\\\"Kids\\\", \\\"Average_grade\\\", \\\"Age_by_birth_year\\\", \\\"Modules_num\\\"]][\\n    (file.corr()[[\\\"Kids\\\", \\\"Average_grade\\\", \\\"Age_by_birth_year\\\", \\\"Modules_num\\\"]] >= 0.05)\\n    | (\\n        file.corr()[[\\\"Kids\\\", \\\"Average_grade\\\", \\\"Age_by_birth_year\\\", \\\"Modules_num\\\"]]\\n        <= -0.05\\n    )\\n]\";\n",
       "                var nbb_cells = Jupyter.notebook.get_cells();\n",
       "                for (var i = 0; i < nbb_cells.length; ++i) {\n",
       "                    if (nbb_cells[i].input_prompt_number == nbb_cell_id) {\n",
       "                        if (nbb_cells[i].get_text() == nbb_unformatted_code) {\n",
       "                             nbb_cells[i].set_text(nbb_formatted_code);\n",
       "                        }\n",
       "                        break;\n",
       "                    }\n",
       "                }\n",
       "            }, 500);\n",
       "            "
      ],
      "text/plain": [
       "<IPython.core.display.Javascript object>"
      ]
     },
     "metadata": {},
     "output_type": "display_data"
    }
   ],
   "source": [
    "file.corr()[[\"Kids\", \"Average_grade\", \"Age_by_birth_year\", \"Modules_num\"]][\n",
    "    (file.corr()[[\"Kids\", \"Average_grade\", \"Age_by_birth_year\", \"Modules_num\"]] >= 0.05)\n",
    "    | (\n",
    "        file.corr()[[\"Kids\", \"Average_grade\", \"Age_by_birth_year\", \"Modules_num\"]]\n",
    "        <= -0.05\n",
    "    )\n",
    "]"
   ]
  },
  {
   "cell_type": "code",
   "execution_count": 40,
   "metadata": {},
   "outputs": [
    {
     "data": {
      "text/plain": [
       "Index(['Start_time', 'End_time', 'Gender', 'Age', 'City', 'Kids', 'Birth_year',\n",
       "       'Modules_num', 'Average_grade', 'Prediction_grade', 'Enjoy_data',\n",
       "       'Excited_data', 'Afraid_data', 'Interested_DA', 'Work_hard',\n",
       "       'Height_cm', 'Height_relative', 'Age_by_birth_year'],\n",
       "      dtype='object')"
      ]
     },
     "execution_count": 40,
     "metadata": {},
     "output_type": "execute_result"
    },
    {
     "data": {
      "application/javascript": [
       "\n",
       "            setTimeout(function() {\n",
       "                var nbb_cell_id = 40;\n",
       "                var nbb_unformatted_code = \"file.columns\";\n",
       "                var nbb_formatted_code = \"file.columns\";\n",
       "                var nbb_cells = Jupyter.notebook.get_cells();\n",
       "                for (var i = 0; i < nbb_cells.length; ++i) {\n",
       "                    if (nbb_cells[i].input_prompt_number == nbb_cell_id) {\n",
       "                        if (nbb_cells[i].get_text() == nbb_unformatted_code) {\n",
       "                             nbb_cells[i].set_text(nbb_formatted_code);\n",
       "                        }\n",
       "                        break;\n",
       "                    }\n",
       "                }\n",
       "            }, 500);\n",
       "            "
      ],
      "text/plain": [
       "<IPython.core.display.Javascript object>"
      ]
     },
     "metadata": {},
     "output_type": "display_data"
    }
   ],
   "source": [
    "file.columns"
   ]
  },
  {
   "cell_type": "markdown",
   "metadata": {},
   "source": [
    "Replacing categorical data with number encodings in order to calculate correlations"
   ]
  },
  {
   "cell_type": "code",
   "execution_count": 65,
   "metadata": {},
   "outputs": [
    {
     "data": {
      "text/plain": [
       "Man      60\n",
       "Woman    42\n",
       "Name: Gender, dtype: int64"
      ]
     },
     "execution_count": 65,
     "metadata": {},
     "output_type": "execute_result"
    },
    {
     "data": {
      "application/javascript": [
       "\n",
       "            setTimeout(function() {\n",
       "                var nbb_cell_id = 65;\n",
       "                var nbb_unformatted_code = \"file[\\\"Gender\\\"].value_counts()\";\n",
       "                var nbb_formatted_code = \"file[\\\"Gender\\\"].value_counts()\";\n",
       "                var nbb_cells = Jupyter.notebook.get_cells();\n",
       "                for (var i = 0; i < nbb_cells.length; ++i) {\n",
       "                    if (nbb_cells[i].input_prompt_number == nbb_cell_id) {\n",
       "                        if (nbb_cells[i].get_text() == nbb_unformatted_code) {\n",
       "                             nbb_cells[i].set_text(nbb_formatted_code);\n",
       "                        }\n",
       "                        break;\n",
       "                    }\n",
       "                }\n",
       "            }, 500);\n",
       "            "
      ],
      "text/plain": [
       "<IPython.core.display.Javascript object>"
      ]
     },
     "metadata": {},
     "output_type": "display_data"
    }
   ],
   "source": [
    "file[\"Gender\"].value_counts()"
   ]
  },
  {
   "cell_type": "code",
   "execution_count": 92,
   "metadata": {
    "scrolled": true
   },
   "outputs": [
    {
     "data": {
      "text/plain": [
       "0    60\n",
       "1    42\n",
       "Name: Gender, dtype: int64"
      ]
     },
     "execution_count": 92,
     "metadata": {},
     "output_type": "execute_result"
    },
    {
     "data": {
      "application/javascript": [
       "\n",
       "            setTimeout(function() {\n",
       "                var nbb_cell_id = 92;\n",
       "                var nbb_unformatted_code = \"file[\\\"Gender\\\"] = file[\\\"Gender\\\"].astype(\\\"category\\\")\\nfile[\\\"Gender\\\"] = file[\\\"Gender\\\"].cat.rename_categories([0, 1])\\nfile[\\\"Gender\\\"].value_counts()\";\n",
       "                var nbb_formatted_code = \"file[\\\"Gender\\\"] = file[\\\"Gender\\\"].astype(\\\"category\\\")\\nfile[\\\"Gender\\\"] = file[\\\"Gender\\\"].cat.rename_categories([0, 1])\\nfile[\\\"Gender\\\"].value_counts()\";\n",
       "                var nbb_cells = Jupyter.notebook.get_cells();\n",
       "                for (var i = 0; i < nbb_cells.length; ++i) {\n",
       "                    if (nbb_cells[i].input_prompt_number == nbb_cell_id) {\n",
       "                        if (nbb_cells[i].get_text() == nbb_unformatted_code) {\n",
       "                             nbb_cells[i].set_text(nbb_formatted_code);\n",
       "                        }\n",
       "                        break;\n",
       "                    }\n",
       "                }\n",
       "            }, 500);\n",
       "            "
      ],
      "text/plain": [
       "<IPython.core.display.Javascript object>"
      ]
     },
     "metadata": {},
     "output_type": "display_data"
    }
   ],
   "source": [
    "file[\"Gender\"] = file[\"Gender\"].astype(\"category\")\n",
    "file[\"Gender\"] = file[\"Gender\"].cat.rename_categories([0, 1])\n",
    "file[\"Gender\"].value_counts()"
   ]
  },
  {
   "cell_type": "code",
   "execution_count": 93,
   "metadata": {
    "scrolled": true
   },
   "outputs": [
    {
     "data": {
      "text/plain": [
       "-0.0059261538632224085"
      ]
     },
     "execution_count": 93,
     "metadata": {},
     "output_type": "execute_result"
    },
    {
     "data": {
      "application/javascript": [
       "\n",
       "            setTimeout(function() {\n",
       "                var nbb_cell_id = 93;\n",
       "                var nbb_unformatted_code = \"file[\\\"Gender\\\"].corr(file[\\\"Average_grade\\\"])\";\n",
       "                var nbb_formatted_code = \"file[\\\"Gender\\\"].corr(file[\\\"Average_grade\\\"])\";\n",
       "                var nbb_cells = Jupyter.notebook.get_cells();\n",
       "                for (var i = 0; i < nbb_cells.length; ++i) {\n",
       "                    if (nbb_cells[i].input_prompt_number == nbb_cell_id) {\n",
       "                        if (nbb_cells[i].get_text() == nbb_unformatted_code) {\n",
       "                             nbb_cells[i].set_text(nbb_formatted_code);\n",
       "                        }\n",
       "                        break;\n",
       "                    }\n",
       "                }\n",
       "            }, 500);\n",
       "            "
      ],
      "text/plain": [
       "<IPython.core.display.Javascript object>"
      ]
     },
     "metadata": {},
     "output_type": "display_data"
    }
   ],
   "source": [
    "file[\"Gender\"].corr(file[\"Average_grade\"])"
   ]
  },
  {
   "cell_type": "code",
   "execution_count": 94,
   "metadata": {},
   "outputs": [
    {
     "data": {
      "text/plain": [
       "1    56\n",
       "0    38\n",
       "3     7\n",
       "2     1\n",
       "Name: Interested_DA, dtype: int64"
      ]
     },
     "execution_count": 94,
     "metadata": {},
     "output_type": "execute_result"
    },
    {
     "data": {
      "application/javascript": [
       "\n",
       "            setTimeout(function() {\n",
       "                var nbb_cell_id = 94;\n",
       "                var nbb_unformatted_code = \"file[\\\"Interested_DA\\\"].value_counts()\";\n",
       "                var nbb_formatted_code = \"file[\\\"Interested_DA\\\"].value_counts()\";\n",
       "                var nbb_cells = Jupyter.notebook.get_cells();\n",
       "                for (var i = 0; i < nbb_cells.length; ++i) {\n",
       "                    if (nbb_cells[i].input_prompt_number == nbb_cell_id) {\n",
       "                        if (nbb_cells[i].get_text() == nbb_unformatted_code) {\n",
       "                             nbb_cells[i].set_text(nbb_formatted_code);\n",
       "                        }\n",
       "                        break;\n",
       "                    }\n",
       "                }\n",
       "            }, 500);\n",
       "            "
      ],
      "text/plain": [
       "<IPython.core.display.Javascript object>"
      ]
     },
     "metadata": {},
     "output_type": "display_data"
    }
   ],
   "source": [
    "file[\"Interested_DA\"].value_counts()"
   ]
  },
  {
   "cell_type": "code",
   "execution_count": 95,
   "metadata": {},
   "outputs": [
    {
     "data": {
      "text/plain": [
       "1    56\n",
       "0    38\n",
       "3     7\n",
       "2     1\n",
       "Name: Interested_DA, dtype: int64"
      ]
     },
     "execution_count": 95,
     "metadata": {},
     "output_type": "execute_result"
    },
    {
     "data": {
      "application/javascript": [
       "\n",
       "            setTimeout(function() {\n",
       "                var nbb_cell_id = 95;\n",
       "                var nbb_unformatted_code = \"file[\\\"Interested_DA\\\"] = file[\\\"Interested_DA\\\"].astype(\\\"category\\\")\\nfile[\\\"Interested_DA\\\"] = file[\\\"Interested_DA\\\"].cat.rename_categories([0, 1, 2, 3])\\nfile[\\\"Interested_DA\\\"].value_counts()\";\n",
       "                var nbb_formatted_code = \"file[\\\"Interested_DA\\\"] = file[\\\"Interested_DA\\\"].astype(\\\"category\\\")\\nfile[\\\"Interested_DA\\\"] = file[\\\"Interested_DA\\\"].cat.rename_categories([0, 1, 2, 3])\\nfile[\\\"Interested_DA\\\"].value_counts()\";\n",
       "                var nbb_cells = Jupyter.notebook.get_cells();\n",
       "                for (var i = 0; i < nbb_cells.length; ++i) {\n",
       "                    if (nbb_cells[i].input_prompt_number == nbb_cell_id) {\n",
       "                        if (nbb_cells[i].get_text() == nbb_unformatted_code) {\n",
       "                             nbb_cells[i].set_text(nbb_formatted_code);\n",
       "                        }\n",
       "                        break;\n",
       "                    }\n",
       "                }\n",
       "            }, 500);\n",
       "            "
      ],
      "text/plain": [
       "<IPython.core.display.Javascript object>"
      ]
     },
     "metadata": {},
     "output_type": "display_data"
    }
   ],
   "source": [
    "file[\"Interested_DA\"] = file[\"Interested_DA\"].astype(\"category\")\n",
    "file[\"Interested_DA\"] = file[\"Interested_DA\"].cat.rename_categories([0, 1, 2, 3])\n",
    "file[\"Interested_DA\"].value_counts()"
   ]
  },
  {
   "cell_type": "code",
   "execution_count": 79,
   "metadata": {
    "scrolled": true
   },
   "outputs": [
    {
     "data": {
      "text/plain": [
       "0.03763123255398819"
      ]
     },
     "execution_count": 79,
     "metadata": {},
     "output_type": "execute_result"
    },
    {
     "data": {
      "application/javascript": [
       "\n",
       "            setTimeout(function() {\n",
       "                var nbb_cell_id = 79;\n",
       "                var nbb_unformatted_code = \"file[\\\"Gender\\\"].corr(file[\\\"Interested_DA\\\"])\";\n",
       "                var nbb_formatted_code = \"file[\\\"Gender\\\"].corr(file[\\\"Interested_DA\\\"])\";\n",
       "                var nbb_cells = Jupyter.notebook.get_cells();\n",
       "                for (var i = 0; i < nbb_cells.length; ++i) {\n",
       "                    if (nbb_cells[i].input_prompt_number == nbb_cell_id) {\n",
       "                        if (nbb_cells[i].get_text() == nbb_unformatted_code) {\n",
       "                             nbb_cells[i].set_text(nbb_formatted_code);\n",
       "                        }\n",
       "                        break;\n",
       "                    }\n",
       "                }\n",
       "            }, 500);\n",
       "            "
      ],
      "text/plain": [
       "<IPython.core.display.Javascript object>"
      ]
     },
     "metadata": {},
     "output_type": "display_data"
    }
   ],
   "source": [
    "file[\"Gender\"].corr(file[\"Interested_DA\"])"
   ]
  },
  {
   "cell_type": "code",
   "execution_count": 100,
   "metadata": {},
   "outputs": [
    {
     "data": {
      "text/plain": [
       "Agree               54\n",
       "Completely Agree    36\n",
       "Disagree            10\n",
       "Meh                  2\n",
       "Name: Enjoy_data, dtype: int64"
      ]
     },
     "execution_count": 100,
     "metadata": {},
     "output_type": "execute_result"
    },
    {
     "data": {
      "application/javascript": [
       "\n",
       "            setTimeout(function() {\n",
       "                var nbb_cell_id = 100;\n",
       "                var nbb_unformatted_code = \"file[\\\"Enjoy_data\\\"].value_counts()\";\n",
       "                var nbb_formatted_code = \"file[\\\"Enjoy_data\\\"].value_counts()\";\n",
       "                var nbb_cells = Jupyter.notebook.get_cells();\n",
       "                for (var i = 0; i < nbb_cells.length; ++i) {\n",
       "                    if (nbb_cells[i].input_prompt_number == nbb_cell_id) {\n",
       "                        if (nbb_cells[i].get_text() == nbb_unformatted_code) {\n",
       "                             nbb_cells[i].set_text(nbb_formatted_code);\n",
       "                        }\n",
       "                        break;\n",
       "                    }\n",
       "                }\n",
       "            }, 500);\n",
       "            "
      ],
      "text/plain": [
       "<IPython.core.display.Javascript object>"
      ]
     },
     "metadata": {},
     "output_type": "display_data"
    }
   ],
   "source": [
    "file[\"Enjoy_data\"].value_counts()"
   ]
  },
  {
   "cell_type": "code",
   "execution_count": 97,
   "metadata": {},
   "outputs": [
    {
     "data": {
      "text/plain": [
       "0    54\n",
       "1    36\n",
       "3    10\n",
       "2     2\n",
       "Name: Enjoy_data, dtype: int64"
      ]
     },
     "execution_count": 97,
     "metadata": {},
     "output_type": "execute_result"
    },
    {
     "data": {
      "application/javascript": [
       "\n",
       "            setTimeout(function() {\n",
       "                var nbb_cell_id = 97;\n",
       "                var nbb_unformatted_code = \"file[\\\"Enjoy_data\\\"] = file[\\\"Enjoy_data\\\"].astype(\\\"category\\\")\\nfile[\\\"Enjoy_data\\\"] = file[\\\"Enjoy_data\\\"].cat.rename_categories([0, 1, 2, 3])\\nfile[\\\"Enjoy_data\\\"].value_counts()\";\n",
       "                var nbb_formatted_code = \"file[\\\"Enjoy_data\\\"] = file[\\\"Enjoy_data\\\"].astype(\\\"category\\\")\\nfile[\\\"Enjoy_data\\\"] = file[\\\"Enjoy_data\\\"].cat.rename_categories([0, 1, 2, 3])\\nfile[\\\"Enjoy_data\\\"].value_counts()\";\n",
       "                var nbb_cells = Jupyter.notebook.get_cells();\n",
       "                for (var i = 0; i < nbb_cells.length; ++i) {\n",
       "                    if (nbb_cells[i].input_prompt_number == nbb_cell_id) {\n",
       "                        if (nbb_cells[i].get_text() == nbb_unformatted_code) {\n",
       "                             nbb_cells[i].set_text(nbb_formatted_code);\n",
       "                        }\n",
       "                        break;\n",
       "                    }\n",
       "                }\n",
       "            }, 500);\n",
       "            "
      ],
      "text/plain": [
       "<IPython.core.display.Javascript object>"
      ]
     },
     "metadata": {},
     "output_type": "display_data"
    }
   ],
   "source": [
    "file[\"Enjoy_data\"] = file[\"Enjoy_data\"].astype(\"category\")\n",
    "file[\"Enjoy_data\"] = file[\"Enjoy_data\"].cat.rename_categories([0, 1, 2, 3])\n",
    "file[\"Enjoy_data\"].value_counts()"
   ]
  },
  {
   "cell_type": "code",
   "execution_count": 98,
   "metadata": {},
   "outputs": [
    {
     "data": {
      "text/plain": [
       "0.24252376983791044"
      ]
     },
     "execution_count": 98,
     "metadata": {},
     "output_type": "execute_result"
    },
    {
     "data": {
      "application/javascript": [
       "\n",
       "            setTimeout(function() {\n",
       "                var nbb_cell_id = 98;\n",
       "                var nbb_unformatted_code = \"file[\\\"Gender\\\"].corr(file[\\\"Enjoy_data\\\"])\";\n",
       "                var nbb_formatted_code = \"file[\\\"Gender\\\"].corr(file[\\\"Enjoy_data\\\"])\";\n",
       "                var nbb_cells = Jupyter.notebook.get_cells();\n",
       "                for (var i = 0; i < nbb_cells.length; ++i) {\n",
       "                    if (nbb_cells[i].input_prompt_number == nbb_cell_id) {\n",
       "                        if (nbb_cells[i].get_text() == nbb_unformatted_code) {\n",
       "                             nbb_cells[i].set_text(nbb_formatted_code);\n",
       "                        }\n",
       "                        break;\n",
       "                    }\n",
       "                }\n",
       "            }, 500);\n",
       "            "
      ],
      "text/plain": [
       "<IPython.core.display.Javascript object>"
      ]
     },
     "metadata": {},
     "output_type": "display_data"
    }
   ],
   "source": [
    "file[\"Gender\"].corr(file[\"Enjoy_data\"])"
   ]
  },
  {
   "cell_type": "markdown",
   "metadata": {},
   "source": [
    "Renaming the categories back not to interrupt other algorithms"
   ]
  },
  {
   "cell_type": "code",
   "execution_count": 91,
   "metadata": {},
   "outputs": [
    {
     "data": {
      "application/javascript": [
       "\n",
       "            setTimeout(function() {\n",
       "                var nbb_cell_id = 91;\n",
       "                var nbb_unformatted_code = \"file[\\\"Gender\\\"] = file[\\\"Gender\\\"].cat.rename_categories([\\\"Man\\\", \\\"Woman\\\"])\";\n",
       "                var nbb_formatted_code = \"file[\\\"Gender\\\"] = file[\\\"Gender\\\"].cat.rename_categories([\\\"Man\\\", \\\"Woman\\\"])\";\n",
       "                var nbb_cells = Jupyter.notebook.get_cells();\n",
       "                for (var i = 0; i < nbb_cells.length; ++i) {\n",
       "                    if (nbb_cells[i].input_prompt_number == nbb_cell_id) {\n",
       "                        if (nbb_cells[i].get_text() == nbb_unformatted_code) {\n",
       "                             nbb_cells[i].set_text(nbb_formatted_code);\n",
       "                        }\n",
       "                        break;\n",
       "                    }\n",
       "                }\n",
       "            }, 500);\n",
       "            "
      ],
      "text/plain": [
       "<IPython.core.display.Javascript object>"
      ]
     },
     "metadata": {},
     "output_type": "display_data"
    }
   ],
   "source": [
    "file[\"Gender\"] = file[\"Gender\"].cat.rename_categories([\"Man\", \"Woman\"])"
   ]
  },
  {
   "cell_type": "code",
   "execution_count": 99,
   "metadata": {},
   "outputs": [
    {
     "data": {
      "application/javascript": [
       "\n",
       "            setTimeout(function() {\n",
       "                var nbb_cell_id = 99;\n",
       "                var nbb_unformatted_code = \"file[\\\"Enjoy_data\\\"] = file[\\\"Enjoy_data\\\"].cat.rename_categories([\\\"Agree\\\", \\\"Completely Agree\\\", \\\"Meh\\\", \\\"Disagree\\\"])\";\n",
       "                var nbb_formatted_code = \"file[\\\"Enjoy_data\\\"] = file[\\\"Enjoy_data\\\"].cat.rename_categories(\\n    [\\\"Agree\\\", \\\"Completely Agree\\\", \\\"Meh\\\", \\\"Disagree\\\"]\\n)\";\n",
       "                var nbb_cells = Jupyter.notebook.get_cells();\n",
       "                for (var i = 0; i < nbb_cells.length; ++i) {\n",
       "                    if (nbb_cells[i].input_prompt_number == nbb_cell_id) {\n",
       "                        if (nbb_cells[i].get_text() == nbb_unformatted_code) {\n",
       "                             nbb_cells[i].set_text(nbb_formatted_code);\n",
       "                        }\n",
       "                        break;\n",
       "                    }\n",
       "                }\n",
       "            }, 500);\n",
       "            "
      ],
      "text/plain": [
       "<IPython.core.display.Javascript object>"
      ]
     },
     "metadata": {},
     "output_type": "display_data"
    }
   ],
   "source": [
    "file[\"Enjoy_data\"] = file[\"Enjoy_data\"].cat.rename_categories(\n",
    "    [\"Agree\", \"Completely Agree\", \"Meh\", \"Disagree\"]\n",
    ")"
   ]
  },
  {
   "cell_type": "code",
   "execution_count": null,
   "metadata": {},
   "outputs": [],
   "source": [
    "file[\"Interested_DA\"] = file[\"Interested_DA\"].cat.rename_categories([0, 1, 2, 3])"
   ]
  },
  {
   "cell_type": "code",
   "execution_count": 87,
   "metadata": {},
   "outputs": [
    {
     "data": {
      "application/javascript": [
       "\n",
       "            setTimeout(function() {\n",
       "                var nbb_cell_id = 87;\n",
       "                var nbb_unformatted_code = \"scatter_configs_cor = [\\n    [\\n        \\\"Kids\\\",\\n        \\\"Age_by_birth_year\\\",\\n        \\\"Number of Kids\\\",\\n        \\\"Age\\\",\\n        \\\"Student Age vs Number of Kids\\\",\\n    ],\\n    [\\n        \\\"Modules_num\\\",\\n        \\\"Age_by_birth_year\\\",\\n        \\\"Number of Modules\\\",\\n        \\\"Age\\\",\\n        \\\"Student Age vs Number of Modules\\\",\\n    ],\\n    [\\n        \\\"Modules_num\\\",\\n        \\\"Prediction_grade\\\",\\n        \\\"Number of Modules\\\",\\n        \\\"Prediction Grade\\\",\\n        \\\"Number of Modules vs Prediction Grade\\\",\\n    ],\\n]\";\n",
       "                var nbb_formatted_code = \"scatter_configs_cor = [\\n    [\\n        \\\"Kids\\\",\\n        \\\"Age_by_birth_year\\\",\\n        \\\"Number of Kids\\\",\\n        \\\"Age\\\",\\n        \\\"Student Age vs Number of Kids\\\",\\n    ],\\n    [\\n        \\\"Modules_num\\\",\\n        \\\"Age_by_birth_year\\\",\\n        \\\"Number of Modules\\\",\\n        \\\"Age\\\",\\n        \\\"Student Age vs Number of Modules\\\",\\n    ],\\n    [\\n        \\\"Modules_num\\\",\\n        \\\"Prediction_grade\\\",\\n        \\\"Number of Modules\\\",\\n        \\\"Prediction Grade\\\",\\n        \\\"Number of Modules vs Prediction Grade\\\",\\n    ],\\n]\";\n",
       "                var nbb_cells = Jupyter.notebook.get_cells();\n",
       "                for (var i = 0; i < nbb_cells.length; ++i) {\n",
       "                    if (nbb_cells[i].input_prompt_number == nbb_cell_id) {\n",
       "                        if (nbb_cells[i].get_text() == nbb_unformatted_code) {\n",
       "                             nbb_cells[i].set_text(nbb_formatted_code);\n",
       "                        }\n",
       "                        break;\n",
       "                    }\n",
       "                }\n",
       "            }, 500);\n",
       "            "
      ],
      "text/plain": [
       "<IPython.core.display.Javascript object>"
      ]
     },
     "metadata": {},
     "output_type": "display_data"
    }
   ],
   "source": [
    "scatter_configs_cor = [\n",
    "    [\n",
    "        \"Kids\",\n",
    "        \"Age_by_birth_year\",\n",
    "        \"Number of Kids\",\n",
    "        \"Age\",\n",
    "        \"Student Age vs Number of Kids\",\n",
    "    ],\n",
    "    [\n",
    "        \"Modules_num\",\n",
    "        \"Age_by_birth_year\",\n",
    "        \"Number of Modules\",\n",
    "        \"Age\",\n",
    "        \"Student Age vs Number of Modules\",\n",
    "    ],\n",
    "    [\n",
    "        \"Modules_num\",\n",
    "        \"Prediction_grade\",\n",
    "        \"Number of Modules\",\n",
    "        \"Prediction Grade\",\n",
    "        \"Number of Modules vs Prediction Grade\",\n",
    "    ],\n",
    "]"
   ]
  },
  {
   "cell_type": "code",
   "execution_count": 88,
   "metadata": {},
   "outputs": [
    {
     "data": {
      "image/png": "[encoded data removed]",
      "text/plain": [
       "<Figure size 432x288 with 1 Axes>"
      ]
     },
     "metadata": {},
     "output_type": "display_data"
    },
    {
     "data": {
      "image/png": "[encoded data removed]",
      "text/plain": [
       "<Figure size 432x288 with 1 Axes>"
      ]
     },
     "metadata": {},
     "output_type": "display_data"
    },
    {
     "data": {
      "image/png": "[encoded data removed]",
      "text/plain": [
       "<Figure size 432x288 with 1 Axes>"
      ]
     },
     "metadata": {},
     "output_type": "display_data"
    },
    {
     "data": {
      "application/javascript": [
       "\n",
       "            setTimeout(function() {\n",
       "                var nbb_cell_id = 88;\n",
       "                var nbb_unformatted_code = \"for i in scatter_configs_cor:\\n    draw_scatter(*i)\";\n",
       "                var nbb_formatted_code = \"for i in scatter_configs_cor:\\n    draw_scatter(*i)\";\n",
       "                var nbb_cells = Jupyter.notebook.get_cells();\n",
       "                for (var i = 0; i < nbb_cells.length; ++i) {\n",
       "                    if (nbb_cells[i].input_prompt_number == nbb_cell_id) {\n",
       "                        if (nbb_cells[i].get_text() == nbb_unformatted_code) {\n",
       "                             nbb_cells[i].set_text(nbb_formatted_code);\n",
       "                        }\n",
       "                        break;\n",
       "                    }\n",
       "                }\n",
       "            }, 500);\n",
       "            "
      ],
      "text/plain": [
       "<IPython.core.display.Javascript object>"
      ]
     },
     "metadata": {},
     "output_type": "display_data"
    }
   ],
   "source": [
    "for i in scatter_configs_cor:\n",
    "    draw_scatter(*i)"
   ]
  },
  {
   "cell_type": "markdown",
   "metadata": {},
   "source": [
    "### Statistical Summaries"
   ]
  },
  {
   "cell_type": "code",
   "execution_count": null,
   "metadata": {},
   "outputs": [],
   "source": [
    "file.describe()"
   ]
  },
  {
   "cell_type": "code",
   "execution_count": null,
   "metadata": {
    "scrolled": true
   },
   "outputs": [],
   "source": [
    "file[\"Enjoy_data\"].describe()"
   ]
  },
  {
   "cell_type": "code",
   "execution_count": null,
   "metadata": {},
   "outputs": [],
   "source": [
    "file[\"Excited_data\"].describe()"
   ]
  },
  {
   "cell_type": "code",
   "execution_count": null,
   "metadata": {},
   "outputs": [],
   "source": [
    "file[\"Afraid_data\"].describe()"
   ]
  },
  {
   "cell_type": "code",
   "execution_count": null,
   "metadata": {},
   "outputs": [],
   "source": [
    "file[\"Interested_DA\"].describe()"
   ]
  },
  {
   "cell_type": "code",
   "execution_count": null,
   "metadata": {},
   "outputs": [],
   "source": [
    "file[\"Work_hard\"].describe()"
   ]
  },
  {
   "cell_type": "code",
   "execution_count": null,
   "metadata": {},
   "outputs": [],
   "source": [
    "file[\"Gender\"].describe()"
   ]
  },
  {
   "cell_type": "code",
   "execution_count": null,
   "metadata": {},
   "outputs": [],
   "source": [
    "file[\"Modules_num\"].describe()"
   ]
  },
  {
   "cell_type": "code",
   "execution_count": null,
   "metadata": {},
   "outputs": [],
   "source": [
    "file[\"Height_relative\"].describe()"
   ]
  },
  {
   "cell_type": "markdown",
   "metadata": {},
   "source": [
    "#### Pivot Tables\n",
    "##### Average Grade Stats by Gender"
   ]
  },
  {
   "cell_type": "code",
   "execution_count": null,
   "metadata": {},
   "outputs": [],
   "source": [
    "grouped_by_gender = file.groupby(\"Gender\")\n",
    "values = grouped_by_gender[[\"Average_grade\"]]\n",
    "gender_stats = values.agg([np.min, np.max, np.mean, np.std, np.median])\n",
    "gender_stats.columns = [\"Min\", \"Max\", \"Mean\", \"Standard Deviation\", \"Median\"]\n",
    "gender_stats.iloc[0] = [round(x, 1)for x in gender_stats.iloc[0]]\n",
    "gender_stats.iloc[1] = [round(x, 1)for x in gender_stats.iloc[1]]"
   ]
  },
  {
   "cell_type": "code",
   "execution_count": null,
   "metadata": {},
   "outputs": [],
   "source": [
    "color1 = 'white'\n",
    "color2 = 'lightgrey'\n",
    "header_color = \"lightblue\"\n",
    "values = gender_stats.columns, gender_stats.iloc[0], gender_stats.iloc[1]\n",
    "fig = go.Figure(data=[go.Table( \n",
    "    header=dict(values=[\"\",\"Males\", \"Females\"], \n",
    "                fill_color=header_color,\n",
    "                height = 50,\n",
    "                align=\"left\",\n",
    "                font=dict(family=\"Lato\", size=18)), \n",
    "    cells=dict(values=values,\n",
    "               align=\"left\", \n",
    "               height = 50, \n",
    "               font=dict(family=\"Lato\", size=20), \n",
    "               format=None, formatsrc=None,\n",
    "               fill_color = None\n",
    "              ))]) \n",
    "fig.update_layout(width=610, title=\"Average Grade Statistical Summaries\")\n",
    "fig.update_layout({\"margin\": {\"t\":50}})\n",
    "fig.show()"
   ]
  },
  {
   "cell_type": "markdown",
   "metadata": {},
   "source": [
    "##### Effect of Number of Kids on Average Grade"
   ]
  },
  {
   "cell_type": "code",
   "execution_count": null,
   "metadata": {},
   "outputs": [],
   "source": [
    "# create a method that groups by and counts agg stats\n",
    "grouped_by_kids = file.groupby(\"Kids\")\n",
    "values = grouped_by_kids[[\"Average_grade\"]]\n",
    "kids_stats = values.agg([np.min, np.max, np.mean, np.std, np.median])\n",
    "kids_stats\n",
    "# try without dropping min values for grades \n",
    "#draw box plots"
   ]
  },
  {
   "cell_type": "code",
   "execution_count": null,
   "metadata": {},
   "outputs": [],
   "source": [
    "grouped_by_excited = file.groupby(\"Excited_data\")\n",
    "values = grouped_by_excited[[\"Average_grade\"]]\n",
    "excited_stats = values.agg([np.min, np.max, np.mean, np.std])\n",
    "excited_stats"
   ]
  },
  {
   "cell_type": "code",
   "execution_count": null,
   "metadata": {},
   "outputs": [],
   "source": [
    "grouped_by_interested = file.groupby(\"Interested_DA\")\n",
    "values = grouped_by_interested[[\"Average_grade\"]]\n",
    "interested_stats = values.agg([np.min, np.max, np.mean, np.std])\n",
    "interested_stats"
   ]
  },
  {
   "cell_type": "markdown",
   "metadata": {},
   "source": [
    "#### Frequency Distributions"
   ]
  },
  {
   "cell_type": "code",
   "execution_count": null,
   "metadata": {},
   "outputs": [],
   "source": [
    "sns.kdeplot(file[\"Age_by_birth_year\"], shade=True).set(\n",
    "    title=\"Distribution of Student Age Ranges at RKC\")\n",
    "plt.xlabel(\"Age\")\n",
    "sns.despine(left=True, bottom=True)\n",
    "plt.show()"
   ]
  },
  {
   "cell_type": "code",
   "execution_count": null,
   "metadata": {},
   "outputs": [],
   "source": [
    "file[\"Gender\"].value_counts().plot.pie(rot=0, \n",
    "                                       title=\"Distribution of Students by Gender at RKC\", \n",
    "                                       autopct = '%.1f%%')\n",
    "plt.ylabel('')"
   ]
  },
  {
   "cell_type": "code",
   "execution_count": null,
   "metadata": {},
   "outputs": [],
   "source": []
  },
  {
   "cell_type": "code",
   "execution_count": null,
   "metadata": {},
   "outputs": [],
   "source": [
    "gender_counts = file[\"Gender\"].value_counts()"
   ]
  },
  {
   "cell_type": "code",
   "execution_count": null,
   "metadata": {},
   "outputs": [],
   "source": [
    "gender_counts = file[\"Gender\"].value_counts()\n",
    "\n",
    "fig = go.Figure()\n",
    "fig.add_trace(go.Indicator(\n",
    "    value = gender_counts[0],\n",
    "    title = \"Males\",\n",
    "    gauge = {\n",
    "        'axis': {'visible': False}},\n",
    "    domain = {'row': 0, 'column': 0}))\n",
    "fig.add_trace(go.Indicator(\n",
    "    value = gender_counts[1],\n",
    "    title=\"Females\",\n",
    "    gauge = {\n",
    "        'axis': {'visible': False}},\n",
    "    domain = {'row': 0, 'column': 1}))\n",
    "fig.update_layout(\n",
    "    grid = {'rows': 1, 'columns': 2, 'pattern': \"independent\"},\n",
    "    template = {'data' : {'indicator': [{\n",
    "        'delta' : {'reference': 90}}]}})"
   ]
  },
  {
   "cell_type": "markdown",
   "metadata": {},
   "source": [
    "Separating the grades according to grading scales and creating freq distr for grades"
   ]
  },
  {
   "cell_type": "markdown",
   "metadata": {},
   "source": [
    "Grades are difficult to visualize just by their unique value counts, therefore, the grades are grouped into ranges and then the frequency of grades in each range is calculated. The table of frequencies of ranges is visualized"
   ]
  },
  {
   "cell_type": "code",
   "execution_count": null,
   "metadata": {},
   "outputs": [],
   "source": [
    "intervals = pd.interval_range(start = 0, end = 100, freq = 10)\n",
    "grade_freq = pd.Series([0,0,0,0,0,0,0,0,0,0], index = intervals)\n",
    "\n",
    "for value in file[\"Average_grade\"]:\n",
    "    for i in intervals:\n",
    "        if value in i:\n",
    "            grade_freq.loc[i] +=1\n",
    "            break\n",
    "            \n",
    "grade_freq \n"
   ]
  },
  {
   "cell_type": "code",
   "execution_count": null,
   "metadata": {},
   "outputs": [],
   "source": [
    "grade_freq_df = pd.DataFrame([grade_freq.values], columns=[\"0-10\", \"11-20\", \"21-30\", \n",
    "                                                       \"31-40\", \"41-50\", \"51-60\", \"61-70\", \"71-80\", \"81-90\", \"91-100\"])\n",
    "grade_freq_df"
   ]
  },
  {
   "cell_type": "code",
   "execution_count": null,
   "metadata": {},
   "outputs": [],
   "source": [
    "grade_freq_df.plot.barh(title=\"Bar Chart of Frequency of Grade Ranges of Students at RKC\")\n",
    "plt.legend(loc='center', bbox_to_anchor=(1.19, 0.7))\n",
    "# Improve graph"
   ]
  },
  {
   "cell_type": "markdown",
   "metadata": {},
   "source": [
    "Another was of visualizing the grade ranges could be a Histogram, \n",
    "it is quicker to create, since it does not need a frequency table,\n",
    "and the ranges can be assigned automatically by using \"bins\""
   ]
  },
  {
   "cell_type": "code",
   "execution_count": null,
   "metadata": {},
   "outputs": [],
   "source": [
    "file[\"Average_grade\"].plot.hist(bins=10, title = \"Histogram of Frequency of Grade Ranges of Students at RKC\")"
   ]
  },
  {
   "cell_type": "markdown",
   "metadata": {},
   "source": [
    "#### Frequency Distribution of Ages"
   ]
  },
  {
   "cell_type": "code",
   "execution_count": null,
   "metadata": {},
   "outputs": [],
   "source": [
    "intervals = pd.interval_range(start = 25, end = 100, freq = 10)\n",
    "age_freq = pd.Series([0,0,0,0,0,0,0], index = intervals)\n",
    "\n",
    "for value in file[\"Age_by_birth_year\"]:\n",
    "    for i in intervals:\n",
    "        if value in i:\n",
    "            age_freq.loc[i] +=1\n",
    "            break\n",
    "            \n",
    "age_freq "
   ]
  },
  {
   "cell_type": "code",
   "execution_count": null,
   "metadata": {},
   "outputs": [],
   "source": [
    "## ( indicates non inclusive value, ] indicates inclusive, therefore, the names of the range start from 36, 46 and etc\n",
    "age_freq_df = pd.DataFrame([age_freq.values], columns=[\"25-35\", \"36-45\", \"46-55\", \n",
    "                                                       \"56-65\", \"66-75\", \"76-85\", \"86-95\"])\n",
    "age_freq_df"
   ]
  },
  {
   "cell_type": "code",
   "execution_count": null,
   "metadata": {},
   "outputs": [],
   "source": [
    "age_freq_df.plot.barh(title=\"Frequency of Age Ranges of Students at RKC\")"
   ]
  },
  {
   "cell_type": "markdown",
   "metadata": {},
   "source": [
    "The Histogram Visualization of Age Ranges:"
   ]
  },
  {
   "cell_type": "code",
   "execution_count": null,
   "metadata": {},
   "outputs": [],
   "source": [
    "file[\"Age_by_birth_year\"].plot.hist(range=(25,100),bins=10, title = \n",
    "                                    \"Histogram of Frequency of Age Ranges of Students at RKC\")"
   ]
  },
  {
   "cell_type": "markdown",
   "metadata": {},
   "source": [
    "This can be considered as a Normal Distribution. "
   ]
  },
  {
   "cell_type": "markdown",
   "metadata": {},
   "source": [
    "#### Frequency Distrbibution of Heights"
   ]
  },
  {
   "cell_type": "code",
   "execution_count": null,
   "metadata": {},
   "outputs": [],
   "source": [
    "intervals = pd.interval_range(start = 120, end = 210, freq = 10)\n",
    "height_freq = pd.Series([0,0,0,0,0,0,0,0,0], index = intervals)\n",
    "\n",
    "for value in file[\"Height_cm\"]:\n",
    "    for i in intervals:\n",
    "        if value in i:\n",
    "            height_freq.loc[i] +=1\n",
    "            break\n",
    "            \n",
    "height_freq"
   ]
  },
  {
   "cell_type": "code",
   "execution_count": null,
   "metadata": {},
   "outputs": [],
   "source": [
    "height_freq_df = pd.DataFrame([height_freq.values], columns=[\"120-130\", \"131-140\",\n",
    "                                                       \"141-150\", \"151-160\", \"161-170\", \"171-180\", \n",
    "                                                       \"181-190\", \"191-200\", \"201-210\"])\n",
    "height_freq_df"
   ]
  },
  {
   "cell_type": "code",
   "execution_count": null,
   "metadata": {},
   "outputs": [],
   "source": [
    "height_freq_df.plot.barh(title = \"Frequency of Height Ranges of Students at RKC\")\n",
    "plt.legend(loc='center', bbox_to_anchor=(1.19, 0.7))\n"
   ]
  },
  {
   "cell_type": "markdown",
   "metadata": {},
   "source": [
    "Histogram visualization of height ranges:"
   ]
  },
  {
   "cell_type": "code",
   "execution_count": null,
   "metadata": {},
   "outputs": [],
   "source": [
    "file[\"Height_cm\"].plot.hist(range=(100,210),bins=20, title = \n",
    "                                    \"Histogram of Frequency of Height Ranges of Students at RKC\")"
   ]
  },
  {
   "cell_type": "markdown",
   "metadata": {},
   "source": [
    "This can be considered as a Uniform Distribution."
   ]
  },
  {
   "cell_type": "markdown",
   "metadata": {},
   "source": [
    "#### Frequency Distrbibution by Gender to understand the Diversity of Students at RKC\n",
    "No ranges were created for this column because it contains only 2 nominal variables and \n",
    "it is easy to understand by simple count of unique values per each nominal variable "
   ]
  },
  {
   "cell_type": "code",
   "execution_count": null,
   "metadata": {},
   "outputs": [],
   "source": []
  },
  {
   "cell_type": "markdown",
   "metadata": {},
   "source": [
    "#### Frequency Distrbibution by Number of Kids of Students at RKC\n",
    "No ranges were created for this column because it contains only few variables and \n",
    "it is easy to understand by simple count of unique values variable "
   ]
  },
  {
   "cell_type": "code",
   "execution_count": null,
   "metadata": {},
   "outputs": [],
   "source": [
    "file[\"Kids\"].value_counts().plot.bar(rot=0, title=\"Distribution of Students by Amount of Kids at RKC\")"
   ]
  },
  {
   "cell_type": "markdown",
   "metadata": {},
   "source": [
    "Histogram view:"
   ]
  },
  {
   "cell_type": "code",
   "execution_count": null,
   "metadata": {},
   "outputs": [],
   "source": [
    "file[\"Kids\"].plot.hist(range=(0,5),bins=6, title = \n",
    "                                    \"Histogram of Distribution of Students by Amount of Kids at RKC\")"
   ]
  },
  {
   "cell_type": "markdown",
   "metadata": {},
   "source": [
    "This can be considered as a Positive Distribution (Right Skewed)"
   ]
  },
  {
   "cell_type": "markdown",
   "metadata": {},
   "source": [
    "#### Exploring the columns \"Enjoy_data\", \"Excited_data\", \"Afraid_data\", \"Interested_DA\" to visualize the interest of students in Data Analytics"
   ]
  },
  {
   "cell_type": "code",
   "execution_count": null,
   "metadata": {},
   "outputs": [],
   "source": [
    "file[\"Enjoy_data\"].value_counts()"
   ]
  },
  {
   "cell_type": "code",
   "execution_count": null,
   "metadata": {},
   "outputs": [],
   "source": [
    "enj_d_list = list(file[\"Enjoy_data\"].value_counts())"
   ]
  },
  {
   "cell_type": "code",
   "execution_count": null,
   "metadata": {},
   "outputs": [],
   "source": [
    "# creating a df for storing the frequencies\n",
    "enjoy_data_freq_df = pd.DataFrame([enj_d_list], columns=[\"Agree\", \"Completely Agree\", \"Meh\", \"Disagree\"])\n",
    "enjoy_data_freq_df"
   ]
  },
  {
   "cell_type": "code",
   "execution_count": null,
   "metadata": {},
   "outputs": [],
   "source": [
    "enjoy_data_freq_df.plot.bar(title = \"Distribution of Students who Enjoy Data\")\n",
    "\n",
    "#file[\"Enjoy_data\"].value_counts().plot.bar() #this graph was created to compare which one is nicer"
   ]
  },
  {
   "cell_type": "code",
   "execution_count": null,
   "metadata": {},
   "outputs": [],
   "source": [
    "file[\"Excited_data\"].value_counts()"
   ]
  },
  {
   "cell_type": "code",
   "execution_count": null,
   "metadata": {},
   "outputs": [],
   "source": [
    "exc_d_list = list(file[\"Excited_data\"].value_counts())\n",
    "exc_data_freq_df = pd.DataFrame([exc_d_list], columns=[\"Agree\", \"Completely Agree\", \"Meh\", \n",
    "                                                       \"Disagree\", \"Completely Disagree\"])\n",
    "exc_data_freq_df"
   ]
  },
  {
   "cell_type": "code",
   "execution_count": null,
   "metadata": {},
   "outputs": [],
   "source": [
    "exc_data_freq_df.plot.bar(title = \"Distribution of Students who is Excited about Data\")"
   ]
  },
  {
   "cell_type": "code",
   "execution_count": null,
   "metadata": {},
   "outputs": [],
   "source": [
    "file[\"Interested_DA\"].value_counts()"
   ]
  },
  {
   "cell_type": "code",
   "execution_count": null,
   "metadata": {},
   "outputs": [],
   "source": [
    "inter_d_list = list(file[\"Interested_DA\"].value_counts())\n",
    "inter_data_freq_df = pd.DataFrame([inter_d_list], columns=[\"Completely Agree\", \"Agree\", \"Meh\", \n",
    "                                                       \"Disagree\"])\n",
    "inter_data_freq_df"
   ]
  },
  {
   "cell_type": "code",
   "execution_count": null,
   "metadata": {},
   "outputs": [],
   "source": [
    "inter_data_freq_df.plot.bar(title = \"Distribution of Students who is Interested in Data Analytics\")"
   ]
  },
  {
   "cell_type": "code",
   "execution_count": null,
   "metadata": {},
   "outputs": [],
   "source": [
    "file[\"Afraid_data\"].value_counts()"
   ]
  },
  {
   "cell_type": "code",
   "execution_count": null,
   "metadata": {},
   "outputs": [],
   "source": [
    "afraid_d_list = list(file[\"Afraid_data\"].value_counts())\n",
    "afraid_data_freq_df = pd.DataFrame([afraid_d_list], columns=[\"Completely Disagree\", \"Disagree\", \"Meh\", \"Agree\", \n",
    "                                                       \"Completely Agree\"])\n",
    "afraid_data_freq_df"
   ]
  },
  {
   "cell_type": "code",
   "execution_count": null,
   "metadata": {},
   "outputs": [],
   "source": [
    "afraid_data_freq_df.plot.bar(title = \"Distribution of Students who is Afraid of Working with Data\")"
   ]
  },
  {
   "cell_type": "markdown",
   "metadata": {},
   "source": [
    "Conclusions: the majority of students at RKC enjoy and like working with data and are interested to learn about Data Analytics. \n",
    "    The majority of students are not afraid of data."
   ]
  },
  {
   "cell_type": "markdown",
   "metadata": {},
   "source": [
    "#### Displaying the head for Presentation Slides"
   ]
  },
  {
   "cell_type": "code",
   "execution_count": null,
   "metadata": {},
   "outputs": [],
   "source": [
    "display_file = file[[\"Gender\",\"Age_by_birth_year\", \"Kids\", \"Average_grade\", \"Excited_data\",\"Enjoy_data\"]].tail()\n",
    "display_file.columns = [\"Gender\", \"Age\", \"Number of Kids\", \"Average Grade\", \"Excited about Data\", \n",
    "                        \"Enjoy Working with Data\"]\n",
    "display_file.columns.tolist()"
   ]
  },
  {
   "cell_type": "code",
   "execution_count": null,
   "metadata": {},
   "outputs": [],
   "source": [
    "color1 = 'white'\n",
    "color2 = 'lightgrey'\n",
    "header_color = \"lightblue\"\n",
    "values = display_file.iloc[:,0], display_file.iloc[:,1], display_file.iloc[:,2], display_file.iloc[:,3], display_file.iloc[:,4], display_file.iloc[:,5]\n",
    "fig = go.Figure(data=[go.Table( \n",
    "    header=dict(values=display_file.columns.tolist(), \n",
    "                fill_color=header_color,\n",
    "                height = 50,\n",
    "                align=\"left\",\n",
    "                font=dict(family=\"Lato\", size=20)), \n",
    "    cells=dict(values=values,\n",
    "               align=\"left\", \n",
    "               height = 50, \n",
    "               font=dict(family=\"Lato\", size=20), \n",
    "               format=None, formatsrc=None,\n",
    "               fill_color = None\n",
    "              ))]) \n",
    "fig.update_layout(width=1100, height=1000, title=\"Data Preview\")\n",
    "fig.update_layout({\"margin\": {\"t\":50}})\n",
    "fig.show()"
   ]
  },
  {
   "cell_type": "markdown",
   "metadata": {},
   "source": [
    "## Hypothesis Testing"
   ]
  },
  {
   "cell_type": "markdown",
   "metadata": {},
   "source": [
    "### Permutation Tests"
   ]
  },
  {
   "cell_type": "markdown",
   "metadata": {},
   "source": [
    "- **Null Hypothesis: Elder females with kids and younger males with no kids perform equally good at academia**\n",
    "- **Hypothesis: Elder females with kids perform academically better than younger males with no kids**"
   ]
  },
  {
   "cell_type": "markdown",
   "metadata": {},
   "source": [
    "1. we aggregate the data and find the mean per each group\n",
    "2. calculate the mean difference"
   ]
  },
  {
   "cell_type": "code",
   "execution_count": null,
   "metadata": {
    "scrolled": true
   },
   "outputs": [],
   "source": [
    "elder_female_with_kids = file[(file[\"Age_by_birth_year\"]>40) & (file[\"Kids\"]>0) & (file[\"Gender\"]==\"Woman\")]\n",
    "elder_female_with_kids_average_grade = elder_female_with_kids[\"Average_grade\"].mean()\n",
    "\n",
    "younger_male_no_kids = file[(file[\"Kids\"]==0) & (file[\"Age_by_birth_year\"] <= 40)& (file[\"Gender\"]==\"Man\")]\n",
    "younger_male_no_kids_average_grade = younger_male_no_kids[\"Average_grade\"].mean()\n",
    "\n",
    "mean_difference = elder_female_with_kids_average_grade - younger_male_no_kids_average_grade\n",
    "mean_difference"
   ]
  },
  {
   "cell_type": "markdown",
   "metadata": {},
   "source": [
    "3. we get the list of all grade values\n",
    "4. randomly assign these values either to male or to female group\n",
    "5. conduct the random assignment repeteadly 1000 times (simulating a new study)\n",
    "6. calculate the mean differences on each iteration and append to a separate list\n",
    "6. create a dictionary of frequencies of each possible mean difference value"
   ]
  },
  {
   "cell_type": "code",
   "execution_count": null,
   "metadata": {},
   "outputs": [],
   "source": [
    "iter_mean_differences = []\n",
    "group_a_values = elder_female_with_kids[\"Average_grade\"].tolist()\n",
    "group_b_values = younger_male_no_kids[\"Average_grade\"].tolist()\n",
    "all_grades = group_a_values + group_b_values\n",
    "\n",
    "for i in range(1000):\n",
    "    males = []\n",
    "    females = []\n",
    "    for grade in all_grades:\n",
    "        random_value = np.random.rand()\n",
    "        if(random_value >= 0.5):\n",
    "            males.append(grade)\n",
    "        else:\n",
    "            females.append(grade)\n",
    "    iteration_mean_difference = np.mean(females) - np.mean(males)\n",
    "    iter_mean_differences.append(iteration_mean_difference)\n",
    "\n",
    "sampling_distribution = {}\n",
    "\n",
    "for iter_mean_difference in iter_mean_differences:\n",
    "    if(sampling_distribution.get(iter_mean_difference, False)):\n",
    "        val = sampling_distribution.get(iter_mean_difference)\n",
    "        val = val+1\n",
    "        sampling_distribution[iter_mean_difference] = val\n",
    "    else:\n",
    "        sampling_distribution[iter_mean_difference] = 1"
   ]
  },
  {
   "cell_type": "markdown",
   "metadata": {},
   "source": [
    "8. determine if the mean difference was random or not\n",
    "- we set a p value threshold of 0.05 (5%)\n",
    "- we find the frequency of a mean diffirence equal or higher than the mean dif observed in our dataset\n",
    "- we divide the amount of such mean diffirences by the number of simulated random datasets"
   ]
  },
  {
   "cell_type": "code",
   "execution_count": null,
   "metadata": {
    "scrolled": true
   },
   "outputs": [],
   "source": [
    "frequencies = []\n",
    "for key in sampling_distribution.keys():\n",
    "    if key >= mean_difference:\n",
    "        frequencies.append(key)\n",
    "frequencies\n",
    "sum_freq = len(frequencies)\n",
    "p_value = sum_freq/1000\n",
    "p_value"
   ]
  },
  {
   "cell_type": "code",
   "execution_count": null,
   "metadata": {},
   "outputs": [],
   "source": [
    "fig = go.Figure()\n",
    "fig.add_trace(go.Indicator(\n",
    "    value = p_value*100,\n",
    "    number = {\"suffix\":\"%\"},\n",
    "    title = \"Calculated P-Value\",\n",
    "    gauge = {\n",
    "        'axis': {'visible': False}},\n",
    "    domain = {'row': 0, 'column': 0}))\n",
    "fig.add_trace(go.Indicator(\n",
    "    number = {\"suffix\":\"%\"},\n",
    "    value = 0.05*100,\n",
    "    title = \"Threshold\",\n",
    "    gauge = {\n",
    "        'axis': {'visible': False}},\n",
    "    domain = {'row': 0, 'column': 1}))\n",
    "fig.update_layout(\n",
    "    grid = {'rows': 1, 'columns': 2, 'pattern': \"independent\"},\n",
    "    template = {'data' : {'indicator': [{\n",
    "        'delta' : {'reference': 90}}]\n",
    "                         }})"
   ]
  },
  {
   "cell_type": "markdown",
   "metadata": {},
   "source": [
    "#### **Conclusion:**\n",
    "**The p value is 0.117, which is higher than the threshold of 0.05, therefore, we cocnlude that the difference in the means of grades of females and males is purely random.**"
   ]
  },
  {
   "cell_type": "markdown",
   "metadata": {},
   "source": [
    "### Student T Tests\n"
   ]
  },
  {
   "cell_type": "code",
   "execution_count": null,
   "metadata": {},
   "outputs": [],
   "source": [
    "## testing the same null and alternative hypotheses\n",
    "elder_female_with_kids = file[(file[\"Age_by_birth_year\"]>40) & (file[\"Kids\"]>0) & (file[\"Gender\"]==\"Woman\")]\n",
    "elder_female_with_kids_average_grade = elder_female_with_kids[\"Average_grade\"].mean()\n",
    "\n",
    "younger_male_no_kids = file[(file[\"Kids\"]==0) & (file[\"Age_by_birth_year\"] <= 40)& (file[\"Gender\"]==\"Man\")]\n",
    "younger_male_no_kids_average_grade = younger_male_no_kids[\"Average_grade\"].mean()\n",
    "\n",
    "mean_difference = elder_female_with_kids_average_grade - younger_male_no_kids_average_grade\n",
    "print(\"Elder women with kids: \",elder_female_with_kids_average_grade, \n",
    "      \"\\nYounger men no kids: \", younger_male_no_kids_average_grade,\n",
    "     \"\\nDifference: \", mean_difference)"
   ]
  },
  {
   "cell_type": "code",
   "execution_count": null,
   "metadata": {},
   "outputs": [],
   "source": [
    "color1 = 'white'\n",
    "color2 = 'lightgrey'\n",
    "header_color = \"lightblue\"\n",
    "values = [round(elder_female_with_kids_average_grade, 1), round(younger_male_no_kids_average_grade, 1)]\n",
    "fig = go.Figure(data=[go.Table( \n",
    "    header=dict(values=[\"Elder Female with Kids\", \"Younger Male with No Kids\"], \n",
    "                fill_color=header_color,\n",
    "                height = 50,\n",
    "                align=\"left\",\n",
    "                font=dict(family=\"Lato\", size=18)), \n",
    "    cells=dict(values=values,\n",
    "               align=\"left\", \n",
    "               height = 50, \n",
    "               font=dict(family=\"Lato\", size=20), \n",
    "               format=None, formatsrc=None,\n",
    "               fill_color = None\n",
    "              ))]) \n",
    "fig.update_layout(width=610, title = \"Average Grade\")\n",
    "fig.update_layout({\"margin\": {\"t\":50}})\n",
    "fig.show()"
   ]
  },
  {
   "cell_type": "code",
   "execution_count": null,
   "metadata": {},
   "outputs": [],
   "source": [
    "fig = go.Figure()\n",
    "\n",
    "fig.add_trace(go.Indicator(\n",
    "    value = round(elder_female_with_kids_average_grade, 1),\n",
    "    title = \"Average Grade of Elder Females with Kids\",\n",
    "    gauge = {\n",
    "        'axis': {'visible': False}},\n",
    "    domain = {'row': 0, 'column': 0}))\n",
    "fig.add_trace(go.Indicator(\n",
    "    value = round(younger_male_no_kids_average_grade, 1),\n",
    "    title=\"Average Grade of Younger Males with No Kids\",\n",
    "    gauge = {\n",
    "        'axis': {'visible': False}},\n",
    "    domain = {'row': 1, 'column': 0}))\n",
    "\n",
    "fig.update_layout(\n",
    "    grid = {'rows': 2, 'columns': 1, 'pattern': \"independent\"},\n",
    "    template = {'data' : {'indicator': [{\n",
    "        'delta' : {'reference': 90}}]\n",
    "                         }})"
   ]
  },
  {
   "cell_type": "markdown",
   "metadata": {},
   "source": [
    "#### 1. finding the signal - difference between the mean"
   ]
  },
  {
   "cell_type": "code",
   "execution_count": null,
   "metadata": {},
   "outputs": [],
   "source": [
    "signal = mean_difference\n",
    "signal"
   ]
  },
  {
   "cell_type": "markdown",
   "metadata": {},
   "source": [
    "#### 2. finding the group variability"
   ]
  },
  {
   "cell_type": "code",
   "execution_count": null,
   "metadata": {},
   "outputs": [],
   "source": [
    "variance_group_a = elder_female_with_kids[\"Average_grade\"].var()\n",
    "variance_group_b = younger_male_no_kids[\"Average_grade\"].var()\n",
    "\n",
    "print(\"Variance of Group A (elder females with kids): \", variance_group_a)\n",
    "print(\"Variance of Group B (younger males with no kids): \", variance_group_b)"
   ]
  },
  {
   "cell_type": "code",
   "execution_count": null,
   "metadata": {},
   "outputs": [],
   "source": [
    "num_group_a = elder_female_with_kids[\"Average_grade\"].count()\n",
    "num_group_b = younger_male_no_kids[\"Average_grade\"].count()\n",
    "\n",
    "print(\"Number of samples in Group A (elder females with kids): \", num_group_a)\n",
    "print(\"Number of samples in Group B (younger males with no kids): \", num_group_b)"
   ]
  },
  {
   "cell_type": "markdown",
   "metadata": {},
   "source": [
    "#### 3. finding the t-value"
   ]
  },
  {
   "cell_type": "code",
   "execution_count": null,
   "metadata": {},
   "outputs": [],
   "source": [
    "t_value = signal / math.sqrt((variance_group_a/num_group_a) + (variance_group_b/num_group_b))\n",
    "print(\"T-value is \", t_value)"
   ]
  },
  {
   "cell_type": "markdown",
   "metadata": {},
   "source": [
    "#### 4. finding the degree of freedom"
   ]
  },
  {
   "cell_type": "code",
   "execution_count": null,
   "metadata": {},
   "outputs": [],
   "source": [
    "degree_free = num_group_a + num_group_b - 2\n",
    "degree_free"
   ]
  },
  {
   "cell_type": "markdown",
   "metadata": {},
   "source": [
    "#### 5. finding the critical value"
   ]
  },
  {
   "cell_type": "code",
   "execution_count": null,
   "metadata": {},
   "outputs": [],
   "source": [
    "critical_value = scipy.stats.t.ppf(q=1-.05/2,df=28)\n",
    "critical_value"
   ]
  },
  {
   "cell_type": "markdown",
   "metadata": {},
   "source": [
    "#### 6. comparing the t-value and the critical value"
   ]
  },
  {
   "cell_type": "code",
   "execution_count": null,
   "metadata": {},
   "outputs": [],
   "source": [
    "result = max(t_value, critical_value)\n",
    "result"
   ]
  },
  {
   "cell_type": "code",
   "execution_count": null,
   "metadata": {},
   "outputs": [],
   "source": [
    "fig = go.Figure()\n",
    "\n",
    "fig.add_trace(go.Indicator(\n",
    "    value = t_value,\n",
    "    title = \"T-Value\",\n",
    "    gauge = {\n",
    "        'axis': {'visible': False}},\n",
    "    domain = {'row': 0, 'column': 0}))\n",
    "fig.add_trace(go.Indicator(\n",
    "    value = critical_value,\n",
    "    title=\"Critical Value\",\n",
    "    gauge = {\n",
    "        'axis': {'visible': False}},\n",
    "    domain = {'row': 0, 'column': 1}))\n",
    "\n",
    "fig.update_layout(\n",
    "    grid = {'rows': 1, 'columns': 2, 'pattern': \"independent\"},\n",
    "    template = {'data' : {'indicator': [{\n",
    "        'delta' : {'reference': 90}}]\n",
    "                         }})"
   ]
  },
  {
   "cell_type": "markdown",
   "metadata": {},
   "source": [
    "#### **Conclusion:**\n",
    "**The t-value is less than the critical value, therefore, the null hypothesis can not be rejected.**"
   ]
  },
  {
   "cell_type": "markdown",
   "metadata": {},
   "source": [
    "### Comparing Interest in Data\n",
    "- **Null Hypothesis: Men and females equally enjoy working with data**\n",
    "- **Hypothesis: Men enjoy working with data more than females**"
   ]
  },
  {
   "cell_type": "code",
   "execution_count": null,
   "metadata": {},
   "outputs": [],
   "source": [
    "males = (file[\"Gender\"]== \"Man\").sum()\n",
    "females = (file[\"Gender\"]== \"Woman\").sum()\n",
    "\n",
    "males_enj_data = ((file[\"Gender\"]== \"Man\") & ((file[\"Enjoy_data\"] == \"Agree\") | \n",
    "                                             (file[\"Enjoy_data\"] == \"Completely Agree\"))).sum()\n",
    "females_enj_data = ((file[\"Gender\"]== \"Woman\") & ((file[\"Enjoy_data\"] == \"Agree\") | \n",
    "                                                 (file[\"Enjoy_data\"] == \"Completely Agree\"))).sum()\n",
    "\n",
    "proportion_males_enj = round(males_enj_data/males, 2)*100\n",
    "proportion_females_enj = round(females_enj_data/females, 2)*100\n",
    "print(\"Males proportion who enjoy data: \", proportion_males_enj,\n",
    "      \" Females proportion: \", proportion_females_enj)"
   ]
  },
  {
   "cell_type": "code",
   "execution_count": null,
   "metadata": {},
   "outputs": [],
   "source": [
    "males_exc_data = ((file[\"Gender\"]== \"Man\") & ((file[\"Excited_data\"] == \"Agree\") | \n",
    "                                             (file[\"Excited_data\"] == \"Completely Agree\"))).sum()\n",
    "females_exc_data = ((file[\"Gender\"]== \"Woman\") & ((file[\"Excited_data\"] == \"Agree\") | \n",
    "                                                 (file[\"Excited_data\"] == \"Completely Agree\"))).sum()\n",
    "\n",
    "proportion_males_exc = round(males_exc_data/males, 2)*100\n",
    "proportion_females_exc = round(females_exc_data/females, 2)*100\n",
    "print(\"Males proportion who are excited to work with data: \", proportion_males_exc,\n",
    "      \" Females proportion: \", proportion_females_exc)"
   ]
  },
  {
   "cell_type": "markdown",
   "metadata": {},
   "source": [
    "#### Displaying the data in a Table"
   ]
  },
  {
   "cell_type": "code",
   "execution_count": null,
   "metadata": {},
   "outputs": [],
   "source": [
    "color1 = 'white'\n",
    "color2 = 'lightgrey'\n",
    "header_color = \"lightblue\"\n",
    "genders = [\"Male\", \"Female\"]\n",
    "enj = [proportion_males_enj, proportion_females_enj]\n",
    "exc = [proportion_males_exc, proportion_females_exc]\n",
    "row_head = [\"Enjoy Working with Data, %\", \"Excited to Work with Data, %\"]\n",
    "fig = go.Figure(data=[go.Table( \n",
    "    header=dict(values=[\"\",\"Male\", \"Female\"], \n",
    "                fill_color=header_color,\n",
    "                height = 50,\n",
    "                align=\"left\",\n",
    "                font=dict(family=\"Lato\", size=20)), \n",
    "    cells=dict(values=[row_head, enj, exc],\n",
    "               align=\"left\", \n",
    "               height = 50, \n",
    "               font=dict(family=\"Lato\", size=20), \n",
    "               format=None, formatsrc=None,\n",
    "               fill_color = None\n",
    "              ))]) \n",
    "fig.update_layout(width=945)\n",
    "fig.show()"
   ]
  },
  {
   "cell_type": "markdown",
   "metadata": {},
   "source": [
    "#### Displaying the data with Indicators"
   ]
  },
  {
   "cell_type": "code",
   "execution_count": null,
   "metadata": {},
   "outputs": [],
   "source": [
    "fig = go.Figure()\n",
    "\n",
    "fig.add_trace(go.Indicator(\n",
    "    number = {\"suffix\":\"%\"},\n",
    "    value = proportion_males_enj,\n",
    "    title = \"Males, enjoy working with data\",\n",
    "    gauge = {\n",
    "        'axis': {'visible': False}},\n",
    "    domain = {'row': 0, 'column': 0}))\n",
    "fig.add_trace(go.Indicator(\n",
    "    number = {\"suffix\":\"%\"},\n",
    "    value = proportion_females_enj,\n",
    "    title=\"Females, enjoy working with data\",\n",
    "    gauge = {\n",
    "        'axis': {'visible': False}},\n",
    "    domain = {'row': 0, 'column': 1}))\n",
    "fig.add_trace(go.Indicator(\n",
    "    number = {\"suffix\":\"%\"},\n",
    "    value = proportion_males_exc,\n",
    "    title=\"Males, excited to work with data\",\n",
    "    gauge = {\n",
    "        'axis': {'visible': False}},\n",
    "    domain = {'row': 1, 'column': 0}))\n",
    "fig.add_trace(go.Indicator(\n",
    "    number = {\"suffix\":\"%\"},\n",
    "    value = proportion_females_exc,\n",
    "    title=\"Females, excited to work with data\",\n",
    "    gauge = {\n",
    "        'axis': {'visible': False}},\n",
    "    domain = {'row': 1, 'column': 1}))\n",
    "\n",
    "fig.update_layout(\n",
    "    grid = {'rows': 2, 'columns': 2, 'pattern': \"independent\"},\n",
    "    template = {'data' : {'indicator': [{\n",
    "        'delta' : {'reference': 90}}]\n",
    "                         }})"
   ]
  },
  {
   "cell_type": "code",
   "execution_count": null,
   "metadata": {},
   "outputs": [],
   "source": []
  }
 ],
 "metadata": {
  "kernelspec": {
   "display_name": "Python 3",
   "language": "python",
   "name": "python3"
  },
  "language_info": {
   "codemirror_mode": {
    "name": "ipython",
    "version": 3
   },
   "file_extension": ".py",
   "mimetype": "text/x-python",
   "name": "python",
   "nbconvert_exporter": "python",
   "pygments_lexer": "ipython3",
   "version": "3.9.1"
  }
 },
 "nbformat": 4,
 "nbformat_minor": 4
}
