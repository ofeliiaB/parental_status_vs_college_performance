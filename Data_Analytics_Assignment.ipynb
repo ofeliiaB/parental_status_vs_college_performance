{
 "cells": [
  {
   "cell_type": "markdown",
   "metadata": {},
   "source": [
    "# Effect of Number of Children and Gender on Adult Student's Academic Interests and Performance"
   ]
  },
  {
   "cell_type": "markdown",
   "metadata": {},
   "source": [
    "## 1. Project Description\n",
    "<br>The project uses survey data on adult students at Robert Kennedy College (Switzerland) to test\n",
    "<br>whether the number of children and students' gender affect their academic perfomance.\n",
    "<br>It also tests gender based hypotheses about students' interest on data-related fields.\n",
    "<br>\n",
    "<br>**Techniques used:**\n",
    "<br>Data Cleaning, Descriptive Statistics, Randomization Tests\n",
    "<br>T-Tests, Comparison of Frequency Distributions, Data Visualization"
   ]
  },
  {
   "cell_type": "markdown",
   "metadata": {},
   "source": [
    "## 2. Environment Setup"
   ]
  },
  {
   "cell_type": "code",
   "execution_count": 1,
   "metadata": {},
   "outputs": [
    {
     "name": "stdout",
     "output_type": "stream",
     "text": [
      "Requirement already satisfied: nb_black in /Library/Frameworks/Python.framework/Versions/3.9/lib/python3.9/site-packages (1.0.7)\n",
      "Requirement already satisfied: ipython in /Library/Frameworks/Python.framework/Versions/3.9/lib/python3.9/site-packages (from nb_black) (7.19.0)\n",
      "Requirement already satisfied: black>='19.3' in /Library/Frameworks/Python.framework/Versions/3.9/lib/python3.9/site-packages (from nb_black) (20.8b1)\n",
      "Requirement already satisfied: traitlets>=4.2 in /Library/Frameworks/Python.framework/Versions/3.9/lib/python3.9/site-packages (from ipython->nb_black) (5.0.5)\n",
      "Requirement already satisfied: pickleshare in /Library/Frameworks/Python.framework/Versions/3.9/lib/python3.9/site-packages (from ipython->nb_black) (0.7.5)\n",
      "Requirement already satisfied: decorator in /Library/Frameworks/Python.framework/Versions/3.9/lib/python3.9/site-packages (from ipython->nb_black) (4.4.2)\n",
      "Requirement already satisfied: appnope; sys_platform == \"darwin\" in /Library/Frameworks/Python.framework/Versions/3.9/lib/python3.9/site-packages (from ipython->nb_black) (0.1.2)\n",
      "Requirement already satisfied: backcall in /Library/Frameworks/Python.framework/Versions/3.9/lib/python3.9/site-packages (from ipython->nb_black) (0.2.0)\n",
      "Requirement already satisfied: pygments in /Library/Frameworks/Python.framework/Versions/3.9/lib/python3.9/site-packages (from ipython->nb_black) (2.7.3)\n",
      "Requirement already satisfied: prompt-toolkit!=3.0.0,!=3.0.1,<3.1.0,>=2.0.0 in /Library/Frameworks/Python.framework/Versions/3.9/lib/python3.9/site-packages (from ipython->nb_black) (3.0.10)\n",
      "Requirement already satisfied: setuptools>=18.5 in /Library/Frameworks/Python.framework/Versions/3.9/lib/python3.9/site-packages (from ipython->nb_black) (49.2.1)\n",
      "Requirement already satisfied: jedi>=0.10 in /Library/Frameworks/Python.framework/Versions/3.9/lib/python3.9/site-packages (from ipython->nb_black) (0.18.0)\n",
      "Requirement already satisfied: pexpect>4.3; sys_platform != \"win32\" in /Library/Frameworks/Python.framework/Versions/3.9/lib/python3.9/site-packages (from ipython->nb_black) (4.8.0)\n",
      "Requirement already satisfied: mypy-extensions>=0.4.3 in /Library/Frameworks/Python.framework/Versions/3.9/lib/python3.9/site-packages (from black>='19.3'->nb_black) (0.4.3)\n",
      "Requirement already satisfied: typed-ast>=1.4.0 in /Library/Frameworks/Python.framework/Versions/3.9/lib/python3.9/site-packages (from black>='19.3'->nb_black) (1.4.2)\n",
      "Requirement already satisfied: pathspec<1,>=0.6 in /Library/Frameworks/Python.framework/Versions/3.9/lib/python3.9/site-packages (from black>='19.3'->nb_black) (0.8.1)\n",
      "Requirement already satisfied: typing-extensions>=3.7.4 in /Library/Frameworks/Python.framework/Versions/3.9/lib/python3.9/site-packages (from black>='19.3'->nb_black) (3.7.4.3)\n",
      "Requirement already satisfied: toml>=0.10.1 in /Library/Frameworks/Python.framework/Versions/3.9/lib/python3.9/site-packages (from black>='19.3'->nb_black) (0.10.2)\n",
      "Requirement already satisfied: regex>=2020.1.8 in /Library/Frameworks/Python.framework/Versions/3.9/lib/python3.9/site-packages (from black>='19.3'->nb_black) (2020.11.13)\n",
      "Requirement already satisfied: click>=7.1.2 in /Library/Frameworks/Python.framework/Versions/3.9/lib/python3.9/site-packages (from black>='19.3'->nb_black) (7.1.2)\n",
      "Requirement already satisfied: appdirs in /Library/Frameworks/Python.framework/Versions/3.9/lib/python3.9/site-packages (from black>='19.3'->nb_black) (1.4.4)\n",
      "Requirement already satisfied: ipython-genutils in /Library/Frameworks/Python.framework/Versions/3.9/lib/python3.9/site-packages (from traitlets>=4.2->ipython->nb_black) (0.2.0)\n",
      "Requirement already satisfied: wcwidth in /Library/Frameworks/Python.framework/Versions/3.9/lib/python3.9/site-packages (from prompt-toolkit!=3.0.0,!=3.0.1,<3.1.0,>=2.0.0->ipython->nb_black) (0.2.5)\n",
      "Requirement already satisfied: parso<0.9.0,>=0.8.0 in /Library/Frameworks/Python.framework/Versions/3.9/lib/python3.9/site-packages (from jedi>=0.10->ipython->nb_black) (0.8.1)\n",
      "Requirement already satisfied: ptyprocess>=0.5 in /Library/Frameworks/Python.framework/Versions/3.9/lib/python3.9/site-packages (from pexpect>4.3; sys_platform != \"win32\"->ipython->nb_black) (0.7.0)\n",
      "\u001b[33mWARNING: You are using pip version 20.2.3; however, version 21.0.1 is available.\n",
      "You should consider upgrading via the '/Library/Frameworks/Python.framework/Versions/3.9/bin/python3 -m pip install --upgrade pip' command.\u001b[0m\n",
      "Note: you may need to restart the kernel to use updated packages.\n"
     ]
    }
   ],
   "source": [
    "pip install nb_black"
   ]
  },
  {
   "cell_type": "code",
   "execution_count": 2,
   "metadata": {},
   "outputs": [
    {
     "data": {
      "application/javascript": [
       "\n",
       "            setTimeout(function() {\n",
       "                var nbb_cell_id = 2;\n",
       "                var nbb_unformatted_code = \"%load_ext nb_black\";\n",
       "                var nbb_formatted_code = \"%load_ext nb_black\";\n",
       "                var nbb_cells = Jupyter.notebook.get_cells();\n",
       "                for (var i = 0; i < nbb_cells.length; ++i) {\n",
       "                    if (nbb_cells[i].input_prompt_number == nbb_cell_id) {\n",
       "                        if (nbb_cells[i].get_text() == nbb_unformatted_code) {\n",
       "                             nbb_cells[i].set_text(nbb_formatted_code);\n",
       "                        }\n",
       "                        break;\n",
       "                    }\n",
       "                }\n",
       "            }, 500);\n",
       "            "
      ],
      "text/plain": [
       "<IPython.core.display.Javascript object>"
      ]
     },
     "metadata": {},
     "output_type": "display_data"
    }
   ],
   "source": [
    "%load_ext nb_black"
   ]
  },
  {
   "cell_type": "code",
   "execution_count": 3,
   "metadata": {},
   "outputs": [
    {
     "name": "stdout",
     "output_type": "stream",
     "text": [
      "Requirement already satisfied: plotly in /Library/Frameworks/Python.framework/Versions/3.9/lib/python3.9/site-packages (4.14.3)\n",
      "Requirement already satisfied: six in /Library/Frameworks/Python.framework/Versions/3.9/lib/python3.9/site-packages (from plotly) (1.15.0)\n",
      "Requirement already satisfied: retrying>=1.3.3 in /Library/Frameworks/Python.framework/Versions/3.9/lib/python3.9/site-packages (from plotly) (1.3.3)\n",
      "\u001b[33mWARNING: You are using pip version 20.2.3; however, version 21.0.1 is available.\n",
      "You should consider upgrading via the '/Library/Frameworks/Python.framework/Versions/3.9/bin/python3 -m pip install --upgrade pip' command.\u001b[0m\n"
     ]
    },
    {
     "data": {
      "application/javascript": [
       "\n",
       "            setTimeout(function() {\n",
       "                var nbb_cell_id = 3;\n",
       "                var nbb_unformatted_code = \"!python3 -m pip install plotly\";\n",
       "                var nbb_formatted_code = \"!python3 -m pip install plotly\";\n",
       "                var nbb_cells = Jupyter.notebook.get_cells();\n",
       "                for (var i = 0; i < nbb_cells.length; ++i) {\n",
       "                    if (nbb_cells[i].input_prompt_number == nbb_cell_id) {\n",
       "                        if (nbb_cells[i].get_text() == nbb_unformatted_code) {\n",
       "                             nbb_cells[i].set_text(nbb_formatted_code);\n",
       "                        }\n",
       "                        break;\n",
       "                    }\n",
       "                }\n",
       "            }, 500);\n",
       "            "
      ],
      "text/plain": [
       "<IPython.core.display.Javascript object>"
      ]
     },
     "metadata": {},
     "output_type": "display_data"
    }
   ],
   "source": [
    "!python3 -m pip install plotly"
   ]
  },
  {
   "cell_type": "code",
   "execution_count": 4,
   "metadata": {},
   "outputs": [
    {
     "data": {
      "text/html": [
       "        <script type=\"text/javascript\">\n",
       "        window.PlotlyConfig = {MathJaxConfig: 'local'};\n",
       "        if (window.MathJax) {MathJax.Hub.Config({SVG: {font: \"STIX-Web\"}});}\n",
       "        if (typeof require !== 'undefined') {\n",
       "        require.undef(\"plotly\");\n",
       "        requirejs.config({\n",
       "            paths: {\n",
       "                'plotly': ['https://cdn.plot.ly/plotly-latest.min']\n",
       "            }\n",
       "        });\n",
       "        require(['plotly'], function(Plotly) {\n",
       "            window._Plotly = Plotly;\n",
       "        });\n",
       "        }\n",
       "        </script>\n",
       "        "
      ]
     },
     "metadata": {},
     "output_type": "display_data"
    },
    {
     "data": {
      "application/javascript": [
       "\n",
       "            setTimeout(function() {\n",
       "                var nbb_cell_id = 4;\n",
       "                var nbb_unformatted_code = \"import pandas as pd\\nimport datetime\\nimport matplotlib.pyplot as plt\\nimport numpy as np\\nimport math\\nimport scipy.stats\\nimport seaborn as sns\\nfrom plotly.offline import init_notebook_mode, iplot\\nimport plotly.figure_factory as ff\\nfrom plotly import graph_objs as go\\n\\ninit_notebook_mode(connected=True)\\n%matplotlib inline\";\n",
       "                var nbb_formatted_code = \"import pandas as pd\\nimport datetime\\nimport matplotlib.pyplot as plt\\nimport numpy as np\\nimport math\\nimport scipy.stats\\nimport seaborn as sns\\nfrom plotly.offline import init_notebook_mode, iplot\\nimport plotly.figure_factory as ff\\nfrom plotly import graph_objs as go\\n\\ninit_notebook_mode(connected=True)\\n%matplotlib inline\";\n",
       "                var nbb_cells = Jupyter.notebook.get_cells();\n",
       "                for (var i = 0; i < nbb_cells.length; ++i) {\n",
       "                    if (nbb_cells[i].input_prompt_number == nbb_cell_id) {\n",
       "                        if (nbb_cells[i].get_text() == nbb_unformatted_code) {\n",
       "                             nbb_cells[i].set_text(nbb_formatted_code);\n",
       "                        }\n",
       "                        break;\n",
       "                    }\n",
       "                }\n",
       "            }, 500);\n",
       "            "
      ],
      "text/plain": [
       "<IPython.core.display.Javascript object>"
      ]
     },
     "metadata": {},
     "output_type": "display_data"
    }
   ],
   "source": [
    "import pandas as pd\n",
    "import datetime\n",
    "import matplotlib.pyplot as plt\n",
    "import numpy as np\n",
    "import math\n",
    "import scipy.stats\n",
    "import seaborn as sns\n",
    "from plotly.offline import init_notebook_mode, iplot\n",
    "import plotly.figure_factory as ff\n",
    "from plotly import graph_objs as go\n",
    "\n",
    "init_notebook_mode(connected=True)\n",
    "%matplotlib inline"
   ]
  },
  {
   "cell_type": "markdown",
   "metadata": {},
   "source": [
    "## 3. Data Profiling\n",
    "\n",
    "#### Open and View the File"
   ]
  },
  {
   "cell_type": "code",
   "execution_count": 5,
   "metadata": {},
   "outputs": [
    {
     "data": {
      "text/html": [
       "<div>\n",
       "<style scoped>\n",
       "    .dataframe tbody tr th:only-of-type {\n",
       "        vertical-align: middle;\n",
       "    }\n",
       "\n",
       "    .dataframe tbody tr th {\n",
       "        vertical-align: top;\n",
       "    }\n",
       "\n",
       "    .dataframe thead th {\n",
       "        text-align: right;\n",
       "    }\n",
       "</style>\n",
       "<table border=\"1\" class=\"dataframe\">\n",
       "  <thead>\n",
       "    <tr style=\"text-align: right;\">\n",
       "      <th></th>\n",
       "      <th>ID</th>\n",
       "      <th>Start time</th>\n",
       "      <th>Completion time</th>\n",
       "      <th>Email</th>\n",
       "      <th>Gender</th>\n",
       "      <th>Age</th>\n",
       "      <th>Closest biggest city near you</th>\n",
       "      <th>Number of kids (&lt;18y) living with you</th>\n",
       "      <th>Birth Year</th>\n",
       "      <th>Number of modules completed so far</th>\n",
       "      <th>Average mark so far</th>\n",
       "      <th>Prediction for this module's mark</th>\n",
       "      <th>I enjoy working with data</th>\n",
       "      <th>I am excited about working with data</th>\n",
       "      <th>I am afraid of working with data</th>\n",
       "      <th>I am interested in understanding Data Analytics</th>\n",
       "      <th>I plan to work hard in this module</th>\n",
       "      <th>Height (absolute value, in centimeters (cm) - sorry imperial system users!)</th>\n",
       "      <th>Height (relative)</th>\n",
       "    </tr>\n",
       "  </thead>\n",
       "  <tbody>\n",
       "    <tr>\n",
       "      <th>0</th>\n",
       "      <td>2</td>\n",
       "      <td>12/17/20 9:09:33</td>\n",
       "      <td>12/17/20 9:10:55</td>\n",
       "      <td>anonymous</td>\n",
       "      <td>Woman</td>\n",
       "      <td>40-49</td>\n",
       "      <td>Lagos</td>\n",
       "      <td>0</td>\n",
       "      <td>1975</td>\n",
       "      <td>5</td>\n",
       "      <td>62.0</td>\n",
       "      <td>62</td>\n",
       "      <td>Agree</td>\n",
       "      <td>Agree</td>\n",
       "      <td>Completely Disagree</td>\n",
       "      <td>Agree</td>\n",
       "      <td>Agree</td>\n",
       "      <td>175.0</td>\n",
       "      <td>very tall</td>\n",
       "    </tr>\n",
       "    <tr>\n",
       "      <th>1</th>\n",
       "      <td>3</td>\n",
       "      <td>12/17/20 9:09:27</td>\n",
       "      <td>12/17/20 9:11:01</td>\n",
       "      <td>anonymous</td>\n",
       "      <td>Man</td>\n",
       "      <td>30-39</td>\n",
       "      <td>Dhaka</td>\n",
       "      <td>0</td>\n",
       "      <td>1011986</td>\n",
       "      <td>5</td>\n",
       "      <td>57.0</td>\n",
       "      <td>65</td>\n",
       "      <td>Agree</td>\n",
       "      <td>Agree</td>\n",
       "      <td>Completely Disagree</td>\n",
       "      <td>Agree</td>\n",
       "      <td>Agree</td>\n",
       "      <td>172.0</td>\n",
       "      <td>average</td>\n",
       "    </tr>\n",
       "    <tr>\n",
       "      <th>2</th>\n",
       "      <td>4</td>\n",
       "      <td>12/17/20 9:09:34</td>\n",
       "      <td>12/17/20 9:14:39</td>\n",
       "      <td>anonymous</td>\n",
       "      <td>Man</td>\n",
       "      <td>30-39</td>\n",
       "      <td>Hanoi</td>\n",
       "      <td>0</td>\n",
       "      <td>1989</td>\n",
       "      <td>5</td>\n",
       "      <td>61.0</td>\n",
       "      <td>64</td>\n",
       "      <td>Agree</td>\n",
       "      <td>Meh</td>\n",
       "      <td>Disagree</td>\n",
       "      <td>Meh</td>\n",
       "      <td>Meh</td>\n",
       "      <td>178.0</td>\n",
       "      <td>average</td>\n",
       "    </tr>\n",
       "    <tr>\n",
       "      <th>3</th>\n",
       "      <td>5</td>\n",
       "      <td>12/17/20 9:19:54</td>\n",
       "      <td>12/17/20 9:27:03</td>\n",
       "      <td>anonymous</td>\n",
       "      <td>Woman</td>\n",
       "      <td>50-59</td>\n",
       "      <td>Stockholm</td>\n",
       "      <td>0</td>\n",
       "      <td>1970</td>\n",
       "      <td>5</td>\n",
       "      <td>60.0</td>\n",
       "      <td>100</td>\n",
       "      <td>Agree</td>\n",
       "      <td>Agree</td>\n",
       "      <td>Completely Disagree</td>\n",
       "      <td>Agree</td>\n",
       "      <td>Completely Agree</td>\n",
       "      <td>164.0</td>\n",
       "      <td>average</td>\n",
       "    </tr>\n",
       "    <tr>\n",
       "      <th>4</th>\n",
       "      <td>6</td>\n",
       "      <td>12/17/20 9:28:13</td>\n",
       "      <td>12/17/20 9:35:44</td>\n",
       "      <td>anonymous</td>\n",
       "      <td>Man</td>\n",
       "      <td>40-49</td>\n",
       "      <td>Accra</td>\n",
       "      <td>3</td>\n",
       "      <td>1979</td>\n",
       "      <td>5</td>\n",
       "      <td>60.0</td>\n",
       "      <td>70</td>\n",
       "      <td>Completely Agree</td>\n",
       "      <td>Agree</td>\n",
       "      <td>Completely Disagree</td>\n",
       "      <td>Completely Agree</td>\n",
       "      <td>Meh</td>\n",
       "      <td>170.0</td>\n",
       "      <td>average</td>\n",
       "    </tr>\n",
       "  </tbody>\n",
       "</table>\n",
       "</div>"
      ],
      "text/plain": [
       "   ID        Start time   Completion time      Email Gender    Age  \\\n",
       "0   2  12/17/20 9:09:33  12/17/20 9:10:55  anonymous  Woman  40-49   \n",
       "1   3  12/17/20 9:09:27  12/17/20 9:11:01  anonymous    Man  30-39   \n",
       "2   4  12/17/20 9:09:34  12/17/20 9:14:39  anonymous    Man  30-39   \n",
       "3   5  12/17/20 9:19:54  12/17/20 9:27:03  anonymous  Woman  50-59   \n",
       "4   6  12/17/20 9:28:13  12/17/20 9:35:44  anonymous    Man  40-49   \n",
       "\n",
       "  Closest biggest city near you  Number of kids (<18y) living with you  \\\n",
       "0                        Lagos                                       0   \n",
       "1                         Dhaka                                      0   \n",
       "2                         Hanoi                                      0   \n",
       "3                     Stockholm                                      0   \n",
       "4                         Accra                                      3   \n",
       "\n",
       "   Birth Year Number of modules completed so far  Average mark so far  \\\n",
       "0        1975                                  5                 62.0   \n",
       "1     1011986                                  5                 57.0   \n",
       "2        1989                                  5                 61.0   \n",
       "3        1970                                  5                 60.0   \n",
       "4        1979                                  5                 60.0   \n",
       "\n",
       "   Prediction for this module's mark I enjoy working with data  \\\n",
       "0                                 62                     Agree   \n",
       "1                                 65                     Agree   \n",
       "2                                 64                     Agree   \n",
       "3                                100                     Agree   \n",
       "4                                 70          Completely Agree   \n",
       "\n",
       "  I am excited about working with data I am afraid of working with data  \\\n",
       "0                                Agree              Completely Disagree   \n",
       "1                                Agree              Completely Disagree   \n",
       "2                                  Meh                         Disagree   \n",
       "3                                Agree              Completely Disagree   \n",
       "4                                Agree              Completely Disagree   \n",
       "\n",
       "  I am interested in understanding Data Analytics  \\\n",
       "0                                           Agree   \n",
       "1                                           Agree   \n",
       "2                                             Meh   \n",
       "3                                           Agree   \n",
       "4                                Completely Agree   \n",
       "\n",
       "  I plan to work hard in this module  \\\n",
       "0                              Agree   \n",
       "1                              Agree   \n",
       "2                                Meh   \n",
       "3                   Completely Agree   \n",
       "4                                Meh   \n",
       "\n",
       "   Height (absolute value, in centimeters (cm) - sorry imperial system users!)  \\\n",
       "0                                              175.0                             \n",
       "1                                              172.0                             \n",
       "2                                              178.0                             \n",
       "3                                              164.0                             \n",
       "4                                              170.0                             \n",
       "\n",
       "  Height (relative)  \n",
       "0         very tall  \n",
       "1           average  \n",
       "2           average  \n",
       "3           average  \n",
       "4           average  "
      ]
     },
     "execution_count": 5,
     "metadata": {},
     "output_type": "execute_result"
    },
    {
     "data": {
      "application/javascript": [
       "\n",
       "            setTimeout(function() {\n",
       "                var nbb_cell_id = 5;\n",
       "                var nbb_unformatted_code = \"pd.set_option(\\\"display.max_rows\\\", None, \\\"display.max_columns\\\", None)\\nfile = pd.read_csv(r\\\"data/dataanalytics-class-data.csv\\\")\\nfile.head()\";\n",
       "                var nbb_formatted_code = \"pd.set_option(\\\"display.max_rows\\\", None, \\\"display.max_columns\\\", None)\\nfile = pd.read_csv(r\\\"data/dataanalytics-class-data.csv\\\")\\nfile.head()\";\n",
       "                var nbb_cells = Jupyter.notebook.get_cells();\n",
       "                for (var i = 0; i < nbb_cells.length; ++i) {\n",
       "                    if (nbb_cells[i].input_prompt_number == nbb_cell_id) {\n",
       "                        if (nbb_cells[i].get_text() == nbb_unformatted_code) {\n",
       "                             nbb_cells[i].set_text(nbb_formatted_code);\n",
       "                        }\n",
       "                        break;\n",
       "                    }\n",
       "                }\n",
       "            }, 500);\n",
       "            "
      ],
      "text/plain": [
       "<IPython.core.display.Javascript object>"
      ]
     },
     "metadata": {},
     "output_type": "display_data"
    }
   ],
   "source": [
    "pd.set_option(\"display.max_rows\", None, \"display.max_columns\", None)\n",
    "file = pd.read_csv(r\"data/dataanalytics-class-data.csv\")\n",
    "file.head()"
   ]
  },
  {
   "cell_type": "code",
   "execution_count": null,
   "metadata": {},
   "outputs": [],
   "source": [
    "file.tail()"
   ]
  },
  {
   "cell_type": "code",
   "execution_count": null,
   "metadata": {},
   "outputs": [],
   "source": [
    "file.columns"
   ]
  },
  {
   "cell_type": "markdown",
   "metadata": {},
   "source": [
    "#### Dropping columns with data that is not useful to the analysis"
   ]
  },
  {
   "cell_type": "code",
   "execution_count": 6,
   "metadata": {
    "scrolled": true
   },
   "outputs": [
    {
     "data": {
      "application/javascript": [
       "\n",
       "            setTimeout(function() {\n",
       "                var nbb_cell_id = 6;\n",
       "                var nbb_unformatted_code = \"unrelated_columns = [\\\"ID\\\", \\\"Email\\\"]\\nfile = file.drop(columns=unrelated_columns)\";\n",
       "                var nbb_formatted_code = \"unrelated_columns = [\\\"ID\\\", \\\"Email\\\"]\\nfile = file.drop(columns=unrelated_columns)\";\n",
       "                var nbb_cells = Jupyter.notebook.get_cells();\n",
       "                for (var i = 0; i < nbb_cells.length; ++i) {\n",
       "                    if (nbb_cells[i].input_prompt_number == nbb_cell_id) {\n",
       "                        if (nbb_cells[i].get_text() == nbb_unformatted_code) {\n",
       "                             nbb_cells[i].set_text(nbb_formatted_code);\n",
       "                        }\n",
       "                        break;\n",
       "                    }\n",
       "                }\n",
       "            }, 500);\n",
       "            "
      ],
      "text/plain": [
       "<IPython.core.display.Javascript object>"
      ]
     },
     "metadata": {},
     "output_type": "display_data"
    }
   ],
   "source": [
    "unrelated_columns = [\"ID\", \"Email\"]\n",
    "file = file.drop(columns=unrelated_columns)"
   ]
  },
  {
   "cell_type": "markdown",
   "metadata": {},
   "source": [
    "#### Renaming all columns to snake case and shorter names "
   ]
  },
  {
   "cell_type": "code",
   "execution_count": 7,
   "metadata": {},
   "outputs": [
    {
     "data": {
      "application/javascript": [
       "\n",
       "            setTimeout(function() {\n",
       "                var nbb_cell_id = 7;\n",
       "                var nbb_unformatted_code = \"file = file.rename(\\n    columns={\\n        \\\"Start time\\\": \\\"Start_time\\\",\\n        \\\"Completion time\\\": \\\"End_time\\\",\\n        \\\"Closest biggest city near you\\\": \\\"City\\\",\\n        \\\"Number of kids (<18y) living with you\\\": \\\"Kids\\\",\\n        \\\"Birth Year\\\": \\\"Birth_year\\\",\\n        \\\"Number of modules completed so far\\\": \\\"Modules_num\\\",\\n        \\\"Average mark so far\\\": \\\"Average_grade\\\",\\n        \\\"Prediction for this module's mark\\\": \\\"Prediction_grade\\\",\\n        \\\"Height (absolute value, in centimeters (cm) - sorry imperial system users!)\\\": \\\"Height_cm\\\",\\n        \\\"Height (relative)\\\": \\\"Height_relative\\\",\\n        \\\"I enjoy working with data\\\": \\\"Enjoy_data\\\",\\n        \\\"I am excited about working with data\\\": \\\"Excited_data\\\",\\n        \\\"I am afraid of working with data\\\": \\\"Afraid_data\\\",\\n        \\\"I am interested in understanding Data Analytics\\\": \\\"Interested_DA\\\",\\n        \\\"I plan to work hard in this module\\\": \\\"Work_hard\\\",\\n    }\\n)\";\n",
       "                var nbb_formatted_code = \"file = file.rename(\\n    columns={\\n        \\\"Start time\\\": \\\"Start_time\\\",\\n        \\\"Completion time\\\": \\\"End_time\\\",\\n        \\\"Closest biggest city near you\\\": \\\"City\\\",\\n        \\\"Number of kids (<18y) living with you\\\": \\\"Kids\\\",\\n        \\\"Birth Year\\\": \\\"Birth_year\\\",\\n        \\\"Number of modules completed so far\\\": \\\"Modules_num\\\",\\n        \\\"Average mark so far\\\": \\\"Average_grade\\\",\\n        \\\"Prediction for this module's mark\\\": \\\"Prediction_grade\\\",\\n        \\\"Height (absolute value, in centimeters (cm) - sorry imperial system users!)\\\": \\\"Height_cm\\\",\\n        \\\"Height (relative)\\\": \\\"Height_relative\\\",\\n        \\\"I enjoy working with data\\\": \\\"Enjoy_data\\\",\\n        \\\"I am excited about working with data\\\": \\\"Excited_data\\\",\\n        \\\"I am afraid of working with data\\\": \\\"Afraid_data\\\",\\n        \\\"I am interested in understanding Data Analytics\\\": \\\"Interested_DA\\\",\\n        \\\"I plan to work hard in this module\\\": \\\"Work_hard\\\",\\n    }\\n)\";\n",
       "                var nbb_cells = Jupyter.notebook.get_cells();\n",
       "                for (var i = 0; i < nbb_cells.length; ++i) {\n",
       "                    if (nbb_cells[i].input_prompt_number == nbb_cell_id) {\n",
       "                        if (nbb_cells[i].get_text() == nbb_unformatted_code) {\n",
       "                             nbb_cells[i].set_text(nbb_formatted_code);\n",
       "                        }\n",
       "                        break;\n",
       "                    }\n",
       "                }\n",
       "            }, 500);\n",
       "            "
      ],
      "text/plain": [
       "<IPython.core.display.Javascript object>"
      ]
     },
     "metadata": {},
     "output_type": "display_data"
    }
   ],
   "source": [
    "file = file.rename(\n",
    "    columns={\n",
    "        \"Start time\": \"Start_time\",\n",
    "        \"Completion time\": \"End_time\",\n",
    "        \"Closest biggest city near you\": \"City\",\n",
    "        \"Number of kids (<18y) living with you\": \"Kids\",\n",
    "        \"Birth Year\": \"Birth_year\",\n",
    "        \"Number of modules completed so far\": \"Modules_num\",\n",
    "        \"Average mark so far\": \"Average_grade\",\n",
    "        \"Prediction for this module's mark\": \"Prediction_grade\",\n",
    "        \"Height (absolute value, in centimeters (cm) - sorry imperial system users!)\": \"Height_cm\",\n",
    "        \"Height (relative)\": \"Height_relative\",\n",
    "        \"I enjoy working with data\": \"Enjoy_data\",\n",
    "        \"I am excited about working with data\": \"Excited_data\",\n",
    "        \"I am afraid of working with data\": \"Afraid_data\",\n",
    "        \"I am interested in understanding Data Analytics\": \"Interested_DA\",\n",
    "        \"I plan to work hard in this module\": \"Work_hard\",\n",
    "    }\n",
    ")"
   ]
  },
  {
   "cell_type": "code",
   "execution_count": null,
   "metadata": {},
   "outputs": [],
   "source": [
    "file_info = file.info()"
   ]
  },
  {
   "cell_type": "code",
   "execution_count": 8,
   "metadata": {},
   "outputs": [
    {
     "data": {
      "application/javascript": [
       "\n",
       "            setTimeout(function() {\n",
       "                var nbb_cell_id = 8;\n",
       "                var nbb_unformatted_code = \"file[\\\"Modules_num\\\"] = file[\\\"Modules_num\\\"].str.replace(\\\"none\\\", \\\"0\\\")\";\n",
       "                var nbb_formatted_code = \"file[\\\"Modules_num\\\"] = file[\\\"Modules_num\\\"].str.replace(\\\"none\\\", \\\"0\\\")\";\n",
       "                var nbb_cells = Jupyter.notebook.get_cells();\n",
       "                for (var i = 0; i < nbb_cells.length; ++i) {\n",
       "                    if (nbb_cells[i].input_prompt_number == nbb_cell_id) {\n",
       "                        if (nbb_cells[i].get_text() == nbb_unformatted_code) {\n",
       "                             nbb_cells[i].set_text(nbb_formatted_code);\n",
       "                        }\n",
       "                        break;\n",
       "                    }\n",
       "                }\n",
       "            }, 500);\n",
       "            "
      ],
      "text/plain": [
       "<IPython.core.display.Javascript object>"
      ]
     },
     "metadata": {},
     "output_type": "display_data"
    }
   ],
   "source": [
    "file[\"Modules_num\"] = file[\"Modules_num\"].str.replace(\"none\", \"0\")"
   ]
  },
  {
   "cell_type": "code",
   "execution_count": 9,
   "metadata": {},
   "outputs": [
    {
     "data": {
      "application/javascript": [
       "\n",
       "            setTimeout(function() {\n",
       "                var nbb_cell_id = 9;\n",
       "                var nbb_unformatted_code = \"file[\\\"Modules_num\\\"] = file[\\\"Modules_num\\\"].astype(\\\"int32\\\")\";\n",
       "                var nbb_formatted_code = \"file[\\\"Modules_num\\\"] = file[\\\"Modules_num\\\"].astype(\\\"int32\\\")\";\n",
       "                var nbb_cells = Jupyter.notebook.get_cells();\n",
       "                for (var i = 0; i < nbb_cells.length; ++i) {\n",
       "                    if (nbb_cells[i].input_prompt_number == nbb_cell_id) {\n",
       "                        if (nbb_cells[i].get_text() == nbb_unformatted_code) {\n",
       "                             nbb_cells[i].set_text(nbb_formatted_code);\n",
       "                        }\n",
       "                        break;\n",
       "                    }\n",
       "                }\n",
       "            }, 500);\n",
       "            "
      ],
      "text/plain": [
       "<IPython.core.display.Javascript object>"
      ]
     },
     "metadata": {},
     "output_type": "display_data"
    }
   ],
   "source": [
    "file[\"Modules_num\"] = file[\"Modules_num\"].astype(\"int32\")"
   ]
  },
  {
   "cell_type": "code",
   "execution_count": 10,
   "metadata": {},
   "outputs": [
    {
     "data": {
      "text/plain": [
       "Start_time          0\n",
       "End_time            0\n",
       "Gender              0\n",
       "Age                 0\n",
       "City                0\n",
       "Kids                0\n",
       "Birth_year          0\n",
       "Modules_num         0\n",
       "Average_grade       3\n",
       "Prediction_grade    0\n",
       "Enjoy_data          0\n",
       "Excited_data        0\n",
       "Afraid_data         0\n",
       "Interested_DA       0\n",
       "Work_hard           0\n",
       "Height_cm           0\n",
       "Height_relative     0\n",
       "dtype: int64"
      ]
     },
     "execution_count": 10,
     "metadata": {},
     "output_type": "execute_result"
    },
    {
     "data": {
      "application/javascript": [
       "\n",
       "            setTimeout(function() {\n",
       "                var nbb_cell_id = 10;\n",
       "                var nbb_unformatted_code = \"file.isnull().sum()\";\n",
       "                var nbb_formatted_code = \"file.isnull().sum()\";\n",
       "                var nbb_cells = Jupyter.notebook.get_cells();\n",
       "                for (var i = 0; i < nbb_cells.length; ++i) {\n",
       "                    if (nbb_cells[i].input_prompt_number == nbb_cell_id) {\n",
       "                        if (nbb_cells[i].get_text() == nbb_unformatted_code) {\n",
       "                             nbb_cells[i].set_text(nbb_formatted_code);\n",
       "                        }\n",
       "                        break;\n",
       "                    }\n",
       "                }\n",
       "            }, 500);\n",
       "            "
      ],
      "text/plain": [
       "<IPython.core.display.Javascript object>"
      ]
     },
     "metadata": {},
     "output_type": "display_data"
    }
   ],
   "source": [
    "file.isnull().sum()"
   ]
  },
  {
   "cell_type": "markdown",
   "metadata": {},
   "source": [
    "## 3. Data Cleansing"
   ]
  },
  {
   "cell_type": "markdown",
   "metadata": {},
   "source": [
    "### Helper Methods"
   ]
  },
  {
   "cell_type": "code",
   "execution_count": 11,
   "metadata": {},
   "outputs": [
    {
     "data": {
      "application/javascript": [
       "\n",
       "            setTimeout(function() {\n",
       "                var nbb_cell_id = 11;\n",
       "                var nbb_unformatted_code = \"def clean_birth_year(year_value):\\n    now = datetime.datetime.now()\\n    current_year = now.year\\n    digits_num = int(math.log10(year_value)) + 1\\n    year_value = str(year_value)\\n    if digits_num > 4:\\n        year_value = year_value[-4:]\\n    elif digits_num < 4:\\n        year_value = current_year - int(year_value)\\n    return int(year_value)\\n\\n\\ndef convert_age_to_list_range(age_item):\\n    if \\\"-\\\" in age_item:\\n        age_item = age_item.split(\\\"-\\\")\\n        first_num = int(age_item[0])\\n        second_num = int(age_item[1])\\n        age_item = [first_num, second_num]\\n    else:\\n        age_item = age_item.split(\\\"+\\\")\\n        first_num = int(age_item[0])\\n        second_num = 100\\n        age_item = [first_num, second_num]\\n    return age_item\";\n",
       "                var nbb_formatted_code = \"def clean_birth_year(year_value):\\n    now = datetime.datetime.now()\\n    current_year = now.year\\n    digits_num = int(math.log10(year_value)) + 1\\n    year_value = str(year_value)\\n    if digits_num > 4:\\n        year_value = year_value[-4:]\\n    elif digits_num < 4:\\n        year_value = current_year - int(year_value)\\n    return int(year_value)\\n\\n\\ndef convert_age_to_list_range(age_item):\\n    if \\\"-\\\" in age_item:\\n        age_item = age_item.split(\\\"-\\\")\\n        first_num = int(age_item[0])\\n        second_num = int(age_item[1])\\n        age_item = [first_num, second_num]\\n    else:\\n        age_item = age_item.split(\\\"+\\\")\\n        first_num = int(age_item[0])\\n        second_num = 100\\n        age_item = [first_num, second_num]\\n    return age_item\";\n",
       "                var nbb_cells = Jupyter.notebook.get_cells();\n",
       "                for (var i = 0; i < nbb_cells.length; ++i) {\n",
       "                    if (nbb_cells[i].input_prompt_number == nbb_cell_id) {\n",
       "                        if (nbb_cells[i].get_text() == nbb_unformatted_code) {\n",
       "                             nbb_cells[i].set_text(nbb_formatted_code);\n",
       "                        }\n",
       "                        break;\n",
       "                    }\n",
       "                }\n",
       "            }, 500);\n",
       "            "
      ],
      "text/plain": [
       "<IPython.core.display.Javascript object>"
      ]
     },
     "metadata": {},
     "output_type": "display_data"
    }
   ],
   "source": [
    "def clean_birth_year(year_value):\n",
    "    now = datetime.datetime.now()\n",
    "    current_year = now.year\n",
    "    digits_num = int(math.log10(year_value)) + 1\n",
    "    year_value = str(year_value)\n",
    "    if digits_num > 4:\n",
    "        year_value = year_value[-4:]\n",
    "    elif digits_num < 4:\n",
    "        year_value = current_year - int(year_value)\n",
    "    return int(year_value)\n",
    "\n",
    "\n",
    "def convert_age_to_list_range(age_item):\n",
    "    if \"-\" in age_item:\n",
    "        age_item = age_item.split(\"-\")\n",
    "        first_num = int(age_item[0])\n",
    "        second_num = int(age_item[1])\n",
    "        age_item = [first_num, second_num]\n",
    "    else:\n",
    "        age_item = age_item.split(\"+\")\n",
    "        first_num = int(age_item[0])\n",
    "        second_num = 100\n",
    "        age_item = [first_num, second_num]\n",
    "    return age_item\n"
   ]
  },
  {
   "cell_type": "markdown",
   "metadata": {},
   "source": [
    "### Missing Values"
   ]
  },
  {
   "cell_type": "markdown",
   "metadata": {},
   "source": [
    "#### Dropping all the rows with null values"
   ]
  },
  {
   "cell_type": "code",
   "execution_count": null,
   "metadata": {},
   "outputs": [],
   "source": [
    "file = file.dropna()\n",
    "file = file.reset_index(drop=True)\n",
    "file.info()"
   ]
  },
  {
   "cell_type": "markdown",
   "metadata": {},
   "source": [
    "#### Exploring the Birth Year and Age"
   ]
  },
  {
   "cell_type": "code",
   "execution_count": null,
   "metadata": {},
   "outputs": [],
   "source": [
    "file[['Birth_year', 'Age']]"
   ]
  },
  {
   "cell_type": "markdown",
   "metadata": {},
   "source": [
    "Using a helper method clean_birth_year() to clean the years: from a more than 4-digit number takes only last 4 digits, for each 2 digit number subtracts the number from the current year to find the birth year "
   ]
  },
  {
   "cell_type": "code",
   "execution_count": 12,
   "metadata": {},
   "outputs": [
    {
     "data": {
      "application/javascript": [
       "\n",
       "            setTimeout(function() {\n",
       "                var nbb_cell_id = 12;\n",
       "                var nbb_unformatted_code = \"file[\\\"Birth_year\\\"] = file[\\\"Birth_year\\\"].apply(clean_birth_year)\";\n",
       "                var nbb_formatted_code = \"file[\\\"Birth_year\\\"] = file[\\\"Birth_year\\\"].apply(clean_birth_year)\";\n",
       "                var nbb_cells = Jupyter.notebook.get_cells();\n",
       "                for (var i = 0; i < nbb_cells.length; ++i) {\n",
       "                    if (nbb_cells[i].input_prompt_number == nbb_cell_id) {\n",
       "                        if (nbb_cells[i].get_text() == nbb_unformatted_code) {\n",
       "                             nbb_cells[i].set_text(nbb_formatted_code);\n",
       "                        }\n",
       "                        break;\n",
       "                    }\n",
       "                }\n",
       "            }, 500);\n",
       "            "
      ],
      "text/plain": [
       "<IPython.core.display.Javascript object>"
      ]
     },
     "metadata": {},
     "output_type": "display_data"
    }
   ],
   "source": [
    "file[\"Birth_year\"] = file[\"Birth_year\"].apply(clean_birth_year)"
   ]
  },
  {
   "cell_type": "markdown",
   "metadata": {},
   "source": [
    "Subtracting from the current year the birth year (to explore if it is in the age range)"
   ]
  },
  {
   "cell_type": "code",
   "execution_count": 13,
   "metadata": {},
   "outputs": [
    {
     "data": {
      "application/javascript": [
       "\n",
       "            setTimeout(function() {\n",
       "                var nbb_cell_id = 13;\n",
       "                var nbb_unformatted_code = \"ages_calculated_by_birth_year = []\\nnow = datetime.datetime.now()\\ncurrent_year = now.year\\nfor i in file[\\\"Birth_year\\\"]:\\n    age = current_year - i\\n    ages_calculated_by_birth_year.append(age)\\n\\nfile[\\\"Age_by_birth_year\\\"] = ages_calculated_by_birth_year\";\n",
       "                var nbb_formatted_code = \"ages_calculated_by_birth_year = []\\nnow = datetime.datetime.now()\\ncurrent_year = now.year\\nfor i in file[\\\"Birth_year\\\"]:\\n    age = current_year - i\\n    ages_calculated_by_birth_year.append(age)\\n\\nfile[\\\"Age_by_birth_year\\\"] = ages_calculated_by_birth_year\";\n",
       "                var nbb_cells = Jupyter.notebook.get_cells();\n",
       "                for (var i = 0; i < nbb_cells.length; ++i) {\n",
       "                    if (nbb_cells[i].input_prompt_number == nbb_cell_id) {\n",
       "                        if (nbb_cells[i].get_text() == nbb_unformatted_code) {\n",
       "                             nbb_cells[i].set_text(nbb_formatted_code);\n",
       "                        }\n",
       "                        break;\n",
       "                    }\n",
       "                }\n",
       "            }, 500);\n",
       "            "
      ],
      "text/plain": [
       "<IPython.core.display.Javascript object>"
      ]
     },
     "metadata": {},
     "output_type": "display_data"
    }
   ],
   "source": [
    "ages_calculated_by_birth_year = []\n",
    "now = datetime.datetime.now()\n",
    "current_year = now.year\n",
    "for i in file[\"Birth_year\"]:\n",
    "    age = current_year - i\n",
    "    ages_calculated_by_birth_year.append(age)\n",
    "\n",
    "file[\"Age_by_birth_year\"] = ages_calculated_by_birth_year"
   ]
  },
  {
   "cell_type": "markdown",
   "metadata": {},
   "source": [
    "Converting Age string into a list of 2 values"
   ]
  },
  {
   "cell_type": "code",
   "execution_count": 14,
   "metadata": {},
   "outputs": [
    {
     "data": {
      "application/javascript": [
       "\n",
       "            setTimeout(function() {\n",
       "                var nbb_cell_id = 14;\n",
       "                var nbb_unformatted_code = \"file[\\\"Age\\\"] = file[\\\"Age\\\"].apply(convert_age_to_list_range)\";\n",
       "                var nbb_formatted_code = \"file[\\\"Age\\\"] = file[\\\"Age\\\"].apply(convert_age_to_list_range)\";\n",
       "                var nbb_cells = Jupyter.notebook.get_cells();\n",
       "                for (var i = 0; i < nbb_cells.length; ++i) {\n",
       "                    if (nbb_cells[i].input_prompt_number == nbb_cell_id) {\n",
       "                        if (nbb_cells[i].get_text() == nbb_unformatted_code) {\n",
       "                             nbb_cells[i].set_text(nbb_formatted_code);\n",
       "                        }\n",
       "                        break;\n",
       "                    }\n",
       "                }\n",
       "            }, 500);\n",
       "            "
      ],
      "text/plain": [
       "<IPython.core.display.Javascript object>"
      ]
     },
     "metadata": {},
     "output_type": "display_data"
    }
   ],
   "source": [
    "file[\"Age\"] = file[\"Age\"].apply(convert_age_to_list_range)"
   ]
  },
  {
   "cell_type": "markdown",
   "metadata": {},
   "source": [
    "Comparing \"Age\" and \"Age_by_birth_year\" column values"
   ]
  },
  {
   "cell_type": "code",
   "execution_count": null,
   "metadata": {},
   "outputs": [],
   "source": [
    "file[[\"Age_by_birth_year\", \"Age\"]]"
   ]
  },
  {
   "cell_type": "markdown",
   "metadata": {},
   "source": [
    "The data exploration above proves that the Age range and Age data can be trusted now\n"
   ]
  },
  {
   "cell_type": "markdown",
   "metadata": {},
   "source": [
    "## 5. Exploratory Data Visualization"
   ]
  },
  {
   "cell_type": "markdown",
   "metadata": {},
   "source": [
    "Setting the seaborn formatting"
   ]
  },
  {
   "cell_type": "code",
   "execution_count": 15,
   "metadata": {},
   "outputs": [
    {
     "data": {
      "application/javascript": [
       "\n",
       "            setTimeout(function() {\n",
       "                var nbb_cell_id = 15;\n",
       "                var nbb_unformatted_code = \"sns.set()\";\n",
       "                var nbb_formatted_code = \"sns.set()\";\n",
       "                var nbb_cells = Jupyter.notebook.get_cells();\n",
       "                for (var i = 0; i < nbb_cells.length; ++i) {\n",
       "                    if (nbb_cells[i].input_prompt_number == nbb_cell_id) {\n",
       "                        if (nbb_cells[i].get_text() == nbb_unformatted_code) {\n",
       "                             nbb_cells[i].set_text(nbb_formatted_code);\n",
       "                        }\n",
       "                        break;\n",
       "                    }\n",
       "                }\n",
       "            }, 500);\n",
       "            "
      ],
      "text/plain": [
       "<IPython.core.display.Javascript object>"
      ]
     },
     "metadata": {},
     "output_type": "display_data"
    }
   ],
   "source": [
    "sns.set()"
   ]
  },
  {
   "cell_type": "markdown",
   "metadata": {},
   "source": [
    "Creating a function to draw scatter plots"
   ]
  },
  {
   "cell_type": "code",
   "execution_count": null,
   "metadata": {},
   "outputs": [],
   "source": [
    "file.columns"
   ]
  },
  {
   "cell_type": "code",
   "execution_count": 189,
   "metadata": {},
   "outputs": [
    {
     "data": {
      "application/javascript": [
       "\n",
       "            setTimeout(function() {\n",
       "                var nbb_cell_id = 189;\n",
       "                var nbb_unformatted_code = \"def draw_scatter(x, y, x_label, y_label, title):\\n    sns.scatterplot(\\n        data=file,\\n        x=file[x],\\n        y=file[y],\\n        hue=file[\\\"Gender\\\"],\\n        palette=dict({\\\"Woman\\\": \\\"darkred\\\", \\\"Man\\\": \\\"blue\\\"}),\\n    )\\n    sns.despine()\\n    plt.xlabel(x_label)\\n    plt.ylabel(y_label)\\n    plt.title(title, fontsize=15)\\n    plt.show()\";\n",
       "                var nbb_formatted_code = \"def draw_scatter(x, y, x_label, y_label, title):\\n    sns.scatterplot(\\n        data=file,\\n        x=file[x],\\n        y=file[y],\\n        hue=file[\\\"Gender\\\"],\\n        palette=dict({\\\"Woman\\\": \\\"darkred\\\", \\\"Man\\\": \\\"blue\\\"}),\\n    )\\n    sns.despine()\\n    plt.xlabel(x_label)\\n    plt.ylabel(y_label)\\n    plt.title(title, fontsize=15)\\n    plt.show()\";\n",
       "                var nbb_cells = Jupyter.notebook.get_cells();\n",
       "                for (var i = 0; i < nbb_cells.length; ++i) {\n",
       "                    if (nbb_cells[i].input_prompt_number == nbb_cell_id) {\n",
       "                        if (nbb_cells[i].get_text() == nbb_unformatted_code) {\n",
       "                             nbb_cells[i].set_text(nbb_formatted_code);\n",
       "                        }\n",
       "                        break;\n",
       "                    }\n",
       "                }\n",
       "            }, 500);\n",
       "            "
      ],
      "text/plain": [
       "<IPython.core.display.Javascript object>"
      ]
     },
     "metadata": {},
     "output_type": "display_data"
    }
   ],
   "source": [
    "def draw_scatter(x, y, x_label, y_label, title):\n",
    "    sns.scatterplot(\n",
    "        data=file,\n",
    "        x=file[x],\n",
    "        y=file[y],\n",
    "        hue=file[\"Gender\"],\n",
    "        palette=dict({\"Woman\": \"darkred\", \"Man\": \"blue\"}),\n",
    "    )\n",
    "    sns.despine()\n",
    "    plt.xlabel(x_label)\n",
    "    plt.ylabel(y_label)\n",
    "    plt.title(title, fontsize=15)\n",
    "    plt.show()"
   ]
  },
  {
   "cell_type": "markdown",
   "metadata": {},
   "source": [
    "Defining column combinations to draw scatter plots"
   ]
  },
  {
   "cell_type": "code",
   "execution_count": 187,
   "metadata": {},
   "outputs": [
    {
     "data": {
      "application/javascript": [
       "\n",
       "            setTimeout(function() {\n",
       "                var nbb_cell_id = 187;\n",
       "                var nbb_unformatted_code = \"scatter_configs = [\\n    [\\n        \\\"Average_grade\\\",\\n        \\\"Age_by_birth_year\\\",\\n        \\\"Average Mark\\\",\\n        \\\"Age\\\",\\n        \\\"Student Age vs Average Grade\\\",\\n    ],\\n    [\\n        \\\"Average_grade\\\",\\n        \\\"Modules_num\\\",\\n        \\\"Average Mark\\\",\\n        \\\"Number of Completed Modules\\\",\\n        \\\"Number of Completed Modules vs Average Grade\\\",\\n    ],\\n    [\\n        \\\"Average_grade\\\",\\n        \\\"Kids\\\",\\n        \\\"Average Mark\\\",\\n        \\\"Number of Kids\\\",\\n        \\\"Number of Kids vs Average Grade\\\",\\n    ],\\n]\";\n",
       "                var nbb_formatted_code = \"scatter_configs = [\\n    [\\n        \\\"Average_grade\\\",\\n        \\\"Age_by_birth_year\\\",\\n        \\\"Average Mark\\\",\\n        \\\"Age\\\",\\n        \\\"Student Age vs Average Grade\\\",\\n    ],\\n    [\\n        \\\"Average_grade\\\",\\n        \\\"Modules_num\\\",\\n        \\\"Average Mark\\\",\\n        \\\"Number of Completed Modules\\\",\\n        \\\"Number of Completed Modules vs Average Grade\\\",\\n    ],\\n    [\\n        \\\"Average_grade\\\",\\n        \\\"Kids\\\",\\n        \\\"Average Mark\\\",\\n        \\\"Number of Kids\\\",\\n        \\\"Number of Kids vs Average Grade\\\",\\n    ],\\n]\";\n",
       "                var nbb_cells = Jupyter.notebook.get_cells();\n",
       "                for (var i = 0; i < nbb_cells.length; ++i) {\n",
       "                    if (nbb_cells[i].input_prompt_number == nbb_cell_id) {\n",
       "                        if (nbb_cells[i].get_text() == nbb_unformatted_code) {\n",
       "                             nbb_cells[i].set_text(nbb_formatted_code);\n",
       "                        }\n",
       "                        break;\n",
       "                    }\n",
       "                }\n",
       "            }, 500);\n",
       "            "
      ],
      "text/plain": [
       "<IPython.core.display.Javascript object>"
      ]
     },
     "metadata": {},
     "output_type": "display_data"
    }
   ],
   "source": [
    "scatter_configs = [\n",
    "    [\n",
    "        \"Average_grade\",\n",
    "        \"Age_by_birth_year\",\n",
    "        \"Average Mark\",\n",
    "        \"Age\",\n",
    "        \"Student Age vs Average Grade\",\n",
    "    ],\n",
    "    [\n",
    "        \"Average_grade\",\n",
    "        \"Modules_num\",\n",
    "        \"Average Mark\",\n",
    "        \"Number of Completed Modules\",\n",
    "        \"Number of Completed Modules vs Average Grade\",\n",
    "    ],\n",
    "    [\n",
    "        \"Average_grade\",\n",
    "        \"Kids\",\n",
    "        \"Average Mark\",\n",
    "        \"Number of Kids\",\n",
    "        \"Number of Kids vs Average Grade\",\n",
    "    ],\n",
    "]"
   ]
  },
  {
   "cell_type": "markdown",
   "metadata": {},
   "source": [
    "Drawing scatter plots in iterations to find correlations"
   ]
  },
  {
   "cell_type": "code",
   "execution_count": null,
   "metadata": {},
   "outputs": [],
   "source": [
    "for i in scatter_configs:\n",
    "    draw_scatter(*i)"
   ]
  },
  {
   "cell_type": "markdown",
   "metadata": {},
   "source": [
    "Conclusions: the grade of 120 is likely to be en error, because the max grade is 100. The grades below 50 shall be examined closer. The grades below 20 should be invetigated since this is a strong failing grade. "
   ]
  },
  {
   "cell_type": "markdown",
   "metadata": {},
   "source": [
    "**Dropping the errors**"
   ]
  },
  {
   "cell_type": "code",
   "execution_count": 16,
   "metadata": {},
   "outputs": [
    {
     "name": "stdout",
     "output_type": "stream",
     "text": [
      "58   2.0\n",
      "81   120.0\n",
      "90   1.0\n",
      "98   5.0\n"
     ]
    },
    {
     "data": {
      "application/javascript": [
       "\n",
       "            setTimeout(function() {\n",
       "                var nbb_cell_id = 16;\n",
       "                var nbb_unformatted_code = \"outlier_indexes_grade = []\\nfor i in range(len(file)):\\n    if (file[\\\"Average_grade\\\"][i] > 100) or (file[\\\"Average_grade\\\"][i] <= 5):\\n        print(i, \\\" \\\", file[\\\"Average_grade\\\"][i])\\n        outlier_indexes_grade.append(i)\";\n",
       "                var nbb_formatted_code = \"outlier_indexes_grade = []\\nfor i in range(len(file)):\\n    if (file[\\\"Average_grade\\\"][i] > 100) or (file[\\\"Average_grade\\\"][i] <= 5):\\n        print(i, \\\" \\\", file[\\\"Average_grade\\\"][i])\\n        outlier_indexes_grade.append(i)\";\n",
       "                var nbb_cells = Jupyter.notebook.get_cells();\n",
       "                for (var i = 0; i < nbb_cells.length; ++i) {\n",
       "                    if (nbb_cells[i].input_prompt_number == nbb_cell_id) {\n",
       "                        if (nbb_cells[i].get_text() == nbb_unformatted_code) {\n",
       "                             nbb_cells[i].set_text(nbb_formatted_code);\n",
       "                        }\n",
       "                        break;\n",
       "                    }\n",
       "                }\n",
       "            }, 500);\n",
       "            "
      ],
      "text/plain": [
       "<IPython.core.display.Javascript object>"
      ]
     },
     "metadata": {},
     "output_type": "display_data"
    }
   ],
   "source": [
    "outlier_indexes_grade = []\n",
    "for i in range(len(file)):\n",
    "    if (file[\"Average_grade\"][i] > 100) or (file[\"Average_grade\"][i] <= 5):\n",
    "        print(i, \" \", file[\"Average_grade\"][i])\n",
    "        outlier_indexes_grade.append(i)"
   ]
  },
  {
   "cell_type": "code",
   "execution_count": 17,
   "metadata": {},
   "outputs": [
    {
     "data": {
      "application/javascript": [
       "\n",
       "            setTimeout(function() {\n",
       "                var nbb_cell_id = 17;\n",
       "                var nbb_unformatted_code = \"file = file.drop(outlier_indexes_grade)\\nfile = file.reset_index(drop=True)\";\n",
       "                var nbb_formatted_code = \"file = file.drop(outlier_indexes_grade)\\nfile = file.reset_index(drop=True)\";\n",
       "                var nbb_cells = Jupyter.notebook.get_cells();\n",
       "                for (var i = 0; i < nbb_cells.length; ++i) {\n",
       "                    if (nbb_cells[i].input_prompt_number == nbb_cell_id) {\n",
       "                        if (nbb_cells[i].get_text() == nbb_unformatted_code) {\n",
       "                             nbb_cells[i].set_text(nbb_formatted_code);\n",
       "                        }\n",
       "                        break;\n",
       "                    }\n",
       "                }\n",
       "            }, 500);\n",
       "            "
      ],
      "text/plain": [
       "<IPython.core.display.Javascript object>"
      ]
     },
     "metadata": {},
     "output_type": "display_data"
    }
   ],
   "source": [
    "file = file.drop(outlier_indexes_grade)\n",
    "file = file.reset_index(drop=True)"
   ]
  },
  {
   "cell_type": "markdown",
   "metadata": {},
   "source": [
    "Visualing the data after cleaning the errors"
   ]
  },
  {
   "cell_type": "code",
   "execution_count": 190,
   "metadata": {},
   "outputs": [
    {
     "data": {
      "image/png": "[encoded data removed]",
      "text/plain": [
       "<Figure size 432x288 with 1 Axes>"
      ]
     },
     "metadata": {},
     "output_type": "display_data"
    },
    {
     "data": {
      "image/png": "[encoded data removed]",
      "text/plain": [
       "<Figure size 432x288 with 1 Axes>"
      ]
     },
     "metadata": {},
     "output_type": "display_data"
    },
    {
     "data": {
      "image/png": "[encoded data removed]",
      "text/plain": [
       "<Figure size 432x288 with 1 Axes>"
      ]
     },
     "metadata": {},
     "output_type": "display_data"
    },
    {
     "data": {
      "application/javascript": [
       "\n",
       "            setTimeout(function() {\n",
       "                var nbb_cell_id = 190;\n",
       "                var nbb_unformatted_code = \"for i in scatter_configs:\\n    draw_scatter(*i)\";\n",
       "                var nbb_formatted_code = \"for i in scatter_configs:\\n    draw_scatter(*i)\";\n",
       "                var nbb_cells = Jupyter.notebook.get_cells();\n",
       "                for (var i = 0; i < nbb_cells.length; ++i) {\n",
       "                    if (nbb_cells[i].input_prompt_number == nbb_cell_id) {\n",
       "                        if (nbb_cells[i].get_text() == nbb_unformatted_code) {\n",
       "                             nbb_cells[i].set_text(nbb_formatted_code);\n",
       "                        }\n",
       "                        break;\n",
       "                    }\n",
       "                }\n",
       "            }, 500);\n",
       "            "
      ],
      "text/plain": [
       "<IPython.core.display.Javascript object>"
      ]
     },
     "metadata": {},
     "output_type": "display_data"
    }
   ],
   "source": [
    "for i in scatter_configs:\n",
    "    draw_scatter(*i)"
   ]
  },
  {
   "cell_type": "markdown",
   "metadata": {},
   "source": [
    "**Conclusions:** Age and Average Grade columns show a slight positive correlation for Males in the visualizations, therefore, the correlations are calculated below "
   ]
  },
  {
   "cell_type": "markdown",
   "metadata": {},
   "source": [
    "**Calculating correlations**"
   ]
  },
  {
   "cell_type": "code",
   "execution_count": null,
   "metadata": {},
   "outputs": [],
   "source": [
    "man = file[file[\"Gender\"] == \"Man\"]\n",
    "age_grade_correlation_males = man[\"Age_by_birth_year\"].corr(man[\"Average_grade\"])\n",
    "age_grade_correlation_males"
   ]
  },
  {
   "cell_type": "code",
   "execution_count": null,
   "metadata": {},
   "outputs": [],
   "source": [
    "age_grade_correlation = file[\"Age_by_birth_year\"].corr(file[\"Average_grade\"])\n",
    "age_grade_correlation"
   ]
  },
  {
   "cell_type": "markdown",
   "metadata": {},
   "source": [
    "Calculating all possible correlations in the data above the strength of 0.5"
   ]
  },
  {
   "cell_type": "code",
   "execution_count": null,
   "metadata": {},
   "outputs": [],
   "source": [
    "file.corr()[[\"Kids\", \"Average_grade\", \"Age_by_birth_year\", \"Modules_num\"]][\n",
    "    (file.corr()[[\"Kids\", \"Average_grade\", \"Age_by_birth_year\", \"Modules_num\"]] >= 0.05)\n",
    "    | (\n",
    "        file.corr()[[\"Kids\", \"Average_grade\", \"Age_by_birth_year\", \"Modules_num\"]]\n",
    "        <= -0.05\n",
    "    )\n",
    "]"
   ]
  },
  {
   "cell_type": "code",
   "execution_count": null,
   "metadata": {},
   "outputs": [],
   "source": [
    "file.columns"
   ]
  },
  {
   "cell_type": "markdown",
   "metadata": {},
   "source": [
    "Replacing categorical data with number encodings in order to calculate correlations"
   ]
  },
  {
   "cell_type": "code",
   "execution_count": null,
   "metadata": {},
   "outputs": [],
   "source": [
    "file[\"Gender\"].value_counts()"
   ]
  },
  {
   "cell_type": "code",
   "execution_count": 191,
   "metadata": {
    "scrolled": true
   },
   "outputs": [
    {
     "data": {
      "text/plain": [
       "0    61\n",
       "1    44\n",
       "Name: Gender, dtype: int64"
      ]
     },
     "execution_count": 191,
     "metadata": {},
     "output_type": "execute_result"
    },
    {
     "data": {
      "application/javascript": [
       "\n",
       "            setTimeout(function() {\n",
       "                var nbb_cell_id = 191;\n",
       "                var nbb_unformatted_code = \"file[\\\"Gender\\\"] = file[\\\"Gender\\\"].astype(\\\"category\\\")\\nfile[\\\"Gender\\\"] = file[\\\"Gender\\\"].cat.rename_categories({\\\"Man\\\": 0, \\\"Woman\\\": 1})\\nfile[\\\"Gender\\\"].value_counts()\";\n",
       "                var nbb_formatted_code = \"file[\\\"Gender\\\"] = file[\\\"Gender\\\"].astype(\\\"category\\\")\\nfile[\\\"Gender\\\"] = file[\\\"Gender\\\"].cat.rename_categories({\\\"Man\\\": 0, \\\"Woman\\\": 1})\\nfile[\\\"Gender\\\"].value_counts()\";\n",
       "                var nbb_cells = Jupyter.notebook.get_cells();\n",
       "                for (var i = 0; i < nbb_cells.length; ++i) {\n",
       "                    if (nbb_cells[i].input_prompt_number == nbb_cell_id) {\n",
       "                        if (nbb_cells[i].get_text() == nbb_unformatted_code) {\n",
       "                             nbb_cells[i].set_text(nbb_formatted_code);\n",
       "                        }\n",
       "                        break;\n",
       "                    }\n",
       "                }\n",
       "            }, 500);\n",
       "            "
      ],
      "text/plain": [
       "<IPython.core.display.Javascript object>"
      ]
     },
     "metadata": {},
     "output_type": "display_data"
    }
   ],
   "source": [
    "file[\"Gender\"] = file[\"Gender\"].astype(\"category\")\n",
    "file[\"Gender\"] = file[\"Gender\"].cat.rename_categories({\"Man\": 0, \"Woman\": 1})\n",
    "file[\"Gender\"].value_counts()"
   ]
  },
  {
   "cell_type": "code",
   "execution_count": null,
   "metadata": {
    "scrolled": true
   },
   "outputs": [],
   "source": [
    "file[\"Gender\"].corr(file[\"Average_grade\"])"
   ]
  },
  {
   "cell_type": "code",
   "execution_count": null,
   "metadata": {
    "scrolled": true
   },
   "outputs": [],
   "source": [
    "file[\"Excited_data\"].value_counts()"
   ]
  },
  {
   "cell_type": "code",
   "execution_count": 192,
   "metadata": {},
   "outputs": [
    {
     "data": {
      "text/plain": [
       "3    47\n",
       "4    35\n",
       "2    20\n",
       "1     2\n",
       "0     1\n",
       "Name: Excited_data, dtype: int64"
      ]
     },
     "execution_count": 192,
     "metadata": {},
     "output_type": "execute_result"
    },
    {
     "data": {
      "application/javascript": [
       "\n",
       "            setTimeout(function() {\n",
       "                var nbb_cell_id = 192;\n",
       "                var nbb_unformatted_code = \"file[\\\"Excited_data\\\"] = file[\\\"Excited_data\\\"].astype(\\\"category\\\")\\nfile[\\\"Excited_data\\\"] = file[\\\"Excited_data\\\"].cat.rename_categories(\\n    {\\n        \\\"Completely Disagree\\\": 0,\\n        \\\"Disagree\\\": 1,\\n        \\\"Meh\\\": 2,\\n        \\\"Agree\\\": 3,\\n        \\\"Completely Agree\\\": 4,\\n    }\\n)\\nfile[\\\"Excited_data\\\"].value_counts()\";\n",
       "                var nbb_formatted_code = \"file[\\\"Excited_data\\\"] = file[\\\"Excited_data\\\"].astype(\\\"category\\\")\\nfile[\\\"Excited_data\\\"] = file[\\\"Excited_data\\\"].cat.rename_categories(\\n    {\\n        \\\"Completely Disagree\\\": 0,\\n        \\\"Disagree\\\": 1,\\n        \\\"Meh\\\": 2,\\n        \\\"Agree\\\": 3,\\n        \\\"Completely Agree\\\": 4,\\n    }\\n)\\nfile[\\\"Excited_data\\\"].value_counts()\";\n",
       "                var nbb_cells = Jupyter.notebook.get_cells();\n",
       "                for (var i = 0; i < nbb_cells.length; ++i) {\n",
       "                    if (nbb_cells[i].input_prompt_number == nbb_cell_id) {\n",
       "                        if (nbb_cells[i].get_text() == nbb_unformatted_code) {\n",
       "                             nbb_cells[i].set_text(nbb_formatted_code);\n",
       "                        }\n",
       "                        break;\n",
       "                    }\n",
       "                }\n",
       "            }, 500);\n",
       "            "
      ],
      "text/plain": [
       "<IPython.core.display.Javascript object>"
      ]
     },
     "metadata": {},
     "output_type": "display_data"
    }
   ],
   "source": [
    "file[\"Excited_data\"] = file[\"Excited_data\"].astype(\"category\")\n",
    "file[\"Excited_data\"] = file[\"Excited_data\"].cat.rename_categories(\n",
    "    {\n",
    "        \"Completely Disagree\": 0,\n",
    "        \"Disagree\": 1,\n",
    "        \"Meh\": 2,\n",
    "        \"Agree\": 3,\n",
    "        \"Completely Agree\": 4,\n",
    "    }\n",
    ")\n",
    "file[\"Excited_data\"].value_counts()"
   ]
  },
  {
   "cell_type": "code",
   "execution_count": null,
   "metadata": {},
   "outputs": [],
   "source": [
    "file[\"Enjoy_data\"].value_counts()"
   ]
  },
  {
   "cell_type": "code",
   "execution_count": 194,
   "metadata": {},
   "outputs": [
    {
     "data": {
      "text/plain": [
       "2    56\n",
       "3    36\n",
       "1    11\n",
       "0     2\n",
       "Name: Enjoy_data, dtype: int64"
      ]
     },
     "execution_count": 194,
     "metadata": {},
     "output_type": "execute_result"
    },
    {
     "data": {
      "application/javascript": [
       "\n",
       "            setTimeout(function() {\n",
       "                var nbb_cell_id = 194;\n",
       "                var nbb_unformatted_code = \"file[\\\"Enjoy_data\\\"] = file[\\\"Enjoy_data\\\"].astype(\\\"category\\\")\\nfile[\\\"Enjoy_data\\\"] = file[\\\"Enjoy_data\\\"].cat.rename_categories(\\n    {\\n        \\\"Disagree\\\": 0,\\n        \\\"Meh\\\": 1,\\n        \\\"Agree\\\": 2,\\n        \\\"Completely Agree\\\": 3,\\n    }\\n)\\nfile[\\\"Enjoy_data\\\"].value_counts()\";\n",
       "                var nbb_formatted_code = \"file[\\\"Enjoy_data\\\"] = file[\\\"Enjoy_data\\\"].astype(\\\"category\\\")\\nfile[\\\"Enjoy_data\\\"] = file[\\\"Enjoy_data\\\"].cat.rename_categories(\\n    {\\n        \\\"Disagree\\\": 0,\\n        \\\"Meh\\\": 1,\\n        \\\"Agree\\\": 2,\\n        \\\"Completely Agree\\\": 3,\\n    }\\n)\\nfile[\\\"Enjoy_data\\\"].value_counts()\";\n",
       "                var nbb_cells = Jupyter.notebook.get_cells();\n",
       "                for (var i = 0; i < nbb_cells.length; ++i) {\n",
       "                    if (nbb_cells[i].input_prompt_number == nbb_cell_id) {\n",
       "                        if (nbb_cells[i].get_text() == nbb_unformatted_code) {\n",
       "                             nbb_cells[i].set_text(nbb_formatted_code);\n",
       "                        }\n",
       "                        break;\n",
       "                    }\n",
       "                }\n",
       "            }, 500);\n",
       "            "
      ],
      "text/plain": [
       "<IPython.core.display.Javascript object>"
      ]
     },
     "metadata": {},
     "output_type": "display_data"
    }
   ],
   "source": [
    "file[\"Enjoy_data\"] = file[\"Enjoy_data\"].astype(\"category\")\n",
    "file[\"Enjoy_data\"] = file[\"Enjoy_data\"].cat.rename_categories(\n",
    "    {\n",
    "        \"Disagree\": 0,\n",
    "        \"Meh\": 1,\n",
    "        \"Agree\": 2,\n",
    "        \"Completely Agree\": 3,\n",
    "    }\n",
    ")\n",
    "file[\"Enjoy_data\"].value_counts()"
   ]
  },
  {
   "cell_type": "code",
   "execution_count": null,
   "metadata": {},
   "outputs": [],
   "source": [
    "file[\"Gender\"].corr(file[\"Enjoy_data\"])"
   ]
  },
  {
   "cell_type": "markdown",
   "metadata": {},
   "source": [
    "Visualing correlations in categorical data"
   ]
  },
  {
   "cell_type": "code",
   "execution_count": 197,
   "metadata": {},
   "outputs": [
    {
     "data": {
      "image/png": "[encoded data removed]",
      "text/plain": [
       "<Figure size 432x288 with 1 Axes>"
      ]
     },
     "metadata": {},
     "output_type": "display_data"
    },
    {
     "data": {
      "application/javascript": [
       "\n",
       "            setTimeout(function() {\n",
       "                var nbb_cell_id = 197;\n",
       "                var nbb_unformatted_code = \"sns.scatterplot(\\n    data=file,\\n    x=file[\\\"Gender\\\"],\\n    y=file[\\\"Excited_data\\\"],\\n)\\nsns.despine()\\nplt.xlabel(\\\"Gender\\\")\\nplt.ylabel(\\\"Excited about Working with Data\\\")\\nplt.title(\\\"Gender vs Excited about Working with Data\\\", fontsize=15)\\nplt.show()\";\n",
       "                var nbb_formatted_code = \"sns.scatterplot(\\n    data=file,\\n    x=file[\\\"Gender\\\"],\\n    y=file[\\\"Excited_data\\\"],\\n)\\nsns.despine()\\nplt.xlabel(\\\"Gender\\\")\\nplt.ylabel(\\\"Excited about Working with Data\\\")\\nplt.title(\\\"Gender vs Excited about Working with Data\\\", fontsize=15)\\nplt.show()\";\n",
       "                var nbb_cells = Jupyter.notebook.get_cells();\n",
       "                for (var i = 0; i < nbb_cells.length; ++i) {\n",
       "                    if (nbb_cells[i].input_prompt_number == nbb_cell_id) {\n",
       "                        if (nbb_cells[i].get_text() == nbb_unformatted_code) {\n",
       "                             nbb_cells[i].set_text(nbb_formatted_code);\n",
       "                        }\n",
       "                        break;\n",
       "                    }\n",
       "                }\n",
       "            }, 500);\n",
       "            "
      ],
      "text/plain": [
       "<IPython.core.display.Javascript object>"
      ]
     },
     "metadata": {},
     "output_type": "display_data"
    }
   ],
   "source": [
    "sns.scatterplot(\n",
    "    data=file,\n",
    "    x=file[\"Gender\"],\n",
    "    y=file[\"Excited_data\"],\n",
    ")\n",
    "sns.despine()\n",
    "plt.xlabel(\"Gender\")\n",
    "plt.ylabel(\"Excited about Working with Data\")\n",
    "plt.title(\"Gender vs Excited about Working with Data\", fontsize=15)\n",
    "plt.show()"
   ]
  },
  {
   "cell_type": "code",
   "execution_count": 196,
   "metadata": {},
   "outputs": [
    {
     "data": {
      "image/png": "[encoded data removed]",
      "text/plain": [
       "<Figure size 432x288 with 1 Axes>"
      ]
     },
     "metadata": {},
     "output_type": "display_data"
    },
    {
     "data": {
      "application/javascript": [
       "\n",
       "            setTimeout(function() {\n",
       "                var nbb_cell_id = 196;\n",
       "                var nbb_unformatted_code = \"sns.scatterplot(\\n    data=file,\\n    x=file[\\\"Gender\\\"],\\n    y=file[\\\"Enjoy_data\\\"],\\n)\\nsns.despine()\\nplt.xlabel(\\\"Gender\\\")\\nplt.ylabel(\\\"Enjoy Working with Data\\\")\\nplt.title(\\\"Gender vs Enjoy Working with Data\\\", fontsize=15)\\nplt.show()\";\n",
       "                var nbb_formatted_code = \"sns.scatterplot(\\n    data=file,\\n    x=file[\\\"Gender\\\"],\\n    y=file[\\\"Enjoy_data\\\"],\\n)\\nsns.despine()\\nplt.xlabel(\\\"Gender\\\")\\nplt.ylabel(\\\"Enjoy Working with Data\\\")\\nplt.title(\\\"Gender vs Enjoy Working with Data\\\", fontsize=15)\\nplt.show()\";\n",
       "                var nbb_cells = Jupyter.notebook.get_cells();\n",
       "                for (var i = 0; i < nbb_cells.length; ++i) {\n",
       "                    if (nbb_cells[i].input_prompt_number == nbb_cell_id) {\n",
       "                        if (nbb_cells[i].get_text() == nbb_unformatted_code) {\n",
       "                             nbb_cells[i].set_text(nbb_formatted_code);\n",
       "                        }\n",
       "                        break;\n",
       "                    }\n",
       "                }\n",
       "            }, 500);\n",
       "            "
      ],
      "text/plain": [
       "<IPython.core.display.Javascript object>"
      ]
     },
     "metadata": {},
     "output_type": "display_data"
    }
   ],
   "source": [
    "sns.scatterplot(\n",
    "    data=file,\n",
    "    x=file[\"Gender\"],\n",
    "    y=file[\"Enjoy_data\"],\n",
    ")\n",
    "sns.despine()\n",
    "plt.xlabel(\"Gender\")\n",
    "plt.ylabel(\"Enjoy Working with Data\")\n",
    "plt.title(\"Gender vs Enjoy Working with Data\", fontsize=15)\n",
    "plt.show()"
   ]
  },
  {
   "cell_type": "markdown",
   "metadata": {},
   "source": [
    "**Renaming the categories back not to interrupt other algorithms**"
   ]
  },
  {
   "cell_type": "code",
   "execution_count": 202,
   "metadata": {},
   "outputs": [
    {
     "data": {
      "application/javascript": [
       "\n",
       "            setTimeout(function() {\n",
       "                var nbb_cell_id = 202;\n",
       "                var nbb_unformatted_code = \"file[\\\"Gender\\\"] = file[\\\"Gender\\\"].cat.rename_categories([\\\"Man\\\", \\\"Woman\\\"])\\nfile[\\\"Enjoy_data\\\"] = file[\\\"Enjoy_data\\\"].cat.rename_categories(\\n    {0: \\\"Disagree\\\", 1: \\\"Meh\\\", 2: \\\"Agree\\\", 3: \\\"Completely Agree\\\"}\\n)\\nfile[\\\"Excited_data\\\"] = file[\\\"Excited_data\\\"].cat.rename_categories(\\n    {\\n        0: \\\"Completely Disagree\\\",\\n        1: \\\"Disagree\\\",\\n        2: \\\"Meh\\\",\\n        3: \\\"Agree\\\",\\n        4: \\\"Completely Agree\\\",\\n    }\\n)\";\n",
       "                var nbb_formatted_code = \"file[\\\"Gender\\\"] = file[\\\"Gender\\\"].cat.rename_categories([\\\"Man\\\", \\\"Woman\\\"])\\nfile[\\\"Enjoy_data\\\"] = file[\\\"Enjoy_data\\\"].cat.rename_categories(\\n    {0: \\\"Disagree\\\", 1: \\\"Meh\\\", 2: \\\"Agree\\\", 3: \\\"Completely Agree\\\"}\\n)\\nfile[\\\"Excited_data\\\"] = file[\\\"Excited_data\\\"].cat.rename_categories(\\n    {\\n        0: \\\"Completely Disagree\\\",\\n        1: \\\"Disagree\\\",\\n        2: \\\"Meh\\\",\\n        3: \\\"Agree\\\",\\n        4: \\\"Completely Agree\\\",\\n    }\\n)\";\n",
       "                var nbb_cells = Jupyter.notebook.get_cells();\n",
       "                for (var i = 0; i < nbb_cells.length; ++i) {\n",
       "                    if (nbb_cells[i].input_prompt_number == nbb_cell_id) {\n",
       "                        if (nbb_cells[i].get_text() == nbb_unformatted_code) {\n",
       "                             nbb_cells[i].set_text(nbb_formatted_code);\n",
       "                        }\n",
       "                        break;\n",
       "                    }\n",
       "                }\n",
       "            }, 500);\n",
       "            "
      ],
      "text/plain": [
       "<IPython.core.display.Javascript object>"
      ]
     },
     "metadata": {},
     "output_type": "display_data"
    }
   ],
   "source": [
    "file[\"Gender\"] = file[\"Gender\"].cat.rename_categories([\"Man\", \"Woman\"])\n",
    "file[\"Enjoy_data\"] = file[\"Enjoy_data\"].cat.rename_categories(\n",
    "    {0: \"Disagree\", 1: \"Meh\", 2: \"Agree\", 3: \"Completely Agree\"}\n",
    ")\n",
    "file[\"Excited_data\"] = file[\"Excited_data\"].cat.rename_categories(\n",
    "    {\n",
    "        0: \"Completely Disagree\",\n",
    "        1: \"Disagree\",\n",
    "        2: \"Meh\",\n",
    "        3: \"Agree\",\n",
    "        4: \"Completely Agree\",\n",
    "    }\n",
    ")"
   ]
  },
  {
   "cell_type": "code",
   "execution_count": 198,
   "metadata": {},
   "outputs": [
    {
     "data": {
      "application/javascript": [
       "\n",
       "            setTimeout(function() {\n",
       "                var nbb_cell_id = 198;\n",
       "                var nbb_unformatted_code = \"scatter_configs_cor = [\\n    [\\n        \\\"Kids\\\",\\n        \\\"Age_by_birth_year\\\",\\n        \\\"Number of Kids\\\",\\n        \\\"Age\\\",\\n        \\\"Student Age vs Number of Kids\\\",\\n    ],\\n    [\\n        \\\"Modules_num\\\",\\n        \\\"Age_by_birth_year\\\",\\n        \\\"Number of Modules\\\",\\n        \\\"Age\\\",\\n        \\\"Student Age vs Number of Modules\\\",\\n    ],\\n    [\\n        \\\"Modules_num\\\",\\n        \\\"Prediction_grade\\\",\\n        \\\"Number of Modules\\\",\\n        \\\"Prediction Grade\\\",\\n        \\\"Number of Modules vs Prediction Grade\\\",\\n    ],\\n]\";\n",
       "                var nbb_formatted_code = \"scatter_configs_cor = [\\n    [\\n        \\\"Kids\\\",\\n        \\\"Age_by_birth_year\\\",\\n        \\\"Number of Kids\\\",\\n        \\\"Age\\\",\\n        \\\"Student Age vs Number of Kids\\\",\\n    ],\\n    [\\n        \\\"Modules_num\\\",\\n        \\\"Age_by_birth_year\\\",\\n        \\\"Number of Modules\\\",\\n        \\\"Age\\\",\\n        \\\"Student Age vs Number of Modules\\\",\\n    ],\\n    [\\n        \\\"Modules_num\\\",\\n        \\\"Prediction_grade\\\",\\n        \\\"Number of Modules\\\",\\n        \\\"Prediction Grade\\\",\\n        \\\"Number of Modules vs Prediction Grade\\\",\\n    ],\\n]\";\n",
       "                var nbb_cells = Jupyter.notebook.get_cells();\n",
       "                for (var i = 0; i < nbb_cells.length; ++i) {\n",
       "                    if (nbb_cells[i].input_prompt_number == nbb_cell_id) {\n",
       "                        if (nbb_cells[i].get_text() == nbb_unformatted_code) {\n",
       "                             nbb_cells[i].set_text(nbb_formatted_code);\n",
       "                        }\n",
       "                        break;\n",
       "                    }\n",
       "                }\n",
       "            }, 500);\n",
       "            "
      ],
      "text/plain": [
       "<IPython.core.display.Javascript object>"
      ]
     },
     "metadata": {},
     "output_type": "display_data"
    }
   ],
   "source": [
    "scatter_configs_cor = [\n",
    "    [\n",
    "        \"Kids\",\n",
    "        \"Age_by_birth_year\",\n",
    "        \"Number of Kids\",\n",
    "        \"Age\",\n",
    "        \"Student Age vs Number of Kids\",\n",
    "    ],\n",
    "    [\n",
    "        \"Modules_num\",\n",
    "        \"Age_by_birth_year\",\n",
    "        \"Number of Modules\",\n",
    "        \"Age\",\n",
    "        \"Student Age vs Number of Modules\",\n",
    "    ],\n",
    "    [\n",
    "        \"Modules_num\",\n",
    "        \"Prediction_grade\",\n",
    "        \"Number of Modules\",\n",
    "        \"Prediction Grade\",\n",
    "        \"Number of Modules vs Prediction Grade\",\n",
    "    ],\n",
    "]"
   ]
  },
  {
   "cell_type": "code",
   "execution_count": 201,
   "metadata": {},
   "outputs": [
    {
     "data": {
      "image/png": "[encoded data removed]",
      "text/plain": [
       "<Figure size 432x288 with 1 Axes>"
      ]
     },
     "metadata": {},
     "output_type": "display_data"
    },
    {
     "data": {
      "image/png": "[encoded data removed]",
      "text/plain": [
       "<Figure size 432x288 with 1 Axes>"
      ]
     },
     "metadata": {},
     "output_type": "display_data"
    },
    {
     "data": {
      "image/png": "[encoded data removed]",
      "text/plain": [
       "<Figure size 432x288 with 1 Axes>"
      ]
     },
     "metadata": {},
     "output_type": "display_data"
    },
    {
     "data": {
      "application/javascript": [
       "\n",
       "            setTimeout(function() {\n",
       "                var nbb_cell_id = 201;\n",
       "                var nbb_unformatted_code = \"for i in scatter_configs_cor:\\n    draw_scatter(*i)\";\n",
       "                var nbb_formatted_code = \"for i in scatter_configs_cor:\\n    draw_scatter(*i)\";\n",
       "                var nbb_cells = Jupyter.notebook.get_cells();\n",
       "                for (var i = 0; i < nbb_cells.length; ++i) {\n",
       "                    if (nbb_cells[i].input_prompt_number == nbb_cell_id) {\n",
       "                        if (nbb_cells[i].get_text() == nbb_unformatted_code) {\n",
       "                             nbb_cells[i].set_text(nbb_formatted_code);\n",
       "                        }\n",
       "                        break;\n",
       "                    }\n",
       "                }\n",
       "            }, 500);\n",
       "            "
      ],
      "text/plain": [
       "<IPython.core.display.Javascript object>"
      ]
     },
     "metadata": {},
     "output_type": "display_data"
    }
   ],
   "source": [
    "for i in scatter_configs_cor:\n",
    "    draw_scatter(*i)"
   ]
  },
  {
   "cell_type": "markdown",
   "metadata": {},
   "source": [
    "**Visualing Average Grade in combination with other columns to find relations**"
   ]
  },
  {
   "cell_type": "code",
   "execution_count": 182,
   "metadata": {},
   "outputs": [
    {
     "data": {
      "text/plain": [
       "Text(0.5, 1.0, 'Grade vs Number of Kids by Gender')"
      ]
     },
     "execution_count": 182,
     "metadata": {},
     "output_type": "execute_result"
    },
    {
     "data": {
      "image/png": "[encoded data removed]",
      "text/plain": [
       "<Figure size 1152x720 with 4 Axes>"
      ]
     },
     "metadata": {},
     "output_type": "display_data"
    },
    {
     "data": {
      "application/javascript": [
       "\n",
       "            setTimeout(function() {\n",
       "                var nbb_cell_id = 182;\n",
       "                var nbb_unformatted_code = \"fig, axes = plt.subplots(2, 2, sharex=True, figsize=(16, 10))\\nfig.suptitle(\\\"Average Grade Frequency per Number of Kids/Modules\\\", size=20)\\n\\nsns.barplot(\\n    ax=axes[0,0], x=\\\"Modules_num\\\", y=\\\"Average_grade\\\", data=file, palette=\\\"Blues_d\\\"\\n)\\naxes[0,0].set_xlabel(\\\"Number of Modules\\\", size=14)\\naxes[0,0].set_ylabel(\\\"Average Grade\\\", size=14)\\naxes[0,0].set_title(\\\"Grade vs Number of Modules\\\", size=18)\\n\\n\\nsns.barplot(\\n    ax = axes[0,1],\\n    x=\\\"Modules_num\\\",\\n    y=\\\"Average_grade\\\",\\n    hue=\\\"Gender\\\",\\n    data=file,\\n    palette=dict({\\\"Woman\\\": \\\"#9ebcda\\\", \\\"Man\\\": \\\"#2c7fb8\\\"}),\\n)\\naxes[0,1].set_xlabel(\\\"Number of Modules\\\",size=14)\\naxes[0,1].set_ylabel(\\\"Average Grade\\\", size=14)\\naxes[0,1].set_title(\\\"Grade vs Number of Modules by Gender\\\", size=18)\\n\\n\\nsns.barplot(\\n    ax=axes[1,0], x=\\\"Kids\\\", y=\\\"Average_grade\\\", data=file, palette=\\\"Blues_d\\\"\\n)\\naxes[1,0].set_xlabel(\\\"Number of Kids\\\", size=14)\\naxes[1,0].set_ylabel(\\\"Average Grade\\\", size=14)\\naxes[1,0].set_title(\\\"Grade vs Number of Kids\\\", size=18)\\n\\nsns.barplot(\\n    ax = axes[1,1],\\n    x=\\\"Kids\\\",\\n    y=\\\"Average_grade\\\",\\n    hue=\\\"Gender\\\",\\n    data=file,\\n    palette=dict({\\\"Woman\\\": \\\"#9ebcda\\\", \\\"Man\\\": \\\"#2c7fb8\\\"}),\\n)\\naxes[1,1].set_xlabel(\\\"Number of Kids\\\", size=14)\\naxes[1,1].set_ylabel(\\\"Average Grade\\\", size=14)\\naxes[1,1].set_title(\\\"Grade vs Number of Kids by Gender\\\", size=18)\";\n",
       "                var nbb_formatted_code = \"fig, axes = plt.subplots(2, 2, sharex=True, figsize=(16, 10))\\nfig.suptitle(\\\"Average Grade Frequency per Number of Kids/Modules\\\", size=20)\\n\\nsns.barplot(\\n    ax=axes[0, 0], x=\\\"Modules_num\\\", y=\\\"Average_grade\\\", data=file, palette=\\\"Blues_d\\\"\\n)\\naxes[0, 0].set_xlabel(\\\"Number of Modules\\\", size=14)\\naxes[0, 0].set_ylabel(\\\"Average Grade\\\", size=14)\\naxes[0, 0].set_title(\\\"Grade vs Number of Modules\\\", size=18)\\n\\n\\nsns.barplot(\\n    ax=axes[0, 1],\\n    x=\\\"Modules_num\\\",\\n    y=\\\"Average_grade\\\",\\n    hue=\\\"Gender\\\",\\n    data=file,\\n    palette=dict({\\\"Woman\\\": \\\"#9ebcda\\\", \\\"Man\\\": \\\"#2c7fb8\\\"}),\\n)\\naxes[0, 1].set_xlabel(\\\"Number of Modules\\\", size=14)\\naxes[0, 1].set_ylabel(\\\"Average Grade\\\", size=14)\\naxes[0, 1].set_title(\\\"Grade vs Number of Modules by Gender\\\", size=18)\\n\\n\\nsns.barplot(ax=axes[1, 0], x=\\\"Kids\\\", y=\\\"Average_grade\\\", data=file, palette=\\\"Blues_d\\\")\\naxes[1, 0].set_xlabel(\\\"Number of Kids\\\", size=14)\\naxes[1, 0].set_ylabel(\\\"Average Grade\\\", size=14)\\naxes[1, 0].set_title(\\\"Grade vs Number of Kids\\\", size=18)\\n\\nsns.barplot(\\n    ax=axes[1, 1],\\n    x=\\\"Kids\\\",\\n    y=\\\"Average_grade\\\",\\n    hue=\\\"Gender\\\",\\n    data=file,\\n    palette=dict({\\\"Woman\\\": \\\"#9ebcda\\\", \\\"Man\\\": \\\"#2c7fb8\\\"}),\\n)\\naxes[1, 1].set_xlabel(\\\"Number of Kids\\\", size=14)\\naxes[1, 1].set_ylabel(\\\"Average Grade\\\", size=14)\\naxes[1, 1].set_title(\\\"Grade vs Number of Kids by Gender\\\", size=18)\";\n",
       "                var nbb_cells = Jupyter.notebook.get_cells();\n",
       "                for (var i = 0; i < nbb_cells.length; ++i) {\n",
       "                    if (nbb_cells[i].input_prompt_number == nbb_cell_id) {\n",
       "                        if (nbb_cells[i].get_text() == nbb_unformatted_code) {\n",
       "                             nbb_cells[i].set_text(nbb_formatted_code);\n",
       "                        }\n",
       "                        break;\n",
       "                    }\n",
       "                }\n",
       "            }, 500);\n",
       "            "
      ],
      "text/plain": [
       "<IPython.core.display.Javascript object>"
      ]
     },
     "metadata": {},
     "output_type": "display_data"
    }
   ],
   "source": [
    "fig, axes = plt.subplots(2, 2, sharex=True, figsize=(16, 10))\n",
    "fig.suptitle(\"Average Grade Frequency per Number of Kids/Modules\", size=20)\n",
    "\n",
    "sns.barplot(\n",
    "    ax=axes[0,0], x=\"Modules_num\", y=\"Average_grade\", data=file, palette=\"Blues_d\"\n",
    ")\n",
    "axes[0,0].set_xlabel(\"Number of Modules\", size=14)\n",
    "axes[0,0].set_ylabel(\"Average Grade\", size=14)\n",
    "axes[0,0].set_title(\"Grade vs Number of Modules\", size=18)\n",
    "\n",
    "\n",
    "sns.barplot(\n",
    "    ax = axes[0,1],\n",
    "    x=\"Modules_num\",\n",
    "    y=\"Average_grade\",\n",
    "    hue=\"Gender\",\n",
    "    data=file,\n",
    "    palette=dict({\"Woman\": \"#9ebcda\", \"Man\": \"#2c7fb8\"}),\n",
    ")\n",
    "axes[0,1].set_xlabel(\"Number of Modules\",size=14)\n",
    "axes[0,1].set_ylabel(\"Average Grade\", size=14)\n",
    "axes[0,1].set_title(\"Grade vs Number of Modules by Gender\", size=18)\n",
    "\n",
    "\n",
    "sns.barplot(\n",
    "    ax=axes[1,0], x=\"Kids\", y=\"Average_grade\", data=file, palette=\"Blues_d\"\n",
    ")\n",
    "axes[1,0].set_xlabel(\"Number of Kids\", size=14)\n",
    "axes[1,0].set_ylabel(\"Average Grade\", size=14)\n",
    "axes[1,0].set_title(\"Grade vs Number of Kids\", size=18)\n",
    "\n",
    "sns.barplot(\n",
    "    ax = axes[1,1],\n",
    "    x=\"Kids\",\n",
    "    y=\"Average_grade\",\n",
    "    hue=\"Gender\",\n",
    "    data=file,\n",
    "    palette=dict({\"Woman\": \"#9ebcda\", \"Man\": \"#2c7fb8\"}),\n",
    ")\n",
    "axes[1,1].set_xlabel(\"Number of Kids\", size=14)\n",
    "axes[1,1].set_ylabel(\"Average Grade\", size=14)\n",
    "axes[1,1].set_title(\"Grade vs Number of Kids by Gender\", size=18)\n"
   ]
  },
  {
   "cell_type": "markdown",
   "metadata": {},
   "source": [
    "**Visualizing Frequency Distributions at RKC**"
   ]
  },
  {
   "cell_type": "code",
   "execution_count": 183,
   "metadata": {},
   "outputs": [
    {
     "data": {
      "image/png": "[encoded data removed]",
      "text/plain": [
       "<Figure size 432x288 with 1 Axes>"
      ]
     },
     "metadata": {},
     "output_type": "display_data"
    },
    {
     "data": {
      "image/png": "[encoded data removed]",
      "text/plain": [
       "<Figure size 432x288 with 1 Axes>"
      ]
     },
     "metadata": {},
     "output_type": "display_data"
    },
    {
     "data": {
      "image/png": "[encoded data removed]",
      "text/plain": [
       "<Figure size 432x288 with 1 Axes>"
      ]
     },
     "metadata": {},
     "output_type": "display_data"
    },
    {
     "data": {
      "image/png": "[encoded data removed]",
      "text/plain": [
       "<Figure size 432x288 with 1 Axes>"
      ]
     },
     "metadata": {},
     "output_type": "display_data"
    },
    {
     "data": {
      "image/png": "[encoded data removed]",
      "text/plain": [
       "<Figure size 432x288 with 1 Axes>"
      ]
     },
     "metadata": {},
     "output_type": "display_data"
    },
    {
     "data": {
      "image/png": "[encoded data removed]",
      "text/plain": [
       "<Figure size 432x288 with 1 Axes>"
      ]
     },
     "metadata": {},
     "output_type": "display_data"
    },
    {
     "data": {
      "image/png": "[encoded data removed]",
      "text/plain": [
       "<Figure size 432x288 with 1 Axes>"
      ]
     },
     "metadata": {},
     "output_type": "display_data"
    },
    {
     "data": {
      "application/javascript": [
       "\n",
       "            setTimeout(function() {\n",
       "                var nbb_cell_id = 183;\n",
       "                var nbb_unformatted_code = \"def draw_hist(x, x_label, title):\\n    sns.histplot(x=x, hue=\\\"Gender\\\", data=file)\\n    plt.title(title, size=18)\\n    plt.xticks(rotation=30)\\n    plt.xlabel(x_label)\\n    plt.show()\\n\\n\\nhist_configs = [\\n    [\\\"Gender\\\", \\\"\\\", \\\"Women vs Men Count at RKC\\\"],\\n    [\\\"Age_by_birth_year\\\", \\\"Age\\\", \\\"Distribution of Age Ranges at RKC\\\"],\\n    [\\\"Average_grade\\\", \\\"Average Grade\\\", \\\"Distribution of Grades at RKC\\\"],\\n    [\\\"Kids\\\", \\\"Number of Kids\\\", \\\"Distribution of Number of Children of RKC Students\\\"],\\n    [\\\"Excited_data\\\", \\\"\\\", \\\"Excited about Working with Data\\\"],\\n    [\\\"Enjoy_data\\\", \\\"\\\", \\\"Enjoy Working with Data\\\"],\\n    [\\\"Interested_DA\\\", \\\"\\\", \\\"Interested in Data Analytics\\\"],\\n]\\n\\nfor i in hist_configs:\\n    draw_hist(*i)\";\n",
       "                var nbb_formatted_code = \"def draw_hist(x, x_label, title):\\n    sns.histplot(x=x, hue=\\\"Gender\\\", data=file)\\n    plt.title(title, size=18)\\n    plt.xticks(rotation=30)\\n    plt.xlabel(x_label)\\n    plt.show()\\n\\n\\nhist_configs = [\\n    [\\\"Gender\\\", \\\"\\\", \\\"Women vs Men Count at RKC\\\"],\\n    [\\\"Age_by_birth_year\\\", \\\"Age\\\", \\\"Distribution of Age Ranges at RKC\\\"],\\n    [\\\"Average_grade\\\", \\\"Average Grade\\\", \\\"Distribution of Grades at RKC\\\"],\\n    [\\\"Kids\\\", \\\"Number of Kids\\\", \\\"Distribution of Number of Children of RKC Students\\\"],\\n    [\\\"Excited_data\\\", \\\"\\\", \\\"Excited about Working with Data\\\"],\\n    [\\\"Enjoy_data\\\", \\\"\\\", \\\"Enjoy Working with Data\\\"],\\n    [\\\"Interested_DA\\\", \\\"\\\", \\\"Interested in Data Analytics\\\"],\\n]\\n\\nfor i in hist_configs:\\n    draw_hist(*i)\";\n",
       "                var nbb_cells = Jupyter.notebook.get_cells();\n",
       "                for (var i = 0; i < nbb_cells.length; ++i) {\n",
       "                    if (nbb_cells[i].input_prompt_number == nbb_cell_id) {\n",
       "                        if (nbb_cells[i].get_text() == nbb_unformatted_code) {\n",
       "                             nbb_cells[i].set_text(nbb_formatted_code);\n",
       "                        }\n",
       "                        break;\n",
       "                    }\n",
       "                }\n",
       "            }, 500);\n",
       "            "
      ],
      "text/plain": [
       "<IPython.core.display.Javascript object>"
      ]
     },
     "metadata": {},
     "output_type": "display_data"
    }
   ],
   "source": [
    "def draw_hist(x, x_label, title):\n",
    "    sns.histplot(x=x, hue=\"Gender\", data=file)\n",
    "    plt.title(title, size=18)\n",
    "    plt.xticks(rotation=30)\n",
    "    plt.xlabel(x_label)\n",
    "    plt.show()\n",
    "\n",
    "\n",
    "hist_configs = [\n",
    "    [\"Gender\", \"\", \"Women vs Men Count at RKC\"],\n",
    "    [\"Age_by_birth_year\", \"Age\", \"Distribution of Age Ranges at RKC\"],\n",
    "    [\"Average_grade\", \"Average Grade\", \"Distribution of Grades at RKC\"],\n",
    "    [\"Kids\", \"Number of Kids\", \"Distribution of Number of Children of RKC Students\"],\n",
    "    [\"Excited_data\", \"\", \"Excited about Working with Data\"],\n",
    "    [\"Enjoy_data\", \"\", \"Enjoy Working with Data\"],\n",
    "    [\"Interested_DA\", \"\", \"Interested in Data Analytics\"],\n",
    "]\n",
    "\n",
    "for i in hist_configs:\n",
    "    draw_hist(*i)"
   ]
  },
  {
   "cell_type": "code",
   "execution_count": 184,
   "metadata": {},
   "outputs": [
    {
     "data": {
      "image/png": "[encoded data removed]",
      "text/plain": [
       "<Figure size 432x288 with 1 Axes>"
      ]
     },
     "metadata": {},
     "output_type": "display_data"
    },
    {
     "data": {
      "image/png": "[encoded data removed]",
      "text/plain": [
       "<Figure size 432x288 with 1 Axes>"
      ]
     },
     "metadata": {},
     "output_type": "display_data"
    },
    {
     "data": {
      "image/png": "[encoded data removed]",
      "text/plain": [
       "<Figure size 432x288 with 1 Axes>"
      ]
     },
     "metadata": {},
     "output_type": "display_data"
    },
    {
     "data": {
      "image/png": "[encoded data removed]",
      "text/plain": [
       "<Figure size 432x288 with 1 Axes>"
      ]
     },
     "metadata": {},
     "output_type": "display_data"
    },
    {
     "data": {
      "image/png": "[encoded data removed]",
      "text/plain": [
       "<Figure size 432x288 with 1 Axes>"
      ]
     },
     "metadata": {},
     "output_type": "display_data"
    },
    {
     "data": {
      "image/png": "[encoded data removed]",
      "text/plain": [
       "<Figure size 432x288 with 1 Axes>"
      ]
     },
     "metadata": {},
     "output_type": "display_data"
    },
    {
     "data": {
      "application/javascript": [
       "\n",
       "            setTimeout(function() {\n",
       "                var nbb_cell_id = 184;\n",
       "                var nbb_unformatted_code = \"def draw_hist(x, x_label, title):\\n    sns.histplot(x=x, data=file)\\n    plt.title(title, size=18)\\n    plt.xticks(rotation=30)\\n    plt.xlabel(x_label)\\n    plt.show()\\n\\n\\nhist_configs = [\\n    [\\\"Age_by_birth_year\\\", \\\"Age\\\", \\\"Distribution of Age Ranges at RKC\\\"],\\n    [\\\"Average_grade\\\", \\\"Average Grade\\\", \\\"Distribution of Grades at RKC\\\"],\\n    [\\\"Kids\\\", \\\"Number of Kids\\\", \\\"Distribution of Number of Children of RKC Students\\\"],\\n    [\\\"Excited_data\\\", \\\"\\\", \\\"Excited about Working with Data\\\"],\\n    [\\\"Enjoy_data\\\", \\\"\\\", \\\"Enjoy Working with Data\\\"],\\n    [\\\"Interested_DA\\\", \\\"\\\", \\\"Interested in Data Analytics\\\"],\\n]\\n\\nfor i in hist_configs:\\n    draw_hist(*i)\";\n",
       "                var nbb_formatted_code = \"def draw_hist(x, x_label, title):\\n    sns.histplot(x=x, data=file)\\n    plt.title(title, size=18)\\n    plt.xticks(rotation=30)\\n    plt.xlabel(x_label)\\n    plt.show()\\n\\n\\nhist_configs = [\\n    [\\\"Age_by_birth_year\\\", \\\"Age\\\", \\\"Distribution of Age Ranges at RKC\\\"],\\n    [\\\"Average_grade\\\", \\\"Average Grade\\\", \\\"Distribution of Grades at RKC\\\"],\\n    [\\\"Kids\\\", \\\"Number of Kids\\\", \\\"Distribution of Number of Children of RKC Students\\\"],\\n    [\\\"Excited_data\\\", \\\"\\\", \\\"Excited about Working with Data\\\"],\\n    [\\\"Enjoy_data\\\", \\\"\\\", \\\"Enjoy Working with Data\\\"],\\n    [\\\"Interested_DA\\\", \\\"\\\", \\\"Interested in Data Analytics\\\"],\\n]\\n\\nfor i in hist_configs:\\n    draw_hist(*i)\";\n",
       "                var nbb_cells = Jupyter.notebook.get_cells();\n",
       "                for (var i = 0; i < nbb_cells.length; ++i) {\n",
       "                    if (nbb_cells[i].input_prompt_number == nbb_cell_id) {\n",
       "                        if (nbb_cells[i].get_text() == nbb_unformatted_code) {\n",
       "                             nbb_cells[i].set_text(nbb_formatted_code);\n",
       "                        }\n",
       "                        break;\n",
       "                    }\n",
       "                }\n",
       "            }, 500);\n",
       "            "
      ],
      "text/plain": [
       "<IPython.core.display.Javascript object>"
      ]
     },
     "metadata": {},
     "output_type": "display_data"
    }
   ],
   "source": [
    "def draw_hist(x, x_label, title):\n",
    "    sns.histplot(x=x, data=file)\n",
    "    plt.title(title, size=18)\n",
    "    plt.xticks(rotation=30)\n",
    "    plt.xlabel(x_label)\n",
    "    plt.show()\n",
    "\n",
    "\n",
    "hist_configs = [\n",
    "    [\"Age_by_birth_year\", \"Age\", \"Distribution of Age Ranges at RKC\"],\n",
    "    [\"Average_grade\", \"Average Grade\", \"Distribution of Grades at RKC\"],\n",
    "    [\"Kids\", \"Number of Kids\", \"Distribution of Number of Children of RKC Students\"],\n",
    "    [\"Excited_data\", \"\", \"Excited about Working with Data\"],\n",
    "    [\"Enjoy_data\", \"\", \"Enjoy Working with Data\"],\n",
    "    [\"Interested_DA\", \"\", \"Interested in Data Analytics\"],\n",
    "]\n",
    "\n",
    "for i in hist_configs:\n",
    "    draw_hist(*i)"
   ]
  },
  {
   "cell_type": "markdown",
   "metadata": {},
   "source": [
    "## 6. Statistical Summaries"
   ]
  },
  {
   "cell_type": "code",
   "execution_count": null,
   "metadata": {},
   "outputs": [],
   "source": [
    "file.describe()"
   ]
  },
  {
   "cell_type": "code",
   "execution_count": null,
   "metadata": {
    "scrolled": true
   },
   "outputs": [],
   "source": [
    "file[\"Enjoy_data\"].describe()"
   ]
  },
  {
   "cell_type": "code",
   "execution_count": null,
   "metadata": {},
   "outputs": [],
   "source": [
    "file[\"Excited_data\"].describe()"
   ]
  },
  {
   "cell_type": "code",
   "execution_count": null,
   "metadata": {},
   "outputs": [],
   "source": [
    "file[\"Afraid_data\"].describe()"
   ]
  },
  {
   "cell_type": "code",
   "execution_count": null,
   "metadata": {},
   "outputs": [],
   "source": [
    "file[\"Interested_DA\"].describe()"
   ]
  },
  {
   "cell_type": "code",
   "execution_count": null,
   "metadata": {},
   "outputs": [],
   "source": [
    "file[\"Work_hard\"].describe()"
   ]
  },
  {
   "cell_type": "code",
   "execution_count": null,
   "metadata": {},
   "outputs": [],
   "source": [
    "file[\"Gender\"].describe()"
   ]
  },
  {
   "cell_type": "code",
   "execution_count": null,
   "metadata": {},
   "outputs": [],
   "source": [
    "file[\"Modules_num\"].describe()"
   ]
  },
  {
   "cell_type": "code",
   "execution_count": null,
   "metadata": {},
   "outputs": [],
   "source": [
    "file[\"Height_relative\"].describe()"
   ]
  },
  {
   "cell_type": "markdown",
   "metadata": {},
   "source": [
    "#### Pivot Tables\n",
    "##### Average Grade Stats by Gender"
   ]
  },
  {
   "cell_type": "code",
   "execution_count": null,
   "metadata": {},
   "outputs": [],
   "source": [
    "grouped_by_gender = file.groupby(\"Gender\")\n",
    "values = grouped_by_gender[[\"Average_grade\"]]\n",
    "gender_stats = values.agg([np.min, np.max, np.mean, np.std, np.median])\n",
    "gender_stats.columns = [\"Min\", \"Max\", \"Mean\", \"Standard Deviation\", \"Median\"]\n",
    "gender_stats.iloc[0] = [round(x, 1)for x in gender_stats.iloc[0]]\n",
    "gender_stats.iloc[1] = [round(x, 1)for x in gender_stats.iloc[1]]"
   ]
  },
  {
   "cell_type": "code",
   "execution_count": null,
   "metadata": {},
   "outputs": [],
   "source": [
    "color1 = 'white'\n",
    "color2 = 'lightgrey'\n",
    "header_color = \"lightblue\"\n",
    "values = gender_stats.columns, gender_stats.iloc[0], gender_stats.iloc[1]\n",
    "fig = go.Figure(data=[go.Table( \n",
    "    header=dict(values=[\"\",\"Males\", \"Females\"], \n",
    "                fill_color=header_color,\n",
    "                height = 50,\n",
    "                align=\"left\",\n",
    "                font=dict(family=\"Lato\", size=18)), \n",
    "    cells=dict(values=values,\n",
    "               align=\"left\", \n",
    "               height = 50, \n",
    "               font=dict(family=\"Lato\", size=20), \n",
    "               format=None, formatsrc=None,\n",
    "               fill_color = None\n",
    "              ))]) \n",
    "fig.update_layout(width=610, title=\"Average Grade Statistical Summaries\")\n",
    "fig.update_layout({\"margin\": {\"t\":50}})\n",
    "fig.show()"
   ]
  },
  {
   "cell_type": "markdown",
   "metadata": {},
   "source": [
    "##### Effect of Number of Kids on Average Grade"
   ]
  },
  {
   "cell_type": "code",
   "execution_count": 171,
   "metadata": {},
   "outputs": [
    {
     "data": {
      "text/html": [
       "<div>\n",
       "<style scoped>\n",
       "    .dataframe tbody tr th:only-of-type {\n",
       "        vertical-align: middle;\n",
       "    }\n",
       "\n",
       "    .dataframe tbody tr th {\n",
       "        vertical-align: top;\n",
       "    }\n",
       "\n",
       "    .dataframe thead tr th {\n",
       "        text-align: left;\n",
       "    }\n",
       "\n",
       "    .dataframe thead tr:last-of-type th {\n",
       "        text-align: right;\n",
       "    }\n",
       "</style>\n",
       "<table border=\"1\" class=\"dataframe\">\n",
       "  <thead>\n",
       "    <tr>\n",
       "      <th></th>\n",
       "      <th colspan=\"5\" halign=\"left\">Average_grade</th>\n",
       "    </tr>\n",
       "    <tr>\n",
       "      <th></th>\n",
       "      <th>amin</th>\n",
       "      <th>amax</th>\n",
       "      <th>mean</th>\n",
       "      <th>std</th>\n",
       "      <th>median</th>\n",
       "    </tr>\n",
       "    <tr>\n",
       "      <th>Kids</th>\n",
       "      <th></th>\n",
       "      <th></th>\n",
       "      <th></th>\n",
       "      <th></th>\n",
       "      <th></th>\n",
       "    </tr>\n",
       "  </thead>\n",
       "  <tbody>\n",
       "    <tr>\n",
       "      <th>0</th>\n",
       "      <td>25.0</td>\n",
       "      <td>77.0</td>\n",
       "      <td>61.776957</td>\n",
       "      <td>7.987933</td>\n",
       "      <td>61.875</td>\n",
       "    </tr>\n",
       "    <tr>\n",
       "      <th>1</th>\n",
       "      <td>54.0</td>\n",
       "      <td>78.0</td>\n",
       "      <td>63.752857</td>\n",
       "      <td>5.532400</td>\n",
       "      <td>63.625</td>\n",
       "    </tr>\n",
       "    <tr>\n",
       "      <th>2</th>\n",
       "      <td>52.0</td>\n",
       "      <td>68.0</td>\n",
       "      <td>61.559286</td>\n",
       "      <td>4.808884</td>\n",
       "      <td>61.500</td>\n",
       "    </tr>\n",
       "    <tr>\n",
       "      <th>3</th>\n",
       "      <td>55.0</td>\n",
       "      <td>78.0</td>\n",
       "      <td>62.272727</td>\n",
       "      <td>7.195011</td>\n",
       "      <td>60.000</td>\n",
       "    </tr>\n",
       "    <tr>\n",
       "      <th>4</th>\n",
       "      <td>64.0</td>\n",
       "      <td>68.0</td>\n",
       "      <td>66.000000</td>\n",
       "      <td>2.828427</td>\n",
       "      <td>66.000</td>\n",
       "    </tr>\n",
       "    <tr>\n",
       "      <th>5</th>\n",
       "      <td>56.0</td>\n",
       "      <td>56.0</td>\n",
       "      <td>56.000000</td>\n",
       "      <td>NaN</td>\n",
       "      <td>56.000</td>\n",
       "    </tr>\n",
       "  </tbody>\n",
       "</table>\n",
       "</div>"
      ],
      "text/plain": [
       "     Average_grade                                   \n",
       "              amin  amax       mean       std  median\n",
       "Kids                                                 \n",
       "0             25.0  77.0  61.776957  7.987933  61.875\n",
       "1             54.0  78.0  63.752857  5.532400  63.625\n",
       "2             52.0  68.0  61.559286  4.808884  61.500\n",
       "3             55.0  78.0  62.272727  7.195011  60.000\n",
       "4             64.0  68.0  66.000000  2.828427  66.000\n",
       "5             56.0  56.0  56.000000       NaN  56.000"
      ]
     },
     "execution_count": 171,
     "metadata": {},
     "output_type": "execute_result"
    },
    {
     "data": {
      "application/javascript": [
       "\n",
       "            setTimeout(function() {\n",
       "                var nbb_cell_id = 171;\n",
       "                var nbb_unformatted_code = \"# create a method that groups by and counts agg stats\\ngrouped_by_kids = file.groupby(\\\"Kids\\\")\\nvalues = grouped_by_kids[[\\\"Average_grade\\\"]]\\nkids_stats = values.agg([np.min, np.max, np.mean, np.std, np.median])\\nkids_stats\";\n",
       "                var nbb_formatted_code = \"# create a method that groups by and counts agg stats\\ngrouped_by_kids = file.groupby(\\\"Kids\\\")\\nvalues = grouped_by_kids[[\\\"Average_grade\\\"]]\\nkids_stats = values.agg([np.min, np.max, np.mean, np.std, np.median])\\nkids_stats\";\n",
       "                var nbb_cells = Jupyter.notebook.get_cells();\n",
       "                for (var i = 0; i < nbb_cells.length; ++i) {\n",
       "                    if (nbb_cells[i].input_prompt_number == nbb_cell_id) {\n",
       "                        if (nbb_cells[i].get_text() == nbb_unformatted_code) {\n",
       "                             nbb_cells[i].set_text(nbb_formatted_code);\n",
       "                        }\n",
       "                        break;\n",
       "                    }\n",
       "                }\n",
       "            }, 500);\n",
       "            "
      ],
      "text/plain": [
       "<IPython.core.display.Javascript object>"
      ]
     },
     "metadata": {},
     "output_type": "display_data"
    }
   ],
   "source": [
    "# create a method that groups by and counts agg stats\n",
    "grouped_by_kids = file.groupby(\"Kids\")\n",
    "values = grouped_by_kids[[\"Average_grade\"]]\n",
    "kids_stats = values.agg([np.min, np.max, np.mean, np.std, np.median])\n",
    "kids_stats"
   ]
  },
  {
   "cell_type": "code",
   "execution_count": 172,
   "metadata": {},
   "outputs": [
    {
     "data": {
      "text/html": [
       "<div>\n",
       "<style scoped>\n",
       "    .dataframe tbody tr th:only-of-type {\n",
       "        vertical-align: middle;\n",
       "    }\n",
       "\n",
       "    .dataframe tbody tr th {\n",
       "        vertical-align: top;\n",
       "    }\n",
       "\n",
       "    .dataframe thead tr th {\n",
       "        text-align: left;\n",
       "    }\n",
       "\n",
       "    .dataframe thead tr:last-of-type th {\n",
       "        text-align: right;\n",
       "    }\n",
       "</style>\n",
       "<table border=\"1\" class=\"dataframe\">\n",
       "  <thead>\n",
       "    <tr>\n",
       "      <th></th>\n",
       "      <th colspan=\"4\" halign=\"left\">Average_grade</th>\n",
       "    </tr>\n",
       "    <tr>\n",
       "      <th></th>\n",
       "      <th>amin</th>\n",
       "      <th>amax</th>\n",
       "      <th>mean</th>\n",
       "      <th>std</th>\n",
       "    </tr>\n",
       "    <tr>\n",
       "      <th>Excited_data</th>\n",
       "      <th></th>\n",
       "      <th></th>\n",
       "      <th></th>\n",
       "      <th></th>\n",
       "    </tr>\n",
       "  </thead>\n",
       "  <tbody>\n",
       "    <tr>\n",
       "      <th>Agree</th>\n",
       "      <td>50.0</td>\n",
       "      <td>70.00</td>\n",
       "      <td>61.166444</td>\n",
       "      <td>4.953781</td>\n",
       "    </tr>\n",
       "    <tr>\n",
       "      <th>Completely Agree</th>\n",
       "      <td>25.0</td>\n",
       "      <td>78.00</td>\n",
       "      <td>63.988000</td>\n",
       "      <td>9.288016</td>\n",
       "    </tr>\n",
       "    <tr>\n",
       "      <th>Completely Disagree</th>\n",
       "      <td>66.0</td>\n",
       "      <td>66.00</td>\n",
       "      <td>66.000000</td>\n",
       "      <td>NaN</td>\n",
       "    </tr>\n",
       "    <tr>\n",
       "      <th>Disagree</th>\n",
       "      <td>60.0</td>\n",
       "      <td>68.00</td>\n",
       "      <td>64.000000</td>\n",
       "      <td>5.656854</td>\n",
       "    </tr>\n",
       "    <tr>\n",
       "      <th>Meh</th>\n",
       "      <td>52.0</td>\n",
       "      <td>70.33</td>\n",
       "      <td>61.872632</td>\n",
       "      <td>4.972944</td>\n",
       "    </tr>\n",
       "  </tbody>\n",
       "</table>\n",
       "</div>"
      ],
      "text/plain": [
       "                    Average_grade                            \n",
       "                             amin   amax       mean       std\n",
       "Excited_data                                                 \n",
       "Agree                        50.0  70.00  61.166444  4.953781\n",
       "Completely Agree             25.0  78.00  63.988000  9.288016\n",
       "Completely Disagree          66.0  66.00  66.000000       NaN\n",
       "Disagree                     60.0  68.00  64.000000  5.656854\n",
       "Meh                          52.0  70.33  61.872632  4.972944"
      ]
     },
     "execution_count": 172,
     "metadata": {},
     "output_type": "execute_result"
    },
    {
     "data": {
      "application/javascript": [
       "\n",
       "            setTimeout(function() {\n",
       "                var nbb_cell_id = 172;\n",
       "                var nbb_unformatted_code = \"grouped_by_excited = file.groupby(\\\"Excited_data\\\")\\nvalues = grouped_by_excited[[\\\"Average_grade\\\"]]\\nexcited_stats = values.agg([np.min, np.max, np.mean, np.std])\\nexcited_stats\";\n",
       "                var nbb_formatted_code = \"grouped_by_excited = file.groupby(\\\"Excited_data\\\")\\nvalues = grouped_by_excited[[\\\"Average_grade\\\"]]\\nexcited_stats = values.agg([np.min, np.max, np.mean, np.std])\\nexcited_stats\";\n",
       "                var nbb_cells = Jupyter.notebook.get_cells();\n",
       "                for (var i = 0; i < nbb_cells.length; ++i) {\n",
       "                    if (nbb_cells[i].input_prompt_number == nbb_cell_id) {\n",
       "                        if (nbb_cells[i].get_text() == nbb_unformatted_code) {\n",
       "                             nbb_cells[i].set_text(nbb_formatted_code);\n",
       "                        }\n",
       "                        break;\n",
       "                    }\n",
       "                }\n",
       "            }, 500);\n",
       "            "
      ],
      "text/plain": [
       "<IPython.core.display.Javascript object>"
      ]
     },
     "metadata": {},
     "output_type": "display_data"
    }
   ],
   "source": [
    "grouped_by_excited = file.groupby(\"Excited_data\")\n",
    "values = grouped_by_excited[[\"Average_grade\"]]\n",
    "excited_stats = values.agg([np.min, np.max, np.mean, np.std])\n",
    "excited_stats"
   ]
  },
  {
   "cell_type": "code",
   "execution_count": 173,
   "metadata": {},
   "outputs": [
    {
     "data": {
      "text/html": [
       "<div>\n",
       "<style scoped>\n",
       "    .dataframe tbody tr th:only-of-type {\n",
       "        vertical-align: middle;\n",
       "    }\n",
       "\n",
       "    .dataframe tbody tr th {\n",
       "        vertical-align: top;\n",
       "    }\n",
       "\n",
       "    .dataframe thead tr th {\n",
       "        text-align: left;\n",
       "    }\n",
       "\n",
       "    .dataframe thead tr:last-of-type th {\n",
       "        text-align: right;\n",
       "    }\n",
       "</style>\n",
       "<table border=\"1\" class=\"dataframe\">\n",
       "  <thead>\n",
       "    <tr>\n",
       "      <th></th>\n",
       "      <th colspan=\"4\" halign=\"left\">Average_grade</th>\n",
       "    </tr>\n",
       "    <tr>\n",
       "      <th></th>\n",
       "      <th>amin</th>\n",
       "      <th>amax</th>\n",
       "      <th>mean</th>\n",
       "      <th>std</th>\n",
       "    </tr>\n",
       "    <tr>\n",
       "      <th>Interested_DA</th>\n",
       "      <th></th>\n",
       "      <th></th>\n",
       "      <th></th>\n",
       "      <th></th>\n",
       "    </tr>\n",
       "  </thead>\n",
       "  <tbody>\n",
       "    <tr>\n",
       "      <th>Agree</th>\n",
       "      <td>50.0</td>\n",
       "      <td>70.33</td>\n",
       "      <td>61.504211</td>\n",
       "      <td>4.879403</td>\n",
       "    </tr>\n",
       "    <tr>\n",
       "      <th>Completely Agree</th>\n",
       "      <td>25.0</td>\n",
       "      <td>78.00</td>\n",
       "      <td>63.151607</td>\n",
       "      <td>7.921619</td>\n",
       "    </tr>\n",
       "    <tr>\n",
       "      <th>Disagree</th>\n",
       "      <td>66.0</td>\n",
       "      <td>66.00</td>\n",
       "      <td>66.000000</td>\n",
       "      <td>NaN</td>\n",
       "    </tr>\n",
       "    <tr>\n",
       "      <th>Meh</th>\n",
       "      <td>51.0</td>\n",
       "      <td>68.00</td>\n",
       "      <td>60.285714</td>\n",
       "      <td>6.210590</td>\n",
       "    </tr>\n",
       "  </tbody>\n",
       "</table>\n",
       "</div>"
      ],
      "text/plain": [
       "                 Average_grade                            \n",
       "                          amin   amax       mean       std\n",
       "Interested_DA                                             \n",
       "Agree                     50.0  70.33  61.504211  4.879403\n",
       "Completely Agree          25.0  78.00  63.151607  7.921619\n",
       "Disagree                  66.0  66.00  66.000000       NaN\n",
       "Meh                       51.0  68.00  60.285714  6.210590"
      ]
     },
     "execution_count": 173,
     "metadata": {},
     "output_type": "execute_result"
    },
    {
     "data": {
      "application/javascript": [
       "\n",
       "            setTimeout(function() {\n",
       "                var nbb_cell_id = 173;\n",
       "                var nbb_unformatted_code = \"grouped_by_interested = file.groupby(\\\"Interested_DA\\\")\\nvalues = grouped_by_interested[[\\\"Average_grade\\\"]]\\ninterested_stats = values.agg([np.min, np.max, np.mean, np.std])\\ninterested_stats\";\n",
       "                var nbb_formatted_code = \"grouped_by_interested = file.groupby(\\\"Interested_DA\\\")\\nvalues = grouped_by_interested[[\\\"Average_grade\\\"]]\\ninterested_stats = values.agg([np.min, np.max, np.mean, np.std])\\ninterested_stats\";\n",
       "                var nbb_cells = Jupyter.notebook.get_cells();\n",
       "                for (var i = 0; i < nbb_cells.length; ++i) {\n",
       "                    if (nbb_cells[i].input_prompt_number == nbb_cell_id) {\n",
       "                        if (nbb_cells[i].get_text() == nbb_unformatted_code) {\n",
       "                             nbb_cells[i].set_text(nbb_formatted_code);\n",
       "                        }\n",
       "                        break;\n",
       "                    }\n",
       "                }\n",
       "            }, 500);\n",
       "            "
      ],
      "text/plain": [
       "<IPython.core.display.Javascript object>"
      ]
     },
     "metadata": {},
     "output_type": "display_data"
    }
   ],
   "source": [
    "grouped_by_interested = file.groupby(\"Interested_DA\")\n",
    "values = grouped_by_interested[[\"Average_grade\"]]\n",
    "interested_stats = values.agg([np.min, np.max, np.mean, np.std])\n",
    "interested_stats"
   ]
  },
  {
   "cell_type": "markdown",
   "metadata": {},
   "source": [
    " "
   ]
  },
  {
   "cell_type": "markdown",
   "metadata": {},
   "source": [
    "## 7. Data Visualization for Presentation (Explanatory Visuals)"
   ]
  },
  {
   "cell_type": "markdown",
   "metadata": {},
   "source": [
    "**Visualing Gender Counts for Presentation**"
   ]
  },
  {
   "cell_type": "code",
   "execution_count": 174,
   "metadata": {},
   "outputs": [
    {
     "data": {
      "application/vnd.plotly.v1+json": {
       "config": {
        "plotlyServerURL": "https://plot.ly"
       },
       "data": [
        {
         "domain": {
          "column": 0,
          "row": 0
         },
         "gauge": {
          "axis": {
           "visible": false
          }
         },
         "title": {
          "text": "Males"
         },
         "type": "indicator",
         "value": 61
        },
        {
         "domain": {
          "column": 1,
          "row": 0
         },
         "gauge": {
          "axis": {
           "visible": false
          }
         },
         "title": {
          "text": "Females"
         },
         "type": "indicator",
         "value": 44
        }
       ],
       "layout": {
        "grid": {
         "columns": 2,
         "pattern": "independent",
         "rows": 1
        },
        "template": {
         "data": {
          "bar": [
           {
            "error_x": {
             "color": "#2a3f5f"
            },
            "error_y": {
             "color": "#2a3f5f"
            },
            "marker": {
             "line": {
              "color": "#E5ECF6",
              "width": 0.5
             }
            },
            "type": "bar"
           }
          ],
          "barpolar": [
           {
            "marker": {
             "line": {
              "color": "#E5ECF6",
              "width": 0.5
             }
            },
            "type": "barpolar"
           }
          ],
          "carpet": [
           {
            "aaxis": {
             "endlinecolor": "#2a3f5f",
             "gridcolor": "white",
             "linecolor": "white",
             "minorgridcolor": "white",
             "startlinecolor": "#2a3f5f"
            },
            "baxis": {
             "endlinecolor": "#2a3f5f",
             "gridcolor": "white",
             "linecolor": "white",
             "minorgridcolor": "white",
             "startlinecolor": "#2a3f5f"
            },
            "type": "carpet"
           }
          ],
          "choropleth": [
           {
            "colorbar": {
             "outlinewidth": 0,
             "ticks": ""
            },
            "type": "choropleth"
           }
          ],
          "contour": [
           {
            "colorbar": {
             "outlinewidth": 0,
             "ticks": ""
            },
            "colorscale": [
             [
              0,
              "#0d0887"
             ],
             [
              0.1111111111111111,
              "#46039f"
             ],
             [
              0.2222222222222222,
              "#7201a8"
             ],
             [
              0.3333333333333333,
              "#9c179e"
             ],
             [
              0.4444444444444444,
              "#bd3786"
             ],
             [
              0.5555555555555556,
              "#d8576b"
             ],
             [
              0.6666666666666666,
              "#ed7953"
             ],
             [
              0.7777777777777778,
              "#fb9f3a"
             ],
             [
              0.8888888888888888,
              "#fdca26"
             ],
             [
              1,
              "#f0f921"
             ]
            ],
            "type": "contour"
           }
          ],
          "contourcarpet": [
           {
            "colorbar": {
             "outlinewidth": 0,
             "ticks": ""
            },
            "type": "contourcarpet"
           }
          ],
          "heatmap": [
           {
            "colorbar": {
             "outlinewidth": 0,
             "ticks": ""
            },
            "colorscale": [
             [
              0,
              "#0d0887"
             ],
             [
              0.1111111111111111,
              "#46039f"
             ],
             [
              0.2222222222222222,
              "#7201a8"
             ],
             [
              0.3333333333333333,
              "#9c179e"
             ],
             [
              0.4444444444444444,
              "#bd3786"
             ],
             [
              0.5555555555555556,
              "#d8576b"
             ],
             [
              0.6666666666666666,
              "#ed7953"
             ],
             [
              0.7777777777777778,
              "#fb9f3a"
             ],
             [
              0.8888888888888888,
              "#fdca26"
             ],
             [
              1,
              "#f0f921"
             ]
            ],
            "type": "heatmap"
           }
          ],
          "heatmapgl": [
           {
            "colorbar": {
             "outlinewidth": 0,
             "ticks": ""
            },
            "colorscale": [
             [
              0,
              "#0d0887"
             ],
             [
              0.1111111111111111,
              "#46039f"
             ],
             [
              0.2222222222222222,
              "#7201a8"
             ],
             [
              0.3333333333333333,
              "#9c179e"
             ],
             [
              0.4444444444444444,
              "#bd3786"
             ],
             [
              0.5555555555555556,
              "#d8576b"
             ],
             [
              0.6666666666666666,
              "#ed7953"
             ],
             [
              0.7777777777777778,
              "#fb9f3a"
             ],
             [
              0.8888888888888888,
              "#fdca26"
             ],
             [
              1,
              "#f0f921"
             ]
            ],
            "type": "heatmapgl"
           }
          ],
          "histogram": [
           {
            "marker": {
             "colorbar": {
              "outlinewidth": 0,
              "ticks": ""
             }
            },
            "type": "histogram"
           }
          ],
          "histogram2d": [
           {
            "colorbar": {
             "outlinewidth": 0,
             "ticks": ""
            },
            "colorscale": [
             [
              0,
              "#0d0887"
             ],
             [
              0.1111111111111111,
              "#46039f"
             ],
             [
              0.2222222222222222,
              "#7201a8"
             ],
             [
              0.3333333333333333,
              "#9c179e"
             ],
             [
              0.4444444444444444,
              "#bd3786"
             ],
             [
              0.5555555555555556,
              "#d8576b"
             ],
             [
              0.6666666666666666,
              "#ed7953"
             ],
             [
              0.7777777777777778,
              "#fb9f3a"
             ],
             [
              0.8888888888888888,
              "#fdca26"
             ],
             [
              1,
              "#f0f921"
             ]
            ],
            "type": "histogram2d"
           }
          ],
          "histogram2dcontour": [
           {
            "colorbar": {
             "outlinewidth": 0,
             "ticks": ""
            },
            "colorscale": [
             [
              0,
              "#0d0887"
             ],
             [
              0.1111111111111111,
              "#46039f"
             ],
             [
              0.2222222222222222,
              "#7201a8"
             ],
             [
              0.3333333333333333,
              "#9c179e"
             ],
             [
              0.4444444444444444,
              "#bd3786"
             ],
             [
              0.5555555555555556,
              "#d8576b"
             ],
             [
              0.6666666666666666,
              "#ed7953"
             ],
             [
              0.7777777777777778,
              "#fb9f3a"
             ],
             [
              0.8888888888888888,
              "#fdca26"
             ],
             [
              1,
              "#f0f921"
             ]
            ],
            "type": "histogram2dcontour"
           }
          ],
          "indicator": [
           {
            "delta": {
             "reference": 90
            },
            "type": "indicator"
           }
          ],
          "mesh3d": [
           {
            "colorbar": {
             "outlinewidth": 0,
             "ticks": ""
            },
            "type": "mesh3d"
           }
          ],
          "parcoords": [
           {
            "line": {
             "colorbar": {
              "outlinewidth": 0,
              "ticks": ""
             }
            },
            "type": "parcoords"
           }
          ],
          "pie": [
           {
            "automargin": true,
            "type": "pie"
           }
          ],
          "scatter": [
           {
            "marker": {
             "colorbar": {
              "outlinewidth": 0,
              "ticks": ""
             }
            },
            "type": "scatter"
           }
          ],
          "scatter3d": [
           {
            "line": {
             "colorbar": {
              "outlinewidth": 0,
              "ticks": ""
             }
            },
            "marker": {
             "colorbar": {
              "outlinewidth": 0,
              "ticks": ""
             }
            },
            "type": "scatter3d"
           }
          ],
          "scattercarpet": [
           {
            "marker": {
             "colorbar": {
              "outlinewidth": 0,
              "ticks": ""
             }
            },
            "type": "scattercarpet"
           }
          ],
          "scattergeo": [
           {
            "marker": {
             "colorbar": {
              "outlinewidth": 0,
              "ticks": ""
             }
            },
            "type": "scattergeo"
           }
          ],
          "scattergl": [
           {
            "marker": {
             "colorbar": {
              "outlinewidth": 0,
              "ticks": ""
             }
            },
            "type": "scattergl"
           }
          ],
          "scattermapbox": [
           {
            "marker": {
             "colorbar": {
              "outlinewidth": 0,
              "ticks": ""
             }
            },
            "type": "scattermapbox"
           }
          ],
          "scatterpolar": [
           {
            "marker": {
             "colorbar": {
              "outlinewidth": 0,
              "ticks": ""
             }
            },
            "type": "scatterpolar"
           }
          ],
          "scatterpolargl": [
           {
            "marker": {
             "colorbar": {
              "outlinewidth": 0,
              "ticks": ""
             }
            },
            "type": "scatterpolargl"
           }
          ],
          "scatterternary": [
           {
            "marker": {
             "colorbar": {
              "outlinewidth": 0,
              "ticks": ""
             }
            },
            "type": "scatterternary"
           }
          ],
          "surface": [
           {
            "colorbar": {
             "outlinewidth": 0,
             "ticks": ""
            },
            "colorscale": [
             [
              0,
              "#0d0887"
             ],
             [
              0.1111111111111111,
              "#46039f"
             ],
             [
              0.2222222222222222,
              "#7201a8"
             ],
             [
              0.3333333333333333,
              "#9c179e"
             ],
             [
              0.4444444444444444,
              "#bd3786"
             ],
             [
              0.5555555555555556,
              "#d8576b"
             ],
             [
              0.6666666666666666,
              "#ed7953"
             ],
             [
              0.7777777777777778,
              "#fb9f3a"
             ],
             [
              0.8888888888888888,
              "#fdca26"
             ],
             [
              1,
              "#f0f921"
             ]
            ],
            "type": "surface"
           }
          ],
          "table": [
           {
            "cells": {
             "fill": {
              "color": "#EBF0F8"
             },
             "line": {
              "color": "white"
             }
            },
            "header": {
             "fill": {
              "color": "#C8D4E3"
             },
             "line": {
              "color": "white"
             }
            },
            "type": "table"
           }
          ]
         },
         "layout": {
          "annotationdefaults": {
           "arrowcolor": "#2a3f5f",
           "arrowhead": 0,
           "arrowwidth": 1
          },
          "autotypenumbers": "strict",
          "coloraxis": {
           "colorbar": {
            "outlinewidth": 0,
            "ticks": ""
           }
          },
          "colorscale": {
           "diverging": [
            [
             0,
             "#8e0152"
            ],
            [
             0.1,
             "#c51b7d"
            ],
            [
             0.2,
             "#de77ae"
            ],
            [
             0.3,
             "#f1b6da"
            ],
            [
             0.4,
             "#fde0ef"
            ],
            [
             0.5,
             "#f7f7f7"
            ],
            [
             0.6,
             "#e6f5d0"
            ],
            [
             0.7,
             "#b8e186"
            ],
            [
             0.8,
             "#7fbc41"
            ],
            [
             0.9,
             "#4d9221"
            ],
            [
             1,
             "#276419"
            ]
           ],
           "sequential": [
            [
             0,
             "#0d0887"
            ],
            [
             0.1111111111111111,
             "#46039f"
            ],
            [
             0.2222222222222222,
             "#7201a8"
            ],
            [
             0.3333333333333333,
             "#9c179e"
            ],
            [
             0.4444444444444444,
             "#bd3786"
            ],
            [
             0.5555555555555556,
             "#d8576b"
            ],
            [
             0.6666666666666666,
             "#ed7953"
            ],
            [
             0.7777777777777778,
             "#fb9f3a"
            ],
            [
             0.8888888888888888,
             "#fdca26"
            ],
            [
             1,
             "#f0f921"
            ]
           ],
           "sequentialminus": [
            [
             0,
             "#0d0887"
            ],
            [
             0.1111111111111111,
             "#46039f"
            ],
            [
             0.2222222222222222,
             "#7201a8"
            ],
            [
             0.3333333333333333,
             "#9c179e"
            ],
            [
             0.4444444444444444,
             "#bd3786"
            ],
            [
             0.5555555555555556,
             "#d8576b"
            ],
            [
             0.6666666666666666,
             "#ed7953"
            ],
            [
             0.7777777777777778,
             "#fb9f3a"
            ],
            [
             0.8888888888888888,
             "#fdca26"
            ],
            [
             1,
             "#f0f921"
            ]
           ]
          },
          "colorway": [
           "#636efa",
           "#EF553B",
           "#00cc96",
           "#ab63fa",
           "#FFA15A",
           "#19d3f3",
           "#FF6692",
           "#B6E880",
           "#FF97FF",
           "#FECB52"
          ],
          "font": {
           "color": "#2a3f5f"
          },
          "geo": {
           "bgcolor": "white",
           "lakecolor": "white",
           "landcolor": "#E5ECF6",
           "showlakes": true,
           "showland": true,
           "subunitcolor": "white"
          },
          "hoverlabel": {
           "align": "left"
          },
          "hovermode": "closest",
          "mapbox": {
           "style": "light"
          },
          "paper_bgcolor": "white",
          "plot_bgcolor": "#E5ECF6",
          "polar": {
           "angularaxis": {
            "gridcolor": "white",
            "linecolor": "white",
            "ticks": ""
           },
           "bgcolor": "#E5ECF6",
           "radialaxis": {
            "gridcolor": "white",
            "linecolor": "white",
            "ticks": ""
           }
          },
          "scene": {
           "xaxis": {
            "backgroundcolor": "#E5ECF6",
            "gridcolor": "white",
            "gridwidth": 2,
            "linecolor": "white",
            "showbackground": true,
            "ticks": "",
            "zerolinecolor": "white"
           },
           "yaxis": {
            "backgroundcolor": "#E5ECF6",
            "gridcolor": "white",
            "gridwidth": 2,
            "linecolor": "white",
            "showbackground": true,
            "ticks": "",
            "zerolinecolor": "white"
           },
           "zaxis": {
            "backgroundcolor": "#E5ECF6",
            "gridcolor": "white",
            "gridwidth": 2,
            "linecolor": "white",
            "showbackground": true,
            "ticks": "",
            "zerolinecolor": "white"
           }
          },
          "shapedefaults": {
           "line": {
            "color": "#2a3f5f"
           }
          },
          "ternary": {
           "aaxis": {
            "gridcolor": "white",
            "linecolor": "white",
            "ticks": ""
           },
           "baxis": {
            "gridcolor": "white",
            "linecolor": "white",
            "ticks": ""
           },
           "bgcolor": "#E5ECF6",
           "caxis": {
            "gridcolor": "white",
            "linecolor": "white",
            "ticks": ""
           }
          },
          "title": {
           "x": 0.05
          },
          "xaxis": {
           "automargin": true,
           "gridcolor": "white",
           "linecolor": "white",
           "ticks": "",
           "title": {
            "standoff": 15
           },
           "zerolinecolor": "white",
           "zerolinewidth": 2
          },
          "yaxis": {
           "automargin": true,
           "gridcolor": "white",
           "linecolor": "white",
           "ticks": "",
           "title": {
            "standoff": 15
           },
           "zerolinecolor": "white",
           "zerolinewidth": 2
          }
         }
        }
       }
      },
      "text/html": [
       "<div>                            <div id=\"7cd0e987-b5b7-48cd-ae9d-ae0a1b061e43\" class=\"plotly-graph-div\" style=\"height:525px; width:100%;\"></div>            <script type=\"text/javascript\">                require([\"plotly\"], function(Plotly) {                    window.PLOTLYENV=window.PLOTLYENV || {};                                    if (document.getElementById(\"7cd0e987-b5b7-48cd-ae9d-ae0a1b061e43\")) {                    Plotly.newPlot(                        \"7cd0e987-b5b7-48cd-ae9d-ae0a1b061e43\",                        [{\"domain\": {\"column\": 0, \"row\": 0}, \"gauge\": {\"axis\": {\"visible\": false}}, \"title\": {\"text\": \"Males\"}, \"type\": \"indicator\", \"value\": 61}, {\"domain\": {\"column\": 1, \"row\": 0}, \"gauge\": {\"axis\": {\"visible\": false}}, \"title\": {\"text\": \"Females\"}, \"type\": \"indicator\", \"value\": 44}],                        {\"grid\": {\"columns\": 2, \"pattern\": \"independent\", \"rows\": 1}, \"template\": {\"data\": {\"bar\": [{\"error_x\": {\"color\": \"#2a3f5f\"}, \"error_y\": {\"color\": \"#2a3f5f\"}, \"marker\": {\"line\": {\"color\": \"#E5ECF6\", \"width\": 0.5}}, \"type\": \"bar\"}], \"barpolar\": [{\"marker\": {\"line\": {\"color\": \"#E5ECF6\", \"width\": 0.5}}, \"type\": \"barpolar\"}], \"carpet\": [{\"aaxis\": {\"endlinecolor\": \"#2a3f5f\", \"gridcolor\": \"white\", \"linecolor\": \"white\", \"minorgridcolor\": \"white\", \"startlinecolor\": \"#2a3f5f\"}, \"baxis\": {\"endlinecolor\": \"#2a3f5f\", \"gridcolor\": \"white\", \"linecolor\": \"white\", \"minorgridcolor\": \"white\", \"startlinecolor\": \"#2a3f5f\"}, \"type\": \"carpet\"}], \"choropleth\": [{\"colorbar\": {\"outlinewidth\": 0, \"ticks\": \"\"}, \"type\": \"choropleth\"}], \"contour\": [{\"colorbar\": {\"outlinewidth\": 0, \"ticks\": \"\"}, \"colorscale\": [[0.0, \"#0d0887\"], [0.1111111111111111, \"#46039f\"], [0.2222222222222222, \"#7201a8\"], [0.3333333333333333, \"#9c179e\"], [0.4444444444444444, \"#bd3786\"], [0.5555555555555556, \"#d8576b\"], [0.6666666666666666, \"#ed7953\"], [0.7777777777777778, \"#fb9f3a\"], [0.8888888888888888, \"#fdca26\"], [1.0, \"#f0f921\"]], \"type\": \"contour\"}], \"contourcarpet\": [{\"colorbar\": {\"outlinewidth\": 0, \"ticks\": \"\"}, \"type\": \"contourcarpet\"}], \"heatmap\": [{\"colorbar\": {\"outlinewidth\": 0, \"ticks\": \"\"}, \"colorscale\": [[0.0, \"#0d0887\"], [0.1111111111111111, \"#46039f\"], [0.2222222222222222, \"#7201a8\"], [0.3333333333333333, \"#9c179e\"], [0.4444444444444444, \"#bd3786\"], [0.5555555555555556, \"#d8576b\"], [0.6666666666666666, \"#ed7953\"], [0.7777777777777778, \"#fb9f3a\"], [0.8888888888888888, \"#fdca26\"], [1.0, \"#f0f921\"]], \"type\": \"heatmap\"}], \"heatmapgl\": [{\"colorbar\": {\"outlinewidth\": 0, \"ticks\": \"\"}, \"colorscale\": [[0.0, \"#0d0887\"], [0.1111111111111111, \"#46039f\"], [0.2222222222222222, \"#7201a8\"], [0.3333333333333333, \"#9c179e\"], [0.4444444444444444, \"#bd3786\"], [0.5555555555555556, \"#d8576b\"], [0.6666666666666666, \"#ed7953\"], [0.7777777777777778, \"#fb9f3a\"], [0.8888888888888888, \"#fdca26\"], [1.0, \"#f0f921\"]], \"type\": \"heatmapgl\"}], \"histogram\": [{\"marker\": {\"colorbar\": {\"outlinewidth\": 0, \"ticks\": \"\"}}, \"type\": \"histogram\"}], \"histogram2d\": [{\"colorbar\": {\"outlinewidth\": 0, \"ticks\": \"\"}, \"colorscale\": [[0.0, \"#0d0887\"], [0.1111111111111111, \"#46039f\"], [0.2222222222222222, \"#7201a8\"], [0.3333333333333333, \"#9c179e\"], [0.4444444444444444, \"#bd3786\"], [0.5555555555555556, \"#d8576b\"], [0.6666666666666666, \"#ed7953\"], [0.7777777777777778, \"#fb9f3a\"], [0.8888888888888888, \"#fdca26\"], [1.0, \"#f0f921\"]], \"type\": \"histogram2d\"}], \"histogram2dcontour\": [{\"colorbar\": {\"outlinewidth\": 0, \"ticks\": \"\"}, \"colorscale\": [[0.0, \"#0d0887\"], [0.1111111111111111, \"#46039f\"], [0.2222222222222222, \"#7201a8\"], [0.3333333333333333, \"#9c179e\"], [0.4444444444444444, \"#bd3786\"], [0.5555555555555556, \"#d8576b\"], [0.6666666666666666, \"#ed7953\"], [0.7777777777777778, \"#fb9f3a\"], [0.8888888888888888, \"#fdca26\"], [1.0, \"#f0f921\"]], \"type\": \"histogram2dcontour\"}], \"indicator\": [{\"delta\": {\"reference\": 90}, \"type\": \"indicator\"}], \"mesh3d\": [{\"colorbar\": {\"outlinewidth\": 0, \"ticks\": \"\"}, \"type\": \"mesh3d\"}], \"parcoords\": [{\"line\": {\"colorbar\": {\"outlinewidth\": 0, \"ticks\": \"\"}}, \"type\": \"parcoords\"}], \"pie\": [{\"automargin\": true, \"type\": \"pie\"}], \"scatter\": [{\"marker\": {\"colorbar\": {\"outlinewidth\": 0, \"ticks\": \"\"}}, \"type\": \"scatter\"}], \"scatter3d\": [{\"line\": {\"colorbar\": {\"outlinewidth\": 0, \"ticks\": \"\"}}, \"marker\": {\"colorbar\": {\"outlinewidth\": 0, \"ticks\": \"\"}}, \"type\": \"scatter3d\"}], \"scattercarpet\": [{\"marker\": {\"colorbar\": {\"outlinewidth\": 0, \"ticks\": \"\"}}, \"type\": \"scattercarpet\"}], \"scattergeo\": [{\"marker\": {\"colorbar\": {\"outlinewidth\": 0, \"ticks\": \"\"}}, \"type\": \"scattergeo\"}], \"scattergl\": [{\"marker\": {\"colorbar\": {\"outlinewidth\": 0, \"ticks\": \"\"}}, \"type\": \"scattergl\"}], \"scattermapbox\": [{\"marker\": {\"colorbar\": {\"outlinewidth\": 0, \"ticks\": \"\"}}, \"type\": \"scattermapbox\"}], \"scatterpolar\": [{\"marker\": {\"colorbar\": {\"outlinewidth\": 0, \"ticks\": \"\"}}, \"type\": \"scatterpolar\"}], \"scatterpolargl\": [{\"marker\": {\"colorbar\": {\"outlinewidth\": 0, \"ticks\": \"\"}}, \"type\": \"scatterpolargl\"}], \"scatterternary\": [{\"marker\": {\"colorbar\": {\"outlinewidth\": 0, \"ticks\": \"\"}}, \"type\": \"scatterternary\"}], \"surface\": [{\"colorbar\": {\"outlinewidth\": 0, \"ticks\": \"\"}, \"colorscale\": [[0.0, \"#0d0887\"], [0.1111111111111111, \"#46039f\"], [0.2222222222222222, \"#7201a8\"], [0.3333333333333333, \"#9c179e\"], [0.4444444444444444, \"#bd3786\"], [0.5555555555555556, \"#d8576b\"], [0.6666666666666666, \"#ed7953\"], [0.7777777777777778, \"#fb9f3a\"], [0.8888888888888888, \"#fdca26\"], [1.0, \"#f0f921\"]], \"type\": \"surface\"}], \"table\": [{\"cells\": {\"fill\": {\"color\": \"#EBF0F8\"}, \"line\": {\"color\": \"white\"}}, \"header\": {\"fill\": {\"color\": \"#C8D4E3\"}, \"line\": {\"color\": \"white\"}}, \"type\": \"table\"}]}, \"layout\": {\"annotationdefaults\": {\"arrowcolor\": \"#2a3f5f\", \"arrowhead\": 0, \"arrowwidth\": 1}, \"autotypenumbers\": \"strict\", \"coloraxis\": {\"colorbar\": {\"outlinewidth\": 0, \"ticks\": \"\"}}, \"colorscale\": {\"diverging\": [[0, \"#8e0152\"], [0.1, \"#c51b7d\"], [0.2, \"#de77ae\"], [0.3, \"#f1b6da\"], [0.4, \"#fde0ef\"], [0.5, \"#f7f7f7\"], [0.6, \"#e6f5d0\"], [0.7, \"#b8e186\"], [0.8, \"#7fbc41\"], [0.9, \"#4d9221\"], [1, \"#276419\"]], \"sequential\": [[0.0, \"#0d0887\"], [0.1111111111111111, \"#46039f\"], [0.2222222222222222, \"#7201a8\"], [0.3333333333333333, \"#9c179e\"], [0.4444444444444444, \"#bd3786\"], [0.5555555555555556, \"#d8576b\"], [0.6666666666666666, \"#ed7953\"], [0.7777777777777778, \"#fb9f3a\"], [0.8888888888888888, \"#fdca26\"], [1.0, \"#f0f921\"]], \"sequentialminus\": [[0.0, \"#0d0887\"], [0.1111111111111111, \"#46039f\"], [0.2222222222222222, \"#7201a8\"], [0.3333333333333333, \"#9c179e\"], [0.4444444444444444, \"#bd3786\"], [0.5555555555555556, \"#d8576b\"], [0.6666666666666666, \"#ed7953\"], [0.7777777777777778, \"#fb9f3a\"], [0.8888888888888888, \"#fdca26\"], [1.0, \"#f0f921\"]]}, \"colorway\": [\"#636efa\", \"#EF553B\", \"#00cc96\", \"#ab63fa\", \"#FFA15A\", \"#19d3f3\", \"#FF6692\", \"#B6E880\", \"#FF97FF\", \"#FECB52\"], \"font\": {\"color\": \"#2a3f5f\"}, \"geo\": {\"bgcolor\": \"white\", \"lakecolor\": \"white\", \"landcolor\": \"#E5ECF6\", \"showlakes\": true, \"showland\": true, \"subunitcolor\": \"white\"}, \"hoverlabel\": {\"align\": \"left\"}, \"hovermode\": \"closest\", \"mapbox\": {\"style\": \"light\"}, \"paper_bgcolor\": \"white\", \"plot_bgcolor\": \"#E5ECF6\", \"polar\": {\"angularaxis\": {\"gridcolor\": \"white\", \"linecolor\": \"white\", \"ticks\": \"\"}, \"bgcolor\": \"#E5ECF6\", \"radialaxis\": {\"gridcolor\": \"white\", \"linecolor\": \"white\", \"ticks\": \"\"}}, \"scene\": {\"xaxis\": {\"backgroundcolor\": \"#E5ECF6\", \"gridcolor\": \"white\", \"gridwidth\": 2, \"linecolor\": \"white\", \"showbackground\": true, \"ticks\": \"\", \"zerolinecolor\": \"white\"}, \"yaxis\": {\"backgroundcolor\": \"#E5ECF6\", \"gridcolor\": \"white\", \"gridwidth\": 2, \"linecolor\": \"white\", \"showbackground\": true, \"ticks\": \"\", \"zerolinecolor\": \"white\"}, \"zaxis\": {\"backgroundcolor\": \"#E5ECF6\", \"gridcolor\": \"white\", \"gridwidth\": 2, \"linecolor\": \"white\", \"showbackground\": true, \"ticks\": \"\", \"zerolinecolor\": \"white\"}}, \"shapedefaults\": {\"line\": {\"color\": \"#2a3f5f\"}}, \"ternary\": {\"aaxis\": {\"gridcolor\": \"white\", \"linecolor\": \"white\", \"ticks\": \"\"}, \"baxis\": {\"gridcolor\": \"white\", \"linecolor\": \"white\", \"ticks\": \"\"}, \"bgcolor\": \"#E5ECF6\", \"caxis\": {\"gridcolor\": \"white\", \"linecolor\": \"white\", \"ticks\": \"\"}}, \"title\": {\"x\": 0.05}, \"xaxis\": {\"automargin\": true, \"gridcolor\": \"white\", \"linecolor\": \"white\", \"ticks\": \"\", \"title\": {\"standoff\": 15}, \"zerolinecolor\": \"white\", \"zerolinewidth\": 2}, \"yaxis\": {\"automargin\": true, \"gridcolor\": \"white\", \"linecolor\": \"white\", \"ticks\": \"\", \"title\": {\"standoff\": 15}, \"zerolinecolor\": \"white\", \"zerolinewidth\": 2}}}},                        {\"responsive\": true}                    ).then(function(){\n",
       "                            \n",
       "var gd = document.getElementById('7cd0e987-b5b7-48cd-ae9d-ae0a1b061e43');\n",
       "var x = new MutationObserver(function (mutations, observer) {{\n",
       "        var display = window.getComputedStyle(gd).display;\n",
       "        if (!display || display === 'none') {{\n",
       "            console.log([gd, 'removed!']);\n",
       "            Plotly.purge(gd);\n",
       "            observer.disconnect();\n",
       "        }}\n",
       "}});\n",
       "\n",
       "// Listen for the removal of the full notebook cells\n",
       "var notebookContainer = gd.closest('#notebook-container');\n",
       "if (notebookContainer) {{\n",
       "    x.observe(notebookContainer, {childList: true});\n",
       "}}\n",
       "\n",
       "// Listen for the clearing of the current output cell\n",
       "var outputEl = gd.closest('.output');\n",
       "if (outputEl) {{\n",
       "    x.observe(outputEl, {childList: true});\n",
       "}}\n",
       "\n",
       "                        })                };                });            </script>        </div>"
      ]
     },
     "metadata": {},
     "output_type": "display_data"
    },
    {
     "data": {
      "application/javascript": [
       "\n",
       "            setTimeout(function() {\n",
       "                var nbb_cell_id = 174;\n",
       "                var nbb_unformatted_code = \"gender_counts = file[\\\"Gender\\\"].value_counts()\\n\\nfig = go.Figure()\\nfig.add_trace(go.Indicator(\\n    value = gender_counts[0],\\n    title = \\\"Males\\\",\\n    gauge = {\\n        'axis': {'visible': False}},\\n    domain = {'row': 0, 'column': 0}))\\nfig.add_trace(go.Indicator(\\n    value = gender_counts[1],\\n    title=\\\"Females\\\",\\n    gauge = {\\n        'axis': {'visible': False}},\\n    domain = {'row': 0, 'column': 1}))\\nfig.update_layout(\\n    grid = {'rows': 1, 'columns': 2, 'pattern': \\\"independent\\\"},\\n    template = {'data' : {'indicator': [{\\n        'delta' : {'reference': 90}}]}})\";\n",
       "                var nbb_formatted_code = \"gender_counts = file[\\\"Gender\\\"].value_counts()\\n\\nfig = go.Figure()\\nfig.add_trace(\\n    go.Indicator(\\n        value=gender_counts[0],\\n        title=\\\"Males\\\",\\n        gauge={\\\"axis\\\": {\\\"visible\\\": False}},\\n        domain={\\\"row\\\": 0, \\\"column\\\": 0},\\n    )\\n)\\nfig.add_trace(\\n    go.Indicator(\\n        value=gender_counts[1],\\n        title=\\\"Females\\\",\\n        gauge={\\\"axis\\\": {\\\"visible\\\": False}},\\n        domain={\\\"row\\\": 0, \\\"column\\\": 1},\\n    )\\n)\\nfig.update_layout(\\n    grid={\\\"rows\\\": 1, \\\"columns\\\": 2, \\\"pattern\\\": \\\"independent\\\"},\\n    template={\\\"data\\\": {\\\"indicator\\\": [{\\\"delta\\\": {\\\"reference\\\": 90}}]}},\\n)\";\n",
       "                var nbb_cells = Jupyter.notebook.get_cells();\n",
       "                for (var i = 0; i < nbb_cells.length; ++i) {\n",
       "                    if (nbb_cells[i].input_prompt_number == nbb_cell_id) {\n",
       "                        if (nbb_cells[i].get_text() == nbb_unformatted_code) {\n",
       "                             nbb_cells[i].set_text(nbb_formatted_code);\n",
       "                        }\n",
       "                        break;\n",
       "                    }\n",
       "                }\n",
       "            }, 500);\n",
       "            "
      ],
      "text/plain": [
       "<IPython.core.display.Javascript object>"
      ]
     },
     "metadata": {},
     "output_type": "display_data"
    }
   ],
   "source": [
    "gender_counts = file[\"Gender\"].value_counts()\n",
    "\n",
    "fig = go.Figure()\n",
    "fig.add_trace(\n",
    "    go.Indicator(\n",
    "        value=gender_counts[0],\n",
    "        title=\"Males\",\n",
    "        gauge={\"axis\": {\"visible\": False}},\n",
    "        domain={\"row\": 0, \"column\": 0},\n",
    "    )\n",
    ")\n",
    "fig.add_trace(\n",
    "    go.Indicator(\n",
    "        value=gender_counts[1],\n",
    "        title=\"Females\",\n",
    "        gauge={\"axis\": {\"visible\": False}},\n",
    "        domain={\"row\": 0, \"column\": 1},\n",
    "    )\n",
    ")\n",
    "fig.update_layout(\n",
    "    grid={\"rows\": 1, \"columns\": 2, \"pattern\": \"independent\"},\n",
    "    template={\"data\": {\"indicator\": [{\"delta\": {\"reference\": 90}}]}},\n",
    ")"
   ]
  },
  {
   "cell_type": "markdown",
   "metadata": {},
   "source": [
    "#### Displaying the head for Presentation Slides"
   ]
  },
  {
   "cell_type": "code",
   "execution_count": 203,
   "metadata": {},
   "outputs": [
    {
     "data": {
      "text/plain": [
       "['Gender',\n",
       " 'Age',\n",
       " 'Number of Kids',\n",
       " 'Average Grade',\n",
       " 'Excited about Data',\n",
       " 'Enjoy Working with Data']"
      ]
     },
     "execution_count": 203,
     "metadata": {},
     "output_type": "execute_result"
    },
    {
     "data": {
      "application/javascript": [
       "\n",
       "            setTimeout(function() {\n",
       "                var nbb_cell_id = 203;\n",
       "                var nbb_unformatted_code = \"display_file = file[[\\\"Gender\\\",\\\"Age_by_birth_year\\\", \\\"Kids\\\", \\\"Average_grade\\\", \\\"Excited_data\\\",\\\"Enjoy_data\\\"]].tail()\\ndisplay_file.columns = [\\\"Gender\\\", \\\"Age\\\", \\\"Number of Kids\\\", \\\"Average Grade\\\", \\\"Excited about Data\\\", \\n                        \\\"Enjoy Working with Data\\\"]\\ndisplay_file.columns.tolist()\";\n",
       "                var nbb_formatted_code = \"display_file = file[\\n    [\\n        \\\"Gender\\\",\\n        \\\"Age_by_birth_year\\\",\\n        \\\"Kids\\\",\\n        \\\"Average_grade\\\",\\n        \\\"Excited_data\\\",\\n        \\\"Enjoy_data\\\",\\n    ]\\n].tail()\\ndisplay_file.columns = [\\n    \\\"Gender\\\",\\n    \\\"Age\\\",\\n    \\\"Number of Kids\\\",\\n    \\\"Average Grade\\\",\\n    \\\"Excited about Data\\\",\\n    \\\"Enjoy Working with Data\\\",\\n]\\ndisplay_file.columns.tolist()\";\n",
       "                var nbb_cells = Jupyter.notebook.get_cells();\n",
       "                for (var i = 0; i < nbb_cells.length; ++i) {\n",
       "                    if (nbb_cells[i].input_prompt_number == nbb_cell_id) {\n",
       "                        if (nbb_cells[i].get_text() == nbb_unformatted_code) {\n",
       "                             nbb_cells[i].set_text(nbb_formatted_code);\n",
       "                        }\n",
       "                        break;\n",
       "                    }\n",
       "                }\n",
       "            }, 500);\n",
       "            "
      ],
      "text/plain": [
       "<IPython.core.display.Javascript object>"
      ]
     },
     "metadata": {},
     "output_type": "display_data"
    }
   ],
   "source": [
    "display_file = file[\n",
    "    [\n",
    "        \"Gender\",\n",
    "        \"Age_by_birth_year\",\n",
    "        \"Kids\",\n",
    "        \"Average_grade\",\n",
    "        \"Excited_data\",\n",
    "        \"Enjoy_data\",\n",
    "    ]\n",
    "].tail()\n",
    "display_file.columns = [\n",
    "    \"Gender\",\n",
    "    \"Age\",\n",
    "    \"Number of Kids\",\n",
    "    \"Average Grade\",\n",
    "    \"Excited about Data\",\n",
    "    \"Enjoy Working with Data\",\n",
    "]\n",
    "display_file.columns.tolist()"
   ]
  },
  {
   "cell_type": "code",
   "execution_count": 204,
   "metadata": {},
   "outputs": [
    {
     "data": {
      "application/vnd.plotly.v1+json": {
       "config": {
        "plotlyServerURL": "https://plot.ly"
       },
       "data": [
        {
         "cells": {
          "align": "left",
          "font": {
           "family": "Lato",
           "size": 20
          },
          "height": 50,
          "values": [
           [
            "Man",
            "Man",
            "Woman",
            "Woman",
            "Woman"
           ],
           [
            46,
            57,
            43,
            45,
            45
           ],
           [
            3,
            0,
            1,
            5,
            0
           ],
           [
            78,
            60,
            70,
            56,
            69
           ],
           [
            "Completely Agree",
            "Completely Agree",
            "Agree",
            "Agree",
            "Completely Agree"
           ],
           [
            "Agree",
            "Agree",
            "Agree",
            "Agree",
            "Agree"
           ]
          ]
         },
         "header": {
          "align": "left",
          "fill": {
           "color": "lightblue"
          },
          "font": {
           "family": "Lato",
           "size": 20
          },
          "height": 50,
          "values": [
           "Gender",
           "Age",
           "Number of Kids",
           "Average Grade",
           "Excited about Data",
           "Enjoy Working with Data"
          ]
         },
         "type": "table"
        }
       ],
       "layout": {
        "height": 1000,
        "margin": {
         "t": 50
        },
        "template": {
         "data": {
          "bar": [
           {
            "error_x": {
             "color": "#2a3f5f"
            },
            "error_y": {
             "color": "#2a3f5f"
            },
            "marker": {
             "line": {
              "color": "#E5ECF6",
              "width": 0.5
             }
            },
            "type": "bar"
           }
          ],
          "barpolar": [
           {
            "marker": {
             "line": {
              "color": "#E5ECF6",
              "width": 0.5
             }
            },
            "type": "barpolar"
           }
          ],
          "carpet": [
           {
            "aaxis": {
             "endlinecolor": "#2a3f5f",
             "gridcolor": "white",
             "linecolor": "white",
             "minorgridcolor": "white",
             "startlinecolor": "#2a3f5f"
            },
            "baxis": {
             "endlinecolor": "#2a3f5f",
             "gridcolor": "white",
             "linecolor": "white",
             "minorgridcolor": "white",
             "startlinecolor": "#2a3f5f"
            },
            "type": "carpet"
           }
          ],
          "choropleth": [
           {
            "colorbar": {
             "outlinewidth": 0,
             "ticks": ""
            },
            "type": "choropleth"
           }
          ],
          "contour": [
           {
            "colorbar": {
             "outlinewidth": 0,
             "ticks": ""
            },
            "colorscale": [
             [
              0,
              "#0d0887"
             ],
             [
              0.1111111111111111,
              "#46039f"
             ],
             [
              0.2222222222222222,
              "#7201a8"
             ],
             [
              0.3333333333333333,
              "#9c179e"
             ],
             [
              0.4444444444444444,
              "#bd3786"
             ],
             [
              0.5555555555555556,
              "#d8576b"
             ],
             [
              0.6666666666666666,
              "#ed7953"
             ],
             [
              0.7777777777777778,
              "#fb9f3a"
             ],
             [
              0.8888888888888888,
              "#fdca26"
             ],
             [
              1,
              "#f0f921"
             ]
            ],
            "type": "contour"
           }
          ],
          "contourcarpet": [
           {
            "colorbar": {
             "outlinewidth": 0,
             "ticks": ""
            },
            "type": "contourcarpet"
           }
          ],
          "heatmap": [
           {
            "colorbar": {
             "outlinewidth": 0,
             "ticks": ""
            },
            "colorscale": [
             [
              0,
              "#0d0887"
             ],
             [
              0.1111111111111111,
              "#46039f"
             ],
             [
              0.2222222222222222,
              "#7201a8"
             ],
             [
              0.3333333333333333,
              "#9c179e"
             ],
             [
              0.4444444444444444,
              "#bd3786"
             ],
             [
              0.5555555555555556,
              "#d8576b"
             ],
             [
              0.6666666666666666,
              "#ed7953"
             ],
             [
              0.7777777777777778,
              "#fb9f3a"
             ],
             [
              0.8888888888888888,
              "#fdca26"
             ],
             [
              1,
              "#f0f921"
             ]
            ],
            "type": "heatmap"
           }
          ],
          "heatmapgl": [
           {
            "colorbar": {
             "outlinewidth": 0,
             "ticks": ""
            },
            "colorscale": [
             [
              0,
              "#0d0887"
             ],
             [
              0.1111111111111111,
              "#46039f"
             ],
             [
              0.2222222222222222,
              "#7201a8"
             ],
             [
              0.3333333333333333,
              "#9c179e"
             ],
             [
              0.4444444444444444,
              "#bd3786"
             ],
             [
              0.5555555555555556,
              "#d8576b"
             ],
             [
              0.6666666666666666,
              "#ed7953"
             ],
             [
              0.7777777777777778,
              "#fb9f3a"
             ],
             [
              0.8888888888888888,
              "#fdca26"
             ],
             [
              1,
              "#f0f921"
             ]
            ],
            "type": "heatmapgl"
           }
          ],
          "histogram": [
           {
            "marker": {
             "colorbar": {
              "outlinewidth": 0,
              "ticks": ""
             }
            },
            "type": "histogram"
           }
          ],
          "histogram2d": [
           {
            "colorbar": {
             "outlinewidth": 0,
             "ticks": ""
            },
            "colorscale": [
             [
              0,
              "#0d0887"
             ],
             [
              0.1111111111111111,
              "#46039f"
             ],
             [
              0.2222222222222222,
              "#7201a8"
             ],
             [
              0.3333333333333333,
              "#9c179e"
             ],
             [
              0.4444444444444444,
              "#bd3786"
             ],
             [
              0.5555555555555556,
              "#d8576b"
             ],
             [
              0.6666666666666666,
              "#ed7953"
             ],
             [
              0.7777777777777778,
              "#fb9f3a"
             ],
             [
              0.8888888888888888,
              "#fdca26"
             ],
             [
              1,
              "#f0f921"
             ]
            ],
            "type": "histogram2d"
           }
          ],
          "histogram2dcontour": [
           {
            "colorbar": {
             "outlinewidth": 0,
             "ticks": ""
            },
            "colorscale": [
             [
              0,
              "#0d0887"
             ],
             [
              0.1111111111111111,
              "#46039f"
             ],
             [
              0.2222222222222222,
              "#7201a8"
             ],
             [
              0.3333333333333333,
              "#9c179e"
             ],
             [
              0.4444444444444444,
              "#bd3786"
             ],
             [
              0.5555555555555556,
              "#d8576b"
             ],
             [
              0.6666666666666666,
              "#ed7953"
             ],
             [
              0.7777777777777778,
              "#fb9f3a"
             ],
             [
              0.8888888888888888,
              "#fdca26"
             ],
             [
              1,
              "#f0f921"
             ]
            ],
            "type": "histogram2dcontour"
           }
          ],
          "mesh3d": [
           {
            "colorbar": {
             "outlinewidth": 0,
             "ticks": ""
            },
            "type": "mesh3d"
           }
          ],
          "parcoords": [
           {
            "line": {
             "colorbar": {
              "outlinewidth": 0,
              "ticks": ""
             }
            },
            "type": "parcoords"
           }
          ],
          "pie": [
           {
            "automargin": true,
            "type": "pie"
           }
          ],
          "scatter": [
           {
            "marker": {
             "colorbar": {
              "outlinewidth": 0,
              "ticks": ""
             }
            },
            "type": "scatter"
           }
          ],
          "scatter3d": [
           {
            "line": {
             "colorbar": {
              "outlinewidth": 0,
              "ticks": ""
             }
            },
            "marker": {
             "colorbar": {
              "outlinewidth": 0,
              "ticks": ""
             }
            },
            "type": "scatter3d"
           }
          ],
          "scattercarpet": [
           {
            "marker": {
             "colorbar": {
              "outlinewidth": 0,
              "ticks": ""
             }
            },
            "type": "scattercarpet"
           }
          ],
          "scattergeo": [
           {
            "marker": {
             "colorbar": {
              "outlinewidth": 0,
              "ticks": ""
             }
            },
            "type": "scattergeo"
           }
          ],
          "scattergl": [
           {
            "marker": {
             "colorbar": {
              "outlinewidth": 0,
              "ticks": ""
             }
            },
            "type": "scattergl"
           }
          ],
          "scattermapbox": [
           {
            "marker": {
             "colorbar": {
              "outlinewidth": 0,
              "ticks": ""
             }
            },
            "type": "scattermapbox"
           }
          ],
          "scatterpolar": [
           {
            "marker": {
             "colorbar": {
              "outlinewidth": 0,
              "ticks": ""
             }
            },
            "type": "scatterpolar"
           }
          ],
          "scatterpolargl": [
           {
            "marker": {
             "colorbar": {
              "outlinewidth": 0,
              "ticks": ""
             }
            },
            "type": "scatterpolargl"
           }
          ],
          "scatterternary": [
           {
            "marker": {
             "colorbar": {
              "outlinewidth": 0,
              "ticks": ""
             }
            },
            "type": "scatterternary"
           }
          ],
          "surface": [
           {
            "colorbar": {
             "outlinewidth": 0,
             "ticks": ""
            },
            "colorscale": [
             [
              0,
              "#0d0887"
             ],
             [
              0.1111111111111111,
              "#46039f"
             ],
             [
              0.2222222222222222,
              "#7201a8"
             ],
             [
              0.3333333333333333,
              "#9c179e"
             ],
             [
              0.4444444444444444,
              "#bd3786"
             ],
             [
              0.5555555555555556,
              "#d8576b"
             ],
             [
              0.6666666666666666,
              "#ed7953"
             ],
             [
              0.7777777777777778,
              "#fb9f3a"
             ],
             [
              0.8888888888888888,
              "#fdca26"
             ],
             [
              1,
              "#f0f921"
             ]
            ],
            "type": "surface"
           }
          ],
          "table": [
           {
            "cells": {
             "fill": {
              "color": "#EBF0F8"
             },
             "line": {
              "color": "white"
             }
            },
            "header": {
             "fill": {
              "color": "#C8D4E3"
             },
             "line": {
              "color": "white"
             }
            },
            "type": "table"
           }
          ]
         },
         "layout": {
          "annotationdefaults": {
           "arrowcolor": "#2a3f5f",
           "arrowhead": 0,
           "arrowwidth": 1
          },
          "autotypenumbers": "strict",
          "coloraxis": {
           "colorbar": {
            "outlinewidth": 0,
            "ticks": ""
           }
          },
          "colorscale": {
           "diverging": [
            [
             0,
             "#8e0152"
            ],
            [
             0.1,
             "#c51b7d"
            ],
            [
             0.2,
             "#de77ae"
            ],
            [
             0.3,
             "#f1b6da"
            ],
            [
             0.4,
             "#fde0ef"
            ],
            [
             0.5,
             "#f7f7f7"
            ],
            [
             0.6,
             "#e6f5d0"
            ],
            [
             0.7,
             "#b8e186"
            ],
            [
             0.8,
             "#7fbc41"
            ],
            [
             0.9,
             "#4d9221"
            ],
            [
             1,
             "#276419"
            ]
           ],
           "sequential": [
            [
             0,
             "#0d0887"
            ],
            [
             0.1111111111111111,
             "#46039f"
            ],
            [
             0.2222222222222222,
             "#7201a8"
            ],
            [
             0.3333333333333333,
             "#9c179e"
            ],
            [
             0.4444444444444444,
             "#bd3786"
            ],
            [
             0.5555555555555556,
             "#d8576b"
            ],
            [
             0.6666666666666666,
             "#ed7953"
            ],
            [
             0.7777777777777778,
             "#fb9f3a"
            ],
            [
             0.8888888888888888,
             "#fdca26"
            ],
            [
             1,
             "#f0f921"
            ]
           ],
           "sequentialminus": [
            [
             0,
             "#0d0887"
            ],
            [
             0.1111111111111111,
             "#46039f"
            ],
            [
             0.2222222222222222,
             "#7201a8"
            ],
            [
             0.3333333333333333,
             "#9c179e"
            ],
            [
             0.4444444444444444,
             "#bd3786"
            ],
            [
             0.5555555555555556,
             "#d8576b"
            ],
            [
             0.6666666666666666,
             "#ed7953"
            ],
            [
             0.7777777777777778,
             "#fb9f3a"
            ],
            [
             0.8888888888888888,
             "#fdca26"
            ],
            [
             1,
             "#f0f921"
            ]
           ]
          },
          "colorway": [
           "#636efa",
           "#EF553B",
           "#00cc96",
           "#ab63fa",
           "#FFA15A",
           "#19d3f3",
           "#FF6692",
           "#B6E880",
           "#FF97FF",
           "#FECB52"
          ],
          "font": {
           "color": "#2a3f5f"
          },
          "geo": {
           "bgcolor": "white",
           "lakecolor": "white",
           "landcolor": "#E5ECF6",
           "showlakes": true,
           "showland": true,
           "subunitcolor": "white"
          },
          "hoverlabel": {
           "align": "left"
          },
          "hovermode": "closest",
          "mapbox": {
           "style": "light"
          },
          "paper_bgcolor": "white",
          "plot_bgcolor": "#E5ECF6",
          "polar": {
           "angularaxis": {
            "gridcolor": "white",
            "linecolor": "white",
            "ticks": ""
           },
           "bgcolor": "#E5ECF6",
           "radialaxis": {
            "gridcolor": "white",
            "linecolor": "white",
            "ticks": ""
           }
          },
          "scene": {
           "xaxis": {
            "backgroundcolor": "#E5ECF6",
            "gridcolor": "white",
            "gridwidth": 2,
            "linecolor": "white",
            "showbackground": true,
            "ticks": "",
            "zerolinecolor": "white"
           },
           "yaxis": {
            "backgroundcolor": "#E5ECF6",
            "gridcolor": "white",
            "gridwidth": 2,
            "linecolor": "white",
            "showbackground": true,
            "ticks": "",
            "zerolinecolor": "white"
           },
           "zaxis": {
            "backgroundcolor": "#E5ECF6",
            "gridcolor": "white",
            "gridwidth": 2,
            "linecolor": "white",
            "showbackground": true,
            "ticks": "",
            "zerolinecolor": "white"
           }
          },
          "shapedefaults": {
           "line": {
            "color": "#2a3f5f"
           }
          },
          "ternary": {
           "aaxis": {
            "gridcolor": "white",
            "linecolor": "white",
            "ticks": ""
           },
           "baxis": {
            "gridcolor": "white",
            "linecolor": "white",
            "ticks": ""
           },
           "bgcolor": "#E5ECF6",
           "caxis": {
            "gridcolor": "white",
            "linecolor": "white",
            "ticks": ""
           }
          },
          "title": {
           "x": 0.05
          },
          "xaxis": {
           "automargin": true,
           "gridcolor": "white",
           "linecolor": "white",
           "ticks": "",
           "title": {
            "standoff": 15
           },
           "zerolinecolor": "white",
           "zerolinewidth": 2
          },
          "yaxis": {
           "automargin": true,
           "gridcolor": "white",
           "linecolor": "white",
           "ticks": "",
           "title": {
            "standoff": 15
           },
           "zerolinecolor": "white",
           "zerolinewidth": 2
          }
         }
        },
        "title": {
         "text": "Data Preview"
        },
        "width": 1100
       }
      },
      "text/html": [
       "<div>                            <div id=\"442ec80f-0715-46f6-a499-a8ce119bd95f\" class=\"plotly-graph-div\" style=\"height:1000px; width:1100px;\"></div>            <script type=\"text/javascript\">                require([\"plotly\"], function(Plotly) {                    window.PLOTLYENV=window.PLOTLYENV || {};                                    if (document.getElementById(\"442ec80f-0715-46f6-a499-a8ce119bd95f\")) {                    Plotly.newPlot(                        \"442ec80f-0715-46f6-a499-a8ce119bd95f\",                        [{\"cells\": {\"align\": \"left\", \"font\": {\"family\": \"Lato\", \"size\": 20}, \"height\": 50, \"values\": [[\"Man\", \"Man\", \"Woman\", \"Woman\", \"Woman\"], [46, 57, 43, 45, 45], [3, 0, 1, 5, 0], [78.0, 60.0, 70.0, 56.0, 69.0], [\"Completely Agree\", \"Completely Agree\", \"Agree\", \"Agree\", \"Completely Agree\"], [\"Agree\", \"Agree\", \"Agree\", \"Agree\", \"Agree\"]]}, \"header\": {\"align\": \"left\", \"fill\": {\"color\": \"lightblue\"}, \"font\": {\"family\": \"Lato\", \"size\": 20}, \"height\": 50, \"values\": [\"Gender\", \"Age\", \"Number of Kids\", \"Average Grade\", \"Excited about Data\", \"Enjoy Working with Data\"]}, \"type\": \"table\"}],                        {\"height\": 1000, \"margin\": {\"t\": 50}, \"template\": {\"data\": {\"bar\": [{\"error_x\": {\"color\": \"#2a3f5f\"}, \"error_y\": {\"color\": \"#2a3f5f\"}, \"marker\": {\"line\": {\"color\": \"#E5ECF6\", \"width\": 0.5}}, \"type\": \"bar\"}], \"barpolar\": [{\"marker\": {\"line\": {\"color\": \"#E5ECF6\", \"width\": 0.5}}, \"type\": \"barpolar\"}], \"carpet\": [{\"aaxis\": {\"endlinecolor\": \"#2a3f5f\", \"gridcolor\": \"white\", \"linecolor\": \"white\", \"minorgridcolor\": \"white\", \"startlinecolor\": \"#2a3f5f\"}, \"baxis\": {\"endlinecolor\": \"#2a3f5f\", \"gridcolor\": \"white\", \"linecolor\": \"white\", \"minorgridcolor\": \"white\", \"startlinecolor\": \"#2a3f5f\"}, \"type\": \"carpet\"}], \"choropleth\": [{\"colorbar\": {\"outlinewidth\": 0, \"ticks\": \"\"}, \"type\": \"choropleth\"}], \"contour\": [{\"colorbar\": {\"outlinewidth\": 0, \"ticks\": \"\"}, \"colorscale\": [[0.0, \"#0d0887\"], [0.1111111111111111, \"#46039f\"], [0.2222222222222222, \"#7201a8\"], [0.3333333333333333, \"#9c179e\"], [0.4444444444444444, \"#bd3786\"], [0.5555555555555556, \"#d8576b\"], [0.6666666666666666, \"#ed7953\"], [0.7777777777777778, \"#fb9f3a\"], [0.8888888888888888, \"#fdca26\"], [1.0, \"#f0f921\"]], \"type\": \"contour\"}], \"contourcarpet\": [{\"colorbar\": {\"outlinewidth\": 0, \"ticks\": \"\"}, \"type\": \"contourcarpet\"}], \"heatmap\": [{\"colorbar\": {\"outlinewidth\": 0, \"ticks\": \"\"}, \"colorscale\": [[0.0, \"#0d0887\"], [0.1111111111111111, \"#46039f\"], [0.2222222222222222, \"#7201a8\"], [0.3333333333333333, \"#9c179e\"], [0.4444444444444444, \"#bd3786\"], [0.5555555555555556, \"#d8576b\"], [0.6666666666666666, \"#ed7953\"], [0.7777777777777778, \"#fb9f3a\"], [0.8888888888888888, \"#fdca26\"], [1.0, \"#f0f921\"]], \"type\": \"heatmap\"}], \"heatmapgl\": [{\"colorbar\": {\"outlinewidth\": 0, \"ticks\": \"\"}, \"colorscale\": [[0.0, \"#0d0887\"], [0.1111111111111111, \"#46039f\"], [0.2222222222222222, \"#7201a8\"], [0.3333333333333333, \"#9c179e\"], [0.4444444444444444, \"#bd3786\"], [0.5555555555555556, \"#d8576b\"], [0.6666666666666666, \"#ed7953\"], [0.7777777777777778, \"#fb9f3a\"], [0.8888888888888888, \"#fdca26\"], [1.0, \"#f0f921\"]], \"type\": \"heatmapgl\"}], \"histogram\": [{\"marker\": {\"colorbar\": {\"outlinewidth\": 0, \"ticks\": \"\"}}, \"type\": \"histogram\"}], \"histogram2d\": [{\"colorbar\": {\"outlinewidth\": 0, \"ticks\": \"\"}, \"colorscale\": [[0.0, \"#0d0887\"], [0.1111111111111111, \"#46039f\"], [0.2222222222222222, \"#7201a8\"], [0.3333333333333333, \"#9c179e\"], [0.4444444444444444, \"#bd3786\"], [0.5555555555555556, \"#d8576b\"], [0.6666666666666666, \"#ed7953\"], [0.7777777777777778, \"#fb9f3a\"], [0.8888888888888888, \"#fdca26\"], [1.0, \"#f0f921\"]], \"type\": \"histogram2d\"}], \"histogram2dcontour\": [{\"colorbar\": {\"outlinewidth\": 0, \"ticks\": \"\"}, \"colorscale\": [[0.0, \"#0d0887\"], [0.1111111111111111, \"#46039f\"], [0.2222222222222222, \"#7201a8\"], [0.3333333333333333, \"#9c179e\"], [0.4444444444444444, \"#bd3786\"], [0.5555555555555556, \"#d8576b\"], [0.6666666666666666, \"#ed7953\"], [0.7777777777777778, \"#fb9f3a\"], [0.8888888888888888, \"#fdca26\"], [1.0, \"#f0f921\"]], \"type\": \"histogram2dcontour\"}], \"mesh3d\": [{\"colorbar\": {\"outlinewidth\": 0, \"ticks\": \"\"}, \"type\": \"mesh3d\"}], \"parcoords\": [{\"line\": {\"colorbar\": {\"outlinewidth\": 0, \"ticks\": \"\"}}, \"type\": \"parcoords\"}], \"pie\": [{\"automargin\": true, \"type\": \"pie\"}], \"scatter\": [{\"marker\": {\"colorbar\": {\"outlinewidth\": 0, \"ticks\": \"\"}}, \"type\": \"scatter\"}], \"scatter3d\": [{\"line\": {\"colorbar\": {\"outlinewidth\": 0, \"ticks\": \"\"}}, \"marker\": {\"colorbar\": {\"outlinewidth\": 0, \"ticks\": \"\"}}, \"type\": \"scatter3d\"}], \"scattercarpet\": [{\"marker\": {\"colorbar\": {\"outlinewidth\": 0, \"ticks\": \"\"}}, \"type\": \"scattercarpet\"}], \"scattergeo\": [{\"marker\": {\"colorbar\": {\"outlinewidth\": 0, \"ticks\": \"\"}}, \"type\": \"scattergeo\"}], \"scattergl\": [{\"marker\": {\"colorbar\": {\"outlinewidth\": 0, \"ticks\": \"\"}}, \"type\": \"scattergl\"}], \"scattermapbox\": [{\"marker\": {\"colorbar\": {\"outlinewidth\": 0, \"ticks\": \"\"}}, \"type\": \"scattermapbox\"}], \"scatterpolar\": [{\"marker\": {\"colorbar\": {\"outlinewidth\": 0, \"ticks\": \"\"}}, \"type\": \"scatterpolar\"}], \"scatterpolargl\": [{\"marker\": {\"colorbar\": {\"outlinewidth\": 0, \"ticks\": \"\"}}, \"type\": \"scatterpolargl\"}], \"scatterternary\": [{\"marker\": {\"colorbar\": {\"outlinewidth\": 0, \"ticks\": \"\"}}, \"type\": \"scatterternary\"}], \"surface\": [{\"colorbar\": {\"outlinewidth\": 0, \"ticks\": \"\"}, \"colorscale\": [[0.0, \"#0d0887\"], [0.1111111111111111, \"#46039f\"], [0.2222222222222222, \"#7201a8\"], [0.3333333333333333, \"#9c179e\"], [0.4444444444444444, \"#bd3786\"], [0.5555555555555556, \"#d8576b\"], [0.6666666666666666, \"#ed7953\"], [0.7777777777777778, \"#fb9f3a\"], [0.8888888888888888, \"#fdca26\"], [1.0, \"#f0f921\"]], \"type\": \"surface\"}], \"table\": [{\"cells\": {\"fill\": {\"color\": \"#EBF0F8\"}, \"line\": {\"color\": \"white\"}}, \"header\": {\"fill\": {\"color\": \"#C8D4E3\"}, \"line\": {\"color\": \"white\"}}, \"type\": \"table\"}]}, \"layout\": {\"annotationdefaults\": {\"arrowcolor\": \"#2a3f5f\", \"arrowhead\": 0, \"arrowwidth\": 1}, \"autotypenumbers\": \"strict\", \"coloraxis\": {\"colorbar\": {\"outlinewidth\": 0, \"ticks\": \"\"}}, \"colorscale\": {\"diverging\": [[0, \"#8e0152\"], [0.1, \"#c51b7d\"], [0.2, \"#de77ae\"], [0.3, \"#f1b6da\"], [0.4, \"#fde0ef\"], [0.5, \"#f7f7f7\"], [0.6, \"#e6f5d0\"], [0.7, \"#b8e186\"], [0.8, \"#7fbc41\"], [0.9, \"#4d9221\"], [1, \"#276419\"]], \"sequential\": [[0.0, \"#0d0887\"], [0.1111111111111111, \"#46039f\"], [0.2222222222222222, \"#7201a8\"], [0.3333333333333333, \"#9c179e\"], [0.4444444444444444, \"#bd3786\"], [0.5555555555555556, \"#d8576b\"], [0.6666666666666666, \"#ed7953\"], [0.7777777777777778, \"#fb9f3a\"], [0.8888888888888888, \"#fdca26\"], [1.0, \"#f0f921\"]], \"sequentialminus\": [[0.0, \"#0d0887\"], [0.1111111111111111, \"#46039f\"], [0.2222222222222222, \"#7201a8\"], [0.3333333333333333, \"#9c179e\"], [0.4444444444444444, \"#bd3786\"], [0.5555555555555556, \"#d8576b\"], [0.6666666666666666, \"#ed7953\"], [0.7777777777777778, \"#fb9f3a\"], [0.8888888888888888, \"#fdca26\"], [1.0, \"#f0f921\"]]}, \"colorway\": [\"#636efa\", \"#EF553B\", \"#00cc96\", \"#ab63fa\", \"#FFA15A\", \"#19d3f3\", \"#FF6692\", \"#B6E880\", \"#FF97FF\", \"#FECB52\"], \"font\": {\"color\": \"#2a3f5f\"}, \"geo\": {\"bgcolor\": \"white\", \"lakecolor\": \"white\", \"landcolor\": \"#E5ECF6\", \"showlakes\": true, \"showland\": true, \"subunitcolor\": \"white\"}, \"hoverlabel\": {\"align\": \"left\"}, \"hovermode\": \"closest\", \"mapbox\": {\"style\": \"light\"}, \"paper_bgcolor\": \"white\", \"plot_bgcolor\": \"#E5ECF6\", \"polar\": {\"angularaxis\": {\"gridcolor\": \"white\", \"linecolor\": \"white\", \"ticks\": \"\"}, \"bgcolor\": \"#E5ECF6\", \"radialaxis\": {\"gridcolor\": \"white\", \"linecolor\": \"white\", \"ticks\": \"\"}}, \"scene\": {\"xaxis\": {\"backgroundcolor\": \"#E5ECF6\", \"gridcolor\": \"white\", \"gridwidth\": 2, \"linecolor\": \"white\", \"showbackground\": true, \"ticks\": \"\", \"zerolinecolor\": \"white\"}, \"yaxis\": {\"backgroundcolor\": \"#E5ECF6\", \"gridcolor\": \"white\", \"gridwidth\": 2, \"linecolor\": \"white\", \"showbackground\": true, \"ticks\": \"\", \"zerolinecolor\": \"white\"}, \"zaxis\": {\"backgroundcolor\": \"#E5ECF6\", \"gridcolor\": \"white\", \"gridwidth\": 2, \"linecolor\": \"white\", \"showbackground\": true, \"ticks\": \"\", \"zerolinecolor\": \"white\"}}, \"shapedefaults\": {\"line\": {\"color\": \"#2a3f5f\"}}, \"ternary\": {\"aaxis\": {\"gridcolor\": \"white\", \"linecolor\": \"white\", \"ticks\": \"\"}, \"baxis\": {\"gridcolor\": \"white\", \"linecolor\": \"white\", \"ticks\": \"\"}, \"bgcolor\": \"#E5ECF6\", \"caxis\": {\"gridcolor\": \"white\", \"linecolor\": \"white\", \"ticks\": \"\"}}, \"title\": {\"x\": 0.05}, \"xaxis\": {\"automargin\": true, \"gridcolor\": \"white\", \"linecolor\": \"white\", \"ticks\": \"\", \"title\": {\"standoff\": 15}, \"zerolinecolor\": \"white\", \"zerolinewidth\": 2}, \"yaxis\": {\"automargin\": true, \"gridcolor\": \"white\", \"linecolor\": \"white\", \"ticks\": \"\", \"title\": {\"standoff\": 15}, \"zerolinecolor\": \"white\", \"zerolinewidth\": 2}}}, \"title\": {\"text\": \"Data Preview\"}, \"width\": 1100},                        {\"responsive\": true}                    ).then(function(){\n",
       "                            \n",
       "var gd = document.getElementById('442ec80f-0715-46f6-a499-a8ce119bd95f');\n",
       "var x = new MutationObserver(function (mutations, observer) {{\n",
       "        var display = window.getComputedStyle(gd).display;\n",
       "        if (!display || display === 'none') {{\n",
       "            console.log([gd, 'removed!']);\n",
       "            Plotly.purge(gd);\n",
       "            observer.disconnect();\n",
       "        }}\n",
       "}});\n",
       "\n",
       "// Listen for the removal of the full notebook cells\n",
       "var notebookContainer = gd.closest('#notebook-container');\n",
       "if (notebookContainer) {{\n",
       "    x.observe(notebookContainer, {childList: true});\n",
       "}}\n",
       "\n",
       "// Listen for the clearing of the current output cell\n",
       "var outputEl = gd.closest('.output');\n",
       "if (outputEl) {{\n",
       "    x.observe(outputEl, {childList: true});\n",
       "}}\n",
       "\n",
       "                        })                };                });            </script>        </div>"
      ]
     },
     "metadata": {},
     "output_type": "display_data"
    },
    {
     "data": {
      "application/javascript": [
       "\n",
       "            setTimeout(function() {\n",
       "                var nbb_cell_id = 204;\n",
       "                var nbb_unformatted_code = \"color1 = 'white'\\ncolor2 = 'lightgrey'\\nheader_color = \\\"lightblue\\\"\\nvalues = display_file.iloc[:,0], display_file.iloc[:,1], display_file.iloc[:,2], display_file.iloc[:,3], display_file.iloc[:,4], display_file.iloc[:,5]\\nfig = go.Figure(data=[go.Table( \\n    header=dict(values=display_file.columns.tolist(), \\n                fill_color=header_color,\\n                height = 50,\\n                align=\\\"left\\\",\\n                font=dict(family=\\\"Lato\\\", size=20)), \\n    cells=dict(values=values,\\n               align=\\\"left\\\", \\n               height = 50, \\n               font=dict(family=\\\"Lato\\\", size=20), \\n               format=None, formatsrc=None,\\n               fill_color = None\\n              ))]) \\nfig.update_layout(width=1100, height=1000, title=\\\"Data Preview\\\")\\nfig.update_layout({\\\"margin\\\": {\\\"t\\\":50}})\\nfig.show()\";\n",
       "                var nbb_formatted_code = \"color1 = \\\"white\\\"\\ncolor2 = \\\"lightgrey\\\"\\nheader_color = \\\"lightblue\\\"\\nvalues = (\\n    display_file.iloc[:, 0],\\n    display_file.iloc[:, 1],\\n    display_file.iloc[:, 2],\\n    display_file.iloc[:, 3],\\n    display_file.iloc[:, 4],\\n    display_file.iloc[:, 5],\\n)\\nfig = go.Figure(\\n    data=[\\n        go.Table(\\n            header=dict(\\n                values=display_file.columns.tolist(),\\n                fill_color=header_color,\\n                height=50,\\n                align=\\\"left\\\",\\n                font=dict(family=\\\"Lato\\\", size=20),\\n            ),\\n            cells=dict(\\n                values=values,\\n                align=\\\"left\\\",\\n                height=50,\\n                font=dict(family=\\\"Lato\\\", size=20),\\n                format=None,\\n                formatsrc=None,\\n                fill_color=None,\\n            ),\\n        )\\n    ]\\n)\\nfig.update_layout(width=1100, height=1000, title=\\\"Data Preview\\\")\\nfig.update_layout({\\\"margin\\\": {\\\"t\\\": 50}})\\nfig.show()\";\n",
       "                var nbb_cells = Jupyter.notebook.get_cells();\n",
       "                for (var i = 0; i < nbb_cells.length; ++i) {\n",
       "                    if (nbb_cells[i].input_prompt_number == nbb_cell_id) {\n",
       "                        if (nbb_cells[i].get_text() == nbb_unformatted_code) {\n",
       "                             nbb_cells[i].set_text(nbb_formatted_code);\n",
       "                        }\n",
       "                        break;\n",
       "                    }\n",
       "                }\n",
       "            }, 500);\n",
       "            "
      ],
      "text/plain": [
       "<IPython.core.display.Javascript object>"
      ]
     },
     "metadata": {},
     "output_type": "display_data"
    }
   ],
   "source": [
    "color1 = \"white\"\n",
    "color2 = \"lightgrey\"\n",
    "header_color = \"lightblue\"\n",
    "values = (\n",
    "    display_file.iloc[:, 0],\n",
    "    display_file.iloc[:, 1],\n",
    "    display_file.iloc[:, 2],\n",
    "    display_file.iloc[:, 3],\n",
    "    display_file.iloc[:, 4],\n",
    "    display_file.iloc[:, 5],\n",
    ")\n",
    "fig = go.Figure(\n",
    "    data=[\n",
    "        go.Table(\n",
    "            header=dict(\n",
    "                values=display_file.columns.tolist(),\n",
    "                fill_color=header_color,\n",
    "                height=50,\n",
    "                align=\"left\",\n",
    "                font=dict(family=\"Lato\", size=20),\n",
    "            ),\n",
    "            cells=dict(\n",
    "                values=values,\n",
    "                align=\"left\",\n",
    "                height=50,\n",
    "                font=dict(family=\"Lato\", size=20),\n",
    "                format=None,\n",
    "                formatsrc=None,\n",
    "                fill_color=None,\n",
    "            ),\n",
    "        )\n",
    "    ]\n",
    ")\n",
    "fig.update_layout(width=1100, height=1000, title=\"Data Preview\")\n",
    "fig.update_layout({\"margin\": {\"t\": 50}})\n",
    "fig.show()"
   ]
  },
  {
   "cell_type": "markdown",
   "metadata": {},
   "source": [
    "## 8. Hypothesis Testing"
   ]
  },
  {
   "cell_type": "markdown",
   "metadata": {},
   "source": [
    "### 8.1 Permutation Tests"
   ]
  },
  {
   "cell_type": "markdown",
   "metadata": {},
   "source": [
    "- **Null Hypothesis: Elder females with kids and younger males with no kids perform equally good at academia**\n",
    "- **Hypothesis: Elder females with kids perform academically better than younger males with no kids**"
   ]
  },
  {
   "cell_type": "markdown",
   "metadata": {},
   "source": [
    "1. we aggregate the data and find the mean per each group\n",
    "2. calculate the mean difference"
   ]
  },
  {
   "cell_type": "code",
   "execution_count": 205,
   "metadata": {
    "scrolled": true
   },
   "outputs": [
    {
     "data": {
      "text/plain": [
       "3.8237104072398154"
      ]
     },
     "execution_count": 205,
     "metadata": {},
     "output_type": "execute_result"
    },
    {
     "data": {
      "application/javascript": [
       "\n",
       "            setTimeout(function() {\n",
       "                var nbb_cell_id = 205;\n",
       "                var nbb_unformatted_code = \"elder_female_with_kids = file[(file[\\\"Age_by_birth_year\\\"]>40) & (file[\\\"Kids\\\"]>0) & (file[\\\"Gender\\\"]==\\\"Woman\\\")]\\nelder_female_with_kids_average_grade = elder_female_with_kids[\\\"Average_grade\\\"].mean()\\n\\nyounger_male_no_kids = file[(file[\\\"Kids\\\"]==0) & (file[\\\"Age_by_birth_year\\\"] <= 40)& (file[\\\"Gender\\\"]==\\\"Man\\\")]\\nyounger_male_no_kids_average_grade = younger_male_no_kids[\\\"Average_grade\\\"].mean()\\n\\nmean_difference = elder_female_with_kids_average_grade - younger_male_no_kids_average_grade\\nmean_difference\";\n",
       "                var nbb_formatted_code = \"elder_female_with_kids = file[\\n    (file[\\\"Age_by_birth_year\\\"] > 40) & (file[\\\"Kids\\\"] > 0) & (file[\\\"Gender\\\"] == \\\"Woman\\\")\\n]\\nelder_female_with_kids_average_grade = elder_female_with_kids[\\\"Average_grade\\\"].mean()\\n\\nyounger_male_no_kids = file[\\n    (file[\\\"Kids\\\"] == 0) & (file[\\\"Age_by_birth_year\\\"] <= 40) & (file[\\\"Gender\\\"] == \\\"Man\\\")\\n]\\nyounger_male_no_kids_average_grade = younger_male_no_kids[\\\"Average_grade\\\"].mean()\\n\\nmean_difference = (\\n    elder_female_with_kids_average_grade - younger_male_no_kids_average_grade\\n)\\nmean_difference\";\n",
       "                var nbb_cells = Jupyter.notebook.get_cells();\n",
       "                for (var i = 0; i < nbb_cells.length; ++i) {\n",
       "                    if (nbb_cells[i].input_prompt_number == nbb_cell_id) {\n",
       "                        if (nbb_cells[i].get_text() == nbb_unformatted_code) {\n",
       "                             nbb_cells[i].set_text(nbb_formatted_code);\n",
       "                        }\n",
       "                        break;\n",
       "                    }\n",
       "                }\n",
       "            }, 500);\n",
       "            "
      ],
      "text/plain": [
       "<IPython.core.display.Javascript object>"
      ]
     },
     "metadata": {},
     "output_type": "display_data"
    }
   ],
   "source": [
    "elder_female_with_kids = file[\n",
    "    (file[\"Age_by_birth_year\"] > 40) & (file[\"Kids\"] > 0) & (file[\"Gender\"] == \"Woman\")\n",
    "]\n",
    "elder_female_with_kids_average_grade = elder_female_with_kids[\"Average_grade\"].mean()\n",
    "\n",
    "younger_male_no_kids = file[\n",
    "    (file[\"Kids\"] == 0) & (file[\"Age_by_birth_year\"] <= 40) & (file[\"Gender\"] == \"Man\")\n",
    "]\n",
    "younger_male_no_kids_average_grade = younger_male_no_kids[\"Average_grade\"].mean()\n",
    "\n",
    "mean_difference = (\n",
    "    elder_female_with_kids_average_grade - younger_male_no_kids_average_grade\n",
    ")\n",
    "mean_difference"
   ]
  },
  {
   "cell_type": "markdown",
   "metadata": {},
   "source": [
    "3. we get the list of all grade values\n",
    "4. randomly assign these values either to male or to female group\n",
    "5. conduct the random assignment repeteadly 1000 times (simulating a new study)\n",
    "6. calculate the mean differences on each iteration and append to a separate list\n",
    "6. create a dictionary of frequencies of each possible mean difference value"
   ]
  },
  {
   "cell_type": "code",
   "execution_count": 208,
   "metadata": {},
   "outputs": [
    {
     "data": {
      "application/javascript": [
       "\n",
       "            setTimeout(function() {\n",
       "                var nbb_cell_id = 208;\n",
       "                var nbb_unformatted_code = \"iter_mean_differences = []\\ngroup_a_values = elder_female_with_kids[\\\"Average_grade\\\"].tolist()\\ngroup_b_values = younger_male_no_kids[\\\"Average_grade\\\"].tolist()\\nall_grades = group_a_values + group_b_values\\n\\nfor i in range(1000):\\n    males = []\\n    females = []\\n    for grade in all_grades:\\n        random_value = np.random.rand()\\n        if random_value >= 0.5:\\n            males.append(grade)\\n        else:\\n            females.append(grade)\\n    iteration_mean_difference = np.mean(females) - np.mean(males)\\n    iter_mean_differences.append(iteration_mean_difference)\\n\\nsampling_distribution = {}\\n\\nfor iter_mean_difference in iter_mean_differences:\\n    if sampling_distribution.get(iter_mean_difference, False):\\n        val = sampling_distribution.get(iter_mean_difference)\\n        val = val + 1\\n        sampling_distribution[iter_mean_difference] = val\\n    else:\\n        sampling_distribution[iter_mean_difference] = 1\";\n",
       "                var nbb_formatted_code = \"iter_mean_differences = []\\ngroup_a_values = elder_female_with_kids[\\\"Average_grade\\\"].tolist()\\ngroup_b_values = younger_male_no_kids[\\\"Average_grade\\\"].tolist()\\nall_grades = group_a_values + group_b_values\\n\\nfor i in range(1000):\\n    males = []\\n    females = []\\n    for grade in all_grades:\\n        random_value = np.random.rand()\\n        if random_value >= 0.5:\\n            males.append(grade)\\n        else:\\n            females.append(grade)\\n    iteration_mean_difference = np.mean(females) - np.mean(males)\\n    iter_mean_differences.append(iteration_mean_difference)\\n\\nsampling_distribution = {}\\n\\nfor iter_mean_difference in iter_mean_differences:\\n    if sampling_distribution.get(iter_mean_difference, False):\\n        val = sampling_distribution.get(iter_mean_difference)\\n        val = val + 1\\n        sampling_distribution[iter_mean_difference] = val\\n    else:\\n        sampling_distribution[iter_mean_difference] = 1\";\n",
       "                var nbb_cells = Jupyter.notebook.get_cells();\n",
       "                for (var i = 0; i < nbb_cells.length; ++i) {\n",
       "                    if (nbb_cells[i].input_prompt_number == nbb_cell_id) {\n",
       "                        if (nbb_cells[i].get_text() == nbb_unformatted_code) {\n",
       "                             nbb_cells[i].set_text(nbb_formatted_code);\n",
       "                        }\n",
       "                        break;\n",
       "                    }\n",
       "                }\n",
       "            }, 500);\n",
       "            "
      ],
      "text/plain": [
       "<IPython.core.display.Javascript object>"
      ]
     },
     "metadata": {},
     "output_type": "display_data"
    }
   ],
   "source": [
    "iter_mean_differences = []\n",
    "group_a_values = elder_female_with_kids[\"Average_grade\"].tolist()\n",
    "group_b_values = younger_male_no_kids[\"Average_grade\"].tolist()\n",
    "all_grades = group_a_values + group_b_values\n",
    "\n",
    "for i in range(1000):\n",
    "    males = []\n",
    "    females = []\n",
    "    for grade in all_grades:\n",
    "        random_value = np.random.rand()\n",
    "        if random_value >= 0.5:\n",
    "            males.append(grade)\n",
    "        else:\n",
    "            females.append(grade)\n",
    "    iteration_mean_difference = np.mean(females) - np.mean(males)\n",
    "    iter_mean_differences.append(iteration_mean_difference)\n",
    "\n",
    "sampling_distribution = {}\n",
    "\n",
    "for iter_mean_difference in iter_mean_differences:\n",
    "    if sampling_distribution.get(iter_mean_difference, False):\n",
    "        val = sampling_distribution.get(iter_mean_difference)\n",
    "        val = val + 1\n",
    "        sampling_distribution[iter_mean_difference] = val\n",
    "    else:\n",
    "        sampling_distribution[iter_mean_difference] = 1"
   ]
  },
  {
   "cell_type": "markdown",
   "metadata": {},
   "source": [
    "8. determine if the mean difference was random or not\n",
    "- we set a p value threshold of 0.05 (5%)\n",
    "- we find the frequency of a mean diffirence equal or higher than the mean dif observed in our dataset\n",
    "- we divide the amount of such mean diffirences by the number of simulated random datasets"
   ]
  },
  {
   "cell_type": "code",
   "execution_count": 209,
   "metadata": {
    "scrolled": true
   },
   "outputs": [
    {
     "data": {
      "text/plain": [
       "0.0"
      ]
     },
     "execution_count": 209,
     "metadata": {},
     "output_type": "execute_result"
    },
    {
     "data": {
      "application/javascript": [
       "\n",
       "            setTimeout(function() {\n",
       "                var nbb_cell_id = 209;\n",
       "                var nbb_unformatted_code = \"frequencies = []\\nfor key in sampling_distribution.keys():\\n    if key >= mean_difference:\\n        frequencies.append(key)\\nfrequencies\\nsum_freq = len(frequencies)\\np_value = sum_freq / 1000\\np_value\";\n",
       "                var nbb_formatted_code = \"frequencies = []\\nfor key in sampling_distribution.keys():\\n    if key >= mean_difference:\\n        frequencies.append(key)\\nfrequencies\\nsum_freq = len(frequencies)\\np_value = sum_freq / 1000\\np_value\";\n",
       "                var nbb_cells = Jupyter.notebook.get_cells();\n",
       "                for (var i = 0; i < nbb_cells.length; ++i) {\n",
       "                    if (nbb_cells[i].input_prompt_number == nbb_cell_id) {\n",
       "                        if (nbb_cells[i].get_text() == nbb_unformatted_code) {\n",
       "                             nbb_cells[i].set_text(nbb_formatted_code);\n",
       "                        }\n",
       "                        break;\n",
       "                    }\n",
       "                }\n",
       "            }, 500);\n",
       "            "
      ],
      "text/plain": [
       "<IPython.core.display.Javascript object>"
      ]
     },
     "metadata": {},
     "output_type": "display_data"
    }
   ],
   "source": [
    "frequencies = []\n",
    "for key in sampling_distribution.keys():\n",
    "    if key >= mean_difference:\n",
    "        frequencies.append(key)\n",
    "frequencies\n",
    "sum_freq = len(frequencies)\n",
    "p_value = sum_freq / 1000\n",
    "p_value"
   ]
  },
  {
   "cell_type": "code",
   "execution_count": 210,
   "metadata": {},
   "outputs": [
    {
     "data": {
      "application/vnd.plotly.v1+json": {
       "config": {
        "plotlyServerURL": "https://plot.ly"
       },
       "data": [
        {
         "domain": {
          "column": 0,
          "row": 0
         },
         "gauge": {
          "axis": {
           "visible": false
          }
         },
         "number": {
          "suffix": "%"
         },
         "title": {
          "text": "Calculated P-Value"
         },
         "type": "indicator",
         "value": 0
        },
        {
         "domain": {
          "column": 1,
          "row": 0
         },
         "gauge": {
          "axis": {
           "visible": false
          }
         },
         "number": {
          "suffix": "%"
         },
         "title": {
          "text": "Threshold"
         },
         "type": "indicator",
         "value": 5
        }
       ],
       "layout": {
        "grid": {
         "columns": 2,
         "pattern": "independent",
         "rows": 1
        },
        "template": {
         "data": {
          "bar": [
           {
            "error_x": {
             "color": "#2a3f5f"
            },
            "error_y": {
             "color": "#2a3f5f"
            },
            "marker": {
             "line": {
              "color": "#E5ECF6",
              "width": 0.5
             }
            },
            "type": "bar"
           }
          ],
          "barpolar": [
           {
            "marker": {
             "line": {
              "color": "#E5ECF6",
              "width": 0.5
             }
            },
            "type": "barpolar"
           }
          ],
          "carpet": [
           {
            "aaxis": {
             "endlinecolor": "#2a3f5f",
             "gridcolor": "white",
             "linecolor": "white",
             "minorgridcolor": "white",
             "startlinecolor": "#2a3f5f"
            },
            "baxis": {
             "endlinecolor": "#2a3f5f",
             "gridcolor": "white",
             "linecolor": "white",
             "minorgridcolor": "white",
             "startlinecolor": "#2a3f5f"
            },
            "type": "carpet"
           }
          ],
          "choropleth": [
           {
            "colorbar": {
             "outlinewidth": 0,
             "ticks": ""
            },
            "type": "choropleth"
           }
          ],
          "contour": [
           {
            "colorbar": {
             "outlinewidth": 0,
             "ticks": ""
            },
            "colorscale": [
             [
              0,
              "#0d0887"
             ],
             [
              0.1111111111111111,
              "#46039f"
             ],
             [
              0.2222222222222222,
              "#7201a8"
             ],
             [
              0.3333333333333333,
              "#9c179e"
             ],
             [
              0.4444444444444444,
              "#bd3786"
             ],
             [
              0.5555555555555556,
              "#d8576b"
             ],
             [
              0.6666666666666666,
              "#ed7953"
             ],
             [
              0.7777777777777778,
              "#fb9f3a"
             ],
             [
              0.8888888888888888,
              "#fdca26"
             ],
             [
              1,
              "#f0f921"
             ]
            ],
            "type": "contour"
           }
          ],
          "contourcarpet": [
           {
            "colorbar": {
             "outlinewidth": 0,
             "ticks": ""
            },
            "type": "contourcarpet"
           }
          ],
          "heatmap": [
           {
            "colorbar": {
             "outlinewidth": 0,
             "ticks": ""
            },
            "colorscale": [
             [
              0,
              "#0d0887"
             ],
             [
              0.1111111111111111,
              "#46039f"
             ],
             [
              0.2222222222222222,
              "#7201a8"
             ],
             [
              0.3333333333333333,
              "#9c179e"
             ],
             [
              0.4444444444444444,
              "#bd3786"
             ],
             [
              0.5555555555555556,
              "#d8576b"
             ],
             [
              0.6666666666666666,
              "#ed7953"
             ],
             [
              0.7777777777777778,
              "#fb9f3a"
             ],
             [
              0.8888888888888888,
              "#fdca26"
             ],
             [
              1,
              "#f0f921"
             ]
            ],
            "type": "heatmap"
           }
          ],
          "heatmapgl": [
           {
            "colorbar": {
             "outlinewidth": 0,
             "ticks": ""
            },
            "colorscale": [
             [
              0,
              "#0d0887"
             ],
             [
              0.1111111111111111,
              "#46039f"
             ],
             [
              0.2222222222222222,
              "#7201a8"
             ],
             [
              0.3333333333333333,
              "#9c179e"
             ],
             [
              0.4444444444444444,
              "#bd3786"
             ],
             [
              0.5555555555555556,
              "#d8576b"
             ],
             [
              0.6666666666666666,
              "#ed7953"
             ],
             [
              0.7777777777777778,
              "#fb9f3a"
             ],
             [
              0.8888888888888888,
              "#fdca26"
             ],
             [
              1,
              "#f0f921"
             ]
            ],
            "type": "heatmapgl"
           }
          ],
          "histogram": [
           {
            "marker": {
             "colorbar": {
              "outlinewidth": 0,
              "ticks": ""
             }
            },
            "type": "histogram"
           }
          ],
          "histogram2d": [
           {
            "colorbar": {
             "outlinewidth": 0,
             "ticks": ""
            },
            "colorscale": [
             [
              0,
              "#0d0887"
             ],
             [
              0.1111111111111111,
              "#46039f"
             ],
             [
              0.2222222222222222,
              "#7201a8"
             ],
             [
              0.3333333333333333,
              "#9c179e"
             ],
             [
              0.4444444444444444,
              "#bd3786"
             ],
             [
              0.5555555555555556,
              "#d8576b"
             ],
             [
              0.6666666666666666,
              "#ed7953"
             ],
             [
              0.7777777777777778,
              "#fb9f3a"
             ],
             [
              0.8888888888888888,
              "#fdca26"
             ],
             [
              1,
              "#f0f921"
             ]
            ],
            "type": "histogram2d"
           }
          ],
          "histogram2dcontour": [
           {
            "colorbar": {
             "outlinewidth": 0,
             "ticks": ""
            },
            "colorscale": [
             [
              0,
              "#0d0887"
             ],
             [
              0.1111111111111111,
              "#46039f"
             ],
             [
              0.2222222222222222,
              "#7201a8"
             ],
             [
              0.3333333333333333,
              "#9c179e"
             ],
             [
              0.4444444444444444,
              "#bd3786"
             ],
             [
              0.5555555555555556,
              "#d8576b"
             ],
             [
              0.6666666666666666,
              "#ed7953"
             ],
             [
              0.7777777777777778,
              "#fb9f3a"
             ],
             [
              0.8888888888888888,
              "#fdca26"
             ],
             [
              1,
              "#f0f921"
             ]
            ],
            "type": "histogram2dcontour"
           }
          ],
          "indicator": [
           {
            "delta": {
             "reference": 90
            },
            "type": "indicator"
           }
          ],
          "mesh3d": [
           {
            "colorbar": {
             "outlinewidth": 0,
             "ticks": ""
            },
            "type": "mesh3d"
           }
          ],
          "parcoords": [
           {
            "line": {
             "colorbar": {
              "outlinewidth": 0,
              "ticks": ""
             }
            },
            "type": "parcoords"
           }
          ],
          "pie": [
           {
            "automargin": true,
            "type": "pie"
           }
          ],
          "scatter": [
           {
            "marker": {
             "colorbar": {
              "outlinewidth": 0,
              "ticks": ""
             }
            },
            "type": "scatter"
           }
          ],
          "scatter3d": [
           {
            "line": {
             "colorbar": {
              "outlinewidth": 0,
              "ticks": ""
             }
            },
            "marker": {
             "colorbar": {
              "outlinewidth": 0,
              "ticks": ""
             }
            },
            "type": "scatter3d"
           }
          ],
          "scattercarpet": [
           {
            "marker": {
             "colorbar": {
              "outlinewidth": 0,
              "ticks": ""
             }
            },
            "type": "scattercarpet"
           }
          ],
          "scattergeo": [
           {
            "marker": {
             "colorbar": {
              "outlinewidth": 0,
              "ticks": ""
             }
            },
            "type": "scattergeo"
           }
          ],
          "scattergl": [
           {
            "marker": {
             "colorbar": {
              "outlinewidth": 0,
              "ticks": ""
             }
            },
            "type": "scattergl"
           }
          ],
          "scattermapbox": [
           {
            "marker": {
             "colorbar": {
              "outlinewidth": 0,
              "ticks": ""
             }
            },
            "type": "scattermapbox"
           }
          ],
          "scatterpolar": [
           {
            "marker": {
             "colorbar": {
              "outlinewidth": 0,
              "ticks": ""
             }
            },
            "type": "scatterpolar"
           }
          ],
          "scatterpolargl": [
           {
            "marker": {
             "colorbar": {
              "outlinewidth": 0,
              "ticks": ""
             }
            },
            "type": "scatterpolargl"
           }
          ],
          "scatterternary": [
           {
            "marker": {
             "colorbar": {
              "outlinewidth": 0,
              "ticks": ""
             }
            },
            "type": "scatterternary"
           }
          ],
          "surface": [
           {
            "colorbar": {
             "outlinewidth": 0,
             "ticks": ""
            },
            "colorscale": [
             [
              0,
              "#0d0887"
             ],
             [
              0.1111111111111111,
              "#46039f"
             ],
             [
              0.2222222222222222,
              "#7201a8"
             ],
             [
              0.3333333333333333,
              "#9c179e"
             ],
             [
              0.4444444444444444,
              "#bd3786"
             ],
             [
              0.5555555555555556,
              "#d8576b"
             ],
             [
              0.6666666666666666,
              "#ed7953"
             ],
             [
              0.7777777777777778,
              "#fb9f3a"
             ],
             [
              0.8888888888888888,
              "#fdca26"
             ],
             [
              1,
              "#f0f921"
             ]
            ],
            "type": "surface"
           }
          ],
          "table": [
           {
            "cells": {
             "fill": {
              "color": "#EBF0F8"
             },
             "line": {
              "color": "white"
             }
            },
            "header": {
             "fill": {
              "color": "#C8D4E3"
             },
             "line": {
              "color": "white"
             }
            },
            "type": "table"
           }
          ]
         },
         "layout": {
          "annotationdefaults": {
           "arrowcolor": "#2a3f5f",
           "arrowhead": 0,
           "arrowwidth": 1
          },
          "autotypenumbers": "strict",
          "coloraxis": {
           "colorbar": {
            "outlinewidth": 0,
            "ticks": ""
           }
          },
          "colorscale": {
           "diverging": [
            [
             0,
             "#8e0152"
            ],
            [
             0.1,
             "#c51b7d"
            ],
            [
             0.2,
             "#de77ae"
            ],
            [
             0.3,
             "#f1b6da"
            ],
            [
             0.4,
             "#fde0ef"
            ],
            [
             0.5,
             "#f7f7f7"
            ],
            [
             0.6,
             "#e6f5d0"
            ],
            [
             0.7,
             "#b8e186"
            ],
            [
             0.8,
             "#7fbc41"
            ],
            [
             0.9,
             "#4d9221"
            ],
            [
             1,
             "#276419"
            ]
           ],
           "sequential": [
            [
             0,
             "#0d0887"
            ],
            [
             0.1111111111111111,
             "#46039f"
            ],
            [
             0.2222222222222222,
             "#7201a8"
            ],
            [
             0.3333333333333333,
             "#9c179e"
            ],
            [
             0.4444444444444444,
             "#bd3786"
            ],
            [
             0.5555555555555556,
             "#d8576b"
            ],
            [
             0.6666666666666666,
             "#ed7953"
            ],
            [
             0.7777777777777778,
             "#fb9f3a"
            ],
            [
             0.8888888888888888,
             "#fdca26"
            ],
            [
             1,
             "#f0f921"
            ]
           ],
           "sequentialminus": [
            [
             0,
             "#0d0887"
            ],
            [
             0.1111111111111111,
             "#46039f"
            ],
            [
             0.2222222222222222,
             "#7201a8"
            ],
            [
             0.3333333333333333,
             "#9c179e"
            ],
            [
             0.4444444444444444,
             "#bd3786"
            ],
            [
             0.5555555555555556,
             "#d8576b"
            ],
            [
             0.6666666666666666,
             "#ed7953"
            ],
            [
             0.7777777777777778,
             "#fb9f3a"
            ],
            [
             0.8888888888888888,
             "#fdca26"
            ],
            [
             1,
             "#f0f921"
            ]
           ]
          },
          "colorway": [
           "#636efa",
           "#EF553B",
           "#00cc96",
           "#ab63fa",
           "#FFA15A",
           "#19d3f3",
           "#FF6692",
           "#B6E880",
           "#FF97FF",
           "#FECB52"
          ],
          "font": {
           "color": "#2a3f5f"
          },
          "geo": {
           "bgcolor": "white",
           "lakecolor": "white",
           "landcolor": "#E5ECF6",
           "showlakes": true,
           "showland": true,
           "subunitcolor": "white"
          },
          "hoverlabel": {
           "align": "left"
          },
          "hovermode": "closest",
          "mapbox": {
           "style": "light"
          },
          "paper_bgcolor": "white",
          "plot_bgcolor": "#E5ECF6",
          "polar": {
           "angularaxis": {
            "gridcolor": "white",
            "linecolor": "white",
            "ticks": ""
           },
           "bgcolor": "#E5ECF6",
           "radialaxis": {
            "gridcolor": "white",
            "linecolor": "white",
            "ticks": ""
           }
          },
          "scene": {
           "xaxis": {
            "backgroundcolor": "#E5ECF6",
            "gridcolor": "white",
            "gridwidth": 2,
            "linecolor": "white",
            "showbackground": true,
            "ticks": "",
            "zerolinecolor": "white"
           },
           "yaxis": {
            "backgroundcolor": "#E5ECF6",
            "gridcolor": "white",
            "gridwidth": 2,
            "linecolor": "white",
            "showbackground": true,
            "ticks": "",
            "zerolinecolor": "white"
           },
           "zaxis": {
            "backgroundcolor": "#E5ECF6",
            "gridcolor": "white",
            "gridwidth": 2,
            "linecolor": "white",
            "showbackground": true,
            "ticks": "",
            "zerolinecolor": "white"
           }
          },
          "shapedefaults": {
           "line": {
            "color": "#2a3f5f"
           }
          },
          "ternary": {
           "aaxis": {
            "gridcolor": "white",
            "linecolor": "white",
            "ticks": ""
           },
           "baxis": {
            "gridcolor": "white",
            "linecolor": "white",
            "ticks": ""
           },
           "bgcolor": "#E5ECF6",
           "caxis": {
            "gridcolor": "white",
            "linecolor": "white",
            "ticks": ""
           }
          },
          "title": {
           "x": 0.05
          },
          "xaxis": {
           "automargin": true,
           "gridcolor": "white",
           "linecolor": "white",
           "ticks": "",
           "title": {
            "standoff": 15
           },
           "zerolinecolor": "white",
           "zerolinewidth": 2
          },
          "yaxis": {
           "automargin": true,
           "gridcolor": "white",
           "linecolor": "white",
           "ticks": "",
           "title": {
            "standoff": 15
           },
           "zerolinecolor": "white",
           "zerolinewidth": 2
          }
         }
        }
       }
      },
      "text/html": [
       "<div>                            <div id=\"c2f5f09e-09be-4487-ad32-376a46242115\" class=\"plotly-graph-div\" style=\"height:525px; width:100%;\"></div>            <script type=\"text/javascript\">                require([\"plotly\"], function(Plotly) {                    window.PLOTLYENV=window.PLOTLYENV || {};                                    if (document.getElementById(\"c2f5f09e-09be-4487-ad32-376a46242115\")) {                    Plotly.newPlot(                        \"c2f5f09e-09be-4487-ad32-376a46242115\",                        [{\"domain\": {\"column\": 0, \"row\": 0}, \"gauge\": {\"axis\": {\"visible\": false}}, \"number\": {\"suffix\": \"%\"}, \"title\": {\"text\": \"Calculated P-Value\"}, \"type\": \"indicator\", \"value\": 0.0}, {\"domain\": {\"column\": 1, \"row\": 0}, \"gauge\": {\"axis\": {\"visible\": false}}, \"number\": {\"suffix\": \"%\"}, \"title\": {\"text\": \"Threshold\"}, \"type\": \"indicator\", \"value\": 5.0}],                        {\"grid\": {\"columns\": 2, \"pattern\": \"independent\", \"rows\": 1}, \"template\": {\"data\": {\"bar\": [{\"error_x\": {\"color\": \"#2a3f5f\"}, \"error_y\": {\"color\": \"#2a3f5f\"}, \"marker\": {\"line\": {\"color\": \"#E5ECF6\", \"width\": 0.5}}, \"type\": \"bar\"}], \"barpolar\": [{\"marker\": {\"line\": {\"color\": \"#E5ECF6\", \"width\": 0.5}}, \"type\": \"barpolar\"}], \"carpet\": [{\"aaxis\": {\"endlinecolor\": \"#2a3f5f\", \"gridcolor\": \"white\", \"linecolor\": \"white\", \"minorgridcolor\": \"white\", \"startlinecolor\": \"#2a3f5f\"}, \"baxis\": {\"endlinecolor\": \"#2a3f5f\", \"gridcolor\": \"white\", \"linecolor\": \"white\", \"minorgridcolor\": \"white\", \"startlinecolor\": \"#2a3f5f\"}, \"type\": \"carpet\"}], \"choropleth\": [{\"colorbar\": {\"outlinewidth\": 0, \"ticks\": \"\"}, \"type\": \"choropleth\"}], \"contour\": [{\"colorbar\": {\"outlinewidth\": 0, \"ticks\": \"\"}, \"colorscale\": [[0.0, \"#0d0887\"], [0.1111111111111111, \"#46039f\"], [0.2222222222222222, \"#7201a8\"], [0.3333333333333333, \"#9c179e\"], [0.4444444444444444, \"#bd3786\"], [0.5555555555555556, \"#d8576b\"], [0.6666666666666666, \"#ed7953\"], [0.7777777777777778, \"#fb9f3a\"], [0.8888888888888888, \"#fdca26\"], [1.0, \"#f0f921\"]], \"type\": \"contour\"}], \"contourcarpet\": [{\"colorbar\": {\"outlinewidth\": 0, \"ticks\": \"\"}, \"type\": \"contourcarpet\"}], \"heatmap\": [{\"colorbar\": {\"outlinewidth\": 0, \"ticks\": \"\"}, \"colorscale\": [[0.0, \"#0d0887\"], [0.1111111111111111, \"#46039f\"], [0.2222222222222222, \"#7201a8\"], [0.3333333333333333, \"#9c179e\"], [0.4444444444444444, \"#bd3786\"], [0.5555555555555556, \"#d8576b\"], [0.6666666666666666, \"#ed7953\"], [0.7777777777777778, \"#fb9f3a\"], [0.8888888888888888, \"#fdca26\"], [1.0, \"#f0f921\"]], \"type\": \"heatmap\"}], \"heatmapgl\": [{\"colorbar\": {\"outlinewidth\": 0, \"ticks\": \"\"}, \"colorscale\": [[0.0, \"#0d0887\"], [0.1111111111111111, \"#46039f\"], [0.2222222222222222, \"#7201a8\"], [0.3333333333333333, \"#9c179e\"], [0.4444444444444444, \"#bd3786\"], [0.5555555555555556, \"#d8576b\"], [0.6666666666666666, \"#ed7953\"], [0.7777777777777778, \"#fb9f3a\"], [0.8888888888888888, \"#fdca26\"], [1.0, \"#f0f921\"]], \"type\": \"heatmapgl\"}], \"histogram\": [{\"marker\": {\"colorbar\": {\"outlinewidth\": 0, \"ticks\": \"\"}}, \"type\": \"histogram\"}], \"histogram2d\": [{\"colorbar\": {\"outlinewidth\": 0, \"ticks\": \"\"}, \"colorscale\": [[0.0, \"#0d0887\"], [0.1111111111111111, \"#46039f\"], [0.2222222222222222, \"#7201a8\"], [0.3333333333333333, \"#9c179e\"], [0.4444444444444444, \"#bd3786\"], [0.5555555555555556, \"#d8576b\"], [0.6666666666666666, \"#ed7953\"], [0.7777777777777778, \"#fb9f3a\"], [0.8888888888888888, \"#fdca26\"], [1.0, \"#f0f921\"]], \"type\": \"histogram2d\"}], \"histogram2dcontour\": [{\"colorbar\": {\"outlinewidth\": 0, \"ticks\": \"\"}, \"colorscale\": [[0.0, \"#0d0887\"], [0.1111111111111111, \"#46039f\"], [0.2222222222222222, \"#7201a8\"], [0.3333333333333333, \"#9c179e\"], [0.4444444444444444, \"#bd3786\"], [0.5555555555555556, \"#d8576b\"], [0.6666666666666666, \"#ed7953\"], [0.7777777777777778, \"#fb9f3a\"], [0.8888888888888888, \"#fdca26\"], [1.0, \"#f0f921\"]], \"type\": \"histogram2dcontour\"}], \"indicator\": [{\"delta\": {\"reference\": 90}, \"type\": \"indicator\"}], \"mesh3d\": [{\"colorbar\": {\"outlinewidth\": 0, \"ticks\": \"\"}, \"type\": \"mesh3d\"}], \"parcoords\": [{\"line\": {\"colorbar\": {\"outlinewidth\": 0, \"ticks\": \"\"}}, \"type\": \"parcoords\"}], \"pie\": [{\"automargin\": true, \"type\": \"pie\"}], \"scatter\": [{\"marker\": {\"colorbar\": {\"outlinewidth\": 0, \"ticks\": \"\"}}, \"type\": \"scatter\"}], \"scatter3d\": [{\"line\": {\"colorbar\": {\"outlinewidth\": 0, \"ticks\": \"\"}}, \"marker\": {\"colorbar\": {\"outlinewidth\": 0, \"ticks\": \"\"}}, \"type\": \"scatter3d\"}], \"scattercarpet\": [{\"marker\": {\"colorbar\": {\"outlinewidth\": 0, \"ticks\": \"\"}}, \"type\": \"scattercarpet\"}], \"scattergeo\": [{\"marker\": {\"colorbar\": {\"outlinewidth\": 0, \"ticks\": \"\"}}, \"type\": \"scattergeo\"}], \"scattergl\": [{\"marker\": {\"colorbar\": {\"outlinewidth\": 0, \"ticks\": \"\"}}, \"type\": \"scattergl\"}], \"scattermapbox\": [{\"marker\": {\"colorbar\": {\"outlinewidth\": 0, \"ticks\": \"\"}}, \"type\": \"scattermapbox\"}], \"scatterpolar\": [{\"marker\": {\"colorbar\": {\"outlinewidth\": 0, \"ticks\": \"\"}}, \"type\": \"scatterpolar\"}], \"scatterpolargl\": [{\"marker\": {\"colorbar\": {\"outlinewidth\": 0, \"ticks\": \"\"}}, \"type\": \"scatterpolargl\"}], \"scatterternary\": [{\"marker\": {\"colorbar\": {\"outlinewidth\": 0, \"ticks\": \"\"}}, \"type\": \"scatterternary\"}], \"surface\": [{\"colorbar\": {\"outlinewidth\": 0, \"ticks\": \"\"}, \"colorscale\": [[0.0, \"#0d0887\"], [0.1111111111111111, \"#46039f\"], [0.2222222222222222, \"#7201a8\"], [0.3333333333333333, \"#9c179e\"], [0.4444444444444444, \"#bd3786\"], [0.5555555555555556, \"#d8576b\"], [0.6666666666666666, \"#ed7953\"], [0.7777777777777778, \"#fb9f3a\"], [0.8888888888888888, \"#fdca26\"], [1.0, \"#f0f921\"]], \"type\": \"surface\"}], \"table\": [{\"cells\": {\"fill\": {\"color\": \"#EBF0F8\"}, \"line\": {\"color\": \"white\"}}, \"header\": {\"fill\": {\"color\": \"#C8D4E3\"}, \"line\": {\"color\": \"white\"}}, \"type\": \"table\"}]}, \"layout\": {\"annotationdefaults\": {\"arrowcolor\": \"#2a3f5f\", \"arrowhead\": 0, \"arrowwidth\": 1}, \"autotypenumbers\": \"strict\", \"coloraxis\": {\"colorbar\": {\"outlinewidth\": 0, \"ticks\": \"\"}}, \"colorscale\": {\"diverging\": [[0, \"#8e0152\"], [0.1, \"#c51b7d\"], [0.2, \"#de77ae\"], [0.3, \"#f1b6da\"], [0.4, \"#fde0ef\"], [0.5, \"#f7f7f7\"], [0.6, \"#e6f5d0\"], [0.7, \"#b8e186\"], [0.8, \"#7fbc41\"], [0.9, \"#4d9221\"], [1, \"#276419\"]], \"sequential\": [[0.0, \"#0d0887\"], [0.1111111111111111, \"#46039f\"], [0.2222222222222222, \"#7201a8\"], [0.3333333333333333, \"#9c179e\"], [0.4444444444444444, \"#bd3786\"], [0.5555555555555556, \"#d8576b\"], [0.6666666666666666, \"#ed7953\"], [0.7777777777777778, \"#fb9f3a\"], [0.8888888888888888, \"#fdca26\"], [1.0, \"#f0f921\"]], \"sequentialminus\": [[0.0, \"#0d0887\"], [0.1111111111111111, \"#46039f\"], [0.2222222222222222, \"#7201a8\"], [0.3333333333333333, \"#9c179e\"], [0.4444444444444444, \"#bd3786\"], [0.5555555555555556, \"#d8576b\"], [0.6666666666666666, \"#ed7953\"], [0.7777777777777778, \"#fb9f3a\"], [0.8888888888888888, \"#fdca26\"], [1.0, \"#f0f921\"]]}, \"colorway\": [\"#636efa\", \"#EF553B\", \"#00cc96\", \"#ab63fa\", \"#FFA15A\", \"#19d3f3\", \"#FF6692\", \"#B6E880\", \"#FF97FF\", \"#FECB52\"], \"font\": {\"color\": \"#2a3f5f\"}, \"geo\": {\"bgcolor\": \"white\", \"lakecolor\": \"white\", \"landcolor\": \"#E5ECF6\", \"showlakes\": true, \"showland\": true, \"subunitcolor\": \"white\"}, \"hoverlabel\": {\"align\": \"left\"}, \"hovermode\": \"closest\", \"mapbox\": {\"style\": \"light\"}, \"paper_bgcolor\": \"white\", \"plot_bgcolor\": \"#E5ECF6\", \"polar\": {\"angularaxis\": {\"gridcolor\": \"white\", \"linecolor\": \"white\", \"ticks\": \"\"}, \"bgcolor\": \"#E5ECF6\", \"radialaxis\": {\"gridcolor\": \"white\", \"linecolor\": \"white\", \"ticks\": \"\"}}, \"scene\": {\"xaxis\": {\"backgroundcolor\": \"#E5ECF6\", \"gridcolor\": \"white\", \"gridwidth\": 2, \"linecolor\": \"white\", \"showbackground\": true, \"ticks\": \"\", \"zerolinecolor\": \"white\"}, \"yaxis\": {\"backgroundcolor\": \"#E5ECF6\", \"gridcolor\": \"white\", \"gridwidth\": 2, \"linecolor\": \"white\", \"showbackground\": true, \"ticks\": \"\", \"zerolinecolor\": \"white\"}, \"zaxis\": {\"backgroundcolor\": \"#E5ECF6\", \"gridcolor\": \"white\", \"gridwidth\": 2, \"linecolor\": \"white\", \"showbackground\": true, \"ticks\": \"\", \"zerolinecolor\": \"white\"}}, \"shapedefaults\": {\"line\": {\"color\": \"#2a3f5f\"}}, \"ternary\": {\"aaxis\": {\"gridcolor\": \"white\", \"linecolor\": \"white\", \"ticks\": \"\"}, \"baxis\": {\"gridcolor\": \"white\", \"linecolor\": \"white\", \"ticks\": \"\"}, \"bgcolor\": \"#E5ECF6\", \"caxis\": {\"gridcolor\": \"white\", \"linecolor\": \"white\", \"ticks\": \"\"}}, \"title\": {\"x\": 0.05}, \"xaxis\": {\"automargin\": true, \"gridcolor\": \"white\", \"linecolor\": \"white\", \"ticks\": \"\", \"title\": {\"standoff\": 15}, \"zerolinecolor\": \"white\", \"zerolinewidth\": 2}, \"yaxis\": {\"automargin\": true, \"gridcolor\": \"white\", \"linecolor\": \"white\", \"ticks\": \"\", \"title\": {\"standoff\": 15}, \"zerolinecolor\": \"white\", \"zerolinewidth\": 2}}}},                        {\"responsive\": true}                    ).then(function(){\n",
       "                            \n",
       "var gd = document.getElementById('c2f5f09e-09be-4487-ad32-376a46242115');\n",
       "var x = new MutationObserver(function (mutations, observer) {{\n",
       "        var display = window.getComputedStyle(gd).display;\n",
       "        if (!display || display === 'none') {{\n",
       "            console.log([gd, 'removed!']);\n",
       "            Plotly.purge(gd);\n",
       "            observer.disconnect();\n",
       "        }}\n",
       "}});\n",
       "\n",
       "// Listen for the removal of the full notebook cells\n",
       "var notebookContainer = gd.closest('#notebook-container');\n",
       "if (notebookContainer) {{\n",
       "    x.observe(notebookContainer, {childList: true});\n",
       "}}\n",
       "\n",
       "// Listen for the clearing of the current output cell\n",
       "var outputEl = gd.closest('.output');\n",
       "if (outputEl) {{\n",
       "    x.observe(outputEl, {childList: true});\n",
       "}}\n",
       "\n",
       "                        })                };                });            </script>        </div>"
      ]
     },
     "metadata": {},
     "output_type": "display_data"
    },
    {
     "data": {
      "application/javascript": [
       "\n",
       "            setTimeout(function() {\n",
       "                var nbb_cell_id = 210;\n",
       "                var nbb_unformatted_code = \"fig = go.Figure()\\nfig.add_trace(go.Indicator(\\n    value = p_value*100,\\n    number = {\\\"suffix\\\":\\\"%\\\"},\\n    title = \\\"Calculated P-Value\\\",\\n    gauge = {\\n        'axis': {'visible': False}},\\n    domain = {'row': 0, 'column': 0}))\\nfig.add_trace(go.Indicator(\\n    number = {\\\"suffix\\\":\\\"%\\\"},\\n    value = 0.05*100,\\n    title = \\\"Threshold\\\",\\n    gauge = {\\n        'axis': {'visible': False}},\\n    domain = {'row': 0, 'column': 1}))\\nfig.update_layout(\\n    grid = {'rows': 1, 'columns': 2, 'pattern': \\\"independent\\\"},\\n    template = {'data' : {'indicator': [{\\n        'delta' : {'reference': 90}}]\\n                         }})\";\n",
       "                var nbb_formatted_code = \"fig = go.Figure()\\nfig.add_trace(\\n    go.Indicator(\\n        value=p_value * 100,\\n        number={\\\"suffix\\\": \\\"%\\\"},\\n        title=\\\"Calculated P-Value\\\",\\n        gauge={\\\"axis\\\": {\\\"visible\\\": False}},\\n        domain={\\\"row\\\": 0, \\\"column\\\": 0},\\n    )\\n)\\nfig.add_trace(\\n    go.Indicator(\\n        number={\\\"suffix\\\": \\\"%\\\"},\\n        value=0.05 * 100,\\n        title=\\\"Threshold\\\",\\n        gauge={\\\"axis\\\": {\\\"visible\\\": False}},\\n        domain={\\\"row\\\": 0, \\\"column\\\": 1},\\n    )\\n)\\nfig.update_layout(\\n    grid={\\\"rows\\\": 1, \\\"columns\\\": 2, \\\"pattern\\\": \\\"independent\\\"},\\n    template={\\\"data\\\": {\\\"indicator\\\": [{\\\"delta\\\": {\\\"reference\\\": 90}}]}},\\n)\";\n",
       "                var nbb_cells = Jupyter.notebook.get_cells();\n",
       "                for (var i = 0; i < nbb_cells.length; ++i) {\n",
       "                    if (nbb_cells[i].input_prompt_number == nbb_cell_id) {\n",
       "                        if (nbb_cells[i].get_text() == nbb_unformatted_code) {\n",
       "                             nbb_cells[i].set_text(nbb_formatted_code);\n",
       "                        }\n",
       "                        break;\n",
       "                    }\n",
       "                }\n",
       "            }, 500);\n",
       "            "
      ],
      "text/plain": [
       "<IPython.core.display.Javascript object>"
      ]
     },
     "metadata": {},
     "output_type": "display_data"
    }
   ],
   "source": [
    "fig = go.Figure()\n",
    "fig.add_trace(\n",
    "    go.Indicator(\n",
    "        value=p_value * 100,\n",
    "        number={\"suffix\": \"%\"},\n",
    "        title=\"Calculated P-Value\",\n",
    "        gauge={\"axis\": {\"visible\": False}},\n",
    "        domain={\"row\": 0, \"column\": 0},\n",
    "    )\n",
    ")\n",
    "fig.add_trace(\n",
    "    go.Indicator(\n",
    "        number={\"suffix\": \"%\"},\n",
    "        value=0.05 * 100,\n",
    "        title=\"Threshold\",\n",
    "        gauge={\"axis\": {\"visible\": False}},\n",
    "        domain={\"row\": 0, \"column\": 1},\n",
    "    )\n",
    ")\n",
    "fig.update_layout(\n",
    "    grid={\"rows\": 1, \"columns\": 2, \"pattern\": \"independent\"},\n",
    "    template={\"data\": {\"indicator\": [{\"delta\": {\"reference\": 90}}]}},\n",
    ")"
   ]
  },
  {
   "cell_type": "markdown",
   "metadata": {},
   "source": [
    "#### **Conclusion:**\n",
    "**The p value is 0.117, which is higher than the threshold of 0.05, therefore, we cocnlude that the difference in the means of grades of females and males is purely random.**"
   ]
  },
  {
   "cell_type": "markdown",
   "metadata": {},
   "source": [
    "### 8.2 Student T Tests\n"
   ]
  },
  {
   "cell_type": "code",
   "execution_count": 211,
   "metadata": {},
   "outputs": [
    {
     "name": "stdout",
     "output_type": "stream",
     "text": [
      "Elder women with kids:  63.59294117647058 \n",
      "Younger men no kids:  59.76923076923077 \n",
      "Difference:  3.8237104072398154\n"
     ]
    },
    {
     "data": {
      "application/javascript": [
       "\n",
       "            setTimeout(function() {\n",
       "                var nbb_cell_id = 211;\n",
       "                var nbb_unformatted_code = \"## testing the same null and alternative hypotheses\\nelder_female_with_kids = file[(file[\\\"Age_by_birth_year\\\"]>40) & (file[\\\"Kids\\\"]>0) & (file[\\\"Gender\\\"]==\\\"Woman\\\")]\\nelder_female_with_kids_average_grade = elder_female_with_kids[\\\"Average_grade\\\"].mean()\\n\\nyounger_male_no_kids = file[(file[\\\"Kids\\\"]==0) & (file[\\\"Age_by_birth_year\\\"] <= 40)& (file[\\\"Gender\\\"]==\\\"Man\\\")]\\nyounger_male_no_kids_average_grade = younger_male_no_kids[\\\"Average_grade\\\"].mean()\\n\\nmean_difference = elder_female_with_kids_average_grade - younger_male_no_kids_average_grade\\nprint(\\\"Elder women with kids: \\\",elder_female_with_kids_average_grade, \\n      \\\"\\\\nYounger men no kids: \\\", younger_male_no_kids_average_grade,\\n     \\\"\\\\nDifference: \\\", mean_difference)\";\n",
       "                var nbb_formatted_code = \"## testing the same null and alternative hypotheses\\nelder_female_with_kids = file[\\n    (file[\\\"Age_by_birth_year\\\"] > 40) & (file[\\\"Kids\\\"] > 0) & (file[\\\"Gender\\\"] == \\\"Woman\\\")\\n]\\nelder_female_with_kids_average_grade = elder_female_with_kids[\\\"Average_grade\\\"].mean()\\n\\nyounger_male_no_kids = file[\\n    (file[\\\"Kids\\\"] == 0) & (file[\\\"Age_by_birth_year\\\"] <= 40) & (file[\\\"Gender\\\"] == \\\"Man\\\")\\n]\\nyounger_male_no_kids_average_grade = younger_male_no_kids[\\\"Average_grade\\\"].mean()\\n\\nmean_difference = (\\n    elder_female_with_kids_average_grade - younger_male_no_kids_average_grade\\n)\\nprint(\\n    \\\"Elder women with kids: \\\",\\n    elder_female_with_kids_average_grade,\\n    \\\"\\\\nYounger men no kids: \\\",\\n    younger_male_no_kids_average_grade,\\n    \\\"\\\\nDifference: \\\",\\n    mean_difference,\\n)\";\n",
       "                var nbb_cells = Jupyter.notebook.get_cells();\n",
       "                for (var i = 0; i < nbb_cells.length; ++i) {\n",
       "                    if (nbb_cells[i].input_prompt_number == nbb_cell_id) {\n",
       "                        if (nbb_cells[i].get_text() == nbb_unformatted_code) {\n",
       "                             nbb_cells[i].set_text(nbb_formatted_code);\n",
       "                        }\n",
       "                        break;\n",
       "                    }\n",
       "                }\n",
       "            }, 500);\n",
       "            "
      ],
      "text/plain": [
       "<IPython.core.display.Javascript object>"
      ]
     },
     "metadata": {},
     "output_type": "display_data"
    }
   ],
   "source": [
    "## testing the same null and alternative hypotheses\n",
    "elder_female_with_kids = file[\n",
    "    (file[\"Age_by_birth_year\"] > 40) & (file[\"Kids\"] > 0) & (file[\"Gender\"] == \"Woman\")\n",
    "]\n",
    "elder_female_with_kids_average_grade = elder_female_with_kids[\"Average_grade\"].mean()\n",
    "\n",
    "younger_male_no_kids = file[\n",
    "    (file[\"Kids\"] == 0) & (file[\"Age_by_birth_year\"] <= 40) & (file[\"Gender\"] == \"Man\")\n",
    "]\n",
    "younger_male_no_kids_average_grade = younger_male_no_kids[\"Average_grade\"].mean()\n",
    "\n",
    "mean_difference = (\n",
    "    elder_female_with_kids_average_grade - younger_male_no_kids_average_grade\n",
    ")\n",
    "print(\n",
    "    \"Elder women with kids: \",\n",
    "    elder_female_with_kids_average_grade,\n",
    "    \"\\nYounger men no kids: \",\n",
    "    younger_male_no_kids_average_grade,\n",
    "    \"\\nDifference: \",\n",
    "    mean_difference,\n",
    ")"
   ]
  },
  {
   "cell_type": "code",
   "execution_count": 213,
   "metadata": {},
   "outputs": [
    {
     "data": {
      "application/vnd.plotly.v1+json": {
       "config": {
        "plotlyServerURL": "https://plot.ly"
       },
       "data": [
        {
         "domain": {
          "column": 0,
          "row": 0
         },
         "gauge": {
          "axis": {
           "visible": false
          }
         },
         "title": {
          "text": "Average Grade of Elder Females with Kids"
         },
         "type": "indicator",
         "value": 63.6
        },
        {
         "domain": {
          "column": 0,
          "row": 1
         },
         "gauge": {
          "axis": {
           "visible": false
          }
         },
         "title": {
          "text": "Average Grade of Younger Males with No Kids"
         },
         "type": "indicator",
         "value": 59.8
        }
       ],
       "layout": {
        "grid": {
         "columns": 1,
         "pattern": "independent",
         "rows": 2
        },
        "template": {
         "data": {
          "bar": [
           {
            "error_x": {
             "color": "#2a3f5f"
            },
            "error_y": {
             "color": "#2a3f5f"
            },
            "marker": {
             "line": {
              "color": "#E5ECF6",
              "width": 0.5
             }
            },
            "type": "bar"
           }
          ],
          "barpolar": [
           {
            "marker": {
             "line": {
              "color": "#E5ECF6",
              "width": 0.5
             }
            },
            "type": "barpolar"
           }
          ],
          "carpet": [
           {
            "aaxis": {
             "endlinecolor": "#2a3f5f",
             "gridcolor": "white",
             "linecolor": "white",
             "minorgridcolor": "white",
             "startlinecolor": "#2a3f5f"
            },
            "baxis": {
             "endlinecolor": "#2a3f5f",
             "gridcolor": "white",
             "linecolor": "white",
             "minorgridcolor": "white",
             "startlinecolor": "#2a3f5f"
            },
            "type": "carpet"
           }
          ],
          "choropleth": [
           {
            "colorbar": {
             "outlinewidth": 0,
             "ticks": ""
            },
            "type": "choropleth"
           }
          ],
          "contour": [
           {
            "colorbar": {
             "outlinewidth": 0,
             "ticks": ""
            },
            "colorscale": [
             [
              0,
              "#0d0887"
             ],
             [
              0.1111111111111111,
              "#46039f"
             ],
             [
              0.2222222222222222,
              "#7201a8"
             ],
             [
              0.3333333333333333,
              "#9c179e"
             ],
             [
              0.4444444444444444,
              "#bd3786"
             ],
             [
              0.5555555555555556,
              "#d8576b"
             ],
             [
              0.6666666666666666,
              "#ed7953"
             ],
             [
              0.7777777777777778,
              "#fb9f3a"
             ],
             [
              0.8888888888888888,
              "#fdca26"
             ],
             [
              1,
              "#f0f921"
             ]
            ],
            "type": "contour"
           }
          ],
          "contourcarpet": [
           {
            "colorbar": {
             "outlinewidth": 0,
             "ticks": ""
            },
            "type": "contourcarpet"
           }
          ],
          "heatmap": [
           {
            "colorbar": {
             "outlinewidth": 0,
             "ticks": ""
            },
            "colorscale": [
             [
              0,
              "#0d0887"
             ],
             [
              0.1111111111111111,
              "#46039f"
             ],
             [
              0.2222222222222222,
              "#7201a8"
             ],
             [
              0.3333333333333333,
              "#9c179e"
             ],
             [
              0.4444444444444444,
              "#bd3786"
             ],
             [
              0.5555555555555556,
              "#d8576b"
             ],
             [
              0.6666666666666666,
              "#ed7953"
             ],
             [
              0.7777777777777778,
              "#fb9f3a"
             ],
             [
              0.8888888888888888,
              "#fdca26"
             ],
             [
              1,
              "#f0f921"
             ]
            ],
            "type": "heatmap"
           }
          ],
          "heatmapgl": [
           {
            "colorbar": {
             "outlinewidth": 0,
             "ticks": ""
            },
            "colorscale": [
             [
              0,
              "#0d0887"
             ],
             [
              0.1111111111111111,
              "#46039f"
             ],
             [
              0.2222222222222222,
              "#7201a8"
             ],
             [
              0.3333333333333333,
              "#9c179e"
             ],
             [
              0.4444444444444444,
              "#bd3786"
             ],
             [
              0.5555555555555556,
              "#d8576b"
             ],
             [
              0.6666666666666666,
              "#ed7953"
             ],
             [
              0.7777777777777778,
              "#fb9f3a"
             ],
             [
              0.8888888888888888,
              "#fdca26"
             ],
             [
              1,
              "#f0f921"
             ]
            ],
            "type": "heatmapgl"
           }
          ],
          "histogram": [
           {
            "marker": {
             "colorbar": {
              "outlinewidth": 0,
              "ticks": ""
             }
            },
            "type": "histogram"
           }
          ],
          "histogram2d": [
           {
            "colorbar": {
             "outlinewidth": 0,
             "ticks": ""
            },
            "colorscale": [
             [
              0,
              "#0d0887"
             ],
             [
              0.1111111111111111,
              "#46039f"
             ],
             [
              0.2222222222222222,
              "#7201a8"
             ],
             [
              0.3333333333333333,
              "#9c179e"
             ],
             [
              0.4444444444444444,
              "#bd3786"
             ],
             [
              0.5555555555555556,
              "#d8576b"
             ],
             [
              0.6666666666666666,
              "#ed7953"
             ],
             [
              0.7777777777777778,
              "#fb9f3a"
             ],
             [
              0.8888888888888888,
              "#fdca26"
             ],
             [
              1,
              "#f0f921"
             ]
            ],
            "type": "histogram2d"
           }
          ],
          "histogram2dcontour": [
           {
            "colorbar": {
             "outlinewidth": 0,
             "ticks": ""
            },
            "colorscale": [
             [
              0,
              "#0d0887"
             ],
             [
              0.1111111111111111,
              "#46039f"
             ],
             [
              0.2222222222222222,
              "#7201a8"
             ],
             [
              0.3333333333333333,
              "#9c179e"
             ],
             [
              0.4444444444444444,
              "#bd3786"
             ],
             [
              0.5555555555555556,
              "#d8576b"
             ],
             [
              0.6666666666666666,
              "#ed7953"
             ],
             [
              0.7777777777777778,
              "#fb9f3a"
             ],
             [
              0.8888888888888888,
              "#fdca26"
             ],
             [
              1,
              "#f0f921"
             ]
            ],
            "type": "histogram2dcontour"
           }
          ],
          "indicator": [
           {
            "delta": {
             "reference": 90
            },
            "type": "indicator"
           }
          ],
          "mesh3d": [
           {
            "colorbar": {
             "outlinewidth": 0,
             "ticks": ""
            },
            "type": "mesh3d"
           }
          ],
          "parcoords": [
           {
            "line": {
             "colorbar": {
              "outlinewidth": 0,
              "ticks": ""
             }
            },
            "type": "parcoords"
           }
          ],
          "pie": [
           {
            "automargin": true,
            "type": "pie"
           }
          ],
          "scatter": [
           {
            "marker": {
             "colorbar": {
              "outlinewidth": 0,
              "ticks": ""
             }
            },
            "type": "scatter"
           }
          ],
          "scatter3d": [
           {
            "line": {
             "colorbar": {
              "outlinewidth": 0,
              "ticks": ""
             }
            },
            "marker": {
             "colorbar": {
              "outlinewidth": 0,
              "ticks": ""
             }
            },
            "type": "scatter3d"
           }
          ],
          "scattercarpet": [
           {
            "marker": {
             "colorbar": {
              "outlinewidth": 0,
              "ticks": ""
             }
            },
            "type": "scattercarpet"
           }
          ],
          "scattergeo": [
           {
            "marker": {
             "colorbar": {
              "outlinewidth": 0,
              "ticks": ""
             }
            },
            "type": "scattergeo"
           }
          ],
          "scattergl": [
           {
            "marker": {
             "colorbar": {
              "outlinewidth": 0,
              "ticks": ""
             }
            },
            "type": "scattergl"
           }
          ],
          "scattermapbox": [
           {
            "marker": {
             "colorbar": {
              "outlinewidth": 0,
              "ticks": ""
             }
            },
            "type": "scattermapbox"
           }
          ],
          "scatterpolar": [
           {
            "marker": {
             "colorbar": {
              "outlinewidth": 0,
              "ticks": ""
             }
            },
            "type": "scatterpolar"
           }
          ],
          "scatterpolargl": [
           {
            "marker": {
             "colorbar": {
              "outlinewidth": 0,
              "ticks": ""
             }
            },
            "type": "scatterpolargl"
           }
          ],
          "scatterternary": [
           {
            "marker": {
             "colorbar": {
              "outlinewidth": 0,
              "ticks": ""
             }
            },
            "type": "scatterternary"
           }
          ],
          "surface": [
           {
            "colorbar": {
             "outlinewidth": 0,
             "ticks": ""
            },
            "colorscale": [
             [
              0,
              "#0d0887"
             ],
             [
              0.1111111111111111,
              "#46039f"
             ],
             [
              0.2222222222222222,
              "#7201a8"
             ],
             [
              0.3333333333333333,
              "#9c179e"
             ],
             [
              0.4444444444444444,
              "#bd3786"
             ],
             [
              0.5555555555555556,
              "#d8576b"
             ],
             [
              0.6666666666666666,
              "#ed7953"
             ],
             [
              0.7777777777777778,
              "#fb9f3a"
             ],
             [
              0.8888888888888888,
              "#fdca26"
             ],
             [
              1,
              "#f0f921"
             ]
            ],
            "type": "surface"
           }
          ],
          "table": [
           {
            "cells": {
             "fill": {
              "color": "#EBF0F8"
             },
             "line": {
              "color": "white"
             }
            },
            "header": {
             "fill": {
              "color": "#C8D4E3"
             },
             "line": {
              "color": "white"
             }
            },
            "type": "table"
           }
          ]
         },
         "layout": {
          "annotationdefaults": {
           "arrowcolor": "#2a3f5f",
           "arrowhead": 0,
           "arrowwidth": 1
          },
          "autotypenumbers": "strict",
          "coloraxis": {
           "colorbar": {
            "outlinewidth": 0,
            "ticks": ""
           }
          },
          "colorscale": {
           "diverging": [
            [
             0,
             "#8e0152"
            ],
            [
             0.1,
             "#c51b7d"
            ],
            [
             0.2,
             "#de77ae"
            ],
            [
             0.3,
             "#f1b6da"
            ],
            [
             0.4,
             "#fde0ef"
            ],
            [
             0.5,
             "#f7f7f7"
            ],
            [
             0.6,
             "#e6f5d0"
            ],
            [
             0.7,
             "#b8e186"
            ],
            [
             0.8,
             "#7fbc41"
            ],
            [
             0.9,
             "#4d9221"
            ],
            [
             1,
             "#276419"
            ]
           ],
           "sequential": [
            [
             0,
             "#0d0887"
            ],
            [
             0.1111111111111111,
             "#46039f"
            ],
            [
             0.2222222222222222,
             "#7201a8"
            ],
            [
             0.3333333333333333,
             "#9c179e"
            ],
            [
             0.4444444444444444,
             "#bd3786"
            ],
            [
             0.5555555555555556,
             "#d8576b"
            ],
            [
             0.6666666666666666,
             "#ed7953"
            ],
            [
             0.7777777777777778,
             "#fb9f3a"
            ],
            [
             0.8888888888888888,
             "#fdca26"
            ],
            [
             1,
             "#f0f921"
            ]
           ],
           "sequentialminus": [
            [
             0,
             "#0d0887"
            ],
            [
             0.1111111111111111,
             "#46039f"
            ],
            [
             0.2222222222222222,
             "#7201a8"
            ],
            [
             0.3333333333333333,
             "#9c179e"
            ],
            [
             0.4444444444444444,
             "#bd3786"
            ],
            [
             0.5555555555555556,
             "#d8576b"
            ],
            [
             0.6666666666666666,
             "#ed7953"
            ],
            [
             0.7777777777777778,
             "#fb9f3a"
            ],
            [
             0.8888888888888888,
             "#fdca26"
            ],
            [
             1,
             "#f0f921"
            ]
           ]
          },
          "colorway": [
           "#636efa",
           "#EF553B",
           "#00cc96",
           "#ab63fa",
           "#FFA15A",
           "#19d3f3",
           "#FF6692",
           "#B6E880",
           "#FF97FF",
           "#FECB52"
          ],
          "font": {
           "color": "#2a3f5f"
          },
          "geo": {
           "bgcolor": "white",
           "lakecolor": "white",
           "landcolor": "#E5ECF6",
           "showlakes": true,
           "showland": true,
           "subunitcolor": "white"
          },
          "hoverlabel": {
           "align": "left"
          },
          "hovermode": "closest",
          "mapbox": {
           "style": "light"
          },
          "paper_bgcolor": "white",
          "plot_bgcolor": "#E5ECF6",
          "polar": {
           "angularaxis": {
            "gridcolor": "white",
            "linecolor": "white",
            "ticks": ""
           },
           "bgcolor": "#E5ECF6",
           "radialaxis": {
            "gridcolor": "white",
            "linecolor": "white",
            "ticks": ""
           }
          },
          "scene": {
           "xaxis": {
            "backgroundcolor": "#E5ECF6",
            "gridcolor": "white",
            "gridwidth": 2,
            "linecolor": "white",
            "showbackground": true,
            "ticks": "",
            "zerolinecolor": "white"
           },
           "yaxis": {
            "backgroundcolor": "#E5ECF6",
            "gridcolor": "white",
            "gridwidth": 2,
            "linecolor": "white",
            "showbackground": true,
            "ticks": "",
            "zerolinecolor": "white"
           },
           "zaxis": {
            "backgroundcolor": "#E5ECF6",
            "gridcolor": "white",
            "gridwidth": 2,
            "linecolor": "white",
            "showbackground": true,
            "ticks": "",
            "zerolinecolor": "white"
           }
          },
          "shapedefaults": {
           "line": {
            "color": "#2a3f5f"
           }
          },
          "ternary": {
           "aaxis": {
            "gridcolor": "white",
            "linecolor": "white",
            "ticks": ""
           },
           "baxis": {
            "gridcolor": "white",
            "linecolor": "white",
            "ticks": ""
           },
           "bgcolor": "#E5ECF6",
           "caxis": {
            "gridcolor": "white",
            "linecolor": "white",
            "ticks": ""
           }
          },
          "title": {
           "x": 0.05
          },
          "xaxis": {
           "automargin": true,
           "gridcolor": "white",
           "linecolor": "white",
           "ticks": "",
           "title": {
            "standoff": 15
           },
           "zerolinecolor": "white",
           "zerolinewidth": 2
          },
          "yaxis": {
           "automargin": true,
           "gridcolor": "white",
           "linecolor": "white",
           "ticks": "",
           "title": {
            "standoff": 15
           },
           "zerolinecolor": "white",
           "zerolinewidth": 2
          }
         }
        }
       }
      },
      "text/html": [
       "<div>                            <div id=\"760ea289-77e6-4826-b26a-f54db30b22ed\" class=\"plotly-graph-div\" style=\"height:525px; width:100%;\"></div>            <script type=\"text/javascript\">                require([\"plotly\"], function(Plotly) {                    window.PLOTLYENV=window.PLOTLYENV || {};                                    if (document.getElementById(\"760ea289-77e6-4826-b26a-f54db30b22ed\")) {                    Plotly.newPlot(                        \"760ea289-77e6-4826-b26a-f54db30b22ed\",                        [{\"domain\": {\"column\": 0, \"row\": 0}, \"gauge\": {\"axis\": {\"visible\": false}}, \"title\": {\"text\": \"Average Grade of Elder Females with Kids\"}, \"type\": \"indicator\", \"value\": 63.6}, {\"domain\": {\"column\": 0, \"row\": 1}, \"gauge\": {\"axis\": {\"visible\": false}}, \"title\": {\"text\": \"Average Grade of Younger Males with No Kids\"}, \"type\": \"indicator\", \"value\": 59.8}],                        {\"grid\": {\"columns\": 1, \"pattern\": \"independent\", \"rows\": 2}, \"template\": {\"data\": {\"bar\": [{\"error_x\": {\"color\": \"#2a3f5f\"}, \"error_y\": {\"color\": \"#2a3f5f\"}, \"marker\": {\"line\": {\"color\": \"#E5ECF6\", \"width\": 0.5}}, \"type\": \"bar\"}], \"barpolar\": [{\"marker\": {\"line\": {\"color\": \"#E5ECF6\", \"width\": 0.5}}, \"type\": \"barpolar\"}], \"carpet\": [{\"aaxis\": {\"endlinecolor\": \"#2a3f5f\", \"gridcolor\": \"white\", \"linecolor\": \"white\", \"minorgridcolor\": \"white\", \"startlinecolor\": \"#2a3f5f\"}, \"baxis\": {\"endlinecolor\": \"#2a3f5f\", \"gridcolor\": \"white\", \"linecolor\": \"white\", \"minorgridcolor\": \"white\", \"startlinecolor\": \"#2a3f5f\"}, \"type\": \"carpet\"}], \"choropleth\": [{\"colorbar\": {\"outlinewidth\": 0, \"ticks\": \"\"}, \"type\": \"choropleth\"}], \"contour\": [{\"colorbar\": {\"outlinewidth\": 0, \"ticks\": \"\"}, \"colorscale\": [[0.0, \"#0d0887\"], [0.1111111111111111, \"#46039f\"], [0.2222222222222222, \"#7201a8\"], [0.3333333333333333, \"#9c179e\"], [0.4444444444444444, \"#bd3786\"], [0.5555555555555556, \"#d8576b\"], [0.6666666666666666, \"#ed7953\"], [0.7777777777777778, \"#fb9f3a\"], [0.8888888888888888, \"#fdca26\"], [1.0, \"#f0f921\"]], \"type\": \"contour\"}], \"contourcarpet\": [{\"colorbar\": {\"outlinewidth\": 0, \"ticks\": \"\"}, \"type\": \"contourcarpet\"}], \"heatmap\": [{\"colorbar\": {\"outlinewidth\": 0, \"ticks\": \"\"}, \"colorscale\": [[0.0, \"#0d0887\"], [0.1111111111111111, \"#46039f\"], [0.2222222222222222, \"#7201a8\"], [0.3333333333333333, \"#9c179e\"], [0.4444444444444444, \"#bd3786\"], [0.5555555555555556, \"#d8576b\"], [0.6666666666666666, \"#ed7953\"], [0.7777777777777778, \"#fb9f3a\"], [0.8888888888888888, \"#fdca26\"], [1.0, \"#f0f921\"]], \"type\": \"heatmap\"}], \"heatmapgl\": [{\"colorbar\": {\"outlinewidth\": 0, \"ticks\": \"\"}, \"colorscale\": [[0.0, \"#0d0887\"], [0.1111111111111111, \"#46039f\"], [0.2222222222222222, \"#7201a8\"], [0.3333333333333333, \"#9c179e\"], [0.4444444444444444, \"#bd3786\"], [0.5555555555555556, \"#d8576b\"], [0.6666666666666666, \"#ed7953\"], [0.7777777777777778, \"#fb9f3a\"], [0.8888888888888888, \"#fdca26\"], [1.0, \"#f0f921\"]], \"type\": \"heatmapgl\"}], \"histogram\": [{\"marker\": {\"colorbar\": {\"outlinewidth\": 0, \"ticks\": \"\"}}, \"type\": \"histogram\"}], \"histogram2d\": [{\"colorbar\": {\"outlinewidth\": 0, \"ticks\": \"\"}, \"colorscale\": [[0.0, \"#0d0887\"], [0.1111111111111111, \"#46039f\"], [0.2222222222222222, \"#7201a8\"], [0.3333333333333333, \"#9c179e\"], [0.4444444444444444, \"#bd3786\"], [0.5555555555555556, \"#d8576b\"], [0.6666666666666666, \"#ed7953\"], [0.7777777777777778, \"#fb9f3a\"], [0.8888888888888888, \"#fdca26\"], [1.0, \"#f0f921\"]], \"type\": \"histogram2d\"}], \"histogram2dcontour\": [{\"colorbar\": {\"outlinewidth\": 0, \"ticks\": \"\"}, \"colorscale\": [[0.0, \"#0d0887\"], [0.1111111111111111, \"#46039f\"], [0.2222222222222222, \"#7201a8\"], [0.3333333333333333, \"#9c179e\"], [0.4444444444444444, \"#bd3786\"], [0.5555555555555556, \"#d8576b\"], [0.6666666666666666, \"#ed7953\"], [0.7777777777777778, \"#fb9f3a\"], [0.8888888888888888, \"#fdca26\"], [1.0, \"#f0f921\"]], \"type\": \"histogram2dcontour\"}], \"indicator\": [{\"delta\": {\"reference\": 90}, \"type\": \"indicator\"}], \"mesh3d\": [{\"colorbar\": {\"outlinewidth\": 0, \"ticks\": \"\"}, \"type\": \"mesh3d\"}], \"parcoords\": [{\"line\": {\"colorbar\": {\"outlinewidth\": 0, \"ticks\": \"\"}}, \"type\": \"parcoords\"}], \"pie\": [{\"automargin\": true, \"type\": \"pie\"}], \"scatter\": [{\"marker\": {\"colorbar\": {\"outlinewidth\": 0, \"ticks\": \"\"}}, \"type\": \"scatter\"}], \"scatter3d\": [{\"line\": {\"colorbar\": {\"outlinewidth\": 0, \"ticks\": \"\"}}, \"marker\": {\"colorbar\": {\"outlinewidth\": 0, \"ticks\": \"\"}}, \"type\": \"scatter3d\"}], \"scattercarpet\": [{\"marker\": {\"colorbar\": {\"outlinewidth\": 0, \"ticks\": \"\"}}, \"type\": \"scattercarpet\"}], \"scattergeo\": [{\"marker\": {\"colorbar\": {\"outlinewidth\": 0, \"ticks\": \"\"}}, \"type\": \"scattergeo\"}], \"scattergl\": [{\"marker\": {\"colorbar\": {\"outlinewidth\": 0, \"ticks\": \"\"}}, \"type\": \"scattergl\"}], \"scattermapbox\": [{\"marker\": {\"colorbar\": {\"outlinewidth\": 0, \"ticks\": \"\"}}, \"type\": \"scattermapbox\"}], \"scatterpolar\": [{\"marker\": {\"colorbar\": {\"outlinewidth\": 0, \"ticks\": \"\"}}, \"type\": \"scatterpolar\"}], \"scatterpolargl\": [{\"marker\": {\"colorbar\": {\"outlinewidth\": 0, \"ticks\": \"\"}}, \"type\": \"scatterpolargl\"}], \"scatterternary\": [{\"marker\": {\"colorbar\": {\"outlinewidth\": 0, \"ticks\": \"\"}}, \"type\": \"scatterternary\"}], \"surface\": [{\"colorbar\": {\"outlinewidth\": 0, \"ticks\": \"\"}, \"colorscale\": [[0.0, \"#0d0887\"], [0.1111111111111111, \"#46039f\"], [0.2222222222222222, \"#7201a8\"], [0.3333333333333333, \"#9c179e\"], [0.4444444444444444, \"#bd3786\"], [0.5555555555555556, \"#d8576b\"], [0.6666666666666666, \"#ed7953\"], [0.7777777777777778, \"#fb9f3a\"], [0.8888888888888888, \"#fdca26\"], [1.0, \"#f0f921\"]], \"type\": \"surface\"}], \"table\": [{\"cells\": {\"fill\": {\"color\": \"#EBF0F8\"}, \"line\": {\"color\": \"white\"}}, \"header\": {\"fill\": {\"color\": \"#C8D4E3\"}, \"line\": {\"color\": \"white\"}}, \"type\": \"table\"}]}, \"layout\": {\"annotationdefaults\": {\"arrowcolor\": \"#2a3f5f\", \"arrowhead\": 0, \"arrowwidth\": 1}, \"autotypenumbers\": \"strict\", \"coloraxis\": {\"colorbar\": {\"outlinewidth\": 0, \"ticks\": \"\"}}, \"colorscale\": {\"diverging\": [[0, \"#8e0152\"], [0.1, \"#c51b7d\"], [0.2, \"#de77ae\"], [0.3, \"#f1b6da\"], [0.4, \"#fde0ef\"], [0.5, \"#f7f7f7\"], [0.6, \"#e6f5d0\"], [0.7, \"#b8e186\"], [0.8, \"#7fbc41\"], [0.9, \"#4d9221\"], [1, \"#276419\"]], \"sequential\": [[0.0, \"#0d0887\"], [0.1111111111111111, \"#46039f\"], [0.2222222222222222, \"#7201a8\"], [0.3333333333333333, \"#9c179e\"], [0.4444444444444444, \"#bd3786\"], [0.5555555555555556, \"#d8576b\"], [0.6666666666666666, \"#ed7953\"], [0.7777777777777778, \"#fb9f3a\"], [0.8888888888888888, \"#fdca26\"], [1.0, \"#f0f921\"]], \"sequentialminus\": [[0.0, \"#0d0887\"], [0.1111111111111111, \"#46039f\"], [0.2222222222222222, \"#7201a8\"], [0.3333333333333333, \"#9c179e\"], [0.4444444444444444, \"#bd3786\"], [0.5555555555555556, \"#d8576b\"], [0.6666666666666666, \"#ed7953\"], [0.7777777777777778, \"#fb9f3a\"], [0.8888888888888888, \"#fdca26\"], [1.0, \"#f0f921\"]]}, \"colorway\": [\"#636efa\", \"#EF553B\", \"#00cc96\", \"#ab63fa\", \"#FFA15A\", \"#19d3f3\", \"#FF6692\", \"#B6E880\", \"#FF97FF\", \"#FECB52\"], \"font\": {\"color\": \"#2a3f5f\"}, \"geo\": {\"bgcolor\": \"white\", \"lakecolor\": \"white\", \"landcolor\": \"#E5ECF6\", \"showlakes\": true, \"showland\": true, \"subunitcolor\": \"white\"}, \"hoverlabel\": {\"align\": \"left\"}, \"hovermode\": \"closest\", \"mapbox\": {\"style\": \"light\"}, \"paper_bgcolor\": \"white\", \"plot_bgcolor\": \"#E5ECF6\", \"polar\": {\"angularaxis\": {\"gridcolor\": \"white\", \"linecolor\": \"white\", \"ticks\": \"\"}, \"bgcolor\": \"#E5ECF6\", \"radialaxis\": {\"gridcolor\": \"white\", \"linecolor\": \"white\", \"ticks\": \"\"}}, \"scene\": {\"xaxis\": {\"backgroundcolor\": \"#E5ECF6\", \"gridcolor\": \"white\", \"gridwidth\": 2, \"linecolor\": \"white\", \"showbackground\": true, \"ticks\": \"\", \"zerolinecolor\": \"white\"}, \"yaxis\": {\"backgroundcolor\": \"#E5ECF6\", \"gridcolor\": \"white\", \"gridwidth\": 2, \"linecolor\": \"white\", \"showbackground\": true, \"ticks\": \"\", \"zerolinecolor\": \"white\"}, \"zaxis\": {\"backgroundcolor\": \"#E5ECF6\", \"gridcolor\": \"white\", \"gridwidth\": 2, \"linecolor\": \"white\", \"showbackground\": true, \"ticks\": \"\", \"zerolinecolor\": \"white\"}}, \"shapedefaults\": {\"line\": {\"color\": \"#2a3f5f\"}}, \"ternary\": {\"aaxis\": {\"gridcolor\": \"white\", \"linecolor\": \"white\", \"ticks\": \"\"}, \"baxis\": {\"gridcolor\": \"white\", \"linecolor\": \"white\", \"ticks\": \"\"}, \"bgcolor\": \"#E5ECF6\", \"caxis\": {\"gridcolor\": \"white\", \"linecolor\": \"white\", \"ticks\": \"\"}}, \"title\": {\"x\": 0.05}, \"xaxis\": {\"automargin\": true, \"gridcolor\": \"white\", \"linecolor\": \"white\", \"ticks\": \"\", \"title\": {\"standoff\": 15}, \"zerolinecolor\": \"white\", \"zerolinewidth\": 2}, \"yaxis\": {\"automargin\": true, \"gridcolor\": \"white\", \"linecolor\": \"white\", \"ticks\": \"\", \"title\": {\"standoff\": 15}, \"zerolinecolor\": \"white\", \"zerolinewidth\": 2}}}},                        {\"responsive\": true}                    ).then(function(){\n",
       "                            \n",
       "var gd = document.getElementById('760ea289-77e6-4826-b26a-f54db30b22ed');\n",
       "var x = new MutationObserver(function (mutations, observer) {{\n",
       "        var display = window.getComputedStyle(gd).display;\n",
       "        if (!display || display === 'none') {{\n",
       "            console.log([gd, 'removed!']);\n",
       "            Plotly.purge(gd);\n",
       "            observer.disconnect();\n",
       "        }}\n",
       "}});\n",
       "\n",
       "// Listen for the removal of the full notebook cells\n",
       "var notebookContainer = gd.closest('#notebook-container');\n",
       "if (notebookContainer) {{\n",
       "    x.observe(notebookContainer, {childList: true});\n",
       "}}\n",
       "\n",
       "// Listen for the clearing of the current output cell\n",
       "var outputEl = gd.closest('.output');\n",
       "if (outputEl) {{\n",
       "    x.observe(outputEl, {childList: true});\n",
       "}}\n",
       "\n",
       "                        })                };                });            </script>        </div>"
      ]
     },
     "metadata": {},
     "output_type": "display_data"
    },
    {
     "data": {
      "application/javascript": [
       "\n",
       "            setTimeout(function() {\n",
       "                var nbb_cell_id = 213;\n",
       "                var nbb_unformatted_code = \"fig = go.Figure()\\n\\nfig.add_trace(go.Indicator(\\n    value = round(elder_female_with_kids_average_grade, 1),\\n    title = \\\"Average Grade of Elder Females with Kids\\\",\\n    gauge = {\\n        'axis': {'visible': False}},\\n    domain = {'row': 0, 'column': 0}))\\nfig.add_trace(go.Indicator(\\n    value = round(younger_male_no_kids_average_grade, 1),\\n    title=\\\"Average Grade of Younger Males with No Kids\\\",\\n    gauge = {\\n        'axis': {'visible': False}},\\n    domain = {'row': 1, 'column': 0}))\\n\\nfig.update_layout(\\n    grid = {'rows': 2, 'columns': 1, 'pattern': \\\"independent\\\"},\\n    template = {'data' : {'indicator': [{\\n        'delta' : {'reference': 90}}]\\n                         }})\";\n",
       "                var nbb_formatted_code = \"fig = go.Figure()\\n\\nfig.add_trace(\\n    go.Indicator(\\n        value=round(elder_female_with_kids_average_grade, 1),\\n        title=\\\"Average Grade of Elder Females with Kids\\\",\\n        gauge={\\\"axis\\\": {\\\"visible\\\": False}},\\n        domain={\\\"row\\\": 0, \\\"column\\\": 0},\\n    )\\n)\\nfig.add_trace(\\n    go.Indicator(\\n        value=round(younger_male_no_kids_average_grade, 1),\\n        title=\\\"Average Grade of Younger Males with No Kids\\\",\\n        gauge={\\\"axis\\\": {\\\"visible\\\": False}},\\n        domain={\\\"row\\\": 1, \\\"column\\\": 0},\\n    )\\n)\\n\\nfig.update_layout(\\n    grid={\\\"rows\\\": 2, \\\"columns\\\": 1, \\\"pattern\\\": \\\"independent\\\"},\\n    template={\\\"data\\\": {\\\"indicator\\\": [{\\\"delta\\\": {\\\"reference\\\": 90}}]}},\\n)\";\n",
       "                var nbb_cells = Jupyter.notebook.get_cells();\n",
       "                for (var i = 0; i < nbb_cells.length; ++i) {\n",
       "                    if (nbb_cells[i].input_prompt_number == nbb_cell_id) {\n",
       "                        if (nbb_cells[i].get_text() == nbb_unformatted_code) {\n",
       "                             nbb_cells[i].set_text(nbb_formatted_code);\n",
       "                        }\n",
       "                        break;\n",
       "                    }\n",
       "                }\n",
       "            }, 500);\n",
       "            "
      ],
      "text/plain": [
       "<IPython.core.display.Javascript object>"
      ]
     },
     "metadata": {},
     "output_type": "display_data"
    }
   ],
   "source": [
    "fig = go.Figure()\n",
    "\n",
    "fig.add_trace(\n",
    "    go.Indicator(\n",
    "        value=round(elder_female_with_kids_average_grade, 1),\n",
    "        title=\"Average Grade of Elder Females with Kids\",\n",
    "        gauge={\"axis\": {\"visible\": False}},\n",
    "        domain={\"row\": 0, \"column\": 0},\n",
    "    )\n",
    ")\n",
    "fig.add_trace(\n",
    "    go.Indicator(\n",
    "        value=round(younger_male_no_kids_average_grade, 1),\n",
    "        title=\"Average Grade of Younger Males with No Kids\",\n",
    "        gauge={\"axis\": {\"visible\": False}},\n",
    "        domain={\"row\": 1, \"column\": 0},\n",
    "    )\n",
    ")\n",
    "\n",
    "fig.update_layout(\n",
    "    grid={\"rows\": 2, \"columns\": 1, \"pattern\": \"independent\"},\n",
    "    template={\"data\": {\"indicator\": [{\"delta\": {\"reference\": 90}}]}},\n",
    ")"
   ]
  },
  {
   "cell_type": "markdown",
   "metadata": {},
   "source": [
    "#### 1. finding the signal - difference between the mean"
   ]
  },
  {
   "cell_type": "code",
   "execution_count": 214,
   "metadata": {},
   "outputs": [
    {
     "data": {
      "text/plain": [
       "3.8237104072398154"
      ]
     },
     "execution_count": 214,
     "metadata": {},
     "output_type": "execute_result"
    },
    {
     "data": {
      "application/javascript": [
       "\n",
       "            setTimeout(function() {\n",
       "                var nbb_cell_id = 214;\n",
       "                var nbb_unformatted_code = \"signal = mean_difference\\nsignal\";\n",
       "                var nbb_formatted_code = \"signal = mean_difference\\nsignal\";\n",
       "                var nbb_cells = Jupyter.notebook.get_cells();\n",
       "                for (var i = 0; i < nbb_cells.length; ++i) {\n",
       "                    if (nbb_cells[i].input_prompt_number == nbb_cell_id) {\n",
       "                        if (nbb_cells[i].get_text() == nbb_unformatted_code) {\n",
       "                             nbb_cells[i].set_text(nbb_formatted_code);\n",
       "                        }\n",
       "                        break;\n",
       "                    }\n",
       "                }\n",
       "            }, 500);\n",
       "            "
      ],
      "text/plain": [
       "<IPython.core.display.Javascript object>"
      ]
     },
     "metadata": {},
     "output_type": "display_data"
    }
   ],
   "source": [
    "signal = mean_difference\n",
    "signal"
   ]
  },
  {
   "cell_type": "markdown",
   "metadata": {},
   "source": [
    "#### 2. finding the group variability"
   ]
  },
  {
   "cell_type": "code",
   "execution_count": 215,
   "metadata": {},
   "outputs": [
    {
     "name": "stdout",
     "output_type": "stream",
     "text": [
      "Variance of Group A (elder females with kids):  21.830909558823528\n",
      "Variance of Group B (younger males with no kids):  133.85897435897434\n"
     ]
    },
    {
     "data": {
      "application/javascript": [
       "\n",
       "            setTimeout(function() {\n",
       "                var nbb_cell_id = 215;\n",
       "                var nbb_unformatted_code = \"variance_group_a = elder_female_with_kids[\\\"Average_grade\\\"].var()\\nvariance_group_b = younger_male_no_kids[\\\"Average_grade\\\"].var()\\n\\nprint(\\\"Variance of Group A (elder females with kids): \\\", variance_group_a)\\nprint(\\\"Variance of Group B (younger males with no kids): \\\", variance_group_b)\";\n",
       "                var nbb_formatted_code = \"variance_group_a = elder_female_with_kids[\\\"Average_grade\\\"].var()\\nvariance_group_b = younger_male_no_kids[\\\"Average_grade\\\"].var()\\n\\nprint(\\\"Variance of Group A (elder females with kids): \\\", variance_group_a)\\nprint(\\\"Variance of Group B (younger males with no kids): \\\", variance_group_b)\";\n",
       "                var nbb_cells = Jupyter.notebook.get_cells();\n",
       "                for (var i = 0; i < nbb_cells.length; ++i) {\n",
       "                    if (nbb_cells[i].input_prompt_number == nbb_cell_id) {\n",
       "                        if (nbb_cells[i].get_text() == nbb_unformatted_code) {\n",
       "                             nbb_cells[i].set_text(nbb_formatted_code);\n",
       "                        }\n",
       "                        break;\n",
       "                    }\n",
       "                }\n",
       "            }, 500);\n",
       "            "
      ],
      "text/plain": [
       "<IPython.core.display.Javascript object>"
      ]
     },
     "metadata": {},
     "output_type": "display_data"
    }
   ],
   "source": [
    "variance_group_a = elder_female_with_kids[\"Average_grade\"].var()\n",
    "variance_group_b = younger_male_no_kids[\"Average_grade\"].var()\n",
    "\n",
    "print(\"Variance of Group A (elder females with kids): \", variance_group_a)\n",
    "print(\"Variance of Group B (younger males with no kids): \", variance_group_b)"
   ]
  },
  {
   "cell_type": "code",
   "execution_count": 216,
   "metadata": {},
   "outputs": [
    {
     "name": "stdout",
     "output_type": "stream",
     "text": [
      "Number of samples in Group A (elder females with kids):  17\n",
      "Number of samples in Group B (younger males with no kids):  13\n"
     ]
    },
    {
     "data": {
      "application/javascript": [
       "\n",
       "            setTimeout(function() {\n",
       "                var nbb_cell_id = 216;\n",
       "                var nbb_unformatted_code = \"num_group_a = elder_female_with_kids[\\\"Average_grade\\\"].count()\\nnum_group_b = younger_male_no_kids[\\\"Average_grade\\\"].count()\\n\\nprint(\\\"Number of samples in Group A (elder females with kids): \\\", num_group_a)\\nprint(\\\"Number of samples in Group B (younger males with no kids): \\\", num_group_b)\";\n",
       "                var nbb_formatted_code = \"num_group_a = elder_female_with_kids[\\\"Average_grade\\\"].count()\\nnum_group_b = younger_male_no_kids[\\\"Average_grade\\\"].count()\\n\\nprint(\\\"Number of samples in Group A (elder females with kids): \\\", num_group_a)\\nprint(\\\"Number of samples in Group B (younger males with no kids): \\\", num_group_b)\";\n",
       "                var nbb_cells = Jupyter.notebook.get_cells();\n",
       "                for (var i = 0; i < nbb_cells.length; ++i) {\n",
       "                    if (nbb_cells[i].input_prompt_number == nbb_cell_id) {\n",
       "                        if (nbb_cells[i].get_text() == nbb_unformatted_code) {\n",
       "                             nbb_cells[i].set_text(nbb_formatted_code);\n",
       "                        }\n",
       "                        break;\n",
       "                    }\n",
       "                }\n",
       "            }, 500);\n",
       "            "
      ],
      "text/plain": [
       "<IPython.core.display.Javascript object>"
      ]
     },
     "metadata": {},
     "output_type": "display_data"
    }
   ],
   "source": [
    "num_group_a = elder_female_with_kids[\"Average_grade\"].count()\n",
    "num_group_b = younger_male_no_kids[\"Average_grade\"].count()\n",
    "\n",
    "print(\"Number of samples in Group A (elder females with kids): \", num_group_a)\n",
    "print(\"Number of samples in Group B (younger males with no kids): \", num_group_b)"
   ]
  },
  {
   "cell_type": "markdown",
   "metadata": {},
   "source": [
    "#### 3. finding the t-value"
   ]
  },
  {
   "cell_type": "code",
   "execution_count": 217,
   "metadata": {},
   "outputs": [
    {
     "name": "stdout",
     "output_type": "stream",
     "text": [
      "T-value is  1.123599855845671\n"
     ]
    },
    {
     "data": {
      "application/javascript": [
       "\n",
       "            setTimeout(function() {\n",
       "                var nbb_cell_id = 217;\n",
       "                var nbb_unformatted_code = \"t_value = signal / math.sqrt((variance_group_a/num_group_a) + (variance_group_b/num_group_b))\\nprint(\\\"T-value is \\\", t_value)\";\n",
       "                var nbb_formatted_code = \"t_value = signal / math.sqrt(\\n    (variance_group_a / num_group_a) + (variance_group_b / num_group_b)\\n)\\nprint(\\\"T-value is \\\", t_value)\";\n",
       "                var nbb_cells = Jupyter.notebook.get_cells();\n",
       "                for (var i = 0; i < nbb_cells.length; ++i) {\n",
       "                    if (nbb_cells[i].input_prompt_number == nbb_cell_id) {\n",
       "                        if (nbb_cells[i].get_text() == nbb_unformatted_code) {\n",
       "                             nbb_cells[i].set_text(nbb_formatted_code);\n",
       "                        }\n",
       "                        break;\n",
       "                    }\n",
       "                }\n",
       "            }, 500);\n",
       "            "
      ],
      "text/plain": [
       "<IPython.core.display.Javascript object>"
      ]
     },
     "metadata": {},
     "output_type": "display_data"
    }
   ],
   "source": [
    "t_value = signal / math.sqrt(\n",
    "    (variance_group_a / num_group_a) + (variance_group_b / num_group_b)\n",
    ")\n",
    "print(\"T-value is \", t_value)"
   ]
  },
  {
   "cell_type": "markdown",
   "metadata": {},
   "source": [
    "#### 4. finding the degree of freedom"
   ]
  },
  {
   "cell_type": "code",
   "execution_count": 218,
   "metadata": {},
   "outputs": [
    {
     "data": {
      "text/plain": [
       "28"
      ]
     },
     "execution_count": 218,
     "metadata": {},
     "output_type": "execute_result"
    },
    {
     "data": {
      "application/javascript": [
       "\n",
       "            setTimeout(function() {\n",
       "                var nbb_cell_id = 218;\n",
       "                var nbb_unformatted_code = \"degree_free = num_group_a + num_group_b - 2\\ndegree_free\";\n",
       "                var nbb_formatted_code = \"degree_free = num_group_a + num_group_b - 2\\ndegree_free\";\n",
       "                var nbb_cells = Jupyter.notebook.get_cells();\n",
       "                for (var i = 0; i < nbb_cells.length; ++i) {\n",
       "                    if (nbb_cells[i].input_prompt_number == nbb_cell_id) {\n",
       "                        if (nbb_cells[i].get_text() == nbb_unformatted_code) {\n",
       "                             nbb_cells[i].set_text(nbb_formatted_code);\n",
       "                        }\n",
       "                        break;\n",
       "                    }\n",
       "                }\n",
       "            }, 500);\n",
       "            "
      ],
      "text/plain": [
       "<IPython.core.display.Javascript object>"
      ]
     },
     "metadata": {},
     "output_type": "display_data"
    }
   ],
   "source": [
    "degree_free = num_group_a + num_group_b - 2\n",
    "degree_free"
   ]
  },
  {
   "cell_type": "markdown",
   "metadata": {},
   "source": [
    "#### 5. finding the critical value"
   ]
  },
  {
   "cell_type": "code",
   "execution_count": 219,
   "metadata": {},
   "outputs": [
    {
     "data": {
      "text/plain": [
       "2.048407141795244"
      ]
     },
     "execution_count": 219,
     "metadata": {},
     "output_type": "execute_result"
    },
    {
     "data": {
      "application/javascript": [
       "\n",
       "            setTimeout(function() {\n",
       "                var nbb_cell_id = 219;\n",
       "                var nbb_unformatted_code = \"critical_value = scipy.stats.t.ppf(q=1-.05/2,df=28)\\ncritical_value\";\n",
       "                var nbb_formatted_code = \"critical_value = scipy.stats.t.ppf(q=1 - 0.05 / 2, df=28)\\ncritical_value\";\n",
       "                var nbb_cells = Jupyter.notebook.get_cells();\n",
       "                for (var i = 0; i < nbb_cells.length; ++i) {\n",
       "                    if (nbb_cells[i].input_prompt_number == nbb_cell_id) {\n",
       "                        if (nbb_cells[i].get_text() == nbb_unformatted_code) {\n",
       "                             nbb_cells[i].set_text(nbb_formatted_code);\n",
       "                        }\n",
       "                        break;\n",
       "                    }\n",
       "                }\n",
       "            }, 500);\n",
       "            "
      ],
      "text/plain": [
       "<IPython.core.display.Javascript object>"
      ]
     },
     "metadata": {},
     "output_type": "display_data"
    }
   ],
   "source": [
    "critical_value = scipy.stats.t.ppf(q=1 - 0.05 / 2, df=28)\n",
    "critical_value"
   ]
  },
  {
   "cell_type": "markdown",
   "metadata": {},
   "source": [
    "#### 6. comparing the t-value and the critical value"
   ]
  },
  {
   "cell_type": "code",
   "execution_count": 220,
   "metadata": {},
   "outputs": [
    {
     "data": {
      "text/plain": [
       "2.048407141795244"
      ]
     },
     "execution_count": 220,
     "metadata": {},
     "output_type": "execute_result"
    },
    {
     "data": {
      "application/javascript": [
       "\n",
       "            setTimeout(function() {\n",
       "                var nbb_cell_id = 220;\n",
       "                var nbb_unformatted_code = \"result = max(t_value, critical_value)\\nresult\";\n",
       "                var nbb_formatted_code = \"result = max(t_value, critical_value)\\nresult\";\n",
       "                var nbb_cells = Jupyter.notebook.get_cells();\n",
       "                for (var i = 0; i < nbb_cells.length; ++i) {\n",
       "                    if (nbb_cells[i].input_prompt_number == nbb_cell_id) {\n",
       "                        if (nbb_cells[i].get_text() == nbb_unformatted_code) {\n",
       "                             nbb_cells[i].set_text(nbb_formatted_code);\n",
       "                        }\n",
       "                        break;\n",
       "                    }\n",
       "                }\n",
       "            }, 500);\n",
       "            "
      ],
      "text/plain": [
       "<IPython.core.display.Javascript object>"
      ]
     },
     "metadata": {},
     "output_type": "display_data"
    }
   ],
   "source": [
    "result = max(t_value, critical_value)\n",
    "result"
   ]
  },
  {
   "cell_type": "code",
   "execution_count": 221,
   "metadata": {},
   "outputs": [
    {
     "data": {
      "application/vnd.plotly.v1+json": {
       "config": {
        "plotlyServerURL": "https://plot.ly"
       },
       "data": [
        {
         "domain": {
          "column": 0,
          "row": 0
         },
         "gauge": {
          "axis": {
           "visible": false
          }
         },
         "title": {
          "text": "T-Value"
         },
         "type": "indicator",
         "value": 1.123599855845671
        },
        {
         "domain": {
          "column": 1,
          "row": 0
         },
         "gauge": {
          "axis": {
           "visible": false
          }
         },
         "title": {
          "text": "Critical Value"
         },
         "type": "indicator",
         "value": 2.048407141795244
        }
       ],
       "layout": {
        "grid": {
         "columns": 2,
         "pattern": "independent",
         "rows": 1
        },
        "template": {
         "data": {
          "bar": [
           {
            "error_x": {
             "color": "#2a3f5f"
            },
            "error_y": {
             "color": "#2a3f5f"
            },
            "marker": {
             "line": {
              "color": "#E5ECF6",
              "width": 0.5
             }
            },
            "type": "bar"
           }
          ],
          "barpolar": [
           {
            "marker": {
             "line": {
              "color": "#E5ECF6",
              "width": 0.5
             }
            },
            "type": "barpolar"
           }
          ],
          "carpet": [
           {
            "aaxis": {
             "endlinecolor": "#2a3f5f",
             "gridcolor": "white",
             "linecolor": "white",
             "minorgridcolor": "white",
             "startlinecolor": "#2a3f5f"
            },
            "baxis": {
             "endlinecolor": "#2a3f5f",
             "gridcolor": "white",
             "linecolor": "white",
             "minorgridcolor": "white",
             "startlinecolor": "#2a3f5f"
            },
            "type": "carpet"
           }
          ],
          "choropleth": [
           {
            "colorbar": {
             "outlinewidth": 0,
             "ticks": ""
            },
            "type": "choropleth"
           }
          ],
          "contour": [
           {
            "colorbar": {
             "outlinewidth": 0,
             "ticks": ""
            },
            "colorscale": [
             [
              0,
              "#0d0887"
             ],
             [
              0.1111111111111111,
              "#46039f"
             ],
             [
              0.2222222222222222,
              "#7201a8"
             ],
             [
              0.3333333333333333,
              "#9c179e"
             ],
             [
              0.4444444444444444,
              "#bd3786"
             ],
             [
              0.5555555555555556,
              "#d8576b"
             ],
             [
              0.6666666666666666,
              "#ed7953"
             ],
             [
              0.7777777777777778,
              "#fb9f3a"
             ],
             [
              0.8888888888888888,
              "#fdca26"
             ],
             [
              1,
              "#f0f921"
             ]
            ],
            "type": "contour"
           }
          ],
          "contourcarpet": [
           {
            "colorbar": {
             "outlinewidth": 0,
             "ticks": ""
            },
            "type": "contourcarpet"
           }
          ],
          "heatmap": [
           {
            "colorbar": {
             "outlinewidth": 0,
             "ticks": ""
            },
            "colorscale": [
             [
              0,
              "#0d0887"
             ],
             [
              0.1111111111111111,
              "#46039f"
             ],
             [
              0.2222222222222222,
              "#7201a8"
             ],
             [
              0.3333333333333333,
              "#9c179e"
             ],
             [
              0.4444444444444444,
              "#bd3786"
             ],
             [
              0.5555555555555556,
              "#d8576b"
             ],
             [
              0.6666666666666666,
              "#ed7953"
             ],
             [
              0.7777777777777778,
              "#fb9f3a"
             ],
             [
              0.8888888888888888,
              "#fdca26"
             ],
             [
              1,
              "#f0f921"
             ]
            ],
            "type": "heatmap"
           }
          ],
          "heatmapgl": [
           {
            "colorbar": {
             "outlinewidth": 0,
             "ticks": ""
            },
            "colorscale": [
             [
              0,
              "#0d0887"
             ],
             [
              0.1111111111111111,
              "#46039f"
             ],
             [
              0.2222222222222222,
              "#7201a8"
             ],
             [
              0.3333333333333333,
              "#9c179e"
             ],
             [
              0.4444444444444444,
              "#bd3786"
             ],
             [
              0.5555555555555556,
              "#d8576b"
             ],
             [
              0.6666666666666666,
              "#ed7953"
             ],
             [
              0.7777777777777778,
              "#fb9f3a"
             ],
             [
              0.8888888888888888,
              "#fdca26"
             ],
             [
              1,
              "#f0f921"
             ]
            ],
            "type": "heatmapgl"
           }
          ],
          "histogram": [
           {
            "marker": {
             "colorbar": {
              "outlinewidth": 0,
              "ticks": ""
             }
            },
            "type": "histogram"
           }
          ],
          "histogram2d": [
           {
            "colorbar": {
             "outlinewidth": 0,
             "ticks": ""
            },
            "colorscale": [
             [
              0,
              "#0d0887"
             ],
             [
              0.1111111111111111,
              "#46039f"
             ],
             [
              0.2222222222222222,
              "#7201a8"
             ],
             [
              0.3333333333333333,
              "#9c179e"
             ],
             [
              0.4444444444444444,
              "#bd3786"
             ],
             [
              0.5555555555555556,
              "#d8576b"
             ],
             [
              0.6666666666666666,
              "#ed7953"
             ],
             [
              0.7777777777777778,
              "#fb9f3a"
             ],
             [
              0.8888888888888888,
              "#fdca26"
             ],
             [
              1,
              "#f0f921"
             ]
            ],
            "type": "histogram2d"
           }
          ],
          "histogram2dcontour": [
           {
            "colorbar": {
             "outlinewidth": 0,
             "ticks": ""
            },
            "colorscale": [
             [
              0,
              "#0d0887"
             ],
             [
              0.1111111111111111,
              "#46039f"
             ],
             [
              0.2222222222222222,
              "#7201a8"
             ],
             [
              0.3333333333333333,
              "#9c179e"
             ],
             [
              0.4444444444444444,
              "#bd3786"
             ],
             [
              0.5555555555555556,
              "#d8576b"
             ],
             [
              0.6666666666666666,
              "#ed7953"
             ],
             [
              0.7777777777777778,
              "#fb9f3a"
             ],
             [
              0.8888888888888888,
              "#fdca26"
             ],
             [
              1,
              "#f0f921"
             ]
            ],
            "type": "histogram2dcontour"
           }
          ],
          "indicator": [
           {
            "delta": {
             "reference": 90
            },
            "type": "indicator"
           }
          ],
          "mesh3d": [
           {
            "colorbar": {
             "outlinewidth": 0,
             "ticks": ""
            },
            "type": "mesh3d"
           }
          ],
          "parcoords": [
           {
            "line": {
             "colorbar": {
              "outlinewidth": 0,
              "ticks": ""
             }
            },
            "type": "parcoords"
           }
          ],
          "pie": [
           {
            "automargin": true,
            "type": "pie"
           }
          ],
          "scatter": [
           {
            "marker": {
             "colorbar": {
              "outlinewidth": 0,
              "ticks": ""
             }
            },
            "type": "scatter"
           }
          ],
          "scatter3d": [
           {
            "line": {
             "colorbar": {
              "outlinewidth": 0,
              "ticks": ""
             }
            },
            "marker": {
             "colorbar": {
              "outlinewidth": 0,
              "ticks": ""
             }
            },
            "type": "scatter3d"
           }
          ],
          "scattercarpet": [
           {
            "marker": {
             "colorbar": {
              "outlinewidth": 0,
              "ticks": ""
             }
            },
            "type": "scattercarpet"
           }
          ],
          "scattergeo": [
           {
            "marker": {
             "colorbar": {
              "outlinewidth": 0,
              "ticks": ""
             }
            },
            "type": "scattergeo"
           }
          ],
          "scattergl": [
           {
            "marker": {
             "colorbar": {
              "outlinewidth": 0,
              "ticks": ""
             }
            },
            "type": "scattergl"
           }
          ],
          "scattermapbox": [
           {
            "marker": {
             "colorbar": {
              "outlinewidth": 0,
              "ticks": ""
             }
            },
            "type": "scattermapbox"
           }
          ],
          "scatterpolar": [
           {
            "marker": {
             "colorbar": {
              "outlinewidth": 0,
              "ticks": ""
             }
            },
            "type": "scatterpolar"
           }
          ],
          "scatterpolargl": [
           {
            "marker": {
             "colorbar": {
              "outlinewidth": 0,
              "ticks": ""
             }
            },
            "type": "scatterpolargl"
           }
          ],
          "scatterternary": [
           {
            "marker": {
             "colorbar": {
              "outlinewidth": 0,
              "ticks": ""
             }
            },
            "type": "scatterternary"
           }
          ],
          "surface": [
           {
            "colorbar": {
             "outlinewidth": 0,
             "ticks": ""
            },
            "colorscale": [
             [
              0,
              "#0d0887"
             ],
             [
              0.1111111111111111,
              "#46039f"
             ],
             [
              0.2222222222222222,
              "#7201a8"
             ],
             [
              0.3333333333333333,
              "#9c179e"
             ],
             [
              0.4444444444444444,
              "#bd3786"
             ],
             [
              0.5555555555555556,
              "#d8576b"
             ],
             [
              0.6666666666666666,
              "#ed7953"
             ],
             [
              0.7777777777777778,
              "#fb9f3a"
             ],
             [
              0.8888888888888888,
              "#fdca26"
             ],
             [
              1,
              "#f0f921"
             ]
            ],
            "type": "surface"
           }
          ],
          "table": [
           {
            "cells": {
             "fill": {
              "color": "#EBF0F8"
             },
             "line": {
              "color": "white"
             }
            },
            "header": {
             "fill": {
              "color": "#C8D4E3"
             },
             "line": {
              "color": "white"
             }
            },
            "type": "table"
           }
          ]
         },
         "layout": {
          "annotationdefaults": {
           "arrowcolor": "#2a3f5f",
           "arrowhead": 0,
           "arrowwidth": 1
          },
          "autotypenumbers": "strict",
          "coloraxis": {
           "colorbar": {
            "outlinewidth": 0,
            "ticks": ""
           }
          },
          "colorscale": {
           "diverging": [
            [
             0,
             "#8e0152"
            ],
            [
             0.1,
             "#c51b7d"
            ],
            [
             0.2,
             "#de77ae"
            ],
            [
             0.3,
             "#f1b6da"
            ],
            [
             0.4,
             "#fde0ef"
            ],
            [
             0.5,
             "#f7f7f7"
            ],
            [
             0.6,
             "#e6f5d0"
            ],
            [
             0.7,
             "#b8e186"
            ],
            [
             0.8,
             "#7fbc41"
            ],
            [
             0.9,
             "#4d9221"
            ],
            [
             1,
             "#276419"
            ]
           ],
           "sequential": [
            [
             0,
             "#0d0887"
            ],
            [
             0.1111111111111111,
             "#46039f"
            ],
            [
             0.2222222222222222,
             "#7201a8"
            ],
            [
             0.3333333333333333,
             "#9c179e"
            ],
            [
             0.4444444444444444,
             "#bd3786"
            ],
            [
             0.5555555555555556,
             "#d8576b"
            ],
            [
             0.6666666666666666,
             "#ed7953"
            ],
            [
             0.7777777777777778,
             "#fb9f3a"
            ],
            [
             0.8888888888888888,
             "#fdca26"
            ],
            [
             1,
             "#f0f921"
            ]
           ],
           "sequentialminus": [
            [
             0,
             "#0d0887"
            ],
            [
             0.1111111111111111,
             "#46039f"
            ],
            [
             0.2222222222222222,
             "#7201a8"
            ],
            [
             0.3333333333333333,
             "#9c179e"
            ],
            [
             0.4444444444444444,
             "#bd3786"
            ],
            [
             0.5555555555555556,
             "#d8576b"
            ],
            [
             0.6666666666666666,
             "#ed7953"
            ],
            [
             0.7777777777777778,
             "#fb9f3a"
            ],
            [
             0.8888888888888888,
             "#fdca26"
            ],
            [
             1,
             "#f0f921"
            ]
           ]
          },
          "colorway": [
           "#636efa",
           "#EF553B",
           "#00cc96",
           "#ab63fa",
           "#FFA15A",
           "#19d3f3",
           "#FF6692",
           "#B6E880",
           "#FF97FF",
           "#FECB52"
          ],
          "font": {
           "color": "#2a3f5f"
          },
          "geo": {
           "bgcolor": "white",
           "lakecolor": "white",
           "landcolor": "#E5ECF6",
           "showlakes": true,
           "showland": true,
           "subunitcolor": "white"
          },
          "hoverlabel": {
           "align": "left"
          },
          "hovermode": "closest",
          "mapbox": {
           "style": "light"
          },
          "paper_bgcolor": "white",
          "plot_bgcolor": "#E5ECF6",
          "polar": {
           "angularaxis": {
            "gridcolor": "white",
            "linecolor": "white",
            "ticks": ""
           },
           "bgcolor": "#E5ECF6",
           "radialaxis": {
            "gridcolor": "white",
            "linecolor": "white",
            "ticks": ""
           }
          },
          "scene": {
           "xaxis": {
            "backgroundcolor": "#E5ECF6",
            "gridcolor": "white",
            "gridwidth": 2,
            "linecolor": "white",
            "showbackground": true,
            "ticks": "",
            "zerolinecolor": "white"
           },
           "yaxis": {
            "backgroundcolor": "#E5ECF6",
            "gridcolor": "white",
            "gridwidth": 2,
            "linecolor": "white",
            "showbackground": true,
            "ticks": "",
            "zerolinecolor": "white"
           },
           "zaxis": {
            "backgroundcolor": "#E5ECF6",
            "gridcolor": "white",
            "gridwidth": 2,
            "linecolor": "white",
            "showbackground": true,
            "ticks": "",
            "zerolinecolor": "white"
           }
          },
          "shapedefaults": {
           "line": {
            "color": "#2a3f5f"
           }
          },
          "ternary": {
           "aaxis": {
            "gridcolor": "white",
            "linecolor": "white",
            "ticks": ""
           },
           "baxis": {
            "gridcolor": "white",
            "linecolor": "white",
            "ticks": ""
           },
           "bgcolor": "#E5ECF6",
           "caxis": {
            "gridcolor": "white",
            "linecolor": "white",
            "ticks": ""
           }
          },
          "title": {
           "x": 0.05
          },
          "xaxis": {
           "automargin": true,
           "gridcolor": "white",
           "linecolor": "white",
           "ticks": "",
           "title": {
            "standoff": 15
           },
           "zerolinecolor": "white",
           "zerolinewidth": 2
          },
          "yaxis": {
           "automargin": true,
           "gridcolor": "white",
           "linecolor": "white",
           "ticks": "",
           "title": {
            "standoff": 15
           },
           "zerolinecolor": "white",
           "zerolinewidth": 2
          }
         }
        }
       }
      },
      "text/html": [
       "<div>                            <div id=\"f4d37c49-00c0-4c8b-b3d7-296e940040bc\" class=\"plotly-graph-div\" style=\"height:525px; width:100%;\"></div>            <script type=\"text/javascript\">                require([\"plotly\"], function(Plotly) {                    window.PLOTLYENV=window.PLOTLYENV || {};                                    if (document.getElementById(\"f4d37c49-00c0-4c8b-b3d7-296e940040bc\")) {                    Plotly.newPlot(                        \"f4d37c49-00c0-4c8b-b3d7-296e940040bc\",                        [{\"domain\": {\"column\": 0, \"row\": 0}, \"gauge\": {\"axis\": {\"visible\": false}}, \"title\": {\"text\": \"T-Value\"}, \"type\": \"indicator\", \"value\": 1.123599855845671}, {\"domain\": {\"column\": 1, \"row\": 0}, \"gauge\": {\"axis\": {\"visible\": false}}, \"title\": {\"text\": \"Critical Value\"}, \"type\": \"indicator\", \"value\": 2.048407141795244}],                        {\"grid\": {\"columns\": 2, \"pattern\": \"independent\", \"rows\": 1}, \"template\": {\"data\": {\"bar\": [{\"error_x\": {\"color\": \"#2a3f5f\"}, \"error_y\": {\"color\": \"#2a3f5f\"}, \"marker\": {\"line\": {\"color\": \"#E5ECF6\", \"width\": 0.5}}, \"type\": \"bar\"}], \"barpolar\": [{\"marker\": {\"line\": {\"color\": \"#E5ECF6\", \"width\": 0.5}}, \"type\": \"barpolar\"}], \"carpet\": [{\"aaxis\": {\"endlinecolor\": \"#2a3f5f\", \"gridcolor\": \"white\", \"linecolor\": \"white\", \"minorgridcolor\": \"white\", \"startlinecolor\": \"#2a3f5f\"}, \"baxis\": {\"endlinecolor\": \"#2a3f5f\", \"gridcolor\": \"white\", \"linecolor\": \"white\", \"minorgridcolor\": \"white\", \"startlinecolor\": \"#2a3f5f\"}, \"type\": \"carpet\"}], \"choropleth\": [{\"colorbar\": {\"outlinewidth\": 0, \"ticks\": \"\"}, \"type\": \"choropleth\"}], \"contour\": [{\"colorbar\": {\"outlinewidth\": 0, \"ticks\": \"\"}, \"colorscale\": [[0.0, \"#0d0887\"], [0.1111111111111111, \"#46039f\"], [0.2222222222222222, \"#7201a8\"], [0.3333333333333333, \"#9c179e\"], [0.4444444444444444, \"#bd3786\"], [0.5555555555555556, \"#d8576b\"], [0.6666666666666666, \"#ed7953\"], [0.7777777777777778, \"#fb9f3a\"], [0.8888888888888888, \"#fdca26\"], [1.0, \"#f0f921\"]], \"type\": \"contour\"}], \"contourcarpet\": [{\"colorbar\": {\"outlinewidth\": 0, \"ticks\": \"\"}, \"type\": \"contourcarpet\"}], \"heatmap\": [{\"colorbar\": {\"outlinewidth\": 0, \"ticks\": \"\"}, \"colorscale\": [[0.0, \"#0d0887\"], [0.1111111111111111, \"#46039f\"], [0.2222222222222222, \"#7201a8\"], [0.3333333333333333, \"#9c179e\"], [0.4444444444444444, \"#bd3786\"], [0.5555555555555556, \"#d8576b\"], [0.6666666666666666, \"#ed7953\"], [0.7777777777777778, \"#fb9f3a\"], [0.8888888888888888, \"#fdca26\"], [1.0, \"#f0f921\"]], \"type\": \"heatmap\"}], \"heatmapgl\": [{\"colorbar\": {\"outlinewidth\": 0, \"ticks\": \"\"}, \"colorscale\": [[0.0, \"#0d0887\"], [0.1111111111111111, \"#46039f\"], [0.2222222222222222, \"#7201a8\"], [0.3333333333333333, \"#9c179e\"], [0.4444444444444444, \"#bd3786\"], [0.5555555555555556, \"#d8576b\"], [0.6666666666666666, \"#ed7953\"], [0.7777777777777778, \"#fb9f3a\"], [0.8888888888888888, \"#fdca26\"], [1.0, \"#f0f921\"]], \"type\": \"heatmapgl\"}], \"histogram\": [{\"marker\": {\"colorbar\": {\"outlinewidth\": 0, \"ticks\": \"\"}}, \"type\": \"histogram\"}], \"histogram2d\": [{\"colorbar\": {\"outlinewidth\": 0, \"ticks\": \"\"}, \"colorscale\": [[0.0, \"#0d0887\"], [0.1111111111111111, \"#46039f\"], [0.2222222222222222, \"#7201a8\"], [0.3333333333333333, \"#9c179e\"], [0.4444444444444444, \"#bd3786\"], [0.5555555555555556, \"#d8576b\"], [0.6666666666666666, \"#ed7953\"], [0.7777777777777778, \"#fb9f3a\"], [0.8888888888888888, \"#fdca26\"], [1.0, \"#f0f921\"]], \"type\": \"histogram2d\"}], \"histogram2dcontour\": [{\"colorbar\": {\"outlinewidth\": 0, \"ticks\": \"\"}, \"colorscale\": [[0.0, \"#0d0887\"], [0.1111111111111111, \"#46039f\"], [0.2222222222222222, \"#7201a8\"], [0.3333333333333333, \"#9c179e\"], [0.4444444444444444, \"#bd3786\"], [0.5555555555555556, \"#d8576b\"], [0.6666666666666666, \"#ed7953\"], [0.7777777777777778, \"#fb9f3a\"], [0.8888888888888888, \"#fdca26\"], [1.0, \"#f0f921\"]], \"type\": \"histogram2dcontour\"}], \"indicator\": [{\"delta\": {\"reference\": 90}, \"type\": \"indicator\"}], \"mesh3d\": [{\"colorbar\": {\"outlinewidth\": 0, \"ticks\": \"\"}, \"type\": \"mesh3d\"}], \"parcoords\": [{\"line\": {\"colorbar\": {\"outlinewidth\": 0, \"ticks\": \"\"}}, \"type\": \"parcoords\"}], \"pie\": [{\"automargin\": true, \"type\": \"pie\"}], \"scatter\": [{\"marker\": {\"colorbar\": {\"outlinewidth\": 0, \"ticks\": \"\"}}, \"type\": \"scatter\"}], \"scatter3d\": [{\"line\": {\"colorbar\": {\"outlinewidth\": 0, \"ticks\": \"\"}}, \"marker\": {\"colorbar\": {\"outlinewidth\": 0, \"ticks\": \"\"}}, \"type\": \"scatter3d\"}], \"scattercarpet\": [{\"marker\": {\"colorbar\": {\"outlinewidth\": 0, \"ticks\": \"\"}}, \"type\": \"scattercarpet\"}], \"scattergeo\": [{\"marker\": {\"colorbar\": {\"outlinewidth\": 0, \"ticks\": \"\"}}, \"type\": \"scattergeo\"}], \"scattergl\": [{\"marker\": {\"colorbar\": {\"outlinewidth\": 0, \"ticks\": \"\"}}, \"type\": \"scattergl\"}], \"scattermapbox\": [{\"marker\": {\"colorbar\": {\"outlinewidth\": 0, \"ticks\": \"\"}}, \"type\": \"scattermapbox\"}], \"scatterpolar\": [{\"marker\": {\"colorbar\": {\"outlinewidth\": 0, \"ticks\": \"\"}}, \"type\": \"scatterpolar\"}], \"scatterpolargl\": [{\"marker\": {\"colorbar\": {\"outlinewidth\": 0, \"ticks\": \"\"}}, \"type\": \"scatterpolargl\"}], \"scatterternary\": [{\"marker\": {\"colorbar\": {\"outlinewidth\": 0, \"ticks\": \"\"}}, \"type\": \"scatterternary\"}], \"surface\": [{\"colorbar\": {\"outlinewidth\": 0, \"ticks\": \"\"}, \"colorscale\": [[0.0, \"#0d0887\"], [0.1111111111111111, \"#46039f\"], [0.2222222222222222, \"#7201a8\"], [0.3333333333333333, \"#9c179e\"], [0.4444444444444444, \"#bd3786\"], [0.5555555555555556, \"#d8576b\"], [0.6666666666666666, \"#ed7953\"], [0.7777777777777778, \"#fb9f3a\"], [0.8888888888888888, \"#fdca26\"], [1.0, \"#f0f921\"]], \"type\": \"surface\"}], \"table\": [{\"cells\": {\"fill\": {\"color\": \"#EBF0F8\"}, \"line\": {\"color\": \"white\"}}, \"header\": {\"fill\": {\"color\": \"#C8D4E3\"}, \"line\": {\"color\": \"white\"}}, \"type\": \"table\"}]}, \"layout\": {\"annotationdefaults\": {\"arrowcolor\": \"#2a3f5f\", \"arrowhead\": 0, \"arrowwidth\": 1}, \"autotypenumbers\": \"strict\", \"coloraxis\": {\"colorbar\": {\"outlinewidth\": 0, \"ticks\": \"\"}}, \"colorscale\": {\"diverging\": [[0, \"#8e0152\"], [0.1, \"#c51b7d\"], [0.2, \"#de77ae\"], [0.3, \"#f1b6da\"], [0.4, \"#fde0ef\"], [0.5, \"#f7f7f7\"], [0.6, \"#e6f5d0\"], [0.7, \"#b8e186\"], [0.8, \"#7fbc41\"], [0.9, \"#4d9221\"], [1, \"#276419\"]], \"sequential\": [[0.0, \"#0d0887\"], [0.1111111111111111, \"#46039f\"], [0.2222222222222222, \"#7201a8\"], [0.3333333333333333, \"#9c179e\"], [0.4444444444444444, \"#bd3786\"], [0.5555555555555556, \"#d8576b\"], [0.6666666666666666, \"#ed7953\"], [0.7777777777777778, \"#fb9f3a\"], [0.8888888888888888, \"#fdca26\"], [1.0, \"#f0f921\"]], \"sequentialminus\": [[0.0, \"#0d0887\"], [0.1111111111111111, \"#46039f\"], [0.2222222222222222, \"#7201a8\"], [0.3333333333333333, \"#9c179e\"], [0.4444444444444444, \"#bd3786\"], [0.5555555555555556, \"#d8576b\"], [0.6666666666666666, \"#ed7953\"], [0.7777777777777778, \"#fb9f3a\"], [0.8888888888888888, \"#fdca26\"], [1.0, \"#f0f921\"]]}, \"colorway\": [\"#636efa\", \"#EF553B\", \"#00cc96\", \"#ab63fa\", \"#FFA15A\", \"#19d3f3\", \"#FF6692\", \"#B6E880\", \"#FF97FF\", \"#FECB52\"], \"font\": {\"color\": \"#2a3f5f\"}, \"geo\": {\"bgcolor\": \"white\", \"lakecolor\": \"white\", \"landcolor\": \"#E5ECF6\", \"showlakes\": true, \"showland\": true, \"subunitcolor\": \"white\"}, \"hoverlabel\": {\"align\": \"left\"}, \"hovermode\": \"closest\", \"mapbox\": {\"style\": \"light\"}, \"paper_bgcolor\": \"white\", \"plot_bgcolor\": \"#E5ECF6\", \"polar\": {\"angularaxis\": {\"gridcolor\": \"white\", \"linecolor\": \"white\", \"ticks\": \"\"}, \"bgcolor\": \"#E5ECF6\", \"radialaxis\": {\"gridcolor\": \"white\", \"linecolor\": \"white\", \"ticks\": \"\"}}, \"scene\": {\"xaxis\": {\"backgroundcolor\": \"#E5ECF6\", \"gridcolor\": \"white\", \"gridwidth\": 2, \"linecolor\": \"white\", \"showbackground\": true, \"ticks\": \"\", \"zerolinecolor\": \"white\"}, \"yaxis\": {\"backgroundcolor\": \"#E5ECF6\", \"gridcolor\": \"white\", \"gridwidth\": 2, \"linecolor\": \"white\", \"showbackground\": true, \"ticks\": \"\", \"zerolinecolor\": \"white\"}, \"zaxis\": {\"backgroundcolor\": \"#E5ECF6\", \"gridcolor\": \"white\", \"gridwidth\": 2, \"linecolor\": \"white\", \"showbackground\": true, \"ticks\": \"\", \"zerolinecolor\": \"white\"}}, \"shapedefaults\": {\"line\": {\"color\": \"#2a3f5f\"}}, \"ternary\": {\"aaxis\": {\"gridcolor\": \"white\", \"linecolor\": \"white\", \"ticks\": \"\"}, \"baxis\": {\"gridcolor\": \"white\", \"linecolor\": \"white\", \"ticks\": \"\"}, \"bgcolor\": \"#E5ECF6\", \"caxis\": {\"gridcolor\": \"white\", \"linecolor\": \"white\", \"ticks\": \"\"}}, \"title\": {\"x\": 0.05}, \"xaxis\": {\"automargin\": true, \"gridcolor\": \"white\", \"linecolor\": \"white\", \"ticks\": \"\", \"title\": {\"standoff\": 15}, \"zerolinecolor\": \"white\", \"zerolinewidth\": 2}, \"yaxis\": {\"automargin\": true, \"gridcolor\": \"white\", \"linecolor\": \"white\", \"ticks\": \"\", \"title\": {\"standoff\": 15}, \"zerolinecolor\": \"white\", \"zerolinewidth\": 2}}}},                        {\"responsive\": true}                    ).then(function(){\n",
       "                            \n",
       "var gd = document.getElementById('f4d37c49-00c0-4c8b-b3d7-296e940040bc');\n",
       "var x = new MutationObserver(function (mutations, observer) {{\n",
       "        var display = window.getComputedStyle(gd).display;\n",
       "        if (!display || display === 'none') {{\n",
       "            console.log([gd, 'removed!']);\n",
       "            Plotly.purge(gd);\n",
       "            observer.disconnect();\n",
       "        }}\n",
       "}});\n",
       "\n",
       "// Listen for the removal of the full notebook cells\n",
       "var notebookContainer = gd.closest('#notebook-container');\n",
       "if (notebookContainer) {{\n",
       "    x.observe(notebookContainer, {childList: true});\n",
       "}}\n",
       "\n",
       "// Listen for the clearing of the current output cell\n",
       "var outputEl = gd.closest('.output');\n",
       "if (outputEl) {{\n",
       "    x.observe(outputEl, {childList: true});\n",
       "}}\n",
       "\n",
       "                        })                };                });            </script>        </div>"
      ]
     },
     "metadata": {},
     "output_type": "display_data"
    },
    {
     "data": {
      "application/javascript": [
       "\n",
       "            setTimeout(function() {\n",
       "                var nbb_cell_id = 221;\n",
       "                var nbb_unformatted_code = \"fig = go.Figure()\\n\\nfig.add_trace(go.Indicator(\\n    value = t_value,\\n    title = \\\"T-Value\\\",\\n    gauge = {\\n        'axis': {'visible': False}},\\n    domain = {'row': 0, 'column': 0}))\\nfig.add_trace(go.Indicator(\\n    value = critical_value,\\n    title=\\\"Critical Value\\\",\\n    gauge = {\\n        'axis': {'visible': False}},\\n    domain = {'row': 0, 'column': 1}))\\n\\nfig.update_layout(\\n    grid = {'rows': 1, 'columns': 2, 'pattern': \\\"independent\\\"},\\n    template = {'data' : {'indicator': [{\\n        'delta' : {'reference': 90}}]\\n                         }})\";\n",
       "                var nbb_formatted_code = \"fig = go.Figure()\\n\\nfig.add_trace(\\n    go.Indicator(\\n        value=t_value,\\n        title=\\\"T-Value\\\",\\n        gauge={\\\"axis\\\": {\\\"visible\\\": False}},\\n        domain={\\\"row\\\": 0, \\\"column\\\": 0},\\n    )\\n)\\nfig.add_trace(\\n    go.Indicator(\\n        value=critical_value,\\n        title=\\\"Critical Value\\\",\\n        gauge={\\\"axis\\\": {\\\"visible\\\": False}},\\n        domain={\\\"row\\\": 0, \\\"column\\\": 1},\\n    )\\n)\\n\\nfig.update_layout(\\n    grid={\\\"rows\\\": 1, \\\"columns\\\": 2, \\\"pattern\\\": \\\"independent\\\"},\\n    template={\\\"data\\\": {\\\"indicator\\\": [{\\\"delta\\\": {\\\"reference\\\": 90}}]}},\\n)\";\n",
       "                var nbb_cells = Jupyter.notebook.get_cells();\n",
       "                for (var i = 0; i < nbb_cells.length; ++i) {\n",
       "                    if (nbb_cells[i].input_prompt_number == nbb_cell_id) {\n",
       "                        if (nbb_cells[i].get_text() == nbb_unformatted_code) {\n",
       "                             nbb_cells[i].set_text(nbb_formatted_code);\n",
       "                        }\n",
       "                        break;\n",
       "                    }\n",
       "                }\n",
       "            }, 500);\n",
       "            "
      ],
      "text/plain": [
       "<IPython.core.display.Javascript object>"
      ]
     },
     "metadata": {},
     "output_type": "display_data"
    }
   ],
   "source": [
    "fig = go.Figure()\n",
    "\n",
    "fig.add_trace(\n",
    "    go.Indicator(\n",
    "        value=t_value,\n",
    "        title=\"T-Value\",\n",
    "        gauge={\"axis\": {\"visible\": False}},\n",
    "        domain={\"row\": 0, \"column\": 0},\n",
    "    )\n",
    ")\n",
    "fig.add_trace(\n",
    "    go.Indicator(\n",
    "        value=critical_value,\n",
    "        title=\"Critical Value\",\n",
    "        gauge={\"axis\": {\"visible\": False}},\n",
    "        domain={\"row\": 0, \"column\": 1},\n",
    "    )\n",
    ")\n",
    "\n",
    "fig.update_layout(\n",
    "    grid={\"rows\": 1, \"columns\": 2, \"pattern\": \"independent\"},\n",
    "    template={\"data\": {\"indicator\": [{\"delta\": {\"reference\": 90}}]}},\n",
    ")"
   ]
  },
  {
   "cell_type": "markdown",
   "metadata": {},
   "source": [
    "#### **Conclusion:**\n",
    "**The t-value is less than the critical value, therefore, the null hypothesis can not be rejected.**"
   ]
  },
  {
   "cell_type": "markdown",
   "metadata": {},
   "source": [
    "### 8.3 Comparing Interest in Data\n",
    "- **Null Hypothesis: Men and females equally enjoy working with data**\n",
    "- **Hypothesis: Men enjoy working with data more than females**"
   ]
  },
  {
   "cell_type": "code",
   "execution_count": 222,
   "metadata": {},
   "outputs": [
    {
     "name": "stdout",
     "output_type": "stream",
     "text": [
      "Males proportion who enjoy data:  97.0  Females proportion:  75.0\n"
     ]
    },
    {
     "data": {
      "application/javascript": [
       "\n",
       "            setTimeout(function() {\n",
       "                var nbb_cell_id = 222;\n",
       "                var nbb_unformatted_code = \"males = (file[\\\"Gender\\\"]== \\\"Man\\\").sum()\\nfemales = (file[\\\"Gender\\\"]== \\\"Woman\\\").sum()\\n\\nmales_enj_data = ((file[\\\"Gender\\\"]== \\\"Man\\\") & ((file[\\\"Enjoy_data\\\"] == \\\"Agree\\\") | \\n                                             (file[\\\"Enjoy_data\\\"] == \\\"Completely Agree\\\"))).sum()\\nfemales_enj_data = ((file[\\\"Gender\\\"]== \\\"Woman\\\") & ((file[\\\"Enjoy_data\\\"] == \\\"Agree\\\") | \\n                                                 (file[\\\"Enjoy_data\\\"] == \\\"Completely Agree\\\"))).sum()\\n\\nproportion_males_enj = round(males_enj_data/males, 2)*100\\nproportion_females_enj = round(females_enj_data/females, 2)*100\\nprint(\\\"Males proportion who enjoy data: \\\", proportion_males_enj,\\n      \\\" Females proportion: \\\", proportion_females_enj)\";\n",
       "                var nbb_formatted_code = \"males = (file[\\\"Gender\\\"] == \\\"Man\\\").sum()\\nfemales = (file[\\\"Gender\\\"] == \\\"Woman\\\").sum()\\n\\nmales_enj_data = (\\n    (file[\\\"Gender\\\"] == \\\"Man\\\")\\n    & ((file[\\\"Enjoy_data\\\"] == \\\"Agree\\\") | (file[\\\"Enjoy_data\\\"] == \\\"Completely Agree\\\"))\\n).sum()\\nfemales_enj_data = (\\n    (file[\\\"Gender\\\"] == \\\"Woman\\\")\\n    & ((file[\\\"Enjoy_data\\\"] == \\\"Agree\\\") | (file[\\\"Enjoy_data\\\"] == \\\"Completely Agree\\\"))\\n).sum()\\n\\nproportion_males_enj = round(males_enj_data / males, 2) * 100\\nproportion_females_enj = round(females_enj_data / females, 2) * 100\\nprint(\\n    \\\"Males proportion who enjoy data: \\\",\\n    proportion_males_enj,\\n    \\\" Females proportion: \\\",\\n    proportion_females_enj,\\n)\";\n",
       "                var nbb_cells = Jupyter.notebook.get_cells();\n",
       "                for (var i = 0; i < nbb_cells.length; ++i) {\n",
       "                    if (nbb_cells[i].input_prompt_number == nbb_cell_id) {\n",
       "                        if (nbb_cells[i].get_text() == nbb_unformatted_code) {\n",
       "                             nbb_cells[i].set_text(nbb_formatted_code);\n",
       "                        }\n",
       "                        break;\n",
       "                    }\n",
       "                }\n",
       "            }, 500);\n",
       "            "
      ],
      "text/plain": [
       "<IPython.core.display.Javascript object>"
      ]
     },
     "metadata": {},
     "output_type": "display_data"
    }
   ],
   "source": [
    "males = (file[\"Gender\"] == \"Man\").sum()\n",
    "females = (file[\"Gender\"] == \"Woman\").sum()\n",
    "\n",
    "males_enj_data = (\n",
    "    (file[\"Gender\"] == \"Man\")\n",
    "    & ((file[\"Enjoy_data\"] == \"Agree\") | (file[\"Enjoy_data\"] == \"Completely Agree\"))\n",
    ").sum()\n",
    "females_enj_data = (\n",
    "    (file[\"Gender\"] == \"Woman\")\n",
    "    & ((file[\"Enjoy_data\"] == \"Agree\") | (file[\"Enjoy_data\"] == \"Completely Agree\"))\n",
    ").sum()\n",
    "\n",
    "proportion_males_enj = round(males_enj_data / males, 2) * 100\n",
    "proportion_females_enj = round(females_enj_data / females, 2) * 100\n",
    "print(\n",
    "    \"Males proportion who enjoy data: \",\n",
    "    proportion_males_enj,\n",
    "    \" Females proportion: \",\n",
    "    proportion_females_enj,\n",
    ")"
   ]
  },
  {
   "cell_type": "code",
   "execution_count": 223,
   "metadata": {},
   "outputs": [
    {
     "name": "stdout",
     "output_type": "stream",
     "text": [
      "Males proportion who are excited to work with data:  85.0  Females proportion:  68.0\n"
     ]
    },
    {
     "data": {
      "application/javascript": [
       "\n",
       "            setTimeout(function() {\n",
       "                var nbb_cell_id = 223;\n",
       "                var nbb_unformatted_code = \"males_exc_data = ((file[\\\"Gender\\\"]== \\\"Man\\\") & ((file[\\\"Excited_data\\\"] == \\\"Agree\\\") | \\n                                             (file[\\\"Excited_data\\\"] == \\\"Completely Agree\\\"))).sum()\\nfemales_exc_data = ((file[\\\"Gender\\\"]== \\\"Woman\\\") & ((file[\\\"Excited_data\\\"] == \\\"Agree\\\") | \\n                                                 (file[\\\"Excited_data\\\"] == \\\"Completely Agree\\\"))).sum()\\n\\nproportion_males_exc = round(males_exc_data/males, 2)*100\\nproportion_females_exc = round(females_exc_data/females, 2)*100\\nprint(\\\"Males proportion who are excited to work with data: \\\", proportion_males_exc,\\n      \\\" Females proportion: \\\", proportion_females_exc)\";\n",
       "                var nbb_formatted_code = \"males_exc_data = (\\n    (file[\\\"Gender\\\"] == \\\"Man\\\")\\n    & ((file[\\\"Excited_data\\\"] == \\\"Agree\\\") | (file[\\\"Excited_data\\\"] == \\\"Completely Agree\\\"))\\n).sum()\\nfemales_exc_data = (\\n    (file[\\\"Gender\\\"] == \\\"Woman\\\")\\n    & ((file[\\\"Excited_data\\\"] == \\\"Agree\\\") | (file[\\\"Excited_data\\\"] == \\\"Completely Agree\\\"))\\n).sum()\\n\\nproportion_males_exc = round(males_exc_data / males, 2) * 100\\nproportion_females_exc = round(females_exc_data / females, 2) * 100\\nprint(\\n    \\\"Males proportion who are excited to work with data: \\\",\\n    proportion_males_exc,\\n    \\\" Females proportion: \\\",\\n    proportion_females_exc,\\n)\";\n",
       "                var nbb_cells = Jupyter.notebook.get_cells();\n",
       "                for (var i = 0; i < nbb_cells.length; ++i) {\n",
       "                    if (nbb_cells[i].input_prompt_number == nbb_cell_id) {\n",
       "                        if (nbb_cells[i].get_text() == nbb_unformatted_code) {\n",
       "                             nbb_cells[i].set_text(nbb_formatted_code);\n",
       "                        }\n",
       "                        break;\n",
       "                    }\n",
       "                }\n",
       "            }, 500);\n",
       "            "
      ],
      "text/plain": [
       "<IPython.core.display.Javascript object>"
      ]
     },
     "metadata": {},
     "output_type": "display_data"
    }
   ],
   "source": [
    "males_exc_data = (\n",
    "    (file[\"Gender\"] == \"Man\")\n",
    "    & ((file[\"Excited_data\"] == \"Agree\") | (file[\"Excited_data\"] == \"Completely Agree\"))\n",
    ").sum()\n",
    "females_exc_data = (\n",
    "    (file[\"Gender\"] == \"Woman\")\n",
    "    & ((file[\"Excited_data\"] == \"Agree\") | (file[\"Excited_data\"] == \"Completely Agree\"))\n",
    ").sum()\n",
    "\n",
    "proportion_males_exc = round(males_exc_data / males, 2) * 100\n",
    "proportion_females_exc = round(females_exc_data / females, 2) * 100\n",
    "print(\n",
    "    \"Males proportion who are excited to work with data: \",\n",
    "    proportion_males_exc,\n",
    "    \" Females proportion: \",\n",
    "    proportion_females_exc,\n",
    ")"
   ]
  },
  {
   "cell_type": "markdown",
   "metadata": {},
   "source": [
    "#### Displaying the data with Indicators"
   ]
  },
  {
   "cell_type": "code",
   "execution_count": 225,
   "metadata": {},
   "outputs": [
    {
     "data": {
      "application/vnd.plotly.v1+json": {
       "config": {
        "plotlyServerURL": "https://plot.ly"
       },
       "data": [
        {
         "domain": {
          "column": 0,
          "row": 0
         },
         "gauge": {
          "axis": {
           "visible": false
          }
         },
         "number": {
          "suffix": "%"
         },
         "title": {
          "text": "Males, enjoy working with data"
         },
         "type": "indicator",
         "value": 97
        },
        {
         "domain": {
          "column": 1,
          "row": 0
         },
         "gauge": {
          "axis": {
           "visible": false
          }
         },
         "number": {
          "suffix": "%"
         },
         "title": {
          "text": "Females, enjoy working with data"
         },
         "type": "indicator",
         "value": 75
        },
        {
         "domain": {
          "column": 0,
          "row": 1
         },
         "gauge": {
          "axis": {
           "visible": false
          }
         },
         "number": {
          "suffix": "%"
         },
         "title": {
          "text": "Males, excited to work with data"
         },
         "type": "indicator",
         "value": 85
        },
        {
         "domain": {
          "column": 1,
          "row": 1
         },
         "gauge": {
          "axis": {
           "visible": false
          }
         },
         "number": {
          "suffix": "%"
         },
         "title": {
          "text": "Females, excited to work with data"
         },
         "type": "indicator",
         "value": 68
        }
       ],
       "layout": {
        "grid": {
         "columns": 2,
         "pattern": "independent",
         "rows": 2
        },
        "template": {
         "data": {
          "bar": [
           {
            "error_x": {
             "color": "#2a3f5f"
            },
            "error_y": {
             "color": "#2a3f5f"
            },
            "marker": {
             "line": {
              "color": "#E5ECF6",
              "width": 0.5
             }
            },
            "type": "bar"
           }
          ],
          "barpolar": [
           {
            "marker": {
             "line": {
              "color": "#E5ECF6",
              "width": 0.5
             }
            },
            "type": "barpolar"
           }
          ],
          "carpet": [
           {
            "aaxis": {
             "endlinecolor": "#2a3f5f",
             "gridcolor": "white",
             "linecolor": "white",
             "minorgridcolor": "white",
             "startlinecolor": "#2a3f5f"
            },
            "baxis": {
             "endlinecolor": "#2a3f5f",
             "gridcolor": "white",
             "linecolor": "white",
             "minorgridcolor": "white",
             "startlinecolor": "#2a3f5f"
            },
            "type": "carpet"
           }
          ],
          "choropleth": [
           {
            "colorbar": {
             "outlinewidth": 0,
             "ticks": ""
            },
            "type": "choropleth"
           }
          ],
          "contour": [
           {
            "colorbar": {
             "outlinewidth": 0,
             "ticks": ""
            },
            "colorscale": [
             [
              0,
              "#0d0887"
             ],
             [
              0.1111111111111111,
              "#46039f"
             ],
             [
              0.2222222222222222,
              "#7201a8"
             ],
             [
              0.3333333333333333,
              "#9c179e"
             ],
             [
              0.4444444444444444,
              "#bd3786"
             ],
             [
              0.5555555555555556,
              "#d8576b"
             ],
             [
              0.6666666666666666,
              "#ed7953"
             ],
             [
              0.7777777777777778,
              "#fb9f3a"
             ],
             [
              0.8888888888888888,
              "#fdca26"
             ],
             [
              1,
              "#f0f921"
             ]
            ],
            "type": "contour"
           }
          ],
          "contourcarpet": [
           {
            "colorbar": {
             "outlinewidth": 0,
             "ticks": ""
            },
            "type": "contourcarpet"
           }
          ],
          "heatmap": [
           {
            "colorbar": {
             "outlinewidth": 0,
             "ticks": ""
            },
            "colorscale": [
             [
              0,
              "#0d0887"
             ],
             [
              0.1111111111111111,
              "#46039f"
             ],
             [
              0.2222222222222222,
              "#7201a8"
             ],
             [
              0.3333333333333333,
              "#9c179e"
             ],
             [
              0.4444444444444444,
              "#bd3786"
             ],
             [
              0.5555555555555556,
              "#d8576b"
             ],
             [
              0.6666666666666666,
              "#ed7953"
             ],
             [
              0.7777777777777778,
              "#fb9f3a"
             ],
             [
              0.8888888888888888,
              "#fdca26"
             ],
             [
              1,
              "#f0f921"
             ]
            ],
            "type": "heatmap"
           }
          ],
          "heatmapgl": [
           {
            "colorbar": {
             "outlinewidth": 0,
             "ticks": ""
            },
            "colorscale": [
             [
              0,
              "#0d0887"
             ],
             [
              0.1111111111111111,
              "#46039f"
             ],
             [
              0.2222222222222222,
              "#7201a8"
             ],
             [
              0.3333333333333333,
              "#9c179e"
             ],
             [
              0.4444444444444444,
              "#bd3786"
             ],
             [
              0.5555555555555556,
              "#d8576b"
             ],
             [
              0.6666666666666666,
              "#ed7953"
             ],
             [
              0.7777777777777778,
              "#fb9f3a"
             ],
             [
              0.8888888888888888,
              "#fdca26"
             ],
             [
              1,
              "#f0f921"
             ]
            ],
            "type": "heatmapgl"
           }
          ],
          "histogram": [
           {
            "marker": {
             "colorbar": {
              "outlinewidth": 0,
              "ticks": ""
             }
            },
            "type": "histogram"
           }
          ],
          "histogram2d": [
           {
            "colorbar": {
             "outlinewidth": 0,
             "ticks": ""
            },
            "colorscale": [
             [
              0,
              "#0d0887"
             ],
             [
              0.1111111111111111,
              "#46039f"
             ],
             [
              0.2222222222222222,
              "#7201a8"
             ],
             [
              0.3333333333333333,
              "#9c179e"
             ],
             [
              0.4444444444444444,
              "#bd3786"
             ],
             [
              0.5555555555555556,
              "#d8576b"
             ],
             [
              0.6666666666666666,
              "#ed7953"
             ],
             [
              0.7777777777777778,
              "#fb9f3a"
             ],
             [
              0.8888888888888888,
              "#fdca26"
             ],
             [
              1,
              "#f0f921"
             ]
            ],
            "type": "histogram2d"
           }
          ],
          "histogram2dcontour": [
           {
            "colorbar": {
             "outlinewidth": 0,
             "ticks": ""
            },
            "colorscale": [
             [
              0,
              "#0d0887"
             ],
             [
              0.1111111111111111,
              "#46039f"
             ],
             [
              0.2222222222222222,
              "#7201a8"
             ],
             [
              0.3333333333333333,
              "#9c179e"
             ],
             [
              0.4444444444444444,
              "#bd3786"
             ],
             [
              0.5555555555555556,
              "#d8576b"
             ],
             [
              0.6666666666666666,
              "#ed7953"
             ],
             [
              0.7777777777777778,
              "#fb9f3a"
             ],
             [
              0.8888888888888888,
              "#fdca26"
             ],
             [
              1,
              "#f0f921"
             ]
            ],
            "type": "histogram2dcontour"
           }
          ],
          "indicator": [
           {
            "delta": {
             "reference": 90
            },
            "type": "indicator"
           }
          ],
          "mesh3d": [
           {
            "colorbar": {
             "outlinewidth": 0,
             "ticks": ""
            },
            "type": "mesh3d"
           }
          ],
          "parcoords": [
           {
            "line": {
             "colorbar": {
              "outlinewidth": 0,
              "ticks": ""
             }
            },
            "type": "parcoords"
           }
          ],
          "pie": [
           {
            "automargin": true,
            "type": "pie"
           }
          ],
          "scatter": [
           {
            "marker": {
             "colorbar": {
              "outlinewidth": 0,
              "ticks": ""
             }
            },
            "type": "scatter"
           }
          ],
          "scatter3d": [
           {
            "line": {
             "colorbar": {
              "outlinewidth": 0,
              "ticks": ""
             }
            },
            "marker": {
             "colorbar": {
              "outlinewidth": 0,
              "ticks": ""
             }
            },
            "type": "scatter3d"
           }
          ],
          "scattercarpet": [
           {
            "marker": {
             "colorbar": {
              "outlinewidth": 0,
              "ticks": ""
             }
            },
            "type": "scattercarpet"
           }
          ],
          "scattergeo": [
           {
            "marker": {
             "colorbar": {
              "outlinewidth": 0,
              "ticks": ""
             }
            },
            "type": "scattergeo"
           }
          ],
          "scattergl": [
           {
            "marker": {
             "colorbar": {
              "outlinewidth": 0,
              "ticks": ""
             }
            },
            "type": "scattergl"
           }
          ],
          "scattermapbox": [
           {
            "marker": {
             "colorbar": {
              "outlinewidth": 0,
              "ticks": ""
             }
            },
            "type": "scattermapbox"
           }
          ],
          "scatterpolar": [
           {
            "marker": {
             "colorbar": {
              "outlinewidth": 0,
              "ticks": ""
             }
            },
            "type": "scatterpolar"
           }
          ],
          "scatterpolargl": [
           {
            "marker": {
             "colorbar": {
              "outlinewidth": 0,
              "ticks": ""
             }
            },
            "type": "scatterpolargl"
           }
          ],
          "scatterternary": [
           {
            "marker": {
             "colorbar": {
              "outlinewidth": 0,
              "ticks": ""
             }
            },
            "type": "scatterternary"
           }
          ],
          "surface": [
           {
            "colorbar": {
             "outlinewidth": 0,
             "ticks": ""
            },
            "colorscale": [
             [
              0,
              "#0d0887"
             ],
             [
              0.1111111111111111,
              "#46039f"
             ],
             [
              0.2222222222222222,
              "#7201a8"
             ],
             [
              0.3333333333333333,
              "#9c179e"
             ],
             [
              0.4444444444444444,
              "#bd3786"
             ],
             [
              0.5555555555555556,
              "#d8576b"
             ],
             [
              0.6666666666666666,
              "#ed7953"
             ],
             [
              0.7777777777777778,
              "#fb9f3a"
             ],
             [
              0.8888888888888888,
              "#fdca26"
             ],
             [
              1,
              "#f0f921"
             ]
            ],
            "type": "surface"
           }
          ],
          "table": [
           {
            "cells": {
             "fill": {
              "color": "#EBF0F8"
             },
             "line": {
              "color": "white"
             }
            },
            "header": {
             "fill": {
              "color": "#C8D4E3"
             },
             "line": {
              "color": "white"
             }
            },
            "type": "table"
           }
          ]
         },
         "layout": {
          "annotationdefaults": {
           "arrowcolor": "#2a3f5f",
           "arrowhead": 0,
           "arrowwidth": 1
          },
          "autotypenumbers": "strict",
          "coloraxis": {
           "colorbar": {
            "outlinewidth": 0,
            "ticks": ""
           }
          },
          "colorscale": {
           "diverging": [
            [
             0,
             "#8e0152"
            ],
            [
             0.1,
             "#c51b7d"
            ],
            [
             0.2,
             "#de77ae"
            ],
            [
             0.3,
             "#f1b6da"
            ],
            [
             0.4,
             "#fde0ef"
            ],
            [
             0.5,
             "#f7f7f7"
            ],
            [
             0.6,
             "#e6f5d0"
            ],
            [
             0.7,
             "#b8e186"
            ],
            [
             0.8,
             "#7fbc41"
            ],
            [
             0.9,
             "#4d9221"
            ],
            [
             1,
             "#276419"
            ]
           ],
           "sequential": [
            [
             0,
             "#0d0887"
            ],
            [
             0.1111111111111111,
             "#46039f"
            ],
            [
             0.2222222222222222,
             "#7201a8"
            ],
            [
             0.3333333333333333,
             "#9c179e"
            ],
            [
             0.4444444444444444,
             "#bd3786"
            ],
            [
             0.5555555555555556,
             "#d8576b"
            ],
            [
             0.6666666666666666,
             "#ed7953"
            ],
            [
             0.7777777777777778,
             "#fb9f3a"
            ],
            [
             0.8888888888888888,
             "#fdca26"
            ],
            [
             1,
             "#f0f921"
            ]
           ],
           "sequentialminus": [
            [
             0,
             "#0d0887"
            ],
            [
             0.1111111111111111,
             "#46039f"
            ],
            [
             0.2222222222222222,
             "#7201a8"
            ],
            [
             0.3333333333333333,
             "#9c179e"
            ],
            [
             0.4444444444444444,
             "#bd3786"
            ],
            [
             0.5555555555555556,
             "#d8576b"
            ],
            [
             0.6666666666666666,
             "#ed7953"
            ],
            [
             0.7777777777777778,
             "#fb9f3a"
            ],
            [
             0.8888888888888888,
             "#fdca26"
            ],
            [
             1,
             "#f0f921"
            ]
           ]
          },
          "colorway": [
           "#636efa",
           "#EF553B",
           "#00cc96",
           "#ab63fa",
           "#FFA15A",
           "#19d3f3",
           "#FF6692",
           "#B6E880",
           "#FF97FF",
           "#FECB52"
          ],
          "font": {
           "color": "#2a3f5f"
          },
          "geo": {
           "bgcolor": "white",
           "lakecolor": "white",
           "landcolor": "#E5ECF6",
           "showlakes": true,
           "showland": true,
           "subunitcolor": "white"
          },
          "hoverlabel": {
           "align": "left"
          },
          "hovermode": "closest",
          "mapbox": {
           "style": "light"
          },
          "paper_bgcolor": "white",
          "plot_bgcolor": "#E5ECF6",
          "polar": {
           "angularaxis": {
            "gridcolor": "white",
            "linecolor": "white",
            "ticks": ""
           },
           "bgcolor": "#E5ECF6",
           "radialaxis": {
            "gridcolor": "white",
            "linecolor": "white",
            "ticks": ""
           }
          },
          "scene": {
           "xaxis": {
            "backgroundcolor": "#E5ECF6",
            "gridcolor": "white",
            "gridwidth": 2,
            "linecolor": "white",
            "showbackground": true,
            "ticks": "",
            "zerolinecolor": "white"
           },
           "yaxis": {
            "backgroundcolor": "#E5ECF6",
            "gridcolor": "white",
            "gridwidth": 2,
            "linecolor": "white",
            "showbackground": true,
            "ticks": "",
            "zerolinecolor": "white"
           },
           "zaxis": {
            "backgroundcolor": "#E5ECF6",
            "gridcolor": "white",
            "gridwidth": 2,
            "linecolor": "white",
            "showbackground": true,
            "ticks": "",
            "zerolinecolor": "white"
           }
          },
          "shapedefaults": {
           "line": {
            "color": "#2a3f5f"
           }
          },
          "ternary": {
           "aaxis": {
            "gridcolor": "white",
            "linecolor": "white",
            "ticks": ""
           },
           "baxis": {
            "gridcolor": "white",
            "linecolor": "white",
            "ticks": ""
           },
           "bgcolor": "#E5ECF6",
           "caxis": {
            "gridcolor": "white",
            "linecolor": "white",
            "ticks": ""
           }
          },
          "title": {
           "x": 0.05
          },
          "xaxis": {
           "automargin": true,
           "gridcolor": "white",
           "linecolor": "white",
           "ticks": "",
           "title": {
            "standoff": 15
           },
           "zerolinecolor": "white",
           "zerolinewidth": 2
          },
          "yaxis": {
           "automargin": true,
           "gridcolor": "white",
           "linecolor": "white",
           "ticks": "",
           "title": {
            "standoff": 15
           },
           "zerolinecolor": "white",
           "zerolinewidth": 2
          }
         }
        }
       }
      },
      "text/html": [
       "<div>                            <div id=\"ad15c440-072f-4673-92ea-b5170a8b5699\" class=\"plotly-graph-div\" style=\"height:525px; width:100%;\"></div>            <script type=\"text/javascript\">                require([\"plotly\"], function(Plotly) {                    window.PLOTLYENV=window.PLOTLYENV || {};                                    if (document.getElementById(\"ad15c440-072f-4673-92ea-b5170a8b5699\")) {                    Plotly.newPlot(                        \"ad15c440-072f-4673-92ea-b5170a8b5699\",                        [{\"domain\": {\"column\": 0, \"row\": 0}, \"gauge\": {\"axis\": {\"visible\": false}}, \"number\": {\"suffix\": \"%\"}, \"title\": {\"text\": \"Males, enjoy working with data\"}, \"type\": \"indicator\", \"value\": 97.0}, {\"domain\": {\"column\": 1, \"row\": 0}, \"gauge\": {\"axis\": {\"visible\": false}}, \"number\": {\"suffix\": \"%\"}, \"title\": {\"text\": \"Females, enjoy working with data\"}, \"type\": \"indicator\", \"value\": 75.0}, {\"domain\": {\"column\": 0, \"row\": 1}, \"gauge\": {\"axis\": {\"visible\": false}}, \"number\": {\"suffix\": \"%\"}, \"title\": {\"text\": \"Males, excited to work with data\"}, \"type\": \"indicator\", \"value\": 85.0}, {\"domain\": {\"column\": 1, \"row\": 1}, \"gauge\": {\"axis\": {\"visible\": false}}, \"number\": {\"suffix\": \"%\"}, \"title\": {\"text\": \"Females, excited to work with data\"}, \"type\": \"indicator\", \"value\": 68.0}],                        {\"grid\": {\"columns\": 2, \"pattern\": \"independent\", \"rows\": 2}, \"template\": {\"data\": {\"bar\": [{\"error_x\": {\"color\": \"#2a3f5f\"}, \"error_y\": {\"color\": \"#2a3f5f\"}, \"marker\": {\"line\": {\"color\": \"#E5ECF6\", \"width\": 0.5}}, \"type\": \"bar\"}], \"barpolar\": [{\"marker\": {\"line\": {\"color\": \"#E5ECF6\", \"width\": 0.5}}, \"type\": \"barpolar\"}], \"carpet\": [{\"aaxis\": {\"endlinecolor\": \"#2a3f5f\", \"gridcolor\": \"white\", \"linecolor\": \"white\", \"minorgridcolor\": \"white\", \"startlinecolor\": \"#2a3f5f\"}, \"baxis\": {\"endlinecolor\": \"#2a3f5f\", \"gridcolor\": \"white\", \"linecolor\": \"white\", \"minorgridcolor\": \"white\", \"startlinecolor\": \"#2a3f5f\"}, \"type\": \"carpet\"}], \"choropleth\": [{\"colorbar\": {\"outlinewidth\": 0, \"ticks\": \"\"}, \"type\": \"choropleth\"}], \"contour\": [{\"colorbar\": {\"outlinewidth\": 0, \"ticks\": \"\"}, \"colorscale\": [[0.0, \"#0d0887\"], [0.1111111111111111, \"#46039f\"], [0.2222222222222222, \"#7201a8\"], [0.3333333333333333, \"#9c179e\"], [0.4444444444444444, \"#bd3786\"], [0.5555555555555556, \"#d8576b\"], [0.6666666666666666, \"#ed7953\"], [0.7777777777777778, \"#fb9f3a\"], [0.8888888888888888, \"#fdca26\"], [1.0, \"#f0f921\"]], \"type\": \"contour\"}], \"contourcarpet\": [{\"colorbar\": {\"outlinewidth\": 0, \"ticks\": \"\"}, \"type\": \"contourcarpet\"}], \"heatmap\": [{\"colorbar\": {\"outlinewidth\": 0, \"ticks\": \"\"}, \"colorscale\": [[0.0, \"#0d0887\"], [0.1111111111111111, \"#46039f\"], [0.2222222222222222, \"#7201a8\"], [0.3333333333333333, \"#9c179e\"], [0.4444444444444444, \"#bd3786\"], [0.5555555555555556, \"#d8576b\"], [0.6666666666666666, \"#ed7953\"], [0.7777777777777778, \"#fb9f3a\"], [0.8888888888888888, \"#fdca26\"], [1.0, \"#f0f921\"]], \"type\": \"heatmap\"}], \"heatmapgl\": [{\"colorbar\": {\"outlinewidth\": 0, \"ticks\": \"\"}, \"colorscale\": [[0.0, \"#0d0887\"], [0.1111111111111111, \"#46039f\"], [0.2222222222222222, \"#7201a8\"], [0.3333333333333333, \"#9c179e\"], [0.4444444444444444, \"#bd3786\"], [0.5555555555555556, \"#d8576b\"], [0.6666666666666666, \"#ed7953\"], [0.7777777777777778, \"#fb9f3a\"], [0.8888888888888888, \"#fdca26\"], [1.0, \"#f0f921\"]], \"type\": \"heatmapgl\"}], \"histogram\": [{\"marker\": {\"colorbar\": {\"outlinewidth\": 0, \"ticks\": \"\"}}, \"type\": \"histogram\"}], \"histogram2d\": [{\"colorbar\": {\"outlinewidth\": 0, \"ticks\": \"\"}, \"colorscale\": [[0.0, \"#0d0887\"], [0.1111111111111111, \"#46039f\"], [0.2222222222222222, \"#7201a8\"], [0.3333333333333333, \"#9c179e\"], [0.4444444444444444, \"#bd3786\"], [0.5555555555555556, \"#d8576b\"], [0.6666666666666666, \"#ed7953\"], [0.7777777777777778, \"#fb9f3a\"], [0.8888888888888888, \"#fdca26\"], [1.0, \"#f0f921\"]], \"type\": \"histogram2d\"}], \"histogram2dcontour\": [{\"colorbar\": {\"outlinewidth\": 0, \"ticks\": \"\"}, \"colorscale\": [[0.0, \"#0d0887\"], [0.1111111111111111, \"#46039f\"], [0.2222222222222222, \"#7201a8\"], [0.3333333333333333, \"#9c179e\"], [0.4444444444444444, \"#bd3786\"], [0.5555555555555556, \"#d8576b\"], [0.6666666666666666, \"#ed7953\"], [0.7777777777777778, \"#fb9f3a\"], [0.8888888888888888, \"#fdca26\"], [1.0, \"#f0f921\"]], \"type\": \"histogram2dcontour\"}], \"indicator\": [{\"delta\": {\"reference\": 90}, \"type\": \"indicator\"}], \"mesh3d\": [{\"colorbar\": {\"outlinewidth\": 0, \"ticks\": \"\"}, \"type\": \"mesh3d\"}], \"parcoords\": [{\"line\": {\"colorbar\": {\"outlinewidth\": 0, \"ticks\": \"\"}}, \"type\": \"parcoords\"}], \"pie\": [{\"automargin\": true, \"type\": \"pie\"}], \"scatter\": [{\"marker\": {\"colorbar\": {\"outlinewidth\": 0, \"ticks\": \"\"}}, \"type\": \"scatter\"}], \"scatter3d\": [{\"line\": {\"colorbar\": {\"outlinewidth\": 0, \"ticks\": \"\"}}, \"marker\": {\"colorbar\": {\"outlinewidth\": 0, \"ticks\": \"\"}}, \"type\": \"scatter3d\"}], \"scattercarpet\": [{\"marker\": {\"colorbar\": {\"outlinewidth\": 0, \"ticks\": \"\"}}, \"type\": \"scattercarpet\"}], \"scattergeo\": [{\"marker\": {\"colorbar\": {\"outlinewidth\": 0, \"ticks\": \"\"}}, \"type\": \"scattergeo\"}], \"scattergl\": [{\"marker\": {\"colorbar\": {\"outlinewidth\": 0, \"ticks\": \"\"}}, \"type\": \"scattergl\"}], \"scattermapbox\": [{\"marker\": {\"colorbar\": {\"outlinewidth\": 0, \"ticks\": \"\"}}, \"type\": \"scattermapbox\"}], \"scatterpolar\": [{\"marker\": {\"colorbar\": {\"outlinewidth\": 0, \"ticks\": \"\"}}, \"type\": \"scatterpolar\"}], \"scatterpolargl\": [{\"marker\": {\"colorbar\": {\"outlinewidth\": 0, \"ticks\": \"\"}}, \"type\": \"scatterpolargl\"}], \"scatterternary\": [{\"marker\": {\"colorbar\": {\"outlinewidth\": 0, \"ticks\": \"\"}}, \"type\": \"scatterternary\"}], \"surface\": [{\"colorbar\": {\"outlinewidth\": 0, \"ticks\": \"\"}, \"colorscale\": [[0.0, \"#0d0887\"], [0.1111111111111111, \"#46039f\"], [0.2222222222222222, \"#7201a8\"], [0.3333333333333333, \"#9c179e\"], [0.4444444444444444, \"#bd3786\"], [0.5555555555555556, \"#d8576b\"], [0.6666666666666666, \"#ed7953\"], [0.7777777777777778, \"#fb9f3a\"], [0.8888888888888888, \"#fdca26\"], [1.0, \"#f0f921\"]], \"type\": \"surface\"}], \"table\": [{\"cells\": {\"fill\": {\"color\": \"#EBF0F8\"}, \"line\": {\"color\": \"white\"}}, \"header\": {\"fill\": {\"color\": \"#C8D4E3\"}, \"line\": {\"color\": \"white\"}}, \"type\": \"table\"}]}, \"layout\": {\"annotationdefaults\": {\"arrowcolor\": \"#2a3f5f\", \"arrowhead\": 0, \"arrowwidth\": 1}, \"autotypenumbers\": \"strict\", \"coloraxis\": {\"colorbar\": {\"outlinewidth\": 0, \"ticks\": \"\"}}, \"colorscale\": {\"diverging\": [[0, \"#8e0152\"], [0.1, \"#c51b7d\"], [0.2, \"#de77ae\"], [0.3, \"#f1b6da\"], [0.4, \"#fde0ef\"], [0.5, \"#f7f7f7\"], [0.6, \"#e6f5d0\"], [0.7, \"#b8e186\"], [0.8, \"#7fbc41\"], [0.9, \"#4d9221\"], [1, \"#276419\"]], \"sequential\": [[0.0, \"#0d0887\"], [0.1111111111111111, \"#46039f\"], [0.2222222222222222, \"#7201a8\"], [0.3333333333333333, \"#9c179e\"], [0.4444444444444444, \"#bd3786\"], [0.5555555555555556, \"#d8576b\"], [0.6666666666666666, \"#ed7953\"], [0.7777777777777778, \"#fb9f3a\"], [0.8888888888888888, \"#fdca26\"], [1.0, \"#f0f921\"]], \"sequentialminus\": [[0.0, \"#0d0887\"], [0.1111111111111111, \"#46039f\"], [0.2222222222222222, \"#7201a8\"], [0.3333333333333333, \"#9c179e\"], [0.4444444444444444, \"#bd3786\"], [0.5555555555555556, \"#d8576b\"], [0.6666666666666666, \"#ed7953\"], [0.7777777777777778, \"#fb9f3a\"], [0.8888888888888888, \"#fdca26\"], [1.0, \"#f0f921\"]]}, \"colorway\": [\"#636efa\", \"#EF553B\", \"#00cc96\", \"#ab63fa\", \"#FFA15A\", \"#19d3f3\", \"#FF6692\", \"#B6E880\", \"#FF97FF\", \"#FECB52\"], \"font\": {\"color\": \"#2a3f5f\"}, \"geo\": {\"bgcolor\": \"white\", \"lakecolor\": \"white\", \"landcolor\": \"#E5ECF6\", \"showlakes\": true, \"showland\": true, \"subunitcolor\": \"white\"}, \"hoverlabel\": {\"align\": \"left\"}, \"hovermode\": \"closest\", \"mapbox\": {\"style\": \"light\"}, \"paper_bgcolor\": \"white\", \"plot_bgcolor\": \"#E5ECF6\", \"polar\": {\"angularaxis\": {\"gridcolor\": \"white\", \"linecolor\": \"white\", \"ticks\": \"\"}, \"bgcolor\": \"#E5ECF6\", \"radialaxis\": {\"gridcolor\": \"white\", \"linecolor\": \"white\", \"ticks\": \"\"}}, \"scene\": {\"xaxis\": {\"backgroundcolor\": \"#E5ECF6\", \"gridcolor\": \"white\", \"gridwidth\": 2, \"linecolor\": \"white\", \"showbackground\": true, \"ticks\": \"\", \"zerolinecolor\": \"white\"}, \"yaxis\": {\"backgroundcolor\": \"#E5ECF6\", \"gridcolor\": \"white\", \"gridwidth\": 2, \"linecolor\": \"white\", \"showbackground\": true, \"ticks\": \"\", \"zerolinecolor\": \"white\"}, \"zaxis\": {\"backgroundcolor\": \"#E5ECF6\", \"gridcolor\": \"white\", \"gridwidth\": 2, \"linecolor\": \"white\", \"showbackground\": true, \"ticks\": \"\", \"zerolinecolor\": \"white\"}}, \"shapedefaults\": {\"line\": {\"color\": \"#2a3f5f\"}}, \"ternary\": {\"aaxis\": {\"gridcolor\": \"white\", \"linecolor\": \"white\", \"ticks\": \"\"}, \"baxis\": {\"gridcolor\": \"white\", \"linecolor\": \"white\", \"ticks\": \"\"}, \"bgcolor\": \"#E5ECF6\", \"caxis\": {\"gridcolor\": \"white\", \"linecolor\": \"white\", \"ticks\": \"\"}}, \"title\": {\"x\": 0.05}, \"xaxis\": {\"automargin\": true, \"gridcolor\": \"white\", \"linecolor\": \"white\", \"ticks\": \"\", \"title\": {\"standoff\": 15}, \"zerolinecolor\": \"white\", \"zerolinewidth\": 2}, \"yaxis\": {\"automargin\": true, \"gridcolor\": \"white\", \"linecolor\": \"white\", \"ticks\": \"\", \"title\": {\"standoff\": 15}, \"zerolinecolor\": \"white\", \"zerolinewidth\": 2}}}},                        {\"responsive\": true}                    ).then(function(){\n",
       "                            \n",
       "var gd = document.getElementById('ad15c440-072f-4673-92ea-b5170a8b5699');\n",
       "var x = new MutationObserver(function (mutations, observer) {{\n",
       "        var display = window.getComputedStyle(gd).display;\n",
       "        if (!display || display === 'none') {{\n",
       "            console.log([gd, 'removed!']);\n",
       "            Plotly.purge(gd);\n",
       "            observer.disconnect();\n",
       "        }}\n",
       "}});\n",
       "\n",
       "// Listen for the removal of the full notebook cells\n",
       "var notebookContainer = gd.closest('#notebook-container');\n",
       "if (notebookContainer) {{\n",
       "    x.observe(notebookContainer, {childList: true});\n",
       "}}\n",
       "\n",
       "// Listen for the clearing of the current output cell\n",
       "var outputEl = gd.closest('.output');\n",
       "if (outputEl) {{\n",
       "    x.observe(outputEl, {childList: true});\n",
       "}}\n",
       "\n",
       "                        })                };                });            </script>        </div>"
      ]
     },
     "metadata": {},
     "output_type": "display_data"
    },
    {
     "data": {
      "application/javascript": [
       "\n",
       "            setTimeout(function() {\n",
       "                var nbb_cell_id = 225;\n",
       "                var nbb_unformatted_code = \"fig = go.Figure()\\n\\nfig.add_trace(go.Indicator(\\n    number = {\\\"suffix\\\":\\\"%\\\"},\\n    value = proportion_males_enj,\\n    title = \\\"Males, enjoy working with data\\\",\\n    gauge = {\\n        'axis': {'visible': False}},\\n    domain = {'row': 0, 'column': 0}))\\nfig.add_trace(go.Indicator(\\n    number = {\\\"suffix\\\":\\\"%\\\"},\\n    value = proportion_females_enj,\\n    title=\\\"Females, enjoy working with data\\\",\\n    gauge = {\\n        'axis': {'visible': False}},\\n    domain = {'row': 0, 'column': 1}))\\nfig.add_trace(go.Indicator(\\n    number = {\\\"suffix\\\":\\\"%\\\"},\\n    value = proportion_males_exc,\\n    title=\\\"Males, excited to work with data\\\",\\n    gauge = {\\n        'axis': {'visible': False}},\\n    domain = {'row': 1, 'column': 0}))\\nfig.add_trace(go.Indicator(\\n    number = {\\\"suffix\\\":\\\"%\\\"},\\n    value = proportion_females_exc,\\n    title=\\\"Females, excited to work with data\\\",\\n    gauge = {\\n        'axis': {'visible': False}},\\n    domain = {'row': 1, 'column': 1}))\\n\\nfig.update_layout(\\n    grid = {'rows': 2, 'columns': 2, 'pattern': \\\"independent\\\"},\\n    template = {'data' : {'indicator': [{\\n        'delta' : {'reference': 90}}]\\n                         }})\";\n",
       "                var nbb_formatted_code = \"fig = go.Figure()\\n\\nfig.add_trace(\\n    go.Indicator(\\n        number={\\\"suffix\\\": \\\"%\\\"},\\n        value=proportion_males_enj,\\n        title=\\\"Males, enjoy working with data\\\",\\n        gauge={\\\"axis\\\": {\\\"visible\\\": False}},\\n        domain={\\\"row\\\": 0, \\\"column\\\": 0},\\n    )\\n)\\nfig.add_trace(\\n    go.Indicator(\\n        number={\\\"suffix\\\": \\\"%\\\"},\\n        value=proportion_females_enj,\\n        title=\\\"Females, enjoy working with data\\\",\\n        gauge={\\\"axis\\\": {\\\"visible\\\": False}},\\n        domain={\\\"row\\\": 0, \\\"column\\\": 1},\\n    )\\n)\\nfig.add_trace(\\n    go.Indicator(\\n        number={\\\"suffix\\\": \\\"%\\\"},\\n        value=proportion_males_exc,\\n        title=\\\"Males, excited to work with data\\\",\\n        gauge={\\\"axis\\\": {\\\"visible\\\": False}},\\n        domain={\\\"row\\\": 1, \\\"column\\\": 0},\\n    )\\n)\\nfig.add_trace(\\n    go.Indicator(\\n        number={\\\"suffix\\\": \\\"%\\\"},\\n        value=proportion_females_exc,\\n        title=\\\"Females, excited to work with data\\\",\\n        gauge={\\\"axis\\\": {\\\"visible\\\": False}},\\n        domain={\\\"row\\\": 1, \\\"column\\\": 1},\\n    )\\n)\\n\\nfig.update_layout(\\n    grid={\\\"rows\\\": 2, \\\"columns\\\": 2, \\\"pattern\\\": \\\"independent\\\"},\\n    template={\\\"data\\\": {\\\"indicator\\\": [{\\\"delta\\\": {\\\"reference\\\": 90}}]}},\\n)\";\n",
       "                var nbb_cells = Jupyter.notebook.get_cells();\n",
       "                for (var i = 0; i < nbb_cells.length; ++i) {\n",
       "                    if (nbb_cells[i].input_prompt_number == nbb_cell_id) {\n",
       "                        if (nbb_cells[i].get_text() == nbb_unformatted_code) {\n",
       "                             nbb_cells[i].set_text(nbb_formatted_code);\n",
       "                        }\n",
       "                        break;\n",
       "                    }\n",
       "                }\n",
       "            }, 500);\n",
       "            "
      ],
      "text/plain": [
       "<IPython.core.display.Javascript object>"
      ]
     },
     "metadata": {},
     "output_type": "display_data"
    }
   ],
   "source": [
    "fig = go.Figure()\n",
    "\n",
    "fig.add_trace(\n",
    "    go.Indicator(\n",
    "        number={\"suffix\": \"%\"},\n",
    "        value=proportion_males_enj,\n",
    "        title=\"Males, enjoy working with data\",\n",
    "        gauge={\"axis\": {\"visible\": False}},\n",
    "        domain={\"row\": 0, \"column\": 0},\n",
    "    )\n",
    ")\n",
    "fig.add_trace(\n",
    "    go.Indicator(\n",
    "        number={\"suffix\": \"%\"},\n",
    "        value=proportion_females_enj,\n",
    "        title=\"Females, enjoy working with data\",\n",
    "        gauge={\"axis\": {\"visible\": False}},\n",
    "        domain={\"row\": 0, \"column\": 1},\n",
    "    )\n",
    ")\n",
    "fig.add_trace(\n",
    "    go.Indicator(\n",
    "        number={\"suffix\": \"%\"},\n",
    "        value=proportion_males_exc,\n",
    "        title=\"Males, excited to work with data\",\n",
    "        gauge={\"axis\": {\"visible\": False}},\n",
    "        domain={\"row\": 1, \"column\": 0},\n",
    "    )\n",
    ")\n",
    "fig.add_trace(\n",
    "    go.Indicator(\n",
    "        number={\"suffix\": \"%\"},\n",
    "        value=proportion_females_exc,\n",
    "        title=\"Females, excited to work with data\",\n",
    "        gauge={\"axis\": {\"visible\": False}},\n",
    "        domain={\"row\": 1, \"column\": 1},\n",
    "    )\n",
    ")\n",
    "\n",
    "fig.update_layout(\n",
    "    grid={\"rows\": 2, \"columns\": 2, \"pattern\": \"independent\"},\n",
    "    template={\"data\": {\"indicator\": [{\"delta\": {\"reference\": 90}}]}},\n",
    ")"
   ]
  }
 ],
 "metadata": {
  "kernelspec": {
   "display_name": "Python 3",
   "language": "python",
   "name": "python3"
  },
  "language_info": {
   "codemirror_mode": {
    "name": "ipython",
    "version": 3
   },
   "file_extension": ".py",
   "mimetype": "text/x-python",
   "name": "python",
   "nbconvert_exporter": "python",
   "pygments_lexer": "ipython3",
   "version": "3.9.1"
  }
 },
 "nbformat": 4,
 "nbformat_minor": 4
}
