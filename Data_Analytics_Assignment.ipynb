{
 "cells": [
  {
   "cell_type": "markdown",
   "metadata": {},
   "source": [
    "# Effect of Number of Children and Gender on Adult Student's Academic Interests and Performance"
   ]
  },
  {
   "cell_type": "markdown",
   "metadata": {},
   "source": [
    "## Project Description\n",
    "<br>The project uses survey data on adult students at Robert Kennedy College (Switzerland) to test\n",
    "<br>whether the number of children and students' gender affect their academic perfomance.\n",
    "<br>It also tests gender based hypotheses about students' interest on data-related fields.\n",
    "<br>\n",
    "<br>**Techniques used:**\n",
    "<br>Data Cleaning, Descriptive Statistics, T-Tests, \n",
    "<br>Randomization Tests, Chi-Squared Tests, \n",
    "<br>Comparison of Frequency Distributions, Matplotlib Data Visualization"
   ]
  },
  {
   "cell_type": "markdown",
   "metadata": {},
   "source": [
    "## Environment Setup"
   ]
  },
  {
   "cell_type": "markdown",
   "metadata": {},
   "source": [
    "### Imports"
   ]
  },
  {
   "cell_type": "code",
   "execution_count": 1,
   "metadata": {},
   "outputs": [],
   "source": [
    "import pandas as pd\n",
    "import datetime\n",
    "import matplotlib.pyplot as plt\n",
    "import numpy as np\n",
    "import math\n",
    "import scipy.stats\n",
    "import seaborn as sns\n",
    "import openpyxl\n",
    "import pycountry\n",
    "%matplotlib inline"
   ]
  },
  {
   "cell_type": "markdown",
   "metadata": {},
   "source": [
    "## Data Profiling\n",
    "\n",
    "### Open and View the File"
   ]
  },
  {
   "cell_type": "code",
   "execution_count": 3,
   "metadata": {},
   "outputs": [
    {
     "data": {
      "text/html": [
       "<div>\n",
       "<style scoped>\n",
       "    .dataframe tbody tr th:only-of-type {\n",
       "        vertical-align: middle;\n",
       "    }\n",
       "\n",
       "    .dataframe tbody tr th {\n",
       "        vertical-align: top;\n",
       "    }\n",
       "\n",
       "    .dataframe thead th {\n",
       "        text-align: right;\n",
       "    }\n",
       "</style>\n",
       "<table border=\"1\" class=\"dataframe\">\n",
       "  <thead>\n",
       "    <tr style=\"text-align: right;\">\n",
       "      <th></th>\n",
       "      <th>ID</th>\n",
       "      <th>Start time</th>\n",
       "      <th>Completion time</th>\n",
       "      <th>Email</th>\n",
       "      <th>Gender</th>\n",
       "      <th>Age</th>\n",
       "      <th>Closest biggest city near you</th>\n",
       "      <th>Number of kids (&lt;18y) living with you</th>\n",
       "      <th>Birth Year</th>\n",
       "      <th>Number of modules completed so far</th>\n",
       "      <th>Average mark so far</th>\n",
       "      <th>Prediction for this module's mark</th>\n",
       "      <th>I enjoy working with data</th>\n",
       "      <th>I am excited about working with data</th>\n",
       "      <th>I am afraid of working with data</th>\n",
       "      <th>I am interested in understanding Data Analytics</th>\n",
       "      <th>I plan to work hard in this module</th>\n",
       "      <th>Height (absolute value, in centimeters (cm) - sorry imperial system users!)</th>\n",
       "      <th>Height (relative)</th>\n",
       "    </tr>\n",
       "  </thead>\n",
       "  <tbody>\n",
       "    <tr>\n",
       "      <th>0</th>\n",
       "      <td>2</td>\n",
       "      <td>12/17/20 9:09:33</td>\n",
       "      <td>12/17/20 9:10:55</td>\n",
       "      <td>anonymous</td>\n",
       "      <td>Woman</td>\n",
       "      <td>40-49</td>\n",
       "      <td>Lagos</td>\n",
       "      <td>0</td>\n",
       "      <td>1975</td>\n",
       "      <td>5</td>\n",
       "      <td>62.0</td>\n",
       "      <td>62</td>\n",
       "      <td>Agree</td>\n",
       "      <td>Agree</td>\n",
       "      <td>Completely Disagree</td>\n",
       "      <td>Agree</td>\n",
       "      <td>Agree</td>\n",
       "      <td>175.0</td>\n",
       "      <td>very tall</td>\n",
       "    </tr>\n",
       "    <tr>\n",
       "      <th>1</th>\n",
       "      <td>3</td>\n",
       "      <td>12/17/20 9:09:27</td>\n",
       "      <td>12/17/20 9:11:01</td>\n",
       "      <td>anonymous</td>\n",
       "      <td>Man</td>\n",
       "      <td>30-39</td>\n",
       "      <td>Dhaka</td>\n",
       "      <td>0</td>\n",
       "      <td>1011986</td>\n",
       "      <td>5</td>\n",
       "      <td>57.0</td>\n",
       "      <td>65</td>\n",
       "      <td>Agree</td>\n",
       "      <td>Agree</td>\n",
       "      <td>Completely Disagree</td>\n",
       "      <td>Agree</td>\n",
       "      <td>Agree</td>\n",
       "      <td>172.0</td>\n",
       "      <td>average</td>\n",
       "    </tr>\n",
       "    <tr>\n",
       "      <th>2</th>\n",
       "      <td>4</td>\n",
       "      <td>12/17/20 9:09:34</td>\n",
       "      <td>12/17/20 9:14:39</td>\n",
       "      <td>anonymous</td>\n",
       "      <td>Man</td>\n",
       "      <td>30-39</td>\n",
       "      <td>Hanoi</td>\n",
       "      <td>0</td>\n",
       "      <td>1989</td>\n",
       "      <td>5</td>\n",
       "      <td>61.0</td>\n",
       "      <td>64</td>\n",
       "      <td>Agree</td>\n",
       "      <td>Meh</td>\n",
       "      <td>Disagree</td>\n",
       "      <td>Meh</td>\n",
       "      <td>Meh</td>\n",
       "      <td>178.0</td>\n",
       "      <td>average</td>\n",
       "    </tr>\n",
       "    <tr>\n",
       "      <th>3</th>\n",
       "      <td>5</td>\n",
       "      <td>12/17/20 9:19:54</td>\n",
       "      <td>12/17/20 9:27:03</td>\n",
       "      <td>anonymous</td>\n",
       "      <td>Woman</td>\n",
       "      <td>50-59</td>\n",
       "      <td>Stockholm</td>\n",
       "      <td>0</td>\n",
       "      <td>1970</td>\n",
       "      <td>5</td>\n",
       "      <td>60.0</td>\n",
       "      <td>100</td>\n",
       "      <td>Agree</td>\n",
       "      <td>Agree</td>\n",
       "      <td>Completely Disagree</td>\n",
       "      <td>Agree</td>\n",
       "      <td>Completely Agree</td>\n",
       "      <td>164.0</td>\n",
       "      <td>average</td>\n",
       "    </tr>\n",
       "    <tr>\n",
       "      <th>4</th>\n",
       "      <td>6</td>\n",
       "      <td>12/17/20 9:28:13</td>\n",
       "      <td>12/17/20 9:35:44</td>\n",
       "      <td>anonymous</td>\n",
       "      <td>Man</td>\n",
       "      <td>40-49</td>\n",
       "      <td>Accra</td>\n",
       "      <td>3</td>\n",
       "      <td>1979</td>\n",
       "      <td>5</td>\n",
       "      <td>60.0</td>\n",
       "      <td>70</td>\n",
       "      <td>Completely Agree</td>\n",
       "      <td>Agree</td>\n",
       "      <td>Completely Disagree</td>\n",
       "      <td>Completely Agree</td>\n",
       "      <td>Meh</td>\n",
       "      <td>170.0</td>\n",
       "      <td>average</td>\n",
       "    </tr>\n",
       "  </tbody>\n",
       "</table>\n",
       "</div>"
      ],
      "text/plain": [
       "   ID        Start time   Completion time      Email Gender    Age  \\\n",
       "0   2  12/17/20 9:09:33  12/17/20 9:10:55  anonymous  Woman  40-49   \n",
       "1   3  12/17/20 9:09:27  12/17/20 9:11:01  anonymous    Man  30-39   \n",
       "2   4  12/17/20 9:09:34  12/17/20 9:14:39  anonymous    Man  30-39   \n",
       "3   5  12/17/20 9:19:54  12/17/20 9:27:03  anonymous  Woman  50-59   \n",
       "4   6  12/17/20 9:28:13  12/17/20 9:35:44  anonymous    Man  40-49   \n",
       "\n",
       "  Closest biggest city near you  Number of kids (<18y) living with you  \\\n",
       "0                        Lagos                                       0   \n",
       "1                         Dhaka                                      0   \n",
       "2                         Hanoi                                      0   \n",
       "3                     Stockholm                                      0   \n",
       "4                         Accra                                      3   \n",
       "\n",
       "   Birth Year Number of modules completed so far  Average mark so far  \\\n",
       "0        1975                                  5                 62.0   \n",
       "1     1011986                                  5                 57.0   \n",
       "2        1989                                  5                 61.0   \n",
       "3        1970                                  5                 60.0   \n",
       "4        1979                                  5                 60.0   \n",
       "\n",
       "   Prediction for this module's mark I enjoy working with data  \\\n",
       "0                                 62                     Agree   \n",
       "1                                 65                     Agree   \n",
       "2                                 64                     Agree   \n",
       "3                                100                     Agree   \n",
       "4                                 70          Completely Agree   \n",
       "\n",
       "  I am excited about working with data I am afraid of working with data  \\\n",
       "0                                Agree              Completely Disagree   \n",
       "1                                Agree              Completely Disagree   \n",
       "2                                  Meh                         Disagree   \n",
       "3                                Agree              Completely Disagree   \n",
       "4                                Agree              Completely Disagree   \n",
       "\n",
       "  I am interested in understanding Data Analytics  \\\n",
       "0                                           Agree   \n",
       "1                                           Agree   \n",
       "2                                             Meh   \n",
       "3                                           Agree   \n",
       "4                                Completely Agree   \n",
       "\n",
       "  I plan to work hard in this module  \\\n",
       "0                              Agree   \n",
       "1                              Agree   \n",
       "2                                Meh   \n",
       "3                   Completely Agree   \n",
       "4                                Meh   \n",
       "\n",
       "   Height (absolute value, in centimeters (cm) - sorry imperial system users!)  \\\n",
       "0                                              175.0                             \n",
       "1                                              172.0                             \n",
       "2                                              178.0                             \n",
       "3                                              164.0                             \n",
       "4                                              170.0                             \n",
       "\n",
       "  Height (relative)  \n",
       "0         very tall  \n",
       "1           average  \n",
       "2           average  \n",
       "3           average  \n",
       "4           average  "
      ]
     },
     "execution_count": 3,
     "metadata": {},
     "output_type": "execute_result"
    }
   ],
   "source": [
    "pd.set_option(\"display.max_rows\", None, \"display.max_columns\", None)\n",
    "file = pd.read_csv(r\"data/dataanalytics-class-data.csv\")\n",
    "file.head()"
   ]
  },
  {
   "cell_type": "code",
   "execution_count": 4,
   "metadata": {},
   "outputs": [
    {
     "data": {
      "text/html": [
       "<div>\n",
       "<style scoped>\n",
       "    .dataframe tbody tr th:only-of-type {\n",
       "        vertical-align: middle;\n",
       "    }\n",
       "\n",
       "    .dataframe tbody tr th {\n",
       "        vertical-align: top;\n",
       "    }\n",
       "\n",
       "    .dataframe thead th {\n",
       "        text-align: right;\n",
       "    }\n",
       "</style>\n",
       "<table border=\"1\" class=\"dataframe\">\n",
       "  <thead>\n",
       "    <tr style=\"text-align: right;\">\n",
       "      <th></th>\n",
       "      <th>ID</th>\n",
       "      <th>Start time</th>\n",
       "      <th>Completion time</th>\n",
       "      <th>Email</th>\n",
       "      <th>Gender</th>\n",
       "      <th>Age</th>\n",
       "      <th>Closest biggest city near you</th>\n",
       "      <th>Number of kids (&lt;18y) living with you</th>\n",
       "      <th>Birth Year</th>\n",
       "      <th>Number of modules completed so far</th>\n",
       "      <th>Average mark so far</th>\n",
       "      <th>Prediction for this module's mark</th>\n",
       "      <th>I enjoy working with data</th>\n",
       "      <th>I am excited about working with data</th>\n",
       "      <th>I am afraid of working with data</th>\n",
       "      <th>I am interested in understanding Data Analytics</th>\n",
       "      <th>I plan to work hard in this module</th>\n",
       "      <th>Height (absolute value, in centimeters (cm) - sorry imperial system users!)</th>\n",
       "      <th>Height (relative)</th>\n",
       "    </tr>\n",
       "  </thead>\n",
       "  <tbody>\n",
       "    <tr>\n",
       "      <th>104</th>\n",
       "      <td>107</td>\n",
       "      <td>1/9/21 00:54</td>\n",
       "      <td>1/9/21 00:57</td>\n",
       "      <td>anonymous</td>\n",
       "      <td>Man</td>\n",
       "      <td>40-49</td>\n",
       "      <td>Montreal</td>\n",
       "      <td>3</td>\n",
       "      <td>1975</td>\n",
       "      <td>1</td>\n",
       "      <td>78.0</td>\n",
       "      <td>75</td>\n",
       "      <td>Agree</td>\n",
       "      <td>Completely Agree</td>\n",
       "      <td>Completely Disagree</td>\n",
       "      <td>Completely Agree</td>\n",
       "      <td>Completely Agree</td>\n",
       "      <td>184.0</td>\n",
       "      <td>tall</td>\n",
       "    </tr>\n",
       "    <tr>\n",
       "      <th>105</th>\n",
       "      <td>108</td>\n",
       "      <td>1/9/21 14:19</td>\n",
       "      <td>1/9/21 14:20</td>\n",
       "      <td>anonymous</td>\n",
       "      <td>Man</td>\n",
       "      <td>50-59</td>\n",
       "      <td>Zurich, Switzerland</td>\n",
       "      <td>0</td>\n",
       "      <td>1964</td>\n",
       "      <td>5</td>\n",
       "      <td>60.0</td>\n",
       "      <td>75</td>\n",
       "      <td>Agree</td>\n",
       "      <td>Completely Agree</td>\n",
       "      <td>Completely Disagree</td>\n",
       "      <td>Agree</td>\n",
       "      <td>Completely Agree</td>\n",
       "      <td>186.0</td>\n",
       "      <td>tall</td>\n",
       "    </tr>\n",
       "    <tr>\n",
       "      <th>106</th>\n",
       "      <td>109</td>\n",
       "      <td>1/11/21 11:47</td>\n",
       "      <td>1/11/21 11:48</td>\n",
       "      <td>anonymous</td>\n",
       "      <td>Woman</td>\n",
       "      <td>40-49</td>\n",
       "      <td>Berlin</td>\n",
       "      <td>1</td>\n",
       "      <td>1978</td>\n",
       "      <td>3</td>\n",
       "      <td>70.0</td>\n",
       "      <td>70</td>\n",
       "      <td>Agree</td>\n",
       "      <td>Agree</td>\n",
       "      <td>Completely Disagree</td>\n",
       "      <td>Completely Agree</td>\n",
       "      <td>Completely Agree</td>\n",
       "      <td>166.0</td>\n",
       "      <td>average</td>\n",
       "    </tr>\n",
       "    <tr>\n",
       "      <th>107</th>\n",
       "      <td>110</td>\n",
       "      <td>1/11/21 15:30</td>\n",
       "      <td>1/11/21 15:35</td>\n",
       "      <td>anonymous</td>\n",
       "      <td>Woman</td>\n",
       "      <td>40-49</td>\n",
       "      <td>Lusaka</td>\n",
       "      <td>5</td>\n",
       "      <td>1976</td>\n",
       "      <td>5</td>\n",
       "      <td>56.0</td>\n",
       "      <td>60</td>\n",
       "      <td>Agree</td>\n",
       "      <td>Agree</td>\n",
       "      <td>Disagree</td>\n",
       "      <td>Agree</td>\n",
       "      <td>Agree</td>\n",
       "      <td>160.0</td>\n",
       "      <td>average</td>\n",
       "    </tr>\n",
       "    <tr>\n",
       "      <th>108</th>\n",
       "      <td>111</td>\n",
       "      <td>1/12/21 06:12</td>\n",
       "      <td>1/12/21 06:16</td>\n",
       "      <td>anonymous</td>\n",
       "      <td>Woman</td>\n",
       "      <td>40-49</td>\n",
       "      <td>Riyadh</td>\n",
       "      <td>0</td>\n",
       "      <td>1976</td>\n",
       "      <td>5</td>\n",
       "      <td>69.0</td>\n",
       "      <td>71</td>\n",
       "      <td>Agree</td>\n",
       "      <td>Completely Agree</td>\n",
       "      <td>Completely Disagree</td>\n",
       "      <td>Completely Agree</td>\n",
       "      <td>Completely Agree</td>\n",
       "      <td>171.0</td>\n",
       "      <td>tall</td>\n",
       "    </tr>\n",
       "  </tbody>\n",
       "</table>\n",
       "</div>"
      ],
      "text/plain": [
       "      ID     Start time Completion time      Email Gender    Age  \\\n",
       "104  107   1/9/21 00:54    1/9/21 00:57  anonymous    Man  40-49   \n",
       "105  108   1/9/21 14:19    1/9/21 14:20  anonymous    Man  50-59   \n",
       "106  109  1/11/21 11:47   1/11/21 11:48  anonymous  Woman  40-49   \n",
       "107  110  1/11/21 15:30   1/11/21 15:35  anonymous  Woman  40-49   \n",
       "108  111  1/12/21 06:12   1/12/21 06:16  anonymous  Woman  40-49   \n",
       "\n",
       "    Closest biggest city near you  Number of kids (<18y) living with you  \\\n",
       "104                      Montreal                                      3   \n",
       "105           Zurich, Switzerland                                      0   \n",
       "106                        Berlin                                      1   \n",
       "107                        Lusaka                                      5   \n",
       "108                        Riyadh                                      0   \n",
       "\n",
       "     Birth Year Number of modules completed so far  Average mark so far  \\\n",
       "104        1975                                  1                 78.0   \n",
       "105        1964                                  5                 60.0   \n",
       "106        1978                                  3                 70.0   \n",
       "107        1976                                  5                 56.0   \n",
       "108        1976                                  5                 69.0   \n",
       "\n",
       "     Prediction for this module's mark I enjoy working with data  \\\n",
       "104                                 75                     Agree   \n",
       "105                                 75                     Agree   \n",
       "106                                 70                     Agree   \n",
       "107                                 60                     Agree   \n",
       "108                                 71                     Agree   \n",
       "\n",
       "    I am excited about working with data I am afraid of working with data  \\\n",
       "104                     Completely Agree              Completely Disagree   \n",
       "105                     Completely Agree              Completely Disagree   \n",
       "106                                Agree              Completely Disagree   \n",
       "107                                Agree                         Disagree   \n",
       "108                     Completely Agree              Completely Disagree   \n",
       "\n",
       "    I am interested in understanding Data Analytics  \\\n",
       "104                                Completely Agree   \n",
       "105                                           Agree   \n",
       "106                                Completely Agree   \n",
       "107                                           Agree   \n",
       "108                                Completely Agree   \n",
       "\n",
       "    I plan to work hard in this module  \\\n",
       "104                   Completely Agree   \n",
       "105                   Completely Agree   \n",
       "106                   Completely Agree   \n",
       "107                              Agree   \n",
       "108                   Completely Agree   \n",
       "\n",
       "     Height (absolute value, in centimeters (cm) - sorry imperial system users!)  \\\n",
       "104                                              184.0                             \n",
       "105                                              186.0                             \n",
       "106                                              166.0                             \n",
       "107                                              160.0                             \n",
       "108                                              171.0                             \n",
       "\n",
       "    Height (relative)  \n",
       "104              tall  \n",
       "105              tall  \n",
       "106           average  \n",
       "107           average  \n",
       "108              tall  "
      ]
     },
     "execution_count": 4,
     "metadata": {},
     "output_type": "execute_result"
    }
   ],
   "source": [
    "file.tail()"
   ]
  },
  {
   "cell_type": "code",
   "execution_count": 3,
   "metadata": {},
   "outputs": [
    {
     "data": {
      "text/plain": [
       "Index(['ID', 'Start time', 'Completion time', 'Email', 'Gender', 'Age',\n",
       "       'Closest biggest city near you',\n",
       "       'Number of kids (<18y) living with you', 'Birth Year',\n",
       "       'Number of modules completed so far', 'Average mark so far',\n",
       "       'Prediction for this module's mark', 'I enjoy working with data',\n",
       "       'I am excited about working with data',\n",
       "       'I am afraid of working with data',\n",
       "       'I am interested in understanding Data Analytics',\n",
       "       'I plan to work hard in this module',\n",
       "       'Height (absolute value, in centimeters (cm) - sorry imperial system users!)',\n",
       "       'Height (relative)'],\n",
       "      dtype='object')"
      ]
     },
     "execution_count": 3,
     "metadata": {},
     "output_type": "execute_result"
    }
   ],
   "source": [
    "file.columns"
   ]
  },
  {
   "cell_type": "markdown",
   "metadata": {},
   "source": [
    "#### Dropping columns with data that is not useful to the analysis"
   ]
  },
  {
   "cell_type": "code",
   "execution_count": 4,
   "metadata": {},
   "outputs": [
    {
     "name": "stdout",
     "output_type": "stream",
     "text": [
      "<class 'pandas.core.frame.DataFrame'>\n",
      "RangeIndex: 109 entries, 0 to 108\n",
      "Data columns (total 17 columns):\n",
      " #   Column                                                                       Non-Null Count  Dtype  \n",
      "---  ------                                                                       --------------  -----  \n",
      " 0   Start time                                                                   109 non-null    object \n",
      " 1   Completion time                                                              109 non-null    object \n",
      " 2   Gender                                                                       109 non-null    object \n",
      " 3   Age                                                                          109 non-null    object \n",
      " 4   Closest biggest city near you                                                109 non-null    object \n",
      " 5   Number of kids (<18y) living with you                                        109 non-null    int64  \n",
      " 6   Birth Year                                                                   109 non-null    int64  \n",
      " 7   Number of modules completed so far                                           109 non-null    object \n",
      " 8   Average mark so far                                                          106 non-null    float64\n",
      " 9   Prediction for this module's mark                                            109 non-null    int64  \n",
      " 10  I enjoy working with data                                                    109 non-null    object \n",
      " 11  I am excited about working with data                                         109 non-null    object \n",
      " 12  I am afraid of working with data                                             109 non-null    object \n",
      " 13  I am interested in understanding Data Analytics                              109 non-null    object \n",
      " 14  I plan to work hard in this module                                           109 non-null    object \n",
      " 15  Height (absolute value, in centimeters (cm) - sorry imperial system users!)  109 non-null    float64\n",
      " 16  Height (relative)                                                            109 non-null    object \n",
      "dtypes: float64(2), int64(3), object(12)\n",
      "memory usage: 14.6+ KB\n"
     ]
    }
   ],
   "source": [
    "unrelated_columns = ['ID','Email']\n",
    "file = file.drop(columns=unrelated_columns)\n",
    "file.info()"
   ]
  },
  {
   "cell_type": "markdown",
   "metadata": {},
   "source": [
    "#### Renaming all columns to snake case and shorter names "
   ]
  },
  {
   "cell_type": "code",
   "execution_count": 5,
   "metadata": {},
   "outputs": [],
   "source": [
    "file = file.rename(columns={\"Start time\" : \"Start_time\",\n",
    "                     \"Completion time\": \"End_time\",\n",
    "                     \"Closest biggest city near you\": \"City\",\n",
    "                     \"Number of kids (<18y) living with you\": \"Kids\",\n",
    "                     \"Birth Year\": \"Birth_year\",\n",
    "                     \"Number of modules completed so far\": \"Modules_num\", \n",
    "                     \"Average mark so far\": \"Average_grade\", \n",
    "                     \"Prediction for this module's mark\": \"Prediction_grade\",\n",
    "                     \"Height (absolute value, in centimeters (cm) - sorry imperial system users!)\" : \"Height_cm\",\n",
    "                     \"Height (relative)\": \"Height_relative\", \n",
    "                     \"I enjoy working with data\": \"Enjoy_data\", \n",
    "                     \"I am excited about working with data\": \"Excited_data\",\n",
    "                     \"I am afraid of working with data\": \"Afraid_data\",\n",
    "                     \"I am interested in understanding Data Analytics\": \"Interested_DA\",\n",
    "                     \"I plan to work hard in this module\": \"Work_hard\",\n",
    "                    })"
   ]
  },
  {
   "cell_type": "markdown",
   "metadata": {},
   "source": [
    "#### Grouping columns by quantitative and qualitative"
   ]
  },
  {
   "cell_type": "code",
   "execution_count": null,
   "metadata": {},
   "outputs": [],
   "source": [
    "quantitative_cols = [\"Start_time\", \"End_time\", \"Age\", \"Kids\", \"Modules_num\", \"Average_grade\", \"Prediction_grade\", \"Height_cm\", \n",
    "                     \"Height_relative\", \"Enjoy_data\", \"Excited_data\", \"Afraid_data\", \"Interested_DA\", \n",
    "                     \"Work_hard\"]\n",
    "\n",
    "qualitative_cols = [\"Gender\", \"City\"]"
   ]
  },
  {
   "cell_type": "markdown",
   "metadata": {},
   "source": [
    "#### Grouping columns by scales of measurement: nominal, ordinal, interval, and ratio"
   ]
  },
  {
   "cell_type": "code",
   "execution_count": null,
   "metadata": {},
   "outputs": [],
   "source": [
    "nominal_cols = [\"Gender\", \"City\"]\n",
    "ordinal_cols = [\"Height_relative\", \"Enjoy_data\", \"Excited_data\", \"Afraid_data\", \"Interested_DA\", \"Work_hard\"]\n",
    "ratio_cols = [\"Height_cm\", \"Age\", \"Kids\", \"Modules_num\"]\n",
    "interval_cols = [\"Start_time\", \"End_time\", \"Average_grade\", \"Prediction_grade\"]"
   ]
  },
  {
   "cell_type": "markdown",
   "metadata": {},
   "source": [
    "#### Grouping into discrete and continuous "
   ]
  },
  {
   "cell_type": "code",
   "execution_count": null,
   "metadata": {},
   "outputs": [],
   "source": [
    "discrete = [\"Kids\", \"Modules_num\"]\n",
    "continuous = [\"Height_cm\", \"Age\", \"Start_time\", \"End_time\", \"Average_grade\", \"Prediction_grade\"]"
   ]
  },
  {
   "cell_type": "markdown",
   "metadata": {},
   "source": [
    "### Data Quality Assessment"
   ]
  },
  {
   "cell_type": "code",
   "execution_count": 268,
   "metadata": {},
   "outputs": [
    {
     "data": {
      "text/plain": [
       "Start_time           object\n",
       "End_time             object\n",
       "Gender               object\n",
       "Age                  object\n",
       "City                 object\n",
       "Kids                  int64\n",
       "Birth_year            int64\n",
       "Modules_num          object\n",
       "Average_grade       float64\n",
       "Prediction_grade      int64\n",
       "Enjoy_data           object\n",
       "Excited_data         object\n",
       "Afraid_data          object\n",
       "Interested_DA        object\n",
       "Work_hard            object\n",
       "Height_cm           float64\n",
       "Height_relative      object\n",
       "dtype: object"
      ]
     },
     "execution_count": 268,
     "metadata": {},
     "output_type": "execute_result"
    }
   ],
   "source": [
    "file.dtypes"
   ]
  },
  {
   "cell_type": "code",
   "execution_count": 269,
   "metadata": {},
   "outputs": [
    {
     "data": {
      "text/plain": [
       "Start_time          0\n",
       "End_time            0\n",
       "Gender              0\n",
       "Age                 0\n",
       "City                0\n",
       "Kids                0\n",
       "Birth_year          0\n",
       "Modules_num         0\n",
       "Average_grade       3\n",
       "Prediction_grade    0\n",
       "Enjoy_data          0\n",
       "Excited_data        0\n",
       "Afraid_data         0\n",
       "Interested_DA       0\n",
       "Work_hard           0\n",
       "Height_cm           0\n",
       "Height_relative     0\n",
       "dtype: int64"
      ]
     },
     "execution_count": 269,
     "metadata": {},
     "output_type": "execute_result"
    }
   ],
   "source": [
    "file.isnull().sum()"
   ]
  },
  {
   "cell_type": "code",
   "execution_count": 6,
   "metadata": {},
   "outputs": [
    {
     "name": "stdout",
     "output_type": "stream",
     "text": [
      "<class 'pandas.core.frame.DataFrame'>\n",
      "RangeIndex: 109 entries, 0 to 108\n",
      "Data columns (total 17 columns):\n",
      " #   Column            Non-Null Count  Dtype  \n",
      "---  ------            --------------  -----  \n",
      " 0   Start_time        109 non-null    object \n",
      " 1   End_time          109 non-null    object \n",
      " 2   Gender            109 non-null    object \n",
      " 3   Age               109 non-null    object \n",
      " 4   City              109 non-null    object \n",
      " 5   Kids              109 non-null    int64  \n",
      " 6   Birth_year        109 non-null    int64  \n",
      " 7   Modules_num       109 non-null    object \n",
      " 8   Average_grade     106 non-null    float64\n",
      " 9   Prediction_grade  109 non-null    int64  \n",
      " 10  Enjoy_data        109 non-null    object \n",
      " 11  Excited_data      109 non-null    object \n",
      " 12  Afraid_data       109 non-null    object \n",
      " 13  Interested_DA     109 non-null    object \n",
      " 14  Work_hard         109 non-null    object \n",
      " 15  Height_cm         109 non-null    float64\n",
      " 16  Height_relative   109 non-null    object \n",
      "dtypes: float64(2), int64(3), object(12)\n",
      "memory usage: 14.6+ KB\n"
     ]
    },
    {
     "data": {
      "text/html": [
       "<div>\n",
       "<style scoped>\n",
       "    .dataframe tbody tr th:only-of-type {\n",
       "        vertical-align: middle;\n",
       "    }\n",
       "\n",
       "    .dataframe tbody tr th {\n",
       "        vertical-align: top;\n",
       "    }\n",
       "\n",
       "    .dataframe thead th {\n",
       "        text-align: right;\n",
       "    }\n",
       "</style>\n",
       "<table border=\"1\" class=\"dataframe\">\n",
       "  <thead>\n",
       "    <tr style=\"text-align: right;\">\n",
       "      <th></th>\n",
       "      <th>Start_time</th>\n",
       "      <th>End_time</th>\n",
       "      <th>Gender</th>\n",
       "      <th>Age</th>\n",
       "      <th>City</th>\n",
       "      <th>Kids</th>\n",
       "      <th>Birth_year</th>\n",
       "      <th>Modules_num</th>\n",
       "      <th>Average_grade</th>\n",
       "      <th>Prediction_grade</th>\n",
       "      <th>Enjoy_data</th>\n",
       "      <th>Excited_data</th>\n",
       "      <th>Afraid_data</th>\n",
       "      <th>Interested_DA</th>\n",
       "      <th>Work_hard</th>\n",
       "      <th>Height_cm</th>\n",
       "      <th>Height_relative</th>\n",
       "    </tr>\n",
       "  </thead>\n",
       "  <tbody>\n",
       "    <tr>\n",
       "      <th>0</th>\n",
       "      <td>12/17/20 9:09:33</td>\n",
       "      <td>12/17/20 9:10:55</td>\n",
       "      <td>Woman</td>\n",
       "      <td>40-49</td>\n",
       "      <td>Lagos</td>\n",
       "      <td>0</td>\n",
       "      <td>1975</td>\n",
       "      <td>5</td>\n",
       "      <td>62.0</td>\n",
       "      <td>62</td>\n",
       "      <td>Agree</td>\n",
       "      <td>Agree</td>\n",
       "      <td>Completely Disagree</td>\n",
       "      <td>Agree</td>\n",
       "      <td>Agree</td>\n",
       "      <td>175.0</td>\n",
       "      <td>very tall</td>\n",
       "    </tr>\n",
       "    <tr>\n",
       "      <th>1</th>\n",
       "      <td>12/17/20 9:09:27</td>\n",
       "      <td>12/17/20 9:11:01</td>\n",
       "      <td>Man</td>\n",
       "      <td>30-39</td>\n",
       "      <td>Dhaka</td>\n",
       "      <td>0</td>\n",
       "      <td>1011986</td>\n",
       "      <td>5</td>\n",
       "      <td>57.0</td>\n",
       "      <td>65</td>\n",
       "      <td>Agree</td>\n",
       "      <td>Agree</td>\n",
       "      <td>Completely Disagree</td>\n",
       "      <td>Agree</td>\n",
       "      <td>Agree</td>\n",
       "      <td>172.0</td>\n",
       "      <td>average</td>\n",
       "    </tr>\n",
       "    <tr>\n",
       "      <th>2</th>\n",
       "      <td>12/17/20 9:09:34</td>\n",
       "      <td>12/17/20 9:14:39</td>\n",
       "      <td>Man</td>\n",
       "      <td>30-39</td>\n",
       "      <td>Hanoi</td>\n",
       "      <td>0</td>\n",
       "      <td>1989</td>\n",
       "      <td>5</td>\n",
       "      <td>61.0</td>\n",
       "      <td>64</td>\n",
       "      <td>Agree</td>\n",
       "      <td>Meh</td>\n",
       "      <td>Disagree</td>\n",
       "      <td>Meh</td>\n",
       "      <td>Meh</td>\n",
       "      <td>178.0</td>\n",
       "      <td>average</td>\n",
       "    </tr>\n",
       "    <tr>\n",
       "      <th>3</th>\n",
       "      <td>12/17/20 9:19:54</td>\n",
       "      <td>12/17/20 9:27:03</td>\n",
       "      <td>Woman</td>\n",
       "      <td>50-59</td>\n",
       "      <td>Stockholm</td>\n",
       "      <td>0</td>\n",
       "      <td>1970</td>\n",
       "      <td>5</td>\n",
       "      <td>60.0</td>\n",
       "      <td>100</td>\n",
       "      <td>Agree</td>\n",
       "      <td>Agree</td>\n",
       "      <td>Completely Disagree</td>\n",
       "      <td>Agree</td>\n",
       "      <td>Completely Agree</td>\n",
       "      <td>164.0</td>\n",
       "      <td>average</td>\n",
       "    </tr>\n",
       "  </tbody>\n",
       "</table>\n",
       "</div>"
      ],
      "text/plain": [
       "         Start_time          End_time Gender    Age       City  Kids  \\\n",
       "0  12/17/20 9:09:33  12/17/20 9:10:55  Woman  40-49     Lagos      0   \n",
       "1  12/17/20 9:09:27  12/17/20 9:11:01    Man  30-39      Dhaka     0   \n",
       "2  12/17/20 9:09:34  12/17/20 9:14:39    Man  30-39      Hanoi     0   \n",
       "3  12/17/20 9:19:54  12/17/20 9:27:03  Woman  50-59  Stockholm     0   \n",
       "\n",
       "   Birth_year Modules_num  Average_grade  Prediction_grade Enjoy_data  \\\n",
       "0        1975           5           62.0                62      Agree   \n",
       "1     1011986           5           57.0                65      Agree   \n",
       "2        1989           5           61.0                64      Agree   \n",
       "3        1970           5           60.0               100      Agree   \n",
       "\n",
       "  Excited_data          Afraid_data Interested_DA         Work_hard  \\\n",
       "0        Agree  Completely Disagree         Agree             Agree   \n",
       "1        Agree  Completely Disagree         Agree             Agree   \n",
       "2          Meh             Disagree           Meh               Meh   \n",
       "3        Agree  Completely Disagree         Agree  Completely Agree   \n",
       "\n",
       "   Height_cm Height_relative  \n",
       "0      175.0       very tall  \n",
       "1      172.0         average  \n",
       "2      178.0         average  \n",
       "3      164.0         average  "
      ]
     },
     "execution_count": 6,
     "metadata": {},
     "output_type": "execute_result"
    }
   ],
   "source": [
    "file.info()\n",
    "file.head(4)"
   ]
  },
  {
   "cell_type": "markdown",
   "metadata": {},
   "source": [
    "## Data Cleansing"
   ]
  },
  {
   "cell_type": "markdown",
   "metadata": {},
   "source": [
    "### Helper Methods"
   ]
  },
  {
   "cell_type": "code",
   "execution_count": 6,
   "metadata": {},
   "outputs": [],
   "source": [
    "def clean_birth_year(year_value):\n",
    "    now = datetime.datetime.now()\n",
    "    current_year = now.year\n",
    "    digits_num = int(math.log10(year_value))+1\n",
    "    year_value = str(year_value)\n",
    "    if (digits_num > 4):\n",
    "        year_value = year_value[-4:]\n",
    "    elif (digits_num < 4):\n",
    "        year_value = current_year - int(year_value)\n",
    "    return int(year_value)\n",
    "\n",
    "def convert_age_to_list_range(age_item):\n",
    "    if \"-\" in age_item:\n",
    "        age_item = age_item.split(\"-\")\n",
    "        first_num = int(age_item[0])\n",
    "        second_num = int(age_item[1])\n",
    "        age_item = [first_num, second_num]\n",
    "    else:\n",
    "        age_item = age_item.split(\"+\")\n",
    "        first_num = int(age_item[0])\n",
    "        second_num = 100\n",
    "        age_item = [first_num, second_num]\n",
    "    return age_item\n",
    "\n",
    "def correct_cities(city):\n",
    "    city = city.title()\n",
    "    city = city.strip()\n",
    "    return city"
   ]
  },
  {
   "cell_type": "markdown",
   "metadata": {},
   "source": [
    "### Missing Values"
   ]
  },
  {
   "cell_type": "markdown",
   "metadata": {},
   "source": [
    "The \"Average  mark so far\" contains less non-null values than other columns. Checking the NaN values."
   ]
  },
  {
   "cell_type": "code",
   "execution_count": null,
   "metadata": {},
   "outputs": [],
   "source": [
    "file['Average mark so far']"
   ]
  },
  {
   "cell_type": "markdown",
   "metadata": {},
   "source": [
    "#### Dropping all the rows with null values"
   ]
  },
  {
   "cell_type": "code",
   "execution_count": 7,
   "metadata": {},
   "outputs": [
    {
     "name": "stdout",
     "output_type": "stream",
     "text": [
      "<class 'pandas.core.frame.DataFrame'>\n",
      "RangeIndex: 106 entries, 0 to 105\n",
      "Data columns (total 17 columns):\n",
      " #   Column            Non-Null Count  Dtype  \n",
      "---  ------            --------------  -----  \n",
      " 0   Start_time        106 non-null    object \n",
      " 1   End_time          106 non-null    object \n",
      " 2   Gender            106 non-null    object \n",
      " 3   Age               106 non-null    object \n",
      " 4   City              106 non-null    object \n",
      " 5   Kids              106 non-null    int64  \n",
      " 6   Birth_year        106 non-null    int64  \n",
      " 7   Modules_num       106 non-null    object \n",
      " 8   Average_grade     106 non-null    float64\n",
      " 9   Prediction_grade  106 non-null    int64  \n",
      " 10  Enjoy_data        106 non-null    object \n",
      " 11  Excited_data      106 non-null    object \n",
      " 12  Afraid_data       106 non-null    object \n",
      " 13  Interested_DA     106 non-null    object \n",
      " 14  Work_hard         106 non-null    object \n",
      " 15  Height_cm         106 non-null    float64\n",
      " 16  Height_relative   106 non-null    object \n",
      "dtypes: float64(2), int64(3), object(12)\n",
      "memory usage: 14.2+ KB\n"
     ]
    }
   ],
   "source": [
    "file = file.dropna()\n",
    "file = file.reset_index(drop=True)\n",
    "file.info()"
   ]
  },
  {
   "cell_type": "markdown",
   "metadata": {},
   "source": [
    "#### Exploring the Birth Year and Age"
   ]
  },
  {
   "cell_type": "code",
   "execution_count": null,
   "metadata": {},
   "outputs": [],
   "source": [
    "file[['Birth_year', 'Age']]"
   ]
  },
  {
   "cell_type": "markdown",
   "metadata": {},
   "source": [
    "Using a helper method clean_birth_year() to clean the years: from a more than 4-digit number takes only last 4 digits, for each 2 digit number subtracts the number from the current year to find the birth year "
   ]
  },
  {
   "cell_type": "code",
   "execution_count": 8,
   "metadata": {},
   "outputs": [],
   "source": [
    "file[\"Birth_year\"] = file[\"Birth_year\"].apply(clean_birth_year)"
   ]
  },
  {
   "cell_type": "markdown",
   "metadata": {},
   "source": [
    "Subtracting from the current year the birth year (to explore if it is in the age range)"
   ]
  },
  {
   "cell_type": "code",
   "execution_count": 9,
   "metadata": {},
   "outputs": [],
   "source": [
    "ages_calculated_by_birth_year = []\n",
    "now = datetime.datetime.now()\n",
    "current_year = now.year\n",
    "for i in file['Birth_year']:\n",
    "    age = current_year - i\n",
    "    ages_calculated_by_birth_year.append(age)\n",
    "\n",
    "file[\"Age_by_birth_year\"] = ages_calculated_by_birth_year"
   ]
  },
  {
   "cell_type": "markdown",
   "metadata": {},
   "source": [
    "Converting Age string into a list of 2 values"
   ]
  },
  {
   "cell_type": "code",
   "execution_count": 10,
   "metadata": {},
   "outputs": [],
   "source": [
    "file[\"Age\"] = file[\"Age\"].apply(convert_age_to_list_range)"
   ]
  },
  {
   "cell_type": "markdown",
   "metadata": {},
   "source": [
    "Comparing \"Age\" and \"Age_by_birth_year\" column values"
   ]
  },
  {
   "cell_type": "code",
   "execution_count": 304,
   "metadata": {},
   "outputs": [],
   "source": [
    "file[[\"Age_by_birth_year\", \"Age\"]]"
   ]
  },
  {
   "cell_type": "code",
   "execution_count": 11,
   "metadata": {},
   "outputs": [
    {
     "name": "stdout",
     "output_type": "stream",
     "text": [
      "ISSUE\n",
      "Age by birth year =  50\n",
      "Age Range:  40  -  49\n",
      "ISSUE\n",
      "Age by birth year =  50\n",
      "Age Range:  40  -  49\n",
      "ISSUE\n",
      "Age by birth year =  50\n",
      "Age Range:  40  -  49\n",
      "ISSUE\n",
      "Age by birth year =  40\n",
      "Age Range:  30  -  39\n",
      "ISSUE\n",
      "Age by birth year =  62\n",
      "Age Range:  50  -  59\n",
      "ISSUE\n",
      "Age by birth year =  30\n",
      "Age Range:  20  -  29\n",
      "ISSUE\n",
      "Age by birth year =  60\n",
      "Age Range:  50  -  59\n",
      "ISSUE\n",
      "Age by birth year =  30\n",
      "Age Range:  20  -  29\n",
      "ISSUE\n",
      "Age by birth year =  30\n",
      "Age Range:  20  -  29\n",
      "ISSUE\n",
      "Age by birth year =  60\n",
      "Age Range:  50  -  59\n",
      "ISSUE\n",
      "Age by birth year =  50\n",
      "Age Range:  40  -  49\n"
     ]
    },
    {
     "data": {
      "text/plain": [
       "' The issue results were observed and no significant issues were found, \\n    the difference might be in months, or some\\n    people have put themsleves in 1 year younger group'"
      ]
     },
     "execution_count": 11,
     "metadata": {},
     "output_type": "execute_result"
    }
   ],
   "source": [
    "for i in range(0, 106):\n",
    "    if (file[\"Age_by_birth_year\"].iloc[i] > file[\"Age\"].iloc[i][1]) \\\n",
    "        or (file[\"Age_by_birth_year\"].iloc[i] < file[\"Age\"].iloc[i][0]):\n",
    "        print(\"ISSUE\")\n",
    "        print(\"Age by birth year = \", file[\"Age_by_birth_year\"].iloc[i])\n",
    "        print(\"Age Range: \", file[\"Age\"].iloc[i][0], \" - \", file[\"Age\"].iloc[i][1])\n",
    "        \n",
    "\"\"\" The issue results were observed and no significant issues were found, \n",
    "    the difference might be in months, or some\n",
    "    people have put themsleves in 1 year younger group\"\"\"\n",
    "    "
   ]
  },
  {
   "cell_type": "markdown",
   "metadata": {},
   "source": [
    "The data exploration above proves that the Age range and Age data can be trusted now\n"
   ]
  },
  {
   "cell_type": "markdown",
   "metadata": {},
   "source": [
    "### Errors"
   ]
  },
  {
   "cell_type": "code",
   "execution_count": 12,
   "metadata": {},
   "outputs": [],
   "source": [
    "file[\"City\"] = file[\"City\"].apply(correct_cities)"
   ]
  },
  {
   "cell_type": "markdown",
   "metadata": {},
   "source": [
    "### Outliers"
   ]
  },
  {
   "cell_type": "markdown",
   "metadata": {},
   "source": [
    "##### Displaying the age and grades to find outliers"
   ]
  },
  {
   "cell_type": "code",
   "execution_count": 12,
   "metadata": {},
   "outputs": [
    {
     "data": {
      "text/plain": [
       "Text(0.5, 1.0, 'Student Age and Average Grade')"
      ]
     },
     "execution_count": 12,
     "metadata": {},
     "output_type": "execute_result"
    },
    {
     "data": {
      "image/png": "[encoded data removed]",
      "text/plain": [
       "<Figure size 432x288 with 1 Axes>"
      ]
     },
     "metadata": {
      "needs_background": "light"
     },
     "output_type": "display_data"
    }
   ],
   "source": [
    "fig, ax = plt.subplots()\n",
    "ax.scatter(file[\"Age_by_birth_year\"], file[\"Average_grade\"]) \n",
    "ax.set_xlabel('Age')\n",
    "ax.set_ylabel('Average Mark')  \n",
    "ax.set_title(\"Student Age and Average Grade\")"
   ]
  },
  {
   "cell_type": "markdown",
   "metadata": {},
   "source": [
    "Conclusions: the grade of 120 is likely to be en error, because the max grade is 100. The grades below 50 shall be examined closer. The grades below 20 should be invetigated since this is a strong failing grade. "
   ]
  },
  {
   "cell_type": "code",
   "execution_count": 13,
   "metadata": {},
   "outputs": [
    {
     "name": "stdout",
     "output_type": "stream",
     "text": [
      "56   2.0\n",
      "79   120.0\n",
      "88   1.0\n",
      "95   5.0\n"
     ]
    }
   ],
   "source": [
    "# DROP OUTLIERS\n",
    "outlier_indexes = []\n",
    "## study filter() method\n",
    "\n",
    "for i in range(len(file)):\n",
    "    if (file[\"Average_grade\"][i] >100) or (file[\"Average_grade\"][i] <=5):\n",
    "        print(i, \" \", file[\"Average_grade\"][i])\n",
    "        outlier_indexes.append(i)\n",
    "\n",
    "file = file.drop(outlier_indexes)\n",
    "file = file.reset_index(drop=True)"
   ]
  },
  {
   "cell_type": "code",
   "execution_count": 50,
   "metadata": {},
   "outputs": [
    {
     "data": {
      "text/plain": [
       "Text(0.5, 1.0, 'Student Age and Average Grade')"
      ]
     },
     "execution_count": 50,
     "metadata": {},
     "output_type": "execute_result"
    },
    {
     "data": {
      "image/png": "[encoded data removed]",
      "text/plain": [
       "<Figure size 432x288 with 1 Axes>"
      ]
     },
     "metadata": {
      "needs_background": "light"
     },
     "output_type": "display_data"
    }
   ],
   "source": [
    "# drawing the plot again with no outliers\n",
    "fig, ax = plt.subplots()\n",
    "ax.scatter(file[\"Age_by_birth_year\"], file[\"Average_grade\"]) \n",
    "ax.set_xlabel('Age')\n",
    "ax.set_ylabel('Average Mark')  \n",
    "ax.set_title(\"Student Age and Average Grade\")"
   ]
  },
  {
   "cell_type": "markdown",
   "metadata": {},
   "source": [
    "##### Displaying the average grades and the number of completed modules"
   ]
  },
  {
   "cell_type": "code",
   "execution_count": 52,
   "metadata": {},
   "outputs": [
    {
     "data": {
      "text/plain": [
       "Text(0.5, 1.0, 'Number of Modules and Average Grade')"
      ]
     },
     "execution_count": 52,
     "metadata": {},
     "output_type": "execute_result"
    },
    {
     "data": {
      "image/png": "[encoded data removed]",
      "text/plain": [
       "<Figure size 432x288 with 1 Axes>"
      ]
     },
     "metadata": {
      "needs_background": "light"
     },
     "output_type": "display_data"
    }
   ],
   "source": [
    "fig, ax = plt.subplots()\n",
    "# sort number if modules from 1-5\n",
    "ax.scatter(file[\"Modules_num\"], file[\"Average_grade\"]) \n",
    "ax.set_xlabel('Number of modules')\n",
    "ax.set_ylabel('Average Grade') \n",
    "ax.set_title(\"Number of Modules and Average Grade\")"
   ]
  },
  {
   "cell_type": "markdown",
   "metadata": {},
   "source": [
    "##### Displaying the average grades and the number of kids"
   ]
  },
  {
   "cell_type": "code",
   "execution_count": 53,
   "metadata": {},
   "outputs": [
    {
     "data": {
      "text/plain": [
       "Text(0.5, 1.0, 'Number of Kids of a Student and Average Grade')"
      ]
     },
     "execution_count": 53,
     "metadata": {},
     "output_type": "execute_result"
    },
    {
     "data": {
      "image/png": "[encoded data removed]",
      "text/plain": [
       "<Figure size 432x288 with 1 Axes>"
      ]
     },
     "metadata": {
      "needs_background": "light"
     },
     "output_type": "display_data"
    }
   ],
   "source": [
    "fig, ax = plt.subplots()\n",
    "ax.scatter(file[\"Kids\"], file[\"Average_grade\"]) \n",
    "ax.set_xlabel('Number of Kids')\n",
    "ax.set_ylabel('Average Mark')  \n",
    "ax.set_title(\"Number of Kids of a Student and Average Grade\")"
   ]
  },
  {
   "cell_type": "markdown",
   "metadata": {},
   "source": [
    "### Statistical Summaries"
   ]
  },
  {
   "cell_type": "code",
   "execution_count": 65,
   "metadata": {},
   "outputs": [
    {
     "data": {
      "text/html": [
       "<div>\n",
       "<style scoped>\n",
       "    .dataframe tbody tr th:only-of-type {\n",
       "        vertical-align: middle;\n",
       "    }\n",
       "\n",
       "    .dataframe tbody tr th {\n",
       "        vertical-align: top;\n",
       "    }\n",
       "\n",
       "    .dataframe thead th {\n",
       "        text-align: right;\n",
       "    }\n",
       "</style>\n",
       "<table border=\"1\" class=\"dataframe\">\n",
       "  <thead>\n",
       "    <tr style=\"text-align: right;\">\n",
       "      <th></th>\n",
       "      <th>Kids</th>\n",
       "      <th>Birth_year</th>\n",
       "      <th>Average_grade</th>\n",
       "      <th>Prediction_grade</th>\n",
       "      <th>Height_cm</th>\n",
       "      <th>Age_by_birth_year</th>\n",
       "    </tr>\n",
       "  </thead>\n",
       "  <tbody>\n",
       "    <tr>\n",
       "      <th>count</th>\n",
       "      <td>101.000000</td>\n",
       "      <td>101.000000</td>\n",
       "      <td>101.000000</td>\n",
       "      <td>101.000000</td>\n",
       "      <td>101.000000</td>\n",
       "      <td>101.000000</td>\n",
       "    </tr>\n",
       "    <tr>\n",
       "      <th>mean</th>\n",
       "      <td>1.009901</td>\n",
       "      <td>1977.158416</td>\n",
       "      <td>62.739109</td>\n",
       "      <td>66.247525</td>\n",
       "      <td>170.746238</td>\n",
       "      <td>43.841584</td>\n",
       "    </tr>\n",
       "    <tr>\n",
       "      <th>std</th>\n",
       "      <td>1.170428</td>\n",
       "      <td>9.099157</td>\n",
       "      <td>5.709389</td>\n",
       "      <td>10.668089</td>\n",
       "      <td>141.340405</td>\n",
       "      <td>9.099157</td>\n",
       "    </tr>\n",
       "    <tr>\n",
       "      <th>min</th>\n",
       "      <td>0.000000</td>\n",
       "      <td>1946.000000</td>\n",
       "      <td>50.000000</td>\n",
       "      <td>0.000000</td>\n",
       "      <td>1.400000</td>\n",
       "      <td>24.000000</td>\n",
       "    </tr>\n",
       "    <tr>\n",
       "      <th>25%</th>\n",
       "      <td>0.000000</td>\n",
       "      <td>1971.000000</td>\n",
       "      <td>60.000000</td>\n",
       "      <td>60.000000</td>\n",
       "      <td>160.020000</td>\n",
       "      <td>37.000000</td>\n",
       "    </tr>\n",
       "    <tr>\n",
       "      <th>50%</th>\n",
       "      <td>1.000000</td>\n",
       "      <td>1977.000000</td>\n",
       "      <td>62.000000</td>\n",
       "      <td>65.000000</td>\n",
       "      <td>170.000000</td>\n",
       "      <td>44.000000</td>\n",
       "    </tr>\n",
       "    <tr>\n",
       "      <th>75%</th>\n",
       "      <td>2.000000</td>\n",
       "      <td>1984.000000</td>\n",
       "      <td>66.000000</td>\n",
       "      <td>70.000000</td>\n",
       "      <td>178.000000</td>\n",
       "      <td>50.000000</td>\n",
       "    </tr>\n",
       "    <tr>\n",
       "      <th>max</th>\n",
       "      <td>5.000000</td>\n",
       "      <td>1997.000000</td>\n",
       "      <td>78.000000</td>\n",
       "      <td>100.000000</td>\n",
       "      <td>1500.000000</td>\n",
       "      <td>75.000000</td>\n",
       "    </tr>\n",
       "  </tbody>\n",
       "</table>\n",
       "</div>"
      ],
      "text/plain": [
       "             Kids   Birth_year  Average_grade  Prediction_grade    Height_cm  \\\n",
       "count  101.000000   101.000000     101.000000        101.000000   101.000000   \n",
       "mean     1.009901  1977.158416      62.739109         66.247525   170.746238   \n",
       "std      1.170428     9.099157       5.709389         10.668089   141.340405   \n",
       "min      0.000000  1946.000000      50.000000          0.000000     1.400000   \n",
       "25%      0.000000  1971.000000      60.000000         60.000000   160.020000   \n",
       "50%      1.000000  1977.000000      62.000000         65.000000   170.000000   \n",
       "75%      2.000000  1984.000000      66.000000         70.000000   178.000000   \n",
       "max      5.000000  1997.000000      78.000000        100.000000  1500.000000   \n",
       "\n",
       "       Age_by_birth_year  \n",
       "count         101.000000  \n",
       "mean           43.841584  \n",
       "std             9.099157  \n",
       "min            24.000000  \n",
       "25%            37.000000  \n",
       "50%            44.000000  \n",
       "75%            50.000000  \n",
       "max            75.000000  "
      ]
     },
     "execution_count": 65,
     "metadata": {},
     "output_type": "execute_result"
    }
   ],
   "source": [
    "file.describe()"
   ]
  },
  {
   "cell_type": "code",
   "execution_count": 42,
   "metadata": {
    "scrolled": true
   },
   "outputs": [
    {
     "data": {
      "text/plain": [
       "count       102\n",
       "unique        4\n",
       "top       Agree\n",
       "freq         54\n",
       "Name: Enjoy_data, dtype: object"
      ]
     },
     "execution_count": 42,
     "metadata": {},
     "output_type": "execute_result"
    }
   ],
   "source": [
    "file[\"Enjoy_data\"].describe()"
   ]
  },
  {
   "cell_type": "code",
   "execution_count": 255,
   "metadata": {},
   "outputs": [
    {
     "data": {
      "text/plain": [
       "count       106\n",
       "unique        5\n",
       "top       Agree\n",
       "freq         46\n",
       "Name: Excited_data, dtype: object"
      ]
     },
     "execution_count": 255,
     "metadata": {},
     "output_type": "execute_result"
    }
   ],
   "source": [
    "file[\"Excited_data\"].describe()"
   ]
  },
  {
   "cell_type": "code",
   "execution_count": 256,
   "metadata": {},
   "outputs": [
    {
     "data": {
      "text/plain": [
       "count                     106\n",
       "unique                      5\n",
       "top       Completely Disagree\n",
       "freq                       41\n",
       "Name: Afraid_data, dtype: object"
      ]
     },
     "execution_count": 256,
     "metadata": {},
     "output_type": "execute_result"
    }
   ],
   "source": [
    "file[\"Afraid_data\"].describe()"
   ]
  },
  {
   "cell_type": "code",
   "execution_count": 257,
   "metadata": {},
   "outputs": [
    {
     "data": {
      "text/plain": [
       "count                  106\n",
       "unique                   4\n",
       "top       Completely Agree\n",
       "freq                    60\n",
       "Name: Interested_DA, dtype: object"
      ]
     },
     "execution_count": 257,
     "metadata": {},
     "output_type": "execute_result"
    }
   ],
   "source": [
    "file[\"Interested_DA\"].describe()"
   ]
  },
  {
   "cell_type": "code",
   "execution_count": 258,
   "metadata": {},
   "outputs": [
    {
     "data": {
      "text/plain": [
       "count                  106\n",
       "unique                   4\n",
       "top       Completely Agree\n",
       "freq                    61\n",
       "Name: Work_hard, dtype: object"
      ]
     },
     "execution_count": 258,
     "metadata": {},
     "output_type": "execute_result"
    }
   ],
   "source": [
    "file[\"Work_hard\"].describe()"
   ]
  },
  {
   "cell_type": "code",
   "execution_count": 259,
   "metadata": {},
   "outputs": [
    {
     "data": {
      "text/plain": [
       "count     106\n",
       "unique      2\n",
       "top       Man\n",
       "freq       63\n",
       "Name: Gender, dtype: object"
      ]
     },
     "execution_count": 259,
     "metadata": {},
     "output_type": "execute_result"
    }
   ],
   "source": [
    "file[\"Gender\"].describe()"
   ]
  },
  {
   "cell_type": "code",
   "execution_count": 260,
   "metadata": {},
   "outputs": [
    {
     "data": {
      "text/plain": [
       "count     106\n",
       "unique      5\n",
       "top         5\n",
       "freq       74\n",
       "Name: Modules_num, dtype: object"
      ]
     },
     "execution_count": 260,
     "metadata": {},
     "output_type": "execute_result"
    }
   ],
   "source": [
    "file[\"Modules_num\"].describe()"
   ]
  },
  {
   "cell_type": "code",
   "execution_count": 261,
   "metadata": {},
   "outputs": [
    {
     "data": {
      "text/plain": [
       "count         106\n",
       "unique          5\n",
       "top       average\n",
       "freq           52\n",
       "Name: Height_relative, dtype: object"
      ]
     },
     "execution_count": 261,
     "metadata": {},
     "output_type": "execute_result"
    }
   ],
   "source": [
    "file[\"Height_relative\"].describe()"
   ]
  },
  {
   "cell_type": "markdown",
   "metadata": {},
   "source": [
    "#### Pivot Tables\n",
    "##### Average Grade Stats by Gender"
   ]
  },
  {
   "cell_type": "code",
   "execution_count": 55,
   "metadata": {},
   "outputs": [
    {
     "data": {
      "text/html": [
       "<div>\n",
       "<style scoped>\n",
       "    .dataframe tbody tr th:only-of-type {\n",
       "        vertical-align: middle;\n",
       "    }\n",
       "\n",
       "    .dataframe tbody tr th {\n",
       "        vertical-align: top;\n",
       "    }\n",
       "\n",
       "    .dataframe thead tr th {\n",
       "        text-align: left;\n",
       "    }\n",
       "\n",
       "    .dataframe thead tr:last-of-type th {\n",
       "        text-align: right;\n",
       "    }\n",
       "</style>\n",
       "<table border=\"1\" class=\"dataframe\">\n",
       "  <thead>\n",
       "    <tr>\n",
       "      <th></th>\n",
       "      <th colspan=\"5\" halign=\"left\">Average_grade</th>\n",
       "    </tr>\n",
       "    <tr>\n",
       "      <th></th>\n",
       "      <th>amin</th>\n",
       "      <th>amax</th>\n",
       "      <th>mean</th>\n",
       "      <th>std</th>\n",
       "      <th>median</th>\n",
       "    </tr>\n",
       "    <tr>\n",
       "      <th>Gender</th>\n",
       "      <th></th>\n",
       "      <th></th>\n",
       "      <th></th>\n",
       "      <th></th>\n",
       "      <th></th>\n",
       "    </tr>\n",
       "  </thead>\n",
       "  <tbody>\n",
       "    <tr>\n",
       "      <th>Man</th>\n",
       "      <td>25.0</td>\n",
       "      <td>78.0</td>\n",
       "      <td>62.402667</td>\n",
       "      <td>7.642998</td>\n",
       "      <td>62.5</td>\n",
       "    </tr>\n",
       "    <tr>\n",
       "      <th>Woman</th>\n",
       "      <td>50.0</td>\n",
       "      <td>75.0</td>\n",
       "      <td>62.321190</td>\n",
       "      <td>5.462325</td>\n",
       "      <td>62.0</td>\n",
       "    </tr>\n",
       "  </tbody>\n",
       "</table>\n",
       "</div>"
      ],
      "text/plain": [
       "       Average_grade                                  \n",
       "                amin  amax       mean       std median\n",
       "Gender                                                \n",
       "Man             25.0  78.0  62.402667  7.642998   62.5\n",
       "Woman           50.0  75.0  62.321190  5.462325   62.0"
      ]
     },
     "execution_count": 55,
     "metadata": {},
     "output_type": "execute_result"
    }
   ],
   "source": [
    "grouped_by_gender = file.groupby(\"Gender\")\n",
    "values = grouped_by_gender[[\"Average_grade\"]]\n",
    "gender_stats = values.agg([np.min, np.max, np.mean, np.std, np.median])\n",
    "gender_stats\n",
    "# draw box plot !!!"
   ]
  },
  {
   "cell_type": "markdown",
   "metadata": {},
   "source": [
    "##### Effect of Number of Kids on Average Grade"
   ]
  },
  {
   "cell_type": "code",
   "execution_count": 56,
   "metadata": {},
   "outputs": [
    {
     "data": {
      "text/html": [
       "<div>\n",
       "<style scoped>\n",
       "    .dataframe tbody tr th:only-of-type {\n",
       "        vertical-align: middle;\n",
       "    }\n",
       "\n",
       "    .dataframe tbody tr th {\n",
       "        vertical-align: top;\n",
       "    }\n",
       "\n",
       "    .dataframe thead tr th {\n",
       "        text-align: left;\n",
       "    }\n",
       "\n",
       "    .dataframe thead tr:last-of-type th {\n",
       "        text-align: right;\n",
       "    }\n",
       "</style>\n",
       "<table border=\"1\" class=\"dataframe\">\n",
       "  <thead>\n",
       "    <tr>\n",
       "      <th></th>\n",
       "      <th colspan=\"5\" halign=\"left\">Average_grade</th>\n",
       "    </tr>\n",
       "    <tr>\n",
       "      <th></th>\n",
       "      <th>amin</th>\n",
       "      <th>amax</th>\n",
       "      <th>mean</th>\n",
       "      <th>std</th>\n",
       "      <th>median</th>\n",
       "    </tr>\n",
       "    <tr>\n",
       "      <th>Kids</th>\n",
       "      <th></th>\n",
       "      <th></th>\n",
       "      <th></th>\n",
       "      <th></th>\n",
       "      <th></th>\n",
       "    </tr>\n",
       "  </thead>\n",
       "  <tbody>\n",
       "    <tr>\n",
       "      <th>0</th>\n",
       "      <td>25.0</td>\n",
       "      <td>77.0</td>\n",
       "      <td>61.776957</td>\n",
       "      <td>7.987933</td>\n",
       "      <td>61.875</td>\n",
       "    </tr>\n",
       "    <tr>\n",
       "      <th>1</th>\n",
       "      <td>54.0</td>\n",
       "      <td>78.0</td>\n",
       "      <td>63.752857</td>\n",
       "      <td>5.532400</td>\n",
       "      <td>63.625</td>\n",
       "    </tr>\n",
       "    <tr>\n",
       "      <th>2</th>\n",
       "      <td>52.0</td>\n",
       "      <td>68.0</td>\n",
       "      <td>61.559286</td>\n",
       "      <td>4.808884</td>\n",
       "      <td>61.500</td>\n",
       "    </tr>\n",
       "    <tr>\n",
       "      <th>3</th>\n",
       "      <td>55.0</td>\n",
       "      <td>78.0</td>\n",
       "      <td>62.272727</td>\n",
       "      <td>7.195011</td>\n",
       "      <td>60.000</td>\n",
       "    </tr>\n",
       "    <tr>\n",
       "      <th>4</th>\n",
       "      <td>64.0</td>\n",
       "      <td>68.0</td>\n",
       "      <td>66.000000</td>\n",
       "      <td>2.828427</td>\n",
       "      <td>66.000</td>\n",
       "    </tr>\n",
       "    <tr>\n",
       "      <th>5</th>\n",
       "      <td>56.0</td>\n",
       "      <td>56.0</td>\n",
       "      <td>56.000000</td>\n",
       "      <td>NaN</td>\n",
       "      <td>56.000</td>\n",
       "    </tr>\n",
       "  </tbody>\n",
       "</table>\n",
       "</div>"
      ],
      "text/plain": [
       "     Average_grade                                   \n",
       "              amin  amax       mean       std  median\n",
       "Kids                                                 \n",
       "0             25.0  77.0  61.776957  7.987933  61.875\n",
       "1             54.0  78.0  63.752857  5.532400  63.625\n",
       "2             52.0  68.0  61.559286  4.808884  61.500\n",
       "3             55.0  78.0  62.272727  7.195011  60.000\n",
       "4             64.0  68.0  66.000000  2.828427  66.000\n",
       "5             56.0  56.0  56.000000       NaN  56.000"
      ]
     },
     "execution_count": 56,
     "metadata": {},
     "output_type": "execute_result"
    }
   ],
   "source": [
    "# create a method that groups by and counts agg stats\n",
    "grouped_by_kids = file.groupby(\"Kids\")\n",
    "values = grouped_by_kids[[\"Average_grade\"]]\n",
    "kids_stats = values.agg([np.min, np.max, np.mean, np.std, np.median])\n",
    "kids_stats\n",
    "# try without dropping min values for grades \n",
    "#draw box plots"
   ]
  },
  {
   "cell_type": "code",
   "execution_count": 75,
   "metadata": {},
   "outputs": [
    {
     "data": {
      "text/html": [
       "<div>\n",
       "<style scoped>\n",
       "    .dataframe tbody tr th:only-of-type {\n",
       "        vertical-align: middle;\n",
       "    }\n",
       "\n",
       "    .dataframe tbody tr th {\n",
       "        vertical-align: top;\n",
       "    }\n",
       "\n",
       "    .dataframe thead tr th {\n",
       "        text-align: left;\n",
       "    }\n",
       "\n",
       "    .dataframe thead tr:last-of-type th {\n",
       "        text-align: right;\n",
       "    }\n",
       "</style>\n",
       "<table border=\"1\" class=\"dataframe\">\n",
       "  <thead>\n",
       "    <tr>\n",
       "      <th></th>\n",
       "      <th colspan=\"4\" halign=\"left\">Average_grade</th>\n",
       "    </tr>\n",
       "    <tr>\n",
       "      <th></th>\n",
       "      <th>amin</th>\n",
       "      <th>amax</th>\n",
       "      <th>mean</th>\n",
       "      <th>std</th>\n",
       "    </tr>\n",
       "    <tr>\n",
       "      <th>Excited_data</th>\n",
       "      <th></th>\n",
       "      <th></th>\n",
       "      <th></th>\n",
       "      <th></th>\n",
       "    </tr>\n",
       "  </thead>\n",
       "  <tbody>\n",
       "    <tr>\n",
       "      <th>Agree</th>\n",
       "      <td>50.0</td>\n",
       "      <td>70.00</td>\n",
       "      <td>61.166444</td>\n",
       "      <td>4.953781</td>\n",
       "    </tr>\n",
       "    <tr>\n",
       "      <th>Completely Agree</th>\n",
       "      <td>55.0</td>\n",
       "      <td>78.00</td>\n",
       "      <td>65.134706</td>\n",
       "      <td>6.439260</td>\n",
       "    </tr>\n",
       "    <tr>\n",
       "      <th>Completely Disagree</th>\n",
       "      <td>66.0</td>\n",
       "      <td>66.00</td>\n",
       "      <td>66.000000</td>\n",
       "      <td>NaN</td>\n",
       "    </tr>\n",
       "    <tr>\n",
       "      <th>Disagree</th>\n",
       "      <td>60.0</td>\n",
       "      <td>68.00</td>\n",
       "      <td>64.000000</td>\n",
       "      <td>5.656854</td>\n",
       "    </tr>\n",
       "    <tr>\n",
       "      <th>Meh</th>\n",
       "      <td>52.0</td>\n",
       "      <td>70.33</td>\n",
       "      <td>61.872632</td>\n",
       "      <td>4.972944</td>\n",
       "    </tr>\n",
       "  </tbody>\n",
       "</table>\n",
       "</div>"
      ],
      "text/plain": [
       "                    Average_grade                            \n",
       "                             amin   amax       mean       std\n",
       "Excited_data                                                 \n",
       "Agree                        50.0  70.00  61.166444  4.953781\n",
       "Completely Agree             55.0  78.00  65.134706  6.439260\n",
       "Completely Disagree          66.0  66.00  66.000000       NaN\n",
       "Disagree                     60.0  68.00  64.000000  5.656854\n",
       "Meh                          52.0  70.33  61.872632  4.972944"
      ]
     },
     "execution_count": 75,
     "metadata": {},
     "output_type": "execute_result"
    }
   ],
   "source": [
    "grouped_by_excited = file.groupby(\"Excited_data\")\n",
    "values = grouped_by_excited[[\"Average_grade\"]]\n",
    "excited_stats = values.agg([np.min, np.max, np.mean, np.std])\n",
    "excited_stats"
   ]
  },
  {
   "cell_type": "code",
   "execution_count": 76,
   "metadata": {},
   "outputs": [
    {
     "data": {
      "text/html": [
       "<div>\n",
       "<style scoped>\n",
       "    .dataframe tbody tr th:only-of-type {\n",
       "        vertical-align: middle;\n",
       "    }\n",
       "\n",
       "    .dataframe tbody tr th {\n",
       "        vertical-align: top;\n",
       "    }\n",
       "\n",
       "    .dataframe thead tr th {\n",
       "        text-align: left;\n",
       "    }\n",
       "\n",
       "    .dataframe thead tr:last-of-type th {\n",
       "        text-align: right;\n",
       "    }\n",
       "</style>\n",
       "<table border=\"1\" class=\"dataframe\">\n",
       "  <thead>\n",
       "    <tr>\n",
       "      <th></th>\n",
       "      <th colspan=\"4\" halign=\"left\">Average_grade</th>\n",
       "    </tr>\n",
       "    <tr>\n",
       "      <th></th>\n",
       "      <th>amin</th>\n",
       "      <th>amax</th>\n",
       "      <th>mean</th>\n",
       "      <th>std</th>\n",
       "    </tr>\n",
       "    <tr>\n",
       "      <th>Interested_DA</th>\n",
       "      <th></th>\n",
       "      <th></th>\n",
       "      <th></th>\n",
       "      <th></th>\n",
       "    </tr>\n",
       "  </thead>\n",
       "  <tbody>\n",
       "    <tr>\n",
       "      <th>Agree</th>\n",
       "      <td>50.0</td>\n",
       "      <td>70.33</td>\n",
       "      <td>61.504211</td>\n",
       "      <td>4.879403</td>\n",
       "    </tr>\n",
       "    <tr>\n",
       "      <th>Completely Agree</th>\n",
       "      <td>54.0</td>\n",
       "      <td>78.00</td>\n",
       "      <td>63.845273</td>\n",
       "      <td>6.038998</td>\n",
       "    </tr>\n",
       "    <tr>\n",
       "      <th>Disagree</th>\n",
       "      <td>66.0</td>\n",
       "      <td>66.00</td>\n",
       "      <td>66.000000</td>\n",
       "      <td>NaN</td>\n",
       "    </tr>\n",
       "    <tr>\n",
       "      <th>Meh</th>\n",
       "      <td>51.0</td>\n",
       "      <td>68.00</td>\n",
       "      <td>60.285714</td>\n",
       "      <td>6.210590</td>\n",
       "    </tr>\n",
       "  </tbody>\n",
       "</table>\n",
       "</div>"
      ],
      "text/plain": [
       "                 Average_grade                            \n",
       "                          amin   amax       mean       std\n",
       "Interested_DA                                             \n",
       "Agree                     50.0  70.33  61.504211  4.879403\n",
       "Completely Agree          54.0  78.00  63.845273  6.038998\n",
       "Disagree                  66.0  66.00  66.000000       NaN\n",
       "Meh                       51.0  68.00  60.285714  6.210590"
      ]
     },
     "execution_count": 76,
     "metadata": {},
     "output_type": "execute_result"
    }
   ],
   "source": [
    "grouped_by_interested = file.groupby(\"Interested_DA\")\n",
    "values = grouped_by_interested[[\"Average_grade\"]]\n",
    "interested_stats = values.agg([np.min, np.max, np.mean, np.std])\n",
    "interested_stats"
   ]
  },
  {
   "cell_type": "markdown",
   "metadata": {},
   "source": [
    "#### Average vs Prediction Grade"
   ]
  },
  {
   "cell_type": "code",
   "execution_count": 80,
   "metadata": {},
   "outputs": [
    {
     "data": {
      "text/plain": [
       "Text(0.5, 1.0, 'Average vs Prediction Grade')"
      ]
     },
     "execution_count": 80,
     "metadata": {},
     "output_type": "execute_result"
    },
    {
     "data": {
      "image/png": "[encoded data removed]",
      "text/plain": [
       "<Figure size 432x288 with 1 Axes>"
      ]
     },
     "metadata": {
      "needs_background": "light"
     },
     "output_type": "display_data"
    }
   ],
   "source": [
    "## check if the labels are correct\n",
    "fig, ax = plt.subplots()\n",
    "ax.scatter(file[\"Average_grade\"], file[\"Prediction_grade\"]) \n",
    "ax.set_xlabel('Average Grade')\n",
    "ax.set_ylabel('Prediction Grade') \n",
    "ax.set_title(\"Average vs Prediction Grade\")"
   ]
  },
  {
   "cell_type": "markdown",
   "metadata": {},
   "source": [
    "#### Frequency Distributions"
   ]
  },
  {
   "cell_type": "code",
   "execution_count": 55,
   "metadata": {},
   "outputs": [
    {
     "data": {
      "text/plain": [
       "<seaborn.axisgrid.FacetGrid at 0x11de6db80>"
      ]
     },
     "execution_count": 55,
     "metadata": {},
     "output_type": "execute_result"
    },
    {
     "data": {
      "image/png": "[encoded data removed]",
      "text/plain": [
       "<Figure size 360x360 with 1 Axes>"
      ]
     },
     "metadata": {
      "needs_background": "light"
     },
     "output_type": "display_data"
    }
   ],
   "source": [
    "# change to use distr plot\n",
    "\n",
    "sns.displot(file[\"Age_by_birth_year\"]).set(title=\"Distribution of Student Age Ranges at RKC\")\n"
   ]
  },
  {
   "cell_type": "code",
   "execution_count": 56,
   "metadata": {},
   "outputs": [
    {
     "data": {
      "text/plain": [
       "Text(0, 0.5, '')"
      ]
     },
     "execution_count": 56,
     "metadata": {},
     "output_type": "execute_result"
    },
    {
     "data": {
      "image/png": "[encoded data removed]",
      "text/plain": [
       "<Figure size 432x288 with 1 Axes>"
      ]
     },
     "metadata": {},
     "output_type": "display_data"
    }
   ],
   "source": [
    "file[\"Gender\"].value_counts().plot.pie(rot=0, \n",
    "                                       title=\"Distribution of Students by Gender at RKC\", \n",
    "                                       autopct = '%.1f%%')\n",
    "plt.ylabel('')"
   ]
  },
  {
   "cell_type": "markdown",
   "metadata": {},
   "source": [
    "Separating the grades according to grading scales and creating freq distr for grades"
   ]
  },
  {
   "cell_type": "markdown",
   "metadata": {},
   "source": [
    "Grades are difficult to visualize just by their unique value counts, therefore, the grades are grouped into ranges and then the frequency of grades in each range is calculated. The table of frequencies of ranges is visualized"
   ]
  },
  {
   "cell_type": "code",
   "execution_count": 44,
   "metadata": {},
   "outputs": [
    {
     "data": {
      "text/plain": [
       "(0, 10]       0\n",
       "(10, 20]      0\n",
       "(20, 30]      1\n",
       "(30, 40]      0\n",
       "(40, 50]      1\n",
       "(50, 60]     40\n",
       "(60, 70]     53\n",
       "(70, 80]      7\n",
       "(80, 90]      0\n",
       "(90, 100]     0\n",
       "dtype: int64"
      ]
     },
     "execution_count": 44,
     "metadata": {},
     "output_type": "execute_result"
    }
   ],
   "source": [
    "intervals = pd.interval_range(start = 0, end = 100, freq = 10)\n",
    "grade_freq = pd.Series([0,0,0,0,0,0,0,0,0,0], index = intervals)\n",
    "\n",
    "for value in file[\"Average_grade\"]:\n",
    "    for i in intervals:\n",
    "        if value in i:\n",
    "            grade_freq.loc[i] +=1\n",
    "            break\n",
    "            \n",
    "grade_freq \n"
   ]
  },
  {
   "cell_type": "code",
   "execution_count": 45,
   "metadata": {},
   "outputs": [
    {
     "data": {
      "text/html": [
       "<div>\n",
       "<style scoped>\n",
       "    .dataframe tbody tr th:only-of-type {\n",
       "        vertical-align: middle;\n",
       "    }\n",
       "\n",
       "    .dataframe tbody tr th {\n",
       "        vertical-align: top;\n",
       "    }\n",
       "\n",
       "    .dataframe thead th {\n",
       "        text-align: right;\n",
       "    }\n",
       "</style>\n",
       "<table border=\"1\" class=\"dataframe\">\n",
       "  <thead>\n",
       "    <tr style=\"text-align: right;\">\n",
       "      <th></th>\n",
       "      <th>0-10</th>\n",
       "      <th>11-20</th>\n",
       "      <th>21-30</th>\n",
       "      <th>31-40</th>\n",
       "      <th>41-50</th>\n",
       "      <th>51-60</th>\n",
       "      <th>61-70</th>\n",
       "      <th>71-80</th>\n",
       "      <th>81-90</th>\n",
       "      <th>91-100</th>\n",
       "    </tr>\n",
       "  </thead>\n",
       "  <tbody>\n",
       "    <tr>\n",
       "      <th>0</th>\n",
       "      <td>0</td>\n",
       "      <td>0</td>\n",
       "      <td>1</td>\n",
       "      <td>0</td>\n",
       "      <td>1</td>\n",
       "      <td>40</td>\n",
       "      <td>53</td>\n",
       "      <td>7</td>\n",
       "      <td>0</td>\n",
       "      <td>0</td>\n",
       "    </tr>\n",
       "  </tbody>\n",
       "</table>\n",
       "</div>"
      ],
      "text/plain": [
       "   0-10  11-20  21-30  31-40  41-50  51-60  61-70  71-80  81-90  91-100\n",
       "0     0      0      1      0      1     40     53      7      0       0"
      ]
     },
     "execution_count": 45,
     "metadata": {},
     "output_type": "execute_result"
    }
   ],
   "source": [
    "grade_freq_df = pd.DataFrame([grade_freq.values], columns=[\"0-10\", \"11-20\", \"21-30\", \n",
    "                                                       \"31-40\", \"41-50\", \"51-60\", \"61-70\", \"71-80\", \"81-90\", \"91-100\"])\n",
    "grade_freq_df"
   ]
  },
  {
   "cell_type": "code",
   "execution_count": 48,
   "metadata": {},
   "outputs": [
    {
     "data": {
      "text/plain": [
       "<matplotlib.legend.Legend at 0x11d25c610>"
      ]
     },
     "execution_count": 48,
     "metadata": {},
     "output_type": "execute_result"
    },
    {
     "data": {
      "image/png": "[encoded data removed]",
      "text/plain": [
       "<Figure size 432x288 with 1 Axes>"
      ]
     },
     "metadata": {
      "needs_background": "light"
     },
     "output_type": "display_data"
    }
   ],
   "source": [
    "grade_freq_df.plot.barh(title=\"Bar Chart of Frequency of Grade Ranges of Students at RKC\")\n",
    "plt.legend(loc='center', bbox_to_anchor=(1.19, 0.7))\n",
    "# Improve graph"
   ]
  },
  {
   "cell_type": "markdown",
   "metadata": {},
   "source": [
    "Another was of visualizing the grade ranges could be a Histogram, \n",
    "it is quicker to create, since it does not need a frequency table,\n",
    "and the ranges can be assigned automatically by using \"bins\""
   ]
  },
  {
   "cell_type": "code",
   "execution_count": 144,
   "metadata": {},
   "outputs": [
    {
     "data": {
      "text/plain": [
       "<AxesSubplot:title={'center':'Histogram of Frequency of Grade Ranges of Students at RKC'}, ylabel='Frequency'>"
      ]
     },
     "execution_count": 144,
     "metadata": {},
     "output_type": "execute_result"
    },
    {
     "data": {
      "image/png": "[encoded data removed]",
      "text/plain": [
       "<Figure size 432x288 with 1 Axes>"
      ]
     },
     "metadata": {
      "needs_background": "light"
     },
     "output_type": "display_data"
    }
   ],
   "source": [
    "file[\"Average_grade\"].plot.hist(bins=10, title = \"Histogram of Frequency of Grade Ranges of Students at RKC\")"
   ]
  },
  {
   "cell_type": "markdown",
   "metadata": {},
   "source": [
    "#### Frequency Distribution of Ages"
   ]
  },
  {
   "cell_type": "code",
   "execution_count": 145,
   "metadata": {},
   "outputs": [
    {
     "data": {
      "text/plain": [
       "(25, 35]    21\n",
       "(35, 45]    39\n",
       "(45, 55]    32\n",
       "(55, 65]    11\n",
       "(65, 75]     1\n",
       "(75, 85]     0\n",
       "(85, 95]     0\n",
       "dtype: int64"
      ]
     },
     "execution_count": 145,
     "metadata": {},
     "output_type": "execute_result"
    }
   ],
   "source": [
    "intervals = pd.interval_range(start = 25, end = 100, freq = 10)\n",
    "age_freq = pd.Series([0,0,0,0,0,0,0], index = intervals)\n",
    "\n",
    "for value in file[\"Age_by_birth_year\"]:\n",
    "    for i in intervals:\n",
    "        if value in i:\n",
    "            age_freq.loc[i] +=1\n",
    "            break\n",
    "            \n",
    "age_freq "
   ]
  },
  {
   "cell_type": "code",
   "execution_count": 128,
   "metadata": {},
   "outputs": [
    {
     "data": {
      "text/html": [
       "<div>\n",
       "<style scoped>\n",
       "    .dataframe tbody tr th:only-of-type {\n",
       "        vertical-align: middle;\n",
       "    }\n",
       "\n",
       "    .dataframe tbody tr th {\n",
       "        vertical-align: top;\n",
       "    }\n",
       "\n",
       "    .dataframe thead th {\n",
       "        text-align: right;\n",
       "    }\n",
       "</style>\n",
       "<table border=\"1\" class=\"dataframe\">\n",
       "  <thead>\n",
       "    <tr style=\"text-align: right;\">\n",
       "      <th></th>\n",
       "      <th>25-35</th>\n",
       "      <th>36-45</th>\n",
       "      <th>46-55</th>\n",
       "      <th>56-65</th>\n",
       "      <th>66-75</th>\n",
       "      <th>76-85</th>\n",
       "      <th>86-95</th>\n",
       "    </tr>\n",
       "  </thead>\n",
       "  <tbody>\n",
       "    <tr>\n",
       "      <th>0</th>\n",
       "      <td>21</td>\n",
       "      <td>39</td>\n",
       "      <td>32</td>\n",
       "      <td>11</td>\n",
       "      <td>1</td>\n",
       "      <td>0</td>\n",
       "      <td>0</td>\n",
       "    </tr>\n",
       "  </tbody>\n",
       "</table>\n",
       "</div>"
      ],
      "text/plain": [
       "   25-35  36-45  46-55  56-65  66-75  76-85  86-95\n",
       "0     21     39     32     11      1      0      0"
      ]
     },
     "execution_count": 128,
     "metadata": {},
     "output_type": "execute_result"
    }
   ],
   "source": [
    "## ( indicates non inclusive value, ] indicates inclusive, therefore, the names of the range start from 36, 46 and etc\n",
    "age_freq_df = pd.DataFrame([age_freq.values], columns=[\"25-35\", \"36-45\", \"46-55\", \n",
    "                                                       \"56-65\", \"66-75\", \"76-85\", \"86-95\"])\n",
    "age_freq_df"
   ]
  },
  {
   "cell_type": "code",
   "execution_count": 130,
   "metadata": {},
   "outputs": [
    {
     "data": {
      "text/plain": [
       "<AxesSubplot:title={'center':'Frequency of Age Ranges of Students at RKC'}>"
      ]
     },
     "execution_count": 130,
     "metadata": {},
     "output_type": "execute_result"
    },
    {
     "data": {
      "image/png": "[encoded data removed]",
      "text/plain": [
       "<Figure size 432x288 with 1 Axes>"
      ]
     },
     "metadata": {
      "needs_background": "light"
     },
     "output_type": "display_data"
    }
   ],
   "source": [
    "age_freq_df.plot.barh(title=\"Frequency of Age Ranges of Students at RKC\")"
   ]
  },
  {
   "cell_type": "markdown",
   "metadata": {},
   "source": [
    "The Histogram Visualization of Age Ranges:"
   ]
  },
  {
   "cell_type": "code",
   "execution_count": 146,
   "metadata": {},
   "outputs": [
    {
     "data": {
      "text/plain": [
       "<AxesSubplot:title={'center':'Histogram of Frequency of Age Ranges of Students at RKC'}, ylabel='Frequency'>"
      ]
     },
     "execution_count": 146,
     "metadata": {},
     "output_type": "execute_result"
    },
    {
     "data": {
      "image/png": "[encoded data removed]",
      "text/plain": [
       "<Figure size 432x288 with 1 Axes>"
      ]
     },
     "metadata": {
      "needs_background": "light"
     },
     "output_type": "display_data"
    }
   ],
   "source": [
    "file[\"Age_by_birth_year\"].plot.hist(range=(25,100),bins=10, title = \n",
    "                                    \"Histogram of Frequency of Age Ranges of Students at RKC\")"
   ]
  },
  {
   "cell_type": "markdown",
   "metadata": {},
   "source": [
    "This can be considered as a Normal Distribution. "
   ]
  },
  {
   "cell_type": "markdown",
   "metadata": {},
   "source": [
    "#### Frequency Distrbibution of Heights"
   ]
  },
  {
   "cell_type": "code",
   "execution_count": 197,
   "metadata": {},
   "outputs": [
    {
     "data": {
      "text/plain": [
       "(120, 130]     0\n",
       "(130, 140]     1\n",
       "(140, 150]     0\n",
       "(150, 160]    16\n",
       "(160, 170]    29\n",
       "(170, 180]    29\n",
       "(180, 190]    19\n",
       "(190, 200]     1\n",
       "(200, 210]     0\n",
       "dtype: int64"
      ]
     },
     "execution_count": 197,
     "metadata": {},
     "output_type": "execute_result"
    }
   ],
   "source": [
    "intervals = pd.interval_range(start = 120, end = 210, freq = 10)\n",
    "height_freq = pd.Series([0,0,0,0,0,0,0,0,0], index = intervals)\n",
    "\n",
    "for value in file[\"Height_cm\"]:\n",
    "    for i in intervals:\n",
    "        if value in i:\n",
    "            height_freq.loc[i] +=1\n",
    "            break\n",
    "            \n",
    "height_freq"
   ]
  },
  {
   "cell_type": "code",
   "execution_count": 198,
   "metadata": {},
   "outputs": [
    {
     "data": {
      "text/html": [
       "<div>\n",
       "<style scoped>\n",
       "    .dataframe tbody tr th:only-of-type {\n",
       "        vertical-align: middle;\n",
       "    }\n",
       "\n",
       "    .dataframe tbody tr th {\n",
       "        vertical-align: top;\n",
       "    }\n",
       "\n",
       "    .dataframe thead th {\n",
       "        text-align: right;\n",
       "    }\n",
       "</style>\n",
       "<table border=\"1\" class=\"dataframe\">\n",
       "  <thead>\n",
       "    <tr style=\"text-align: right;\">\n",
       "      <th></th>\n",
       "      <th>120-130</th>\n",
       "      <th>131-140</th>\n",
       "      <th>141-150</th>\n",
       "      <th>151-160</th>\n",
       "      <th>161-170</th>\n",
       "      <th>171-180</th>\n",
       "      <th>181-190</th>\n",
       "      <th>191-200</th>\n",
       "      <th>201-210</th>\n",
       "    </tr>\n",
       "  </thead>\n",
       "  <tbody>\n",
       "    <tr>\n",
       "      <th>0</th>\n",
       "      <td>0</td>\n",
       "      <td>1</td>\n",
       "      <td>0</td>\n",
       "      <td>16</td>\n",
       "      <td>29</td>\n",
       "      <td>29</td>\n",
       "      <td>19</td>\n",
       "      <td>1</td>\n",
       "      <td>0</td>\n",
       "    </tr>\n",
       "  </tbody>\n",
       "</table>\n",
       "</div>"
      ],
      "text/plain": [
       "   120-130  131-140  141-150  151-160  161-170  171-180  181-190  191-200  \\\n",
       "0        0        1        0       16       29       29       19        1   \n",
       "\n",
       "   201-210  \n",
       "0        0  "
      ]
     },
     "execution_count": 198,
     "metadata": {},
     "output_type": "execute_result"
    }
   ],
   "source": [
    "height_freq_df = pd.DataFrame([height_freq.values], columns=[\"120-130\", \"131-140\",\n",
    "                                                       \"141-150\", \"151-160\", \"161-170\", \"171-180\", \n",
    "                                                       \"181-190\", \"191-200\", \"201-210\"])\n",
    "height_freq_df"
   ]
  },
  {
   "cell_type": "code",
   "execution_count": 231,
   "metadata": {},
   "outputs": [
    {
     "data": {
      "text/plain": [
       "<matplotlib.legend.Legend at 0x125f50820>"
      ]
     },
     "execution_count": 231,
     "metadata": {},
     "output_type": "execute_result"
    },
    {
     "data": {
      "image/png": "[encoded data removed]",
      "text/plain": [
       "<Figure size 432x288 with 1 Axes>"
      ]
     },
     "metadata": {
      "needs_background": "light"
     },
     "output_type": "display_data"
    }
   ],
   "source": [
    "height_freq_df.plot.barh(title = \"Frequency of Height Ranges of Students at RKC\")\n",
    "plt.legend(loc='center', bbox_to_anchor=(1.19, 0.7))\n"
   ]
  },
  {
   "cell_type": "markdown",
   "metadata": {},
   "source": [
    "Histogram visualization of height ranges:"
   ]
  },
  {
   "cell_type": "code",
   "execution_count": 149,
   "metadata": {},
   "outputs": [
    {
     "data": {
      "text/plain": [
       "<AxesSubplot:title={'center':'Histogram of Frequency of Height Ranges of Students at RKC'}, ylabel='Frequency'>"
      ]
     },
     "execution_count": 149,
     "metadata": {},
     "output_type": "execute_result"
    },
    {
     "data": {
      "image/png": "[encoded data removed]",
      "text/plain": [
       "<Figure size 432x288 with 1 Axes>"
      ]
     },
     "metadata": {
      "needs_background": "light"
     },
     "output_type": "display_data"
    }
   ],
   "source": [
    "file[\"Height_cm\"].plot.hist(range=(100,210),bins=20, title = \n",
    "                                    \"Histogram of Frequency of Height Ranges of Students at RKC\")"
   ]
  },
  {
   "cell_type": "markdown",
   "metadata": {},
   "source": [
    "This can be considered as a Uniform Distribution."
   ]
  },
  {
   "cell_type": "markdown",
   "metadata": {},
   "source": [
    "#### Frequency Distrbibution by Gender to understand the Diversity of Students at RKC\n",
    "No ranges were created for this column because it contains only 2 nominal variables and \n",
    "it is easy to understand by simple count of unique values per each nominal variable "
   ]
  },
  {
   "cell_type": "code",
   "execution_count": null,
   "metadata": {},
   "outputs": [],
   "source": []
  },
  {
   "cell_type": "markdown",
   "metadata": {},
   "source": [
    "#### Frequency Distrbibution by Number of Kids of Students at RKC\n",
    "No ranges were created for this column because it contains only few variables and \n",
    "it is easy to understand by simple count of unique values variable "
   ]
  },
  {
   "cell_type": "code",
   "execution_count": 126,
   "metadata": {},
   "outputs": [
    {
     "data": {
      "text/plain": [
       "<AxesSubplot:title={'center':'Distribution of Students by Amount of Kids at RKC'}>"
      ]
     },
     "execution_count": 126,
     "metadata": {},
     "output_type": "execute_result"
    },
    {
     "data": {
      "image/png": "[encoded data removed]",
      "text/plain": [
       "<Figure size 432x288 with 1 Axes>"
      ]
     },
     "metadata": {
      "needs_background": "light"
     },
     "output_type": "display_data"
    }
   ],
   "source": [
    "file[\"Kids\"].value_counts().plot.bar(rot=0, title=\"Distribution of Students by Amount of Kids at RKC\")"
   ]
  },
  {
   "cell_type": "markdown",
   "metadata": {},
   "source": [
    "Histogram view:"
   ]
  },
  {
   "cell_type": "code",
   "execution_count": 150,
   "metadata": {},
   "outputs": [
    {
     "data": {
      "text/plain": [
       "<AxesSubplot:title={'center':'Histogram of Distribution of Students by Amount of Kids at RKC'}, ylabel='Frequency'>"
      ]
     },
     "execution_count": 150,
     "metadata": {},
     "output_type": "execute_result"
    },
    {
     "data": {
      "image/png": "[encoded data removed]",
      "text/plain": [
       "<Figure size 432x288 with 1 Axes>"
      ]
     },
     "metadata": {
      "needs_background": "light"
     },
     "output_type": "display_data"
    }
   ],
   "source": [
    "file[\"Kids\"].plot.hist(range=(0,5),bins=6, title = \n",
    "                                    \"Histogram of Distribution of Students by Amount of Kids at RKC\")"
   ]
  },
  {
   "cell_type": "markdown",
   "metadata": {},
   "source": [
    "This can be considered as a Positive Distribution (Right Skewed)"
   ]
  },
  {
   "cell_type": "markdown",
   "metadata": {},
   "source": [
    "#### Exploring the columns \"Enjoy_data\", \"Excited_data\", \"Afraid_data\", \"Interested_DA\" to visualize the interest of students in Data Analytics"
   ]
  },
  {
   "cell_type": "code",
   "execution_count": 160,
   "metadata": {},
   "outputs": [
    {
     "data": {
      "text/plain": [
       "Agree               56\n",
       "Completely Agree    38\n",
       "Meh                 10\n",
       "Disagree             2\n",
       "Name: Enjoy_data, dtype: int64"
      ]
     },
     "execution_count": 160,
     "metadata": {},
     "output_type": "execute_result"
    }
   ],
   "source": [
    "file[\"Enjoy_data\"].value_counts()"
   ]
  },
  {
   "cell_type": "code",
   "execution_count": 161,
   "metadata": {},
   "outputs": [],
   "source": [
    "enj_d_list = list(file[\"Enjoy_data\"].value_counts())"
   ]
  },
  {
   "cell_type": "code",
   "execution_count": 162,
   "metadata": {},
   "outputs": [
    {
     "data": {
      "text/html": [
       "<div>\n",
       "<style scoped>\n",
       "    .dataframe tbody tr th:only-of-type {\n",
       "        vertical-align: middle;\n",
       "    }\n",
       "\n",
       "    .dataframe tbody tr th {\n",
       "        vertical-align: top;\n",
       "    }\n",
       "\n",
       "    .dataframe thead th {\n",
       "        text-align: right;\n",
       "    }\n",
       "</style>\n",
       "<table border=\"1\" class=\"dataframe\">\n",
       "  <thead>\n",
       "    <tr style=\"text-align: right;\">\n",
       "      <th></th>\n",
       "      <th>Agree</th>\n",
       "      <th>Completely Agree</th>\n",
       "      <th>Meh</th>\n",
       "      <th>Disagree</th>\n",
       "    </tr>\n",
       "  </thead>\n",
       "  <tbody>\n",
       "    <tr>\n",
       "      <th>0</th>\n",
       "      <td>56</td>\n",
       "      <td>38</td>\n",
       "      <td>10</td>\n",
       "      <td>2</td>\n",
       "    </tr>\n",
       "  </tbody>\n",
       "</table>\n",
       "</div>"
      ],
      "text/plain": [
       "   Agree  Completely Agree  Meh  Disagree\n",
       "0     56                38   10         2"
      ]
     },
     "execution_count": 162,
     "metadata": {},
     "output_type": "execute_result"
    }
   ],
   "source": [
    "# creating a df for storing the frequencies\n",
    "enjoy_data_freq_df = pd.DataFrame([enj_d_list], columns=[\"Agree\", \"Completely Agree\", \"Meh\", \"Disagree\"])\n",
    "enjoy_data_freq_df"
   ]
  },
  {
   "cell_type": "code",
   "execution_count": 174,
   "metadata": {},
   "outputs": [
    {
     "data": {
      "text/plain": [
       "<AxesSubplot:title={'center':'Distribution of Students who Enjoy Data'}>"
      ]
     },
     "execution_count": 174,
     "metadata": {},
     "output_type": "execute_result"
    },
    {
     "data": {
      "image/png": "[encoded data removed]",
      "text/plain": [
       "<Figure size 432x288 with 1 Axes>"
      ]
     },
     "metadata": {
      "needs_background": "light"
     },
     "output_type": "display_data"
    }
   ],
   "source": [
    "enjoy_data_freq_df.plot.bar(title = \"Distribution of Students who Enjoy Data\")\n",
    "\n",
    "#file[\"Enjoy_data\"].value_counts().plot.bar() #this graph was created to compare which one is nicer"
   ]
  },
  {
   "cell_type": "code",
   "execution_count": 175,
   "metadata": {},
   "outputs": [
    {
     "data": {
      "text/plain": [
       "Agree                  46\n",
       "Completely Agree       38\n",
       "Meh                    19\n",
       "Disagree                2\n",
       "Completely Disagree     1\n",
       "Name: Excited_data, dtype: int64"
      ]
     },
     "execution_count": 175,
     "metadata": {},
     "output_type": "execute_result"
    }
   ],
   "source": [
    "file[\"Excited_data\"].value_counts()"
   ]
  },
  {
   "cell_type": "code",
   "execution_count": 178,
   "metadata": {},
   "outputs": [
    {
     "data": {
      "text/html": [
       "<div>\n",
       "<style scoped>\n",
       "    .dataframe tbody tr th:only-of-type {\n",
       "        vertical-align: middle;\n",
       "    }\n",
       "\n",
       "    .dataframe tbody tr th {\n",
       "        vertical-align: top;\n",
       "    }\n",
       "\n",
       "    .dataframe thead th {\n",
       "        text-align: right;\n",
       "    }\n",
       "</style>\n",
       "<table border=\"1\" class=\"dataframe\">\n",
       "  <thead>\n",
       "    <tr style=\"text-align: right;\">\n",
       "      <th></th>\n",
       "      <th>Agree</th>\n",
       "      <th>Completely Agree</th>\n",
       "      <th>Meh</th>\n",
       "      <th>Disagree</th>\n",
       "      <th>Completely Disagree</th>\n",
       "    </tr>\n",
       "  </thead>\n",
       "  <tbody>\n",
       "    <tr>\n",
       "      <th>0</th>\n",
       "      <td>46</td>\n",
       "      <td>38</td>\n",
       "      <td>19</td>\n",
       "      <td>2</td>\n",
       "      <td>1</td>\n",
       "    </tr>\n",
       "  </tbody>\n",
       "</table>\n",
       "</div>"
      ],
      "text/plain": [
       "   Agree  Completely Agree  Meh  Disagree  Completely Disagree\n",
       "0     46                38   19         2                    1"
      ]
     },
     "execution_count": 178,
     "metadata": {},
     "output_type": "execute_result"
    }
   ],
   "source": [
    "exc_d_list = list(file[\"Excited_data\"].value_counts())\n",
    "exc_data_freq_df = pd.DataFrame([exc_d_list], columns=[\"Agree\", \"Completely Agree\", \"Meh\", \n",
    "                                                       \"Disagree\", \"Completely Disagree\"])\n",
    "exc_data_freq_df"
   ]
  },
  {
   "cell_type": "code",
   "execution_count": 179,
   "metadata": {},
   "outputs": [
    {
     "data": {
      "text/plain": [
       "<AxesSubplot:title={'center':'Distribution of Students who is Excited about Data'}>"
      ]
     },
     "execution_count": 179,
     "metadata": {},
     "output_type": "execute_result"
    },
    {
     "data": {
      "image/png": "[encoded data removed]",
      "text/plain": [
       "<Figure size 432x288 with 1 Axes>"
      ]
     },
     "metadata": {
      "needs_background": "light"
     },
     "output_type": "display_data"
    }
   ],
   "source": [
    "exc_data_freq_df.plot.bar(title = \"Distribution of Students who is Excited about Data\")"
   ]
  },
  {
   "cell_type": "code",
   "execution_count": 180,
   "metadata": {},
   "outputs": [
    {
     "data": {
      "text/plain": [
       "Completely Agree    60\n",
       "Agree               38\n",
       "Meh                  7\n",
       "Disagree             1\n",
       "Name: Interested_DA, dtype: int64"
      ]
     },
     "execution_count": 180,
     "metadata": {},
     "output_type": "execute_result"
    }
   ],
   "source": [
    "file[\"Interested_DA\"].value_counts()"
   ]
  },
  {
   "cell_type": "code",
   "execution_count": 184,
   "metadata": {},
   "outputs": [
    {
     "data": {
      "text/html": [
       "<div>\n",
       "<style scoped>\n",
       "    .dataframe tbody tr th:only-of-type {\n",
       "        vertical-align: middle;\n",
       "    }\n",
       "\n",
       "    .dataframe tbody tr th {\n",
       "        vertical-align: top;\n",
       "    }\n",
       "\n",
       "    .dataframe thead th {\n",
       "        text-align: right;\n",
       "    }\n",
       "</style>\n",
       "<table border=\"1\" class=\"dataframe\">\n",
       "  <thead>\n",
       "    <tr style=\"text-align: right;\">\n",
       "      <th></th>\n",
       "      <th>Completely Agree</th>\n",
       "      <th>Agree</th>\n",
       "      <th>Meh</th>\n",
       "      <th>Disagree</th>\n",
       "    </tr>\n",
       "  </thead>\n",
       "  <tbody>\n",
       "    <tr>\n",
       "      <th>0</th>\n",
       "      <td>60</td>\n",
       "      <td>38</td>\n",
       "      <td>7</td>\n",
       "      <td>1</td>\n",
       "    </tr>\n",
       "  </tbody>\n",
       "</table>\n",
       "</div>"
      ],
      "text/plain": [
       "   Completely Agree  Agree  Meh  Disagree\n",
       "0                60     38    7         1"
      ]
     },
     "execution_count": 184,
     "metadata": {},
     "output_type": "execute_result"
    }
   ],
   "source": [
    "inter_d_list = list(file[\"Interested_DA\"].value_counts())\n",
    "inter_data_freq_df = pd.DataFrame([inter_d_list], columns=[\"Completely Agree\", \"Agree\", \"Meh\", \n",
    "                                                       \"Disagree\"])\n",
    "inter_data_freq_df"
   ]
  },
  {
   "cell_type": "code",
   "execution_count": 186,
   "metadata": {},
   "outputs": [
    {
     "data": {
      "text/plain": [
       "<AxesSubplot:title={'center':'Distribution of Students who is Interested in Data Analytics'}>"
      ]
     },
     "execution_count": 186,
     "metadata": {},
     "output_type": "execute_result"
    },
    {
     "data": {
      "image/png": "[encoded data removed]",
      "text/plain": [
       "<Figure size 432x288 with 1 Axes>"
      ]
     },
     "metadata": {
      "needs_background": "light"
     },
     "output_type": "display_data"
    }
   ],
   "source": [
    "inter_data_freq_df.plot.bar(title = \"Distribution of Students who is Interested in Data Analytics\")"
   ]
  },
  {
   "cell_type": "code",
   "execution_count": 188,
   "metadata": {},
   "outputs": [
    {
     "data": {
      "text/plain": [
       "Completely Disagree    41\n",
       "Disagree               40\n",
       "Meh                    13\n",
       "Agree                   8\n",
       "Completely Agree        4\n",
       "Name: Afraid_data, dtype: int64"
      ]
     },
     "execution_count": 188,
     "metadata": {},
     "output_type": "execute_result"
    }
   ],
   "source": [
    "file[\"Afraid_data\"].value_counts()"
   ]
  },
  {
   "cell_type": "code",
   "execution_count": 189,
   "metadata": {},
   "outputs": [
    {
     "data": {
      "text/html": [
       "<div>\n",
       "<style scoped>\n",
       "    .dataframe tbody tr th:only-of-type {\n",
       "        vertical-align: middle;\n",
       "    }\n",
       "\n",
       "    .dataframe tbody tr th {\n",
       "        vertical-align: top;\n",
       "    }\n",
       "\n",
       "    .dataframe thead th {\n",
       "        text-align: right;\n",
       "    }\n",
       "</style>\n",
       "<table border=\"1\" class=\"dataframe\">\n",
       "  <thead>\n",
       "    <tr style=\"text-align: right;\">\n",
       "      <th></th>\n",
       "      <th>Completely Disagree</th>\n",
       "      <th>Disagree</th>\n",
       "      <th>Meh</th>\n",
       "      <th>Agree</th>\n",
       "      <th>Completely Agree</th>\n",
       "    </tr>\n",
       "  </thead>\n",
       "  <tbody>\n",
       "    <tr>\n",
       "      <th>0</th>\n",
       "      <td>41</td>\n",
       "      <td>40</td>\n",
       "      <td>13</td>\n",
       "      <td>8</td>\n",
       "      <td>4</td>\n",
       "    </tr>\n",
       "  </tbody>\n",
       "</table>\n",
       "</div>"
      ],
      "text/plain": [
       "   Completely Disagree  Disagree  Meh  Agree  Completely Agree\n",
       "0                   41        40   13      8                 4"
      ]
     },
     "execution_count": 189,
     "metadata": {},
     "output_type": "execute_result"
    }
   ],
   "source": [
    "afraid_d_list = list(file[\"Afraid_data\"].value_counts())\n",
    "afraid_data_freq_df = pd.DataFrame([afraid_d_list], columns=[\"Completely Disagree\", \"Disagree\", \"Meh\", \"Agree\", \n",
    "                                                       \"Completely Agree\"])\n",
    "afraid_data_freq_df"
   ]
  },
  {
   "cell_type": "code",
   "execution_count": 190,
   "metadata": {},
   "outputs": [
    {
     "data": {
      "text/plain": [
       "<AxesSubplot:title={'center':'Distribution of Students who is Afraid of Working with Data'}>"
      ]
     },
     "execution_count": 190,
     "metadata": {},
     "output_type": "execute_result"
    },
    {
     "data": {
      "image/png": "[encoded data removed]",
      "text/plain": [
       "<Figure size 432x288 with 1 Axes>"
      ]
     },
     "metadata": {
      "needs_background": "light"
     },
     "output_type": "display_data"
    }
   ],
   "source": [
    "afraid_data_freq_df.plot.bar(title = \"Distribution of Students who is Afraid of Working with Data\")"
   ]
  },
  {
   "cell_type": "markdown",
   "metadata": {},
   "source": [
    "Conclusions: the majority of students at RKC enjoy and like working with data and are interested to learn about Data Analytics. \n",
    "    The majority of students are not afraid of data."
   ]
  },
  {
   "cell_type": "code",
   "execution_count": null,
   "metadata": {},
   "outputs": [],
   "source": [
    "### IDEA: Gender Analysis (stats, graphs, chi test)\n",
    "\n",
    "### IDEA: AGE ANalysis (Hypothesis: the older the person, the more he dislikes Data, and the rgades are worse)\n",
    "\n",
    "### IDEA: KIDS Analysis (Hypothesis: )"
   ]
  },
  {
   "cell_type": "markdown",
   "metadata": {},
   "source": [
    "## Hypothesis Testing"
   ]
  },
  {
   "cell_type": "markdown",
   "metadata": {},
   "source": [
    "### Permutation Tests"
   ]
  },
  {
   "cell_type": "markdown",
   "metadata": {},
   "source": [
    "- **Null Hypothesis: Elder females with kids and younger males with no kids perform equally good at academia**\n",
    "- **Hypothesis: Elder females with kids perform academically better than younger males with no kids**"
   ]
  },
  {
   "cell_type": "markdown",
   "metadata": {},
   "source": [
    "1. we aggregate the data and find the mean per each group\n",
    "2. calculate the mean difference"
   ]
  },
  {
   "cell_type": "code",
   "execution_count": 41,
   "metadata": {
    "scrolled": true
   },
   "outputs": [
    {
     "name": "stdout",
     "output_type": "stream",
     "text": [
      "Elder women with kids:  63.59294117647058 \n",
      "Younger men no kids:  59.76923076923077 \n",
      "Difference:  3.8237104072398154\n"
     ]
    }
   ],
   "source": [
    "elder_female_with_kids = file[(file[\"Age_by_birth_year\"]>40) & (file[\"Kids\"]>0) & (file[\"Gender\"]==\"Woman\")]\n",
    "elder_female_with_kids_average_grade = elder_female_with_kids[\"Average_grade\"].mean()\n",
    "\n",
    "younger_male_no_kids = file[(file[\"Kids\"]==0) & (file[\"Age_by_birth_year\"] <= 40)& (file[\"Gender\"]==\"Man\")]\n",
    "younger_male_no_kids_average_grade = younger_male_no_kids[\"Average_grade\"].mean()\n",
    "\n",
    "mean_difference = elder_female_with_kids_average_grade - younger_male_no_kids_average_grade\n",
    "print(\"Elder women with kids: \",elder_female_with_kids_average_grade, \n",
    "      \"\\nYounger men no kids: \", younger_male_no_kids_average_grade,\n",
    "     \"\\nDifference: \", mean_difference)\n"
   ]
  },
  {
   "cell_type": "markdown",
   "metadata": {},
   "source": [
    "3. we get the list of all grade values\n",
    "4. randomly assign these values either to male or to female group\n",
    "5. conduct the random assignment repeteadly 1000 times (simulating a new study)\n",
    "6. calculate the mean differences on each iteration and append to a separate list\n",
    "6. create a dictionary of frequencies of each possible mean difference value"
   ]
  },
  {
   "cell_type": "code",
   "execution_count": 42,
   "metadata": {},
   "outputs": [],
   "source": [
    "iter_mean_differences = []\n",
    "group_a_values = elder_female_with_kids[\"Average_grade\"].tolist()\n",
    "group_b_values = younger_male_no_kids[\"Average_grade\"].tolist()\n",
    "all_grades = group_a_values + group_b_values\n",
    "\n",
    "for i in range(1000):\n",
    "    males = []\n",
    "    females = []\n",
    "    for grade in all_grades:\n",
    "        random_value = np.random.rand()\n",
    "        if(random_value >= 0.5):\n",
    "            males.append(grade)\n",
    "        else:\n",
    "            females.append(grade)\n",
    "    iteration_mean_difference = np.mean(females) - np.mean(males)\n",
    "    iter_mean_differences.append(iteration_mean_difference)\n",
    "\n",
    "sampling_distribution = {}\n",
    "\n",
    "for iter_mean_difference in iter_mean_differences:\n",
    "    if(sampling_distribution.get(iter_mean_difference, False)):\n",
    "        val = sampling_distribution.get(iter_mean_difference)\n",
    "        val = val+1\n",
    "        sampling_distribution[iter_mean_difference] = val\n",
    "    else:\n",
    "        sampling_distribution[iter_mean_difference] = 1"
   ]
  },
  {
   "cell_type": "markdown",
   "metadata": {},
   "source": [
    "8. determine if the mean difference was random or not\n",
    "- we set a p value threshold of 0.05 (5%)\n",
    "- we find the frequency of a mean diffirence equal or higher than the mean dif observed in our dataset\n",
    "- we divide the amount of such mean diffirences by the number of simulated random datasets"
   ]
  },
  {
   "cell_type": "code",
   "execution_count": 43,
   "metadata": {},
   "outputs": [
    {
     "data": {
      "text/plain": [
       "0.121"
      ]
     },
     "execution_count": 43,
     "metadata": {},
     "output_type": "execute_result"
    }
   ],
   "source": [
    "frequencies = []\n",
    "for key in sampling_distribution.keys():\n",
    "    if key >= mean_difference:\n",
    "        frequencies.append(key)\n",
    "frequencies\n",
    "sum_freq = len(frequencies)\n",
    "p_value = sum_freq/1000\n",
    "p_value"
   ]
  },
  {
   "cell_type": "markdown",
   "metadata": {},
   "source": [
    "#### **Conclusion:**\n",
    "**The p value is 0.117, which is higher than the threshold of 0.05, therefore, we cocnlude that the difference in the means of grades of females and males is purely random.**"
   ]
  },
  {
   "cell_type": "markdown",
   "metadata": {},
   "source": [
    "### Student T Tests\n"
   ]
  },
  {
   "cell_type": "code",
   "execution_count": 19,
   "metadata": {},
   "outputs": [
    {
     "name": "stdout",
     "output_type": "stream",
     "text": [
      "Elder women with kids:  63.59294117647058 \n",
      "Younger men no kids:  59.76923076923077 \n",
      "Difference:  3.8237104072398154\n"
     ]
    }
   ],
   "source": [
    "## testing the same null and alternative hypotheses\n",
    "elder_female_with_kids = file[(file[\"Age_by_birth_year\"]>40) & (file[\"Kids\"]>0) & (file[\"Gender\"]==\"Woman\")]\n",
    "elder_female_with_kids_average_grade = elder_female_with_kids[\"Average_grade\"].mean()\n",
    "\n",
    "younger_male_no_kids = file[(file[\"Kids\"]==0) & (file[\"Age_by_birth_year\"] <= 40)& (file[\"Gender\"]==\"Man\")]\n",
    "younger_male_no_kids_average_grade = younger_male_no_kids[\"Average_grade\"].mean()\n",
    "\n",
    "mean_difference = elder_female_with_kids_average_grade - younger_male_no_kids_average_grade\n",
    "print(\"Elder women with kids: \",elder_female_with_kids_average_grade, \n",
    "      \"\\nYounger men no kids: \", younger_male_no_kids_average_grade,\n",
    "     \"\\nDifference: \", mean_difference)"
   ]
  },
  {
   "cell_type": "markdown",
   "metadata": {},
   "source": [
    "#### 1. finding the signal - difference between the mean"
   ]
  },
  {
   "cell_type": "code",
   "execution_count": 20,
   "metadata": {},
   "outputs": [
    {
     "data": {
      "text/plain": [
       "3.8237104072398154"
      ]
     },
     "execution_count": 20,
     "metadata": {},
     "output_type": "execute_result"
    }
   ],
   "source": [
    "signal = mean_difference\n",
    "signal"
   ]
  },
  {
   "cell_type": "markdown",
   "metadata": {},
   "source": [
    "#### 2. finding the group variability"
   ]
  },
  {
   "cell_type": "code",
   "execution_count": 26,
   "metadata": {},
   "outputs": [
    {
     "name": "stdout",
     "output_type": "stream",
     "text": [
      "Variance of Group A (elder females with kids):  21.830909558823528\n",
      "Variance of Group B (younger males with no kids):  133.85897435897434\n"
     ]
    }
   ],
   "source": [
    "variance_group_a = elder_female_with_kids[\"Average_grade\"].var()\n",
    "variance_group_b = younger_male_no_kids[\"Average_grade\"].var()\n",
    "\n",
    "print(\"Variance of Group A (elder females with kids): \", variance_group_a)\n",
    "print(\"Variance of Group B (younger males with no kids): \", variance_group_b)"
   ]
  },
  {
   "cell_type": "code",
   "execution_count": 31,
   "metadata": {},
   "outputs": [
    {
     "name": "stdout",
     "output_type": "stream",
     "text": [
      "Number of samples in Group A (elder females with kids):  17\n",
      "Number of samples in Group B (younger males with no kids):  13\n"
     ]
    }
   ],
   "source": [
    "num_group_a = elder_female_with_kids[\"Average_grade\"].count()\n",
    "num_group_b = younger_male_no_kids[\"Average_grade\"].count()\n",
    "\n",
    "print(\"Number of samples in Group A (elder females with kids): \", num_group_a)\n",
    "print(\"Number of samples in Group B (younger males with no kids): \", num_group_b)"
   ]
  },
  {
   "cell_type": "markdown",
   "metadata": {},
   "source": [
    "#### 3. finding the t-value"
   ]
  },
  {
   "cell_type": "code",
   "execution_count": 33,
   "metadata": {},
   "outputs": [
    {
     "name": "stdout",
     "output_type": "stream",
     "text": [
      "T-value is  1.123599855845671\n"
     ]
    }
   ],
   "source": [
    "t_value = signal / math.sqrt((variance_group_a/num_group_a) + (variance_group_b/num_group_b))\n",
    "print(\"T-value is \", t_value)"
   ]
  },
  {
   "cell_type": "markdown",
   "metadata": {},
   "source": [
    "#### 4. finding the degree of freedom"
   ]
  },
  {
   "cell_type": "code",
   "execution_count": 34,
   "metadata": {},
   "outputs": [
    {
     "data": {
      "text/plain": [
       "28"
      ]
     },
     "execution_count": 34,
     "metadata": {},
     "output_type": "execute_result"
    }
   ],
   "source": [
    "degree_free = num_group_a + num_group_b - 2\n",
    "degree_free"
   ]
  },
  {
   "cell_type": "markdown",
   "metadata": {},
   "source": [
    "#### 5. finding the critical value"
   ]
  },
  {
   "cell_type": "code",
   "execution_count": 39,
   "metadata": {},
   "outputs": [
    {
     "data": {
      "text/plain": [
       "2.048407141795244"
      ]
     },
     "execution_count": 39,
     "metadata": {},
     "output_type": "execute_result"
    }
   ],
   "source": [
    "critical_value = scipy.stats.t.ppf(q=1-.05/2,df=28)\n",
    "critical_value"
   ]
  },
  {
   "cell_type": "markdown",
   "metadata": {},
   "source": [
    "#### 6. comparing the t-value and the critical value"
   ]
  },
  {
   "cell_type": "code",
   "execution_count": 40,
   "metadata": {},
   "outputs": [
    {
     "data": {
      "text/plain": [
       "2.048407141795244"
      ]
     },
     "execution_count": 40,
     "metadata": {},
     "output_type": "execute_result"
    }
   ],
   "source": [
    "result = max(t_value, critical_value)\n",
    "result"
   ]
  },
  {
   "cell_type": "markdown",
   "metadata": {},
   "source": [
    "#### **Conclusion:**\n",
    "**The t-value is less than the critical value, therefore, the null hypothesis can not be rejected.**"
   ]
  },
  {
   "cell_type": "markdown",
   "metadata": {},
   "source": [
    "### Chi Squared Tests on Categorical Data\n",
    "- **Null Hypothesis: Men under 40 and females over 40 and with kids are equally excited to work with data**\n",
    "- **Hypothesis: Men under 40 are more excited to work with data than females over 40 and with kids**"
   ]
  },
  {
   "cell_type": "code",
   "execution_count": 47,
   "metadata": {},
   "outputs": [
    {
     "data": {
      "text/plain": [
       "Index(['Start_time', 'End_time', 'Gender', 'Age', 'City', 'Kids', 'Birth_year',\n",
       "       'Modules_num', 'Average_grade', 'Prediction_grade', 'Enjoy_data',\n",
       "       'Excited_data', 'Afraid_data', 'Interested_DA', 'Work_hard',\n",
       "       'Height_cm', 'Height_relative', 'Age_by_birth_year'],\n",
       "      dtype='object')"
      ]
     },
     "execution_count": 47,
     "metadata": {},
     "output_type": "execute_result"
    }
   ],
   "source": [
    "file.columns\n"
   ]
  },
  {
   "cell_type": "code",
   "execution_count": 55,
   "metadata": {},
   "outputs": [
    {
     "data": {
      "text/html": [
       "<div>\n",
       "<style scoped>\n",
       "    .dataframe tbody tr th:only-of-type {\n",
       "        vertical-align: middle;\n",
       "    }\n",
       "\n",
       "    .dataframe tbody tr th {\n",
       "        vertical-align: top;\n",
       "    }\n",
       "\n",
       "    .dataframe thead th {\n",
       "        text-align: right;\n",
       "    }\n",
       "</style>\n",
       "<table border=\"1\" class=\"dataframe\">\n",
       "  <thead>\n",
       "    <tr style=\"text-align: right;\">\n",
       "      <th></th>\n",
       "      <th>Enjoy_data</th>\n",
       "      <th>Excited_data</th>\n",
       "      <th>Afraid_data</th>\n",
       "      <th>Interested_DA</th>\n",
       "    </tr>\n",
       "  </thead>\n",
       "  <tbody>\n",
       "    <tr>\n",
       "      <th>0</th>\n",
       "      <td>Agree</td>\n",
       "      <td>Agree</td>\n",
       "      <td>Completely Disagree</td>\n",
       "      <td>Agree</td>\n",
       "    </tr>\n",
       "    <tr>\n",
       "      <th>3</th>\n",
       "      <td>Agree</td>\n",
       "      <td>Agree</td>\n",
       "      <td>Completely Disagree</td>\n",
       "      <td>Agree</td>\n",
       "    </tr>\n",
       "    <tr>\n",
       "      <th>5</th>\n",
       "      <td>Completely Agree</td>\n",
       "      <td>Completely Agree</td>\n",
       "      <td>Completely Disagree</td>\n",
       "      <td>Completely Agree</td>\n",
       "    </tr>\n",
       "    <tr>\n",
       "      <th>8</th>\n",
       "      <td>Completely Agree</td>\n",
       "      <td>Agree</td>\n",
       "      <td>Completely Disagree</td>\n",
       "      <td>Completely Agree</td>\n",
       "    </tr>\n",
       "    <tr>\n",
       "      <th>9</th>\n",
       "      <td>Agree</td>\n",
       "      <td>Agree</td>\n",
       "      <td>Disagree</td>\n",
       "      <td>Agree</td>\n",
       "    </tr>\n",
       "    <tr>\n",
       "      <th>15</th>\n",
       "      <td>Meh</td>\n",
       "      <td>Meh</td>\n",
       "      <td>Meh</td>\n",
       "      <td>Agree</td>\n",
       "    </tr>\n",
       "    <tr>\n",
       "      <th>19</th>\n",
       "      <td>Meh</td>\n",
       "      <td>Meh</td>\n",
       "      <td>Disagree</td>\n",
       "      <td>Meh</td>\n",
       "    </tr>\n",
       "    <tr>\n",
       "      <th>22</th>\n",
       "      <td>Agree</td>\n",
       "      <td>Completely Agree</td>\n",
       "      <td>Disagree</td>\n",
       "      <td>Completely Agree</td>\n",
       "    </tr>\n",
       "    <tr>\n",
       "      <th>24</th>\n",
       "      <td>Agree</td>\n",
       "      <td>Agree</td>\n",
       "      <td>Completely Disagree</td>\n",
       "      <td>Completely Agree</td>\n",
       "    </tr>\n",
       "    <tr>\n",
       "      <th>25</th>\n",
       "      <td>Completely Agree</td>\n",
       "      <td>Completely Agree</td>\n",
       "      <td>Disagree</td>\n",
       "      <td>Completely Agree</td>\n",
       "    </tr>\n",
       "    <tr>\n",
       "      <th>32</th>\n",
       "      <td>Meh</td>\n",
       "      <td>Meh</td>\n",
       "      <td>Agree</td>\n",
       "      <td>Completely Agree</td>\n",
       "    </tr>\n",
       "    <tr>\n",
       "      <th>34</th>\n",
       "      <td>Completely Agree</td>\n",
       "      <td>Completely Agree</td>\n",
       "      <td>Completely Disagree</td>\n",
       "      <td>Completely Agree</td>\n",
       "    </tr>\n",
       "    <tr>\n",
       "      <th>37</th>\n",
       "      <td>Meh</td>\n",
       "      <td>Disagree</td>\n",
       "      <td>Meh</td>\n",
       "      <td>Meh</td>\n",
       "    </tr>\n",
       "    <tr>\n",
       "      <th>40</th>\n",
       "      <td>Meh</td>\n",
       "      <td>Meh</td>\n",
       "      <td>Disagree</td>\n",
       "      <td>Completely Agree</td>\n",
       "    </tr>\n",
       "    <tr>\n",
       "      <th>44</th>\n",
       "      <td>Disagree</td>\n",
       "      <td>Completely Disagree</td>\n",
       "      <td>Completely Agree</td>\n",
       "      <td>Disagree</td>\n",
       "    </tr>\n",
       "    <tr>\n",
       "      <th>45</th>\n",
       "      <td>Meh</td>\n",
       "      <td>Meh</td>\n",
       "      <td>Disagree</td>\n",
       "      <td>Agree</td>\n",
       "    </tr>\n",
       "    <tr>\n",
       "      <th>46</th>\n",
       "      <td>Agree</td>\n",
       "      <td>Meh</td>\n",
       "      <td>Disagree</td>\n",
       "      <td>Agree</td>\n",
       "    </tr>\n",
       "    <tr>\n",
       "      <th>49</th>\n",
       "      <td>Agree</td>\n",
       "      <td>Agree</td>\n",
       "      <td>Completely Disagree</td>\n",
       "      <td>Completely Agree</td>\n",
       "    </tr>\n",
       "    <tr>\n",
       "      <th>50</th>\n",
       "      <td>Agree</td>\n",
       "      <td>Agree</td>\n",
       "      <td>Meh</td>\n",
       "      <td>Agree</td>\n",
       "    </tr>\n",
       "    <tr>\n",
       "      <th>51</th>\n",
       "      <td>Completely Agree</td>\n",
       "      <td>Completely Agree</td>\n",
       "      <td>Completely Agree</td>\n",
       "      <td>Agree</td>\n",
       "    </tr>\n",
       "    <tr>\n",
       "      <th>52</th>\n",
       "      <td>Agree</td>\n",
       "      <td>Agree</td>\n",
       "      <td>Disagree</td>\n",
       "      <td>Completely Agree</td>\n",
       "    </tr>\n",
       "    <tr>\n",
       "      <th>53</th>\n",
       "      <td>Completely Agree</td>\n",
       "      <td>Completely Agree</td>\n",
       "      <td>Completely Disagree</td>\n",
       "      <td>Agree</td>\n",
       "    </tr>\n",
       "    <tr>\n",
       "      <th>56</th>\n",
       "      <td>Agree</td>\n",
       "      <td>Agree</td>\n",
       "      <td>Disagree</td>\n",
       "      <td>Agree</td>\n",
       "    </tr>\n",
       "    <tr>\n",
       "      <th>59</th>\n",
       "      <td>Agree</td>\n",
       "      <td>Agree</td>\n",
       "      <td>Meh</td>\n",
       "      <td>Agree</td>\n",
       "    </tr>\n",
       "    <tr>\n",
       "      <th>60</th>\n",
       "      <td>Agree</td>\n",
       "      <td>Meh</td>\n",
       "      <td>Meh</td>\n",
       "      <td>Meh</td>\n",
       "    </tr>\n",
       "    <tr>\n",
       "      <th>62</th>\n",
       "      <td>Agree</td>\n",
       "      <td>Agree</td>\n",
       "      <td>Disagree</td>\n",
       "      <td>Agree</td>\n",
       "    </tr>\n",
       "    <tr>\n",
       "      <th>63</th>\n",
       "      <td>Disagree</td>\n",
       "      <td>Disagree</td>\n",
       "      <td>Agree</td>\n",
       "      <td>Agree</td>\n",
       "    </tr>\n",
       "    <tr>\n",
       "      <th>65</th>\n",
       "      <td>Agree</td>\n",
       "      <td>Agree</td>\n",
       "      <td>Disagree</td>\n",
       "      <td>Completely Agree</td>\n",
       "    </tr>\n",
       "    <tr>\n",
       "      <th>69</th>\n",
       "      <td>Agree</td>\n",
       "      <td>Agree</td>\n",
       "      <td>Disagree</td>\n",
       "      <td>Agree</td>\n",
       "    </tr>\n",
       "    <tr>\n",
       "      <th>71</th>\n",
       "      <td>Meh</td>\n",
       "      <td>Meh</td>\n",
       "      <td>Agree</td>\n",
       "      <td>Meh</td>\n",
       "    </tr>\n",
       "    <tr>\n",
       "      <th>72</th>\n",
       "      <td>Completely Agree</td>\n",
       "      <td>Completely Agree</td>\n",
       "      <td>Completely Disagree</td>\n",
       "      <td>Completely Agree</td>\n",
       "    </tr>\n",
       "    <tr>\n",
       "      <th>73</th>\n",
       "      <td>Agree</td>\n",
       "      <td>Meh</td>\n",
       "      <td>Agree</td>\n",
       "      <td>Agree</td>\n",
       "    </tr>\n",
       "    <tr>\n",
       "      <th>77</th>\n",
       "      <td>Completely Agree</td>\n",
       "      <td>Completely Agree</td>\n",
       "      <td>Completely Disagree</td>\n",
       "      <td>Completely Agree</td>\n",
       "    </tr>\n",
       "    <tr>\n",
       "      <th>80</th>\n",
       "      <td>Completely Agree</td>\n",
       "      <td>Completely Agree</td>\n",
       "      <td>Disagree</td>\n",
       "      <td>Agree</td>\n",
       "    </tr>\n",
       "    <tr>\n",
       "      <th>82</th>\n",
       "      <td>Completely Agree</td>\n",
       "      <td>Completely Agree</td>\n",
       "      <td>Disagree</td>\n",
       "      <td>Completely Agree</td>\n",
       "    </tr>\n",
       "    <tr>\n",
       "      <th>84</th>\n",
       "      <td>Completely Agree</td>\n",
       "      <td>Completely Agree</td>\n",
       "      <td>Completely Agree</td>\n",
       "      <td>Completely Agree</td>\n",
       "    </tr>\n",
       "    <tr>\n",
       "      <th>88</th>\n",
       "      <td>Completely Agree</td>\n",
       "      <td>Completely Agree</td>\n",
       "      <td>Completely Disagree</td>\n",
       "      <td>Completely Agree</td>\n",
       "    </tr>\n",
       "    <tr>\n",
       "      <th>90</th>\n",
       "      <td>Meh</td>\n",
       "      <td>Meh</td>\n",
       "      <td>Agree</td>\n",
       "      <td>Completely Agree</td>\n",
       "    </tr>\n",
       "    <tr>\n",
       "      <th>91</th>\n",
       "      <td>Agree</td>\n",
       "      <td>Agree</td>\n",
       "      <td>Meh</td>\n",
       "      <td>Completely Agree</td>\n",
       "    </tr>\n",
       "    <tr>\n",
       "      <th>99</th>\n",
       "      <td>Agree</td>\n",
       "      <td>Agree</td>\n",
       "      <td>Completely Disagree</td>\n",
       "      <td>Completely Agree</td>\n",
       "    </tr>\n",
       "    <tr>\n",
       "      <th>100</th>\n",
       "      <td>Agree</td>\n",
       "      <td>Agree</td>\n",
       "      <td>Disagree</td>\n",
       "      <td>Agree</td>\n",
       "    </tr>\n",
       "    <tr>\n",
       "      <th>101</th>\n",
       "      <td>Agree</td>\n",
       "      <td>Completely Agree</td>\n",
       "      <td>Completely Disagree</td>\n",
       "      <td>Completely Agree</td>\n",
       "    </tr>\n",
       "  </tbody>\n",
       "</table>\n",
       "</div>"
      ],
      "text/plain": [
       "           Enjoy_data         Excited_data          Afraid_data  \\\n",
       "0               Agree                Agree  Completely Disagree   \n",
       "3               Agree                Agree  Completely Disagree   \n",
       "5    Completely Agree     Completely Agree  Completely Disagree   \n",
       "8    Completely Agree                Agree  Completely Disagree   \n",
       "9               Agree                Agree             Disagree   \n",
       "15                Meh                  Meh                  Meh   \n",
       "19                Meh                  Meh             Disagree   \n",
       "22              Agree     Completely Agree             Disagree   \n",
       "24              Agree                Agree  Completely Disagree   \n",
       "25   Completely Agree     Completely Agree             Disagree   \n",
       "32                Meh                  Meh                Agree   \n",
       "34   Completely Agree     Completely Agree  Completely Disagree   \n",
       "37                Meh             Disagree                  Meh   \n",
       "40                Meh                  Meh             Disagree   \n",
       "44           Disagree  Completely Disagree     Completely Agree   \n",
       "45                Meh                  Meh             Disagree   \n",
       "46              Agree                  Meh             Disagree   \n",
       "49              Agree                Agree  Completely Disagree   \n",
       "50              Agree                Agree                  Meh   \n",
       "51   Completely Agree     Completely Agree     Completely Agree   \n",
       "52              Agree                Agree             Disagree   \n",
       "53   Completely Agree     Completely Agree  Completely Disagree   \n",
       "56              Agree                Agree             Disagree   \n",
       "59              Agree                Agree                  Meh   \n",
       "60              Agree                  Meh                  Meh   \n",
       "62              Agree                Agree             Disagree   \n",
       "63           Disagree             Disagree                Agree   \n",
       "65              Agree                Agree             Disagree   \n",
       "69              Agree                Agree             Disagree   \n",
       "71                Meh                  Meh                Agree   \n",
       "72   Completely Agree     Completely Agree  Completely Disagree   \n",
       "73              Agree                  Meh                Agree   \n",
       "77   Completely Agree     Completely Agree  Completely Disagree   \n",
       "80   Completely Agree     Completely Agree             Disagree   \n",
       "82   Completely Agree     Completely Agree             Disagree   \n",
       "84   Completely Agree     Completely Agree     Completely Agree   \n",
       "88   Completely Agree     Completely Agree  Completely Disagree   \n",
       "90                Meh                  Meh                Agree   \n",
       "91              Agree                Agree                  Meh   \n",
       "99              Agree                Agree  Completely Disagree   \n",
       "100             Agree                Agree             Disagree   \n",
       "101             Agree     Completely Agree  Completely Disagree   \n",
       "\n",
       "        Interested_DA  \n",
       "0               Agree  \n",
       "3               Agree  \n",
       "5    Completely Agree  \n",
       "8    Completely Agree  \n",
       "9               Agree  \n",
       "15              Agree  \n",
       "19                Meh  \n",
       "22   Completely Agree  \n",
       "24   Completely Agree  \n",
       "25   Completely Agree  \n",
       "32   Completely Agree  \n",
       "34   Completely Agree  \n",
       "37                Meh  \n",
       "40   Completely Agree  \n",
       "44           Disagree  \n",
       "45              Agree  \n",
       "46              Agree  \n",
       "49   Completely Agree  \n",
       "50              Agree  \n",
       "51              Agree  \n",
       "52   Completely Agree  \n",
       "53              Agree  \n",
       "56              Agree  \n",
       "59              Agree  \n",
       "60                Meh  \n",
       "62              Agree  \n",
       "63              Agree  \n",
       "65   Completely Agree  \n",
       "69              Agree  \n",
       "71                Meh  \n",
       "72   Completely Agree  \n",
       "73              Agree  \n",
       "77   Completely Agree  \n",
       "80              Agree  \n",
       "82   Completely Agree  \n",
       "84   Completely Agree  \n",
       "88   Completely Agree  \n",
       "90   Completely Agree  \n",
       "91   Completely Agree  \n",
       "99   Completely Agree  \n",
       "100             Agree  \n",
       "101  Completely Agree  "
      ]
     },
     "execution_count": 55,
     "metadata": {},
     "output_type": "execute_result"
    }
   ],
   "source": [
    "interested_data = {}\n",
    "\n",
    "females = file[file[\"Gender\"]==\"Woman\"]\n",
    "females = females.drop(columns = ['Start_time', 'End_time', 'Gender', 'Age', 'City', 'Kids', 'Birth_year',\n",
    "       'Modules_num', 'Average_grade', 'Prediction_grade', 'Work_hard',\n",
    "       'Height_cm', 'Height_relative', 'Age_by_birth_year'])\n",
    "\n",
    "females[\"Interested_DA_Bool\"] = "
   ]
  },
  {
   "cell_type": "code",
   "execution_count": null,
   "metadata": {},
   "outputs": [],
   "source": []
  },
  {
   "cell_type": "code",
   "execution_count": null,
   "metadata": {},
   "outputs": [],
   "source": []
  },
  {
   "cell_type": "code",
   "execution_count": null,
   "metadata": {},
   "outputs": [],
   "source": []
  },
  {
   "cell_type": "code",
   "execution_count": null,
   "metadata": {},
   "outputs": [],
   "source": []
  },
  {
   "cell_type": "code",
   "execution_count": null,
   "metadata": {},
   "outputs": [],
   "source": [
    "## check only for Completely Agree in the Excited data "
   ]
  }
 ],
 "metadata": {
  "kernelspec": {
   "display_name": "Python 3",
   "language": "python",
   "name": "python3"
  },
  "language_info": {
   "codemirror_mode": {
    "name": "ipython",
    "version": 3
   },
   "file_extension": ".py",
   "mimetype": "text/x-python",
   "name": "python",
   "nbconvert_exporter": "python",
   "pygments_lexer": "ipython3",
   "version": "3.9.1"
  }
 },
 "nbformat": 4,
 "nbformat_minor": 4
}
